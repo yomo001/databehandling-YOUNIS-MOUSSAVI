{
 "cells": [
  {
   "cell_type": "markdown",
   "metadata": {},
   "source": [
    "## Exercises: Modify the dataset"
   ]
  },
  {
   "cell_type": "code",
   "execution_count": 23,
   "metadata": {},
   "outputs": [],
   "source": [
    "import pandas as pd\n",
    "employees = pd.read_json(\"../Data/employees.json\")"
   ]
  },
  {
   "cell_type": "markdown",
   "metadata": {},
   "source": [
    "**Current state of the \"employees\" dataset**\n",
    "\n",
    "Rerun the code block below after each modification you do, to see its current state."
   ]
  },
  {
   "cell_type": "code",
   "execution_count": 57,
   "metadata": {},
   "outputs": [
    {
     "data": {
      "text/html": [
       "<div>\n",
       "<style scoped>\n",
       "    .dataframe tbody tr th:only-of-type {\n",
       "        vertical-align: middle;\n",
       "    }\n",
       "\n",
       "    .dataframe tbody tr th {\n",
       "        vertical-align: top;\n",
       "    }\n",
       "\n",
       "    .dataframe thead th {\n",
       "        text-align: right;\n",
       "    }\n",
       "</style>\n",
       "<table border=\"1\" class=\"dataframe\">\n",
       "  <thead>\n",
       "    <tr style=\"text-align: right;\">\n",
       "      <th></th>\n",
       "      <th>Fullname</th>\n",
       "      <th>Email</th>\n",
       "      <th>Job title</th>\n",
       "      <th>Salary</th>\n",
       "      <th>Department</th>\n",
       "    </tr>\n",
       "  </thead>\n",
       "  <tbody>\n",
       "    <tr>\n",
       "      <th>0</th>\n",
       "      <td>John Doe</td>\n",
       "      <td>John.Doe@mockcompany.com</td>\n",
       "      <td>Sales Director</td>\n",
       "      <td>1.320000e+05</td>\n",
       "      <td>Sales</td>\n",
       "    </tr>\n",
       "    <tr>\n",
       "      <th>1</th>\n",
       "      <td>Jane Smith</td>\n",
       "      <td>Jane.Smith@mockcompany.com</td>\n",
       "      <td>HR Coordinator</td>\n",
       "      <td>6.600000e+04</td>\n",
       "      <td>Human Resources</td>\n",
       "    </tr>\n",
       "    <tr>\n",
       "      <th>2</th>\n",
       "      <td>Michael Johnson</td>\n",
       "      <td>Michael.Johnson@mockcompany.com</td>\n",
       "      <td>Software Engineer</td>\n",
       "      <td>1.210000e+05</td>\n",
       "      <td>IT</td>\n",
       "    </tr>\n",
       "    <tr>\n",
       "      <th>3</th>\n",
       "      <td>Sarah Williams</td>\n",
       "      <td>Sarah.Williams@mockcompany.com</td>\n",
       "      <td>Marketing Specialist</td>\n",
       "      <td>8.250000e+04</td>\n",
       "      <td>Sales</td>\n",
       "    </tr>\n",
       "    <tr>\n",
       "      <th>4</th>\n",
       "      <td>David Brown</td>\n",
       "      <td>David.Brown@mockcompany.com</td>\n",
       "      <td>HR Manager</td>\n",
       "      <td>9.900000e+04</td>\n",
       "      <td>Human Resources</td>\n",
       "    </tr>\n",
       "    <tr>\n",
       "      <th>5</th>\n",
       "      <td>Emily Davis</td>\n",
       "      <td>Emily.Davis@mockcompany.com</td>\n",
       "      <td>IT Support Specialist</td>\n",
       "      <td>6.050000e+04</td>\n",
       "      <td>IT</td>\n",
       "    </tr>\n",
       "    <tr>\n",
       "      <th>6</th>\n",
       "      <td>Jacob Wilson</td>\n",
       "      <td>Jacob.Wilson@mockcompany.com</td>\n",
       "      <td>Sales Representative</td>\n",
       "      <td>8.800000e+04</td>\n",
       "      <td>Sales</td>\n",
       "    </tr>\n",
       "    <tr>\n",
       "      <th>7</th>\n",
       "      <td>Olivia Moore</td>\n",
       "      <td>Olivia.Moore@mockcompany.com</td>\n",
       "      <td>Marketing Manager</td>\n",
       "      <td>1.100000e+05</td>\n",
       "      <td>Sales</td>\n",
       "    </tr>\n",
       "    <tr>\n",
       "      <th>8</th>\n",
       "      <td>Ethan Lee</td>\n",
       "      <td>Ethan.Lee@mockcompany.com</td>\n",
       "      <td>Financial Analyst</td>\n",
       "      <td>9.350000e+04</td>\n",
       "      <td>Sales</td>\n",
       "    </tr>\n",
       "    <tr>\n",
       "      <th>9</th>\n",
       "      <td>Mr Engineer</td>\n",
       "      <td>Mr.Engineer@mockcompany.com</td>\n",
       "      <td>Software Engineer</td>\n",
       "      <td>1.200000e+05</td>\n",
       "      <td>IT</td>\n",
       "    </tr>\n",
       "    <tr>\n",
       "      <th>10</th>\n",
       "      <td>Younis Moussavi</td>\n",
       "      <td>Younis.Moussavi@mockcompany.com</td>\n",
       "      <td>NaN</td>\n",
       "      <td>1.200000e+05</td>\n",
       "      <td>IT</td>\n",
       "    </tr>\n",
       "    <tr>\n",
       "      <th>11</th>\n",
       "      <td>Mohammad Moussavi</td>\n",
       "      <td>Mohammad.Moussavi@mockcompany.com</td>\n",
       "      <td>Software Engineer</td>\n",
       "      <td>5.000000e+04</td>\n",
       "      <td>IT</td>\n",
       "    </tr>\n",
       "    <tr>\n",
       "      <th>12</th>\n",
       "      <td>Shahlaa Bnayya</td>\n",
       "      <td>Shahlaa.Bnayya@mockcompany.com</td>\n",
       "      <td>Software Engineer</td>\n",
       "      <td>2.000000e+05</td>\n",
       "      <td>IT</td>\n",
       "    </tr>\n",
       "    <tr>\n",
       "      <th>13</th>\n",
       "      <td>Al Najjar</td>\n",
       "      <td>Al.Najjar@mockcompany.com</td>\n",
       "      <td>Software Engineer</td>\n",
       "      <td>1.200000e+09</td>\n",
       "      <td>IT</td>\n",
       "    </tr>\n",
       "  </tbody>\n",
       "</table>\n",
       "</div>"
      ],
      "text/plain": [
       "             Fullname                              Email  \\\n",
       "0            John Doe           John.Doe@mockcompany.com   \n",
       "1          Jane Smith         Jane.Smith@mockcompany.com   \n",
       "2     Michael Johnson    Michael.Johnson@mockcompany.com   \n",
       "3      Sarah Williams     Sarah.Williams@mockcompany.com   \n",
       "4         David Brown        David.Brown@mockcompany.com   \n",
       "5         Emily Davis        Emily.Davis@mockcompany.com   \n",
       "6        Jacob Wilson       Jacob.Wilson@mockcompany.com   \n",
       "7        Olivia Moore       Olivia.Moore@mockcompany.com   \n",
       "8           Ethan Lee          Ethan.Lee@mockcompany.com   \n",
       "9         Mr Engineer        Mr.Engineer@mockcompany.com   \n",
       "10    Younis Moussavi    Younis.Moussavi@mockcompany.com   \n",
       "11  Mohammad Moussavi  Mohammad.Moussavi@mockcompany.com   \n",
       "12     Shahlaa Bnayya     Shahlaa.Bnayya@mockcompany.com   \n",
       "13          Al Najjar          Al.Najjar@mockcompany.com   \n",
       "\n",
       "                Job title        Salary       Department  \n",
       "0          Sales Director  1.320000e+05            Sales  \n",
       "1          HR Coordinator  6.600000e+04  Human Resources  \n",
       "2       Software Engineer  1.210000e+05               IT  \n",
       "3    Marketing Specialist  8.250000e+04            Sales  \n",
       "4              HR Manager  9.900000e+04  Human Resources  \n",
       "5   IT Support Specialist  6.050000e+04               IT  \n",
       "6    Sales Representative  8.800000e+04            Sales  \n",
       "7       Marketing Manager  1.100000e+05            Sales  \n",
       "8       Financial Analyst  9.350000e+04            Sales  \n",
       "9       Software Engineer  1.200000e+05               IT  \n",
       "10                    NaN  1.200000e+05               IT  \n",
       "11      Software Engineer  5.000000e+04               IT  \n",
       "12      Software Engineer  2.000000e+05               IT  \n",
       "13      Software Engineer  1.200000e+09               IT  "
      ]
     },
     "execution_count": 57,
     "metadata": {},
     "output_type": "execute_result"
    }
   ],
   "source": [
    "employees\n",
    "\n"
   ]
  },
  {
   "cell_type": "markdown",
   "metadata": {},
   "source": [
    "**Do the following operations on the \"employees\" dataset:**"
   ]
  },
  {
   "cell_type": "markdown",
   "metadata": {},
   "source": [
    "**OP1:** Create a new column \"name\" which contains the full name (eg. \"John Doe\") for each employee.\n",
    "\n",
    "<details>\n",
    "<summary>Result</summary>\n",
    "<br>\n",
    "&nbsp;&nbsp;&nbsp;<b>name</b><br>\n",
    "&nbsp;&nbsp;&nbsp;John Doe<br>\n",
    "&nbsp;&nbsp;&nbsp;Jane Smith<br>\n",
    "&nbsp;&nbsp;&nbsp;Michael Johnson<br>\n",
    "&nbsp;&nbsp;&nbsp;...<br>\n",
    "</details>"
   ]
  },
  {
   "cell_type": "code",
   "execution_count": 25,
   "metadata": {},
   "outputs": [],
   "source": [
    "employees[\"Full_name\"] = employees[\"first_name\"] + \" \" + employees[\"last_name\"]"
   ]
  },
  {
   "cell_type": "markdown",
   "metadata": {},
   "source": [
    "<div style=\"display: inline\">\n",
    "<b>OP2:</b> Create a new column \"email\" with the following format: firstname.lastname@mockcompany.com\n",
    "</div><br>\n",
    "\n",
    "*Note: email addresses should be all lower case.*\n",
    "\n",
    "<details>\n",
    "<summary>Result</summary>\n",
    "<br>\n",
    "&nbsp;&nbsp;&nbsp;<b>email</b><br>\n",
    "&nbsp;&nbsp;&nbsp;john.doe@mockcompany.com<br>\n",
    "&nbsp;&nbsp;&nbsp;jane.smith@mockcompany.com<br>\n",
    "&nbsp;&nbsp;&nbsp;michael.johnson@mockcompany.com<br>\n",
    "&nbsp;&nbsp;&nbsp;...<br>\n",
    "</details>"
   ]
  },
  {
   "cell_type": "code",
   "execution_count": 26,
   "metadata": {},
   "outputs": [],
   "source": [
    "employees[\"email\"] = employees[\"first_name\"] + \".\" + employees[\"last_name\"] + \"@mockcompany.com\""
   ]
  },
  {
   "cell_type": "markdown",
   "metadata": {},
   "source": [
    "**OP3:** Remove the columns \"first_name\" and \"last_name\", and put the columns \"name\" and \"email\" first.\n",
    "<details>\n",
    "<summary>Result</summary>\n",
    "<br>\n",
    "&nbsp;&nbsp;&nbsp;<b>name&nbsp;&nbsp;&nbsp;email&nbsp;&nbsp;&nbsp;job_title&nbsp;&nbsp;&nbsp;salary&nbsp;&nbsp;&nbsp;department</b>\n",
    "</details>"
   ]
  },
  {
   "cell_type": "code",
   "execution_count": 27,
   "metadata": {},
   "outputs": [],
   "source": [
    "# employees.drop(columns=[\"first_name\", \"last_name\"], inplace = True)      # Removing columns \n",
    "# employees.columns      # I made this to get a list of the columns to not have to type evertyhing, then just reordering them\n",
    "\n",
    "new_order = ['Full_name', 'email', 'job_title', 'salary', 'department']\n",
    "\n",
    "employees = employees[new_order]"
   ]
  },
  {
   "cell_type": "markdown",
   "metadata": {},
   "source": [
    "**OP4:** Update column titles to make the first letter in each title upper case. Also replace the underscore character in \"job_title\" with a space.\n",
    "<details>\n",
    "<summary>Result</summary>\n",
    "<br>\n",
    "&nbsp;&nbsp;&nbsp;<b>Name&nbsp;&nbsp;&nbsp;Email&nbsp;&nbsp;&nbsp;Job title&nbsp;&nbsp;&nbsp;Salary&nbsp;&nbsp;&nbsp;Department</b>\n",
    "</details>"
   ]
  },
  {
   "cell_type": "code",
   "execution_count": 34,
   "metadata": {},
   "outputs": [],
   "source": [
    "new_names = {'Full_name': 'Fullname', 'email': 'Email', 'job_title': 'Job title', 'salary': 'Salary', 'department': 'Department'}\n",
    "\n",
    "# employees.rename(columns = new_names, inplace = True)      # This gave error as below (next code box), so solution was instead:\n",
    "\n",
    "employees = employees.rename(columns = new_names) "
   ]
  },
  {
   "cell_type": "markdown",
   "metadata": {},
   "source": [
    "**OP5:** Change the data type of column \"Salary\" to float64.\n",
    "<details>\n",
    "<summary>Result</summary>\n",
    "<br>\n",
    "&nbsp;&nbsp;&nbsp;Salary: int64 => float64\n",
    "</details>"
   ]
  },
  {
   "cell_type": "code",
   "execution_count": 33,
   "metadata": {},
   "outputs": [],
   "source": [
    "employees.loc[:,\"Salary\"] = employees[\"Salary\"].astype(\"float64\")   \n",
    "\n",
    "# employees[\"Salary\"] = employees[\"Salary\"].astype(\"float64\")         # This one gave some error: \n",
    "                                                                      # The \"SettingWithCopyWarning\" you're encountering is not directly related to the\n",
    "                                                                      # rename method you're using but is \n",
    "                                                                      # a general warning about how you are accessing the DataFrame. \n",
    "                                                                      # It typically occurs when you're working with a view or a copy of the DataFrame \n",
    "                                                                      # instead of the original DataFrame. "
   ]
  },
  {
   "cell_type": "markdown",
   "metadata": {},
   "source": [
    "**OP6:** The company decided to give everyone in sales a 10% salary increase. Update the dataset accordingly.\n",
    "\n",
    "<details>\n",
    "<summary>Result</summary>\n",
    "<br>\n",
    "&nbsp;&nbsp;&nbsp;John Doe&nbsp;&nbsp;&nbsp;132000.0<br>\n",
    "&nbsp;&nbsp;&nbsp;Jane Smith&nbsp;&nbsp;&nbsp;60000.0<br>\n",
    "&nbsp;&nbsp;&nbsp;Michael Johnson&nbsp;&nbsp;&nbsp;110000.0\t<br>\n",
    "&nbsp;&nbsp;&nbsp;Sarah Williams&nbsp;&nbsp;&nbsp;82500.0<br>\n",
    "&nbsp;&nbsp;&nbsp;...<br>\n",
    "</details>"
   ]
  },
  {
   "cell_type": "code",
   "execution_count": 36,
   "metadata": {},
   "outputs": [],
   "source": [
    "employees[\"Salary\"] = employees[\"Salary\"] * 1.1"
   ]
  },
  {
   "cell_type": "markdown",
   "metadata": {},
   "source": [
    "**OP7:** The company hired a new software engineer. Add a new row with appropriate values to the dataset.\n",
    "<details>\n",
    "<summary>Result</summary>\n",
    "<br>\n",
    "<b>Example:</b><br>\n",
    "&nbsp;&nbsp;&nbsp;<b>Name:</b> Jennifer Lee<br>\n",
    "&nbsp;&nbsp;&nbsp;<b>Email:</b> jennifer.lee@mockcompany.com<br>\n",
    "&nbsp;&nbsp;&nbsp;<b>Job title:</b> Software Engineer<br>\n",
    "&nbsp;&nbsp;&nbsp;<b>Salary:</b> 100.000<br>\n",
    "&nbsp;&nbsp;&nbsp;<b>Department:</b> IT<br>\n",
    "</details>"
   ]
  },
  {
   "cell_type": "code",
   "execution_count": 40,
   "metadata": {},
   "outputs": [],
   "source": [
    "employees.loc[10,:] = [\"Mr Engineer\", \"Mr.Engineer@mockcompany.com\", \"Software Engineer\", 120000, \"IT\"]"
   ]
  },
  {
   "cell_type": "markdown",
   "metadata": {},
   "source": [
    "**OP8:** The company decided to hire a lot of new software engineers.\n",
    "\n",
    "Create python code that asks the user to input the name and salary of the new software engineer, and then automatically adds the new employee to the dataset. Also, ensure that each employee get a unique index in the dataset.\n",
    "\n",
    "<details>\n",
    "<summary>Result</summary>\n",
    "<br>\n",
    "<b>Example:</b><br>\n",
    "&nbsp;&nbsp;&nbsp;Input name of new software engineer: Daniel Brown<br>\n",
    "&nbsp;&nbsp;&nbsp;Input the salary for Daniel Brown: 95.000<br>\n",
    "<br>\n",
    "&nbsp;&nbsp;&nbsp;<b>Name:</b> Daniel Brown<br>\n",
    "&nbsp;&nbsp;&nbsp;<b>Email:</b> daniel.brown@mockcompany.com<br>\n",
    "&nbsp;&nbsp;&nbsp;<b>Job title:</b> Software Engineer<br>\n",
    "&nbsp;&nbsp;&nbsp;<b>Salary:</b> 95.000<br>\n",
    "&nbsp;&nbsp;&nbsp;<b>Department:</b> IT<br>\n",
    "</details>"
   ]
  },
  {
   "cell_type": "code",
   "execution_count": 56,
   "metadata": {},
   "outputs": [],
   "source": [
    "# Ask the user to input the name and salary for the new software engineer\n",
    "\n",
    "name = input(\"Enter the first and last name of the new software engineer: \")\n",
    "salary = float(input(\"Enter the salary of the new software engineer: \"))\n",
    "list_names = name.split(\" \")\n",
    "\n",
    "new_index = len(employees) + 1\n",
    "\n",
    "# Create a dictionary with the new employee's information\n",
    "new_employee = {\n",
    "    \"Fullname\": name,\n",
    "    \"Email\": list_names[0] + \".\" + list_names[1] + \"@mockcompany.com\",\n",
    "    \"Job title\": \"Software Engineer\",\n",
    "    \"Salary\": salary,\n",
    "    \"Department\": \"IT\"\n",
    "}\n",
    "\n",
    "new_employee_df = pd.DataFrame(new_employee, index = [0])\n",
    "\n",
    "# Add the new employee to the dataset\n",
    "employees = pd.concat([employees, new_employee_df], ignore_index=True)\n",
    "\n"
   ]
  },
  {
   "cell_type": "markdown",
   "metadata": {},
   "source": [
    "**OP9:** Olivia Moore quits her job. Remove her data from the dataset."
   ]
  },
  {
   "cell_type": "code",
   "execution_count": 54,
   "metadata": {},
   "outputs": [],
   "source": [
    "employees = employees.drop(9)\n",
    "\n"
   ]
  },
  {
   "cell_type": "markdown",
   "metadata": {},
   "source": [
    "**OP10**: Make sure that the python script in *OP8* still gives a unique index to each new employee, even after removing rows."
   ]
  },
  {
   "cell_type": "markdown",
   "metadata": {},
   "source": [
    "### Final note:\n",
    "Just to be clear, a real company would most likely store their employee data in a database, and loading them into a pandas dataframe to do these kind of operations wouldn't make much sense. The above examples are purely for learning the different operations of pandas."
   ]
  }
 ],
 "metadata": {
  "kernelspec": {
   "display_name": "Databehandling-AI23-toKGAHu0",
   "language": "python",
   "name": "python3"
  },
  "language_info": {
   "codemirror_mode": {
    "name": "ipython",
    "version": 3
   },
   "file_extension": ".py",
   "mimetype": "text/x-python",
   "name": "python",
   "nbconvert_exporter": "python",
   "pygments_lexer": "ipython3",
   "version": "3.11.5"
  }
 },
 "nbformat": 4,
 "nbformat_minor": 2
}
