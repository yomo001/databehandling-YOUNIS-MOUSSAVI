{
 "cells": [
  {
   "cell_type": "markdown",
   "metadata": {},
   "source": [
    "## Exercises: Filter and query data"
   ]
  },
  {
   "cell_type": "code",
   "execution_count": 2,
   "metadata": {},
   "outputs": [],
   "source": [
    "import pandas as pd\n",
    "autos = pd.read_json(\"../Data/autos.json\")\n",
    "import numpy as np\n"
   ]
  },
  {
   "cell_type": "markdown",
   "metadata": {},
   "source": [
    "**Use the \"autos\" dataset to answer the following questions:**"
   ]
  },
  {
   "cell_type": "markdown",
   "metadata": {},
   "source": [
    "**Q1:** How many cars from Jaguar are in the dataset, and what is the price of the most expensive one?\n",
    "\n",
    "<details>\n",
    "<summary>Answer</summary>\n",
    "<br>\n",
    "&nbsp;&nbsp;&nbsp;count=3\n",
    "&nbsp;&nbsp;&nbsp;price=36000.0\n",
    "</details>"
   ]
  },
  {
   "cell_type": "code",
   "execution_count": 3,
   "metadata": {},
   "outputs": [
    {
     "name": "stdout",
     "output_type": "stream",
     "text": [
      "The amount of jaguar cars are 3 and the most expensive one costs 36000.0 USD\n",
      "The amount of jaguar cars are 3 and the most expensive one costs 36000.0 USD\n"
     ]
    }
   ],
   "source": [
    "# Extra träning (svar 2)\n",
    "\n",
    "jaguar_cars = (autos[\"make\"] == 'jaguar').sum()\n",
    "\n",
    "most_expensive_car = autos[autos[\"make\"] == 'jaguar'].sort_values(by = \"price\", ascending = False)[\"price\"].head(1).iloc[0]\n",
    "\n",
    "# For learning purpose, I'll brake it down:\n",
    "\n",
    "list_only_jaguars = autos[autos[\"make\"] == 'jaguar']         # Query, return dataframe with only jaguar values for make\n",
    "sorted_by_price = list_only_jaguars.sort_values(by = \"price\", ascending = False)               # Sorting values of rows in the dataframe\n",
    "filter_price_column = sorted_by_price[\"price\"].head(1)        # Return a Series of only price column, maximum value\n",
    "filtering_only_price = filter_price_column.iloc[0]            # Returning only price value from Series, otherwise index plus value\n",
    "\n",
    "print(f\"The amount of jaguar cars are {jaguar_cars} and the most expensive one costs {most_expensive_car} USD\")\n",
    "print(f\"The amount of jaguar cars are {jaguar_cars} and the most expensive one costs {filtering_only_price} USD\")\n"
   ]
  },
  {
   "cell_type": "code",
   "execution_count": 4,
   "metadata": {},
   "outputs": [
    {
     "data": {
      "text/html": [
       "<div>\n",
       "<style scoped>\n",
       "    .dataframe tbody tr th:only-of-type {\n",
       "        vertical-align: middle;\n",
       "    }\n",
       "\n",
       "    .dataframe tbody tr th {\n",
       "        vertical-align: top;\n",
       "    }\n",
       "\n",
       "    .dataframe thead th {\n",
       "        text-align: right;\n",
       "    }\n",
       "</style>\n",
       "<table border=\"1\" class=\"dataframe\">\n",
       "  <thead>\n",
       "    <tr style=\"text-align: right;\">\n",
       "      <th></th>\n",
       "      <th>aspiration</th>\n",
       "      <th>body-style</th>\n",
       "      <th>bore</th>\n",
       "      <th>city-mpg</th>\n",
       "      <th>compression-ratio</th>\n",
       "      <th>curb-weight</th>\n",
       "      <th>drive-wheels</th>\n",
       "      <th>engine-location</th>\n",
       "      <th>engine-size</th>\n",
       "      <th>engine-type</th>\n",
       "      <th>...</th>\n",
       "      <th>make</th>\n",
       "      <th>normalized-losses</th>\n",
       "      <th>num-of-cylinders</th>\n",
       "      <th>num-of-doors</th>\n",
       "      <th>peak-rpm</th>\n",
       "      <th>price</th>\n",
       "      <th>stroke</th>\n",
       "      <th>symboling</th>\n",
       "      <th>wheel-base</th>\n",
       "      <th>width</th>\n",
       "    </tr>\n",
       "  </thead>\n",
       "  <tbody>\n",
       "    <tr>\n",
       "      <th>49</th>\n",
       "      <td>std</td>\n",
       "      <td>sedan</td>\n",
       "      <td>3.54</td>\n",
       "      <td>13</td>\n",
       "      <td>11.5</td>\n",
       "      <td>3950</td>\n",
       "      <td>rwd</td>\n",
       "      <td>front</td>\n",
       "      <td>326</td>\n",
       "      <td>ohcv</td>\n",
       "      <td>...</td>\n",
       "      <td>jaguar</td>\n",
       "      <td>NaN</td>\n",
       "      <td>twelve</td>\n",
       "      <td>two</td>\n",
       "      <td>5000.0</td>\n",
       "      <td>36000.0</td>\n",
       "      <td>2.76</td>\n",
       "      <td>0</td>\n",
       "      <td>102.0</td>\n",
       "      <td>70.6</td>\n",
       "    </tr>\n",
       "    <tr>\n",
       "      <th>48</th>\n",
       "      <td>std</td>\n",
       "      <td>sedan</td>\n",
       "      <td>3.63</td>\n",
       "      <td>15</td>\n",
       "      <td>8.1</td>\n",
       "      <td>4066</td>\n",
       "      <td>rwd</td>\n",
       "      <td>front</td>\n",
       "      <td>258</td>\n",
       "      <td>dohc</td>\n",
       "      <td>...</td>\n",
       "      <td>jaguar</td>\n",
       "      <td>NaN</td>\n",
       "      <td>six</td>\n",
       "      <td>four</td>\n",
       "      <td>4750.0</td>\n",
       "      <td>35550.0</td>\n",
       "      <td>4.17</td>\n",
       "      <td>0</td>\n",
       "      <td>113.0</td>\n",
       "      <td>69.6</td>\n",
       "    </tr>\n",
       "    <tr>\n",
       "      <th>47</th>\n",
       "      <td>std</td>\n",
       "      <td>sedan</td>\n",
       "      <td>3.63</td>\n",
       "      <td>15</td>\n",
       "      <td>8.1</td>\n",
       "      <td>4066</td>\n",
       "      <td>rwd</td>\n",
       "      <td>front</td>\n",
       "      <td>258</td>\n",
       "      <td>dohc</td>\n",
       "      <td>...</td>\n",
       "      <td>jaguar</td>\n",
       "      <td>145.0</td>\n",
       "      <td>six</td>\n",
       "      <td>four</td>\n",
       "      <td>4750.0</td>\n",
       "      <td>32250.0</td>\n",
       "      <td>4.17</td>\n",
       "      <td>0</td>\n",
       "      <td>113.0</td>\n",
       "      <td>69.6</td>\n",
       "    </tr>\n",
       "  </tbody>\n",
       "</table>\n",
       "<p>3 rows × 26 columns</p>\n",
       "</div>"
      ],
      "text/plain": [
       "   aspiration body-style  bore  city-mpg  compression-ratio  curb-weight  \\\n",
       "49        std      sedan  3.54        13               11.5         3950   \n",
       "48        std      sedan  3.63        15                8.1         4066   \n",
       "47        std      sedan  3.63        15                8.1         4066   \n",
       "\n",
       "   drive-wheels engine-location  engine-size engine-type  ...    make  \\\n",
       "49          rwd           front          326        ohcv  ...  jaguar   \n",
       "48          rwd           front          258        dohc  ...  jaguar   \n",
       "47          rwd           front          258        dohc  ...  jaguar   \n",
       "\n",
       "   normalized-losses  num-of-cylinders  num-of-doors  peak-rpm    price  \\\n",
       "49               NaN            twelve           two    5000.0  36000.0   \n",
       "48               NaN               six          four    4750.0  35550.0   \n",
       "47             145.0               six          four    4750.0  32250.0   \n",
       "\n",
       "   stroke  symboling wheel-base width  \n",
       "49   2.76          0      102.0  70.6  \n",
       "48   4.17          0      113.0  69.6  \n",
       "47   4.17          0      113.0  69.6  \n",
       "\n",
       "[3 rows x 26 columns]"
      ]
     },
     "execution_count": 4,
     "metadata": {},
     "output_type": "execute_result"
    }
   ],
   "source": [
    "# autos[autos[\"make\"] == \"jaguar\"]               # Filtrerar fram för att få alla jaguar\n",
    "# autos.query(\"make == 'jaguar'\")                # Filtrerar fram men med query\n",
    "\n",
    "# autos[autos[\"make\"] == \"jaguar\"].sort_values(by = [\"price\"], ascending = False)       # Sorterar i nedåtgående ordning på pris\n",
    "\n",
    "jaguar_cars = (autos[\"make\"] == \"jaguar\").sum()    # Här räknas summan ut via \"boolean series\" då sum() ej funkar på listan ovan\n",
    "jaguar_cars\n",
    "\n",
    "autos.query(\"make == 'jaguar'\").sort_values(by = [\"price\"], ascending = False)        # Sorterar i nedåtgående ordning på pris via query"
   ]
  },
  {
   "cell_type": "markdown",
   "metadata": {},
   "source": [
    "**Q2:** How many cars from Toyota are in the dataset, and what is the price of the most expensive one?\n",
    "\n",
    "<details>\n",
    "<summary>Answer</summary>\n",
    "<br>\n",
    "&nbsp;&nbsp;&nbsp;count=32\n",
    "&nbsp;&nbsp;&nbsp;price=17669.0\n",
    "</details>"
   ]
  },
  {
   "cell_type": "code",
   "execution_count": 5,
   "metadata": {},
   "outputs": [
    {
     "name": "stdout",
     "output_type": "stream",
     "text": [
      "32\n",
      "32\n",
      "There are 32 toyota cars in the dataset, and the most expensive one costs 17669.0 USD\n"
     ]
    }
   ],
   "source": [
    "# Extra träning (svar 2)\n",
    "\n",
    "### Count of toyotas\n",
    "\n",
    "toyota_cars = autos.query(\"make == 'toyota'\")         # columns without special characters dont need quotes, values need quotes\n",
    "toyota_cars.value_counts([\"make\"])                    # Counts the values in the make column. Returns Series. \n",
    "count_toyotas = toyota_cars.value_counts([\"make\"]).iloc[0]   # Variable to print out, in the other solutions I dont do this neither in print below\n",
    "print(toyota_cars.value_counts([\"make\"]).iloc[0])     # Indexed to return only the value\n",
    "\n",
    "# Other solution\n",
    "\n",
    "toyota_cars2 = autos[autos[\"make\"] == \"toyota\"]       # By other type of Query\n",
    "toyota_cars2.value_counts(\"make\")\n",
    "print(toyota_cars2.value_counts(\"make\").iloc[0])\n",
    "\n",
    "\n",
    "# Other solution, counting the amount differently\n",
    "bool_mask = autos[\"make\"] == \"toyota\"    # Skapar boolean mask (index Series med värden för make som uppfyller villkor - False/True)\n",
    "df_bool_mask = autos[bool_mask]          # Indexerar fram alla rader som har true i vårt dataframe från boolmasken, alltså alla toyota rader\n",
    "toyota_cars3 = bool_mask.sum()           # Bool mask kan summeras för att få fram antalet värden av True = Antal toyota\n",
    "\n",
    "\n",
    "### Most expensive price\n",
    "\n",
    "most_expensive_toyota = toyota_cars.sort_values(by = \"price\", ascending=False)[\"price\"].iloc[0]\n",
    "\n",
    "\n",
    "# Final answer\n",
    "\n",
    "print(f\"There are {count_toyotas} toyota cars in the dataset, and the most expensive one costs {most_expensive_toyota} USD\")\n"
   ]
  },
  {
   "cell_type": "code",
   "execution_count": 6,
   "metadata": {},
   "outputs": [
    {
     "data": {
      "text/html": [
       "<div>\n",
       "<style scoped>\n",
       "    .dataframe tbody tr th:only-of-type {\n",
       "        vertical-align: middle;\n",
       "    }\n",
       "\n",
       "    .dataframe tbody tr th {\n",
       "        vertical-align: top;\n",
       "    }\n",
       "\n",
       "    .dataframe thead th {\n",
       "        text-align: right;\n",
       "    }\n",
       "</style>\n",
       "<table border=\"1\" class=\"dataframe\">\n",
       "  <thead>\n",
       "    <tr style=\"text-align: right;\">\n",
       "      <th></th>\n",
       "      <th>aspiration</th>\n",
       "      <th>body-style</th>\n",
       "      <th>bore</th>\n",
       "      <th>city-mpg</th>\n",
       "      <th>compression-ratio</th>\n",
       "      <th>curb-weight</th>\n",
       "      <th>drive-wheels</th>\n",
       "      <th>engine-location</th>\n",
       "      <th>engine-size</th>\n",
       "      <th>engine-type</th>\n",
       "      <th>...</th>\n",
       "      <th>make</th>\n",
       "      <th>normalized-losses</th>\n",
       "      <th>num-of-cylinders</th>\n",
       "      <th>num-of-doors</th>\n",
       "      <th>peak-rpm</th>\n",
       "      <th>price</th>\n",
       "      <th>stroke</th>\n",
       "      <th>symboling</th>\n",
       "      <th>wheel-base</th>\n",
       "      <th>width</th>\n",
       "    </tr>\n",
       "  </thead>\n",
       "  <tbody>\n",
       "    <tr>\n",
       "      <th>172</th>\n",
       "      <td>std</td>\n",
       "      <td>convertible</td>\n",
       "      <td>3.62</td>\n",
       "      <td>24</td>\n",
       "      <td>9.3</td>\n",
       "      <td>2975</td>\n",
       "      <td>rwd</td>\n",
       "      <td>front</td>\n",
       "      <td>146</td>\n",
       "      <td>ohc</td>\n",
       "      <td>...</td>\n",
       "      <td>toyota</td>\n",
       "      <td>134.0</td>\n",
       "      <td>four</td>\n",
       "      <td>two</td>\n",
       "      <td>4800.0</td>\n",
       "      <td>17669.0</td>\n",
       "      <td>3.5</td>\n",
       "      <td>2</td>\n",
       "      <td>98.4</td>\n",
       "      <td>65.6</td>\n",
       "    </tr>\n",
       "  </tbody>\n",
       "</table>\n",
       "<p>1 rows × 26 columns</p>\n",
       "</div>"
      ],
      "text/plain": [
       "    aspiration   body-style  bore  city-mpg  compression-ratio  curb-weight  \\\n",
       "172        std  convertible  3.62        24                9.3         2975   \n",
       "\n",
       "    drive-wheels engine-location  engine-size engine-type  ...    make  \\\n",
       "172          rwd           front          146         ohc  ...  toyota   \n",
       "\n",
       "    normalized-losses  num-of-cylinders  num-of-doors  peak-rpm    price  \\\n",
       "172             134.0              four           two    4800.0  17669.0   \n",
       "\n",
       "    stroke  symboling wheel-base width  \n",
       "172    3.5          2       98.4  65.6  \n",
       "\n",
       "[1 rows x 26 columns]"
      ]
     },
     "execution_count": 6,
     "metadata": {},
     "output_type": "execute_result"
    }
   ],
   "source": [
    "# First answer\n",
    "\n",
    "toyota_cars = (autos[\"make\"] == \"toyota\").sum()       # Sum of boolean indexing, True values giving the amount of Toyotas\n",
    "\n",
    "autos.query(\"make == 'toyota'\").sort_values(by = [\"price\"], ascending = False).head(1)   # Outputting the row with the highest price. Using Query.\n",
    "\n"
   ]
  },
  {
   "cell_type": "markdown",
   "metadata": {},
   "source": [
    "**Q3:** What is the length, width and height of the most expensive car in the entire dataset?\n",
    "\n",
    "<details>\n",
    "<summary>Answer</summary>\n",
    "<br>&nbsp;&nbsp;&nbsp;length=199.2\n",
    "&nbsp;&nbsp;&nbsp;width=72.0\n",
    "&nbsp;&nbsp;&nbsp;height=55.4\n",
    "</details>"
   ]
  },
  {
   "cell_type": "code",
   "execution_count": 7,
   "metadata": {},
   "outputs": [
    {
     "name": "stdout",
     "output_type": "stream",
     "text": [
      "The most expensive car costs 45400.0, its length is 199.2, width is 72.0 and height is 55.4\n",
      "The most expensive car costs 45400.0, its length is 199.2, width is 72.0 and height is 55.4\n",
      "74    45400.0\n",
      "Name: price, dtype: float64\n",
      "45400.0\n"
     ]
    }
   ],
   "source": [
    "# Extra träning (svar 2)\n",
    "\n",
    "# Most expensive car in the dataset\n",
    "\n",
    "most_expensive_car = autos.sort_values(by = \"price\", ascending=False)[[\"price\", \"length\", \"width\", \"height\"]]\n",
    "\n",
    "most_expensive_car\n",
    "\n",
    "\n",
    "price = most_expensive_car.iloc[0,0] \n",
    "length = most_expensive_car.iloc[0,1] \n",
    "width = most_expensive_car.iloc[0,2] \n",
    "height = most_expensive_car.iloc[0,3] \n",
    "\n",
    "\n",
    "print(f\"The most expensive car costs {price}, its length is {length}, width is {width} and height is {height}\")\n",
    "\n",
    "\n",
    "# Annother solution\n",
    "\n",
    "most_expensive_car2 = autos.sort_values(by = \"price\", ascending=False).iloc[0]   # or head(1) BUT iloc[0] makes it possible to extract values directly in next step \n",
    "                                                                                 # without having to type iloc agan. \n",
    "                                                                                 # head(1) gives a dataframe(series if one column), iloc[0] gives first value. \n",
    "\n",
    "price2 = most_expensive_car2[\"price\"]                      # Those create Pandas Series (one columns values with index), so we index with iloc to get only value\n",
    "length2 = most_expensive_car2[\"length\"]\n",
    "width2 = most_expensive_car2[\"width\"]\n",
    "height2 = most_expensive_car2[\"height\"]\n",
    "\n",
    "print(f\"The most expensive car costs {price2}, its length is {length2}, width is {width2} and height is {height2}\")\n",
    "\n",
    "\n",
    "# Fråga - Varför går det att skriva ut direkt utan iloc för parametrar och inte med head(1)\n",
    "most_expensive_car3 = autos.sort_values(by = \"price\", ascending=False)[\"price\"].head(1)\n",
    "most_expensive_car4 = autos.sort_values(by = \"price\", ascending=False)[\"price\"].iloc[0]\n",
    "print(most_expensive_car3)   # series first row, still have to index it to get the value\n",
    "print(most_expensive_car4)   # already indexed to get the value"
   ]
  },
  {
   "cell_type": "code",
   "execution_count": 8,
   "metadata": {},
   "outputs": [
    {
     "name": "stdout",
     "output_type": "stream",
     "text": [
      "Length: 199.2\n",
      "Width: 72.0\n",
      "Height: 55.4\n"
     ]
    },
    {
     "data": {
      "text/html": [
       "<div>\n",
       "<style scoped>\n",
       "    .dataframe tbody tr th:only-of-type {\n",
       "        vertical-align: middle;\n",
       "    }\n",
       "\n",
       "    .dataframe tbody tr th {\n",
       "        vertical-align: top;\n",
       "    }\n",
       "\n",
       "    .dataframe thead th {\n",
       "        text-align: right;\n",
       "    }\n",
       "</style>\n",
       "<table border=\"1\" class=\"dataframe\">\n",
       "  <thead>\n",
       "    <tr style=\"text-align: right;\">\n",
       "      <th></th>\n",
       "      <th>length</th>\n",
       "      <th>width</th>\n",
       "      <th>height</th>\n",
       "    </tr>\n",
       "  </thead>\n",
       "  <tbody>\n",
       "    <tr>\n",
       "      <th>74</th>\n",
       "      <td>199.2</td>\n",
       "      <td>72.0</td>\n",
       "      <td>55.4</td>\n",
       "    </tr>\n",
       "  </tbody>\n",
       "</table>\n",
       "</div>"
      ],
      "text/plain": [
       "    length  width  height\n",
       "74   199.2   72.0    55.4"
      ]
     },
     "execution_count": 8,
     "metadata": {},
     "output_type": "execute_result"
    }
   ],
   "source": [
    "# autos_sorted2 = autos.sort_values(by = [\"price\"], ascending = False).head(1)   # Med detta hade man kunnat direkt ta ut längt osv för denna variabel då vi enbart tar fram raden längst upp\n",
    "autos_sorted = autos.sort_values(by = [\"price\"], ascending = False)\n",
    "\n",
    "# Retrieve the first row (most expensive car)\n",
    "most_expensive_car = autos_sorted.iloc[0]\n",
    "\n",
    "# Extract the length, width, and height of the most expensive car\n",
    "length = most_expensive_car[\"length\"]\n",
    "width = most_expensive_car[\"width\"]\n",
    "height = most_expensive_car[\"height\"]\n",
    "\n",
    "\n",
    "print(\"Length:\", length)\n",
    "print(\"Width:\", width)\n",
    "print(\"Height:\", height)\n",
    "\n",
    "\n",
    "# Om man vill skapa en dataframe med de tre värdena direkt\n",
    "\n",
    "autos_sorted3 = autos.sort_values(by =\"price\", ascending = False)[[\"length\", \"width\", \"height\"]]      # Här kan kolumnerna skrivas direkt på slutet, inget komma då vi inte filtrerar raderna med iloc/loc osv\n",
    "\n",
    "autos_sorted3.head(1)\n",
    "\n",
    "\n",
    "## Anledning till varför man inte ska ange autos_sorted3 = autos[autos[osv]]\n",
    "\n",
    "# autos.sort_values(by=\"price\", ascending=False): This part of the code sorts the DataFrame autos based on the \"price\" column in descending order and returns a new sorted DataFrame. Let's call this sorted DataFrame \"autos_sorted.\"\n",
    "# autos[autos_sorted[[\"length\", \"width\", \"height\"]]]: In this part of the code, \n",
    "# you are trying to use \"autos_sorted\" as a boolean index to filter rows \n",
    "# from the original DataFrame \"autos.\" However, this usage doesn't align with \n",
    "# how boolean indexing is typically done in pandas."
   ]
  },
  {
   "cell_type": "markdown",
   "metadata": {},
   "source": [
    "**Q4:** What is the lowest price per horsepower in the dataset, and what brand (\"make\") is that car?\n",
    "\n",
    "<details>\n",
    "<summary>Answer</summary>\n",
    "<br>\n",
    "&nbsp;&nbsp;&nbsp;price per horsepower=72.84\n",
    "&nbsp;&nbsp;&nbsp;brand=Toyota\n",
    "</details>"
   ]
  },
  {
   "cell_type": "code",
   "execution_count": 9,
   "metadata": {},
   "outputs": [
    {
     "ename": "SyntaxError",
     "evalue": "invalid syntax (1255017661.py, line 9)",
     "output_type": "error",
     "traceback": [
      "\u001b[1;36m  Cell \u001b[1;32mIn[9], line 9\u001b[1;36m\u001b[0m\n\u001b[1;33m    sorted_values[]\u001b[0m\n\u001b[1;37m                  ^\u001b[0m\n\u001b[1;31mSyntaxError\u001b[0m\u001b[1;31m:\u001b[0m invalid syntax\n"
     ]
    }
   ],
   "source": [
    "# Extra träning (svar 2)\n",
    "\n",
    " # Create new column \"price_per_horsepower\"\n",
    "\n",
    "autos[\"price_per_horsepower\"] = autos[\"price\"]/autos[\"horsepower\"]\n",
    "\n",
    "sorted_values = autos.sort_values(by = \"price_per_horsepower\", ascending=False).iloc[0]\n",
    "\n",
    "sorted_values[]\n"
   ]
  },
  {
   "cell_type": "code",
   "execution_count": null,
   "metadata": {},
   "outputs": [],
   "source": [
    "autos.head()\n",
    "\n",
    "autos[[\"horsepower\", \"price\"]]     # Create a datafrmae with only horsepower and price. \n",
    "autos[\"horsepower\"]                # Create a Series by only extracting the horsepower column, since it is done as a list within list (2D)\n",
    "autos[[\"horsepower\"]]              # Create a Dataframe by only extracting the horsepower column, since it is done as a list within list (2D)\n",
    "\n",
    "autos[\"price_per_horsepower\"] = autos[\"price\"]/autos[\"horsepower\"]     # all rows perform the operation\n",
    "\n",
    "autos.sort_values(by = \"price_per_horsepower\").head(1)[[\"make\", \"price_per_horsepower\"]]   # First the rows are sorted, then row at the top is chosen, then last part chooses the columns.\n",
    "\n",
    "# autos.info()   # I see NaN values\n",
    "\n",
    "# autos.loc[autos['price_per_horsepower'].isna(), [\"price\", \"horsepower\"]]   # Too see what columns made the NaN values. filter on rows with values NaN\n",
    "# in price_per_horsepower column, and to see columns make and price because the row NaN values are based on values from these columns\n",
    "\n",
    "# As above but sorting for one feature in the rows:\n",
    "# autos[autos[\"make\"] == \"volvo\"].sort_values(by = \"price_per_horsepower\")[[\"make\", \"price_per_horsepower\"]]\n",
    "\n",
    "# For info and education about filtering rows and columns\n",
    "# autos.loc[autos['make'] == 'toyota', ['make', 'price_per_horsepower']]   # Left part of the comma is filtering the rows to include only those where make == toyota, \n",
    "                                                                         # and the right side of the comma selects the columns\n",
    "\n"
   ]
  },
  {
   "cell_type": "markdown",
   "metadata": {},
   "source": [
    "**Q5:** How many of the cars in the dataset has as many cylinders as they have doors?\n",
    "\n",
    "<details>\n",
    "<summary>Answer</summary>\n",
    "<br>\n",
    "&nbsp;&nbsp;&nbsp;cars=95\n",
    "</details>"
   ]
  },
  {
   "cell_type": "code",
   "execution_count": null,
   "metadata": {},
   "outputs": [
    {
     "data": {
      "text/plain": [
       "95"
      ]
     },
     "execution_count": 27,
     "metadata": {},
     "output_type": "execute_result"
    }
   ],
   "source": [
    "# Extra träning (svar 2)\n",
    "\n",
    "# Ha som tumregel att när du filterar på rader så har du kvar hela dataframet men bara de rader enligt kriteriet du filtrerar på.\n",
    "cylinder_equal_doors = autos[autos[\"num-of-cylinders\"] == autos[\"num-of-doors\"]]\n",
    "\n",
    "# When getting the sum, it can be done in several ways\n",
    "# cylinder_equal_doors is a dataframe with all columns and only rows where cylinder = doors. \n",
    "# One way is to type cylinder_equal_doors.info() and see all entries, because each row is a car\n",
    "# Annother way is to use value_counts and entering the column. If further want to have clean numeric, can index it(slice) with iloc\n",
    "# or apply .sum() afterwards. This is easier since it sums all counts regardless brand etc.\n",
    "# cylinder_equal_doors.value_counts([\"num-of-cylinders\"]).sum()\n",
    "\n",
    "\n",
    "# It is also possible to create a boolean mask with the critera, and sum the True values directly:\n",
    "(autos[\"num-of-cylinders\"] == autos[\"num-of-doors\"]).sum()\n",
    "# cons - you dont have a dataframe with those values if you wish to further work with it.\n",
    "# pros - straightforward if this is the only operation you want to do"
   ]
  },
  {
   "cell_type": "code",
   "execution_count": null,
   "metadata": {},
   "outputs": [
    {
     "data": {
      "text/plain": [
       "95"
      ]
     },
     "execution_count": 25,
     "metadata": {},
     "output_type": "execute_result"
    }
   ],
   "source": [
    "autos[autos[\"num-of-cylinders\"] == autos[\"num-of-doors\"]]      # Creates a dataframe filtering all rows of cylinders and doors are equal\n",
    "                                                               # boolean indexing\n",
    "# Till skilland från:\n",
    "# autos[\"price\"]    # här används column indexing\n",
    "# Men i den första används ' boolean indexing' som returnerar false och true, \n",
    "# Sedan används dessa för att indexera original DataFrame, väljandes de rader med True/False\n",
    "\n",
    "# autos[autos[\"num-of-cylinders\"] == autos[\"num-of-doors\"]].sum()   # Obs här appliceras sum på hela dataframet och ger tillbara series med summor\n",
    "\n",
    "count_of_true_rows = (autos[\"num-of-cylinders\"] == autos[\"num-of-doors\"]).sum()    # måste assignas till en variabel om man vill få antal True\n",
    "\n",
    "count_of_true_rows\n",
    "\n"
   ]
  },
  {
   "cell_type": "markdown",
   "metadata": {},
   "source": [
    "**Use the \"autos\" dataset and write python code to solve the following tasks:**"
   ]
  },
  {
   "cell_type": "markdown",
   "metadata": {},
   "source": [
    "**T1:** Print a string to inform the user of the price difference between the cheapest and the most expensive car in the dataset.\n",
    "\n",
    "<details>\n",
    "<summary>Solution</summary>\n",
    "<br>\n",
    "&nbsp;&nbsp;&nbsp;<b>Example:</b><br>\n",
    "&nbsp;&nbsp;&nbsp;The price difference between the cheapest and the most expensive car is 40282.0\n",
    "</details>"
   ]
  },
  {
   "cell_type": "code",
   "execution_count": null,
   "metadata": {},
   "outputs": [
    {
     "name": "stdout",
     "output_type": "stream",
     "text": [
      "The difference between the most expensive and the cheapest car is 40282.0 USD\n"
     ]
    }
   ],
   "source": [
    "# Extra träning (svar 2)\n",
    "# Compared to answer below, this one uses iloc[0] directly, better than head(1) since it returns \n",
    "cheapest_car = autos.sort_values(by = \"price\")[\"price\"].iloc[0]      # Får tillbaka dataframe:t samma men sorterat på pris. Indexerar sedan detta på kolumn \"price\" och tar första värdet\n",
    "most_expensive_car = autos.sort_values(by = \"price\", ascending=False)[\"price\"].iloc[0]   \n",
    "\n",
    "print(f\"The difference between the most expensive and the cheapest car is {most_expensive_car- cheapest_car} USD\")\n",
    "\n"
   ]
  },
  {
   "cell_type": "code",
   "execution_count": null,
   "metadata": {},
   "outputs": [
    {
     "name": "stdout",
     "output_type": "stream",
     "text": [
      "The difference between the most expensive and the cheapest car is 40282.0 USD\n"
     ]
    },
    {
     "data": {
      "text/plain": [
       "138    5118.0\n",
       "Name: price, dtype: float64"
      ]
     },
     "execution_count": 32,
     "metadata": {},
     "output_type": "execute_result"
    }
   ],
   "source": [
    "cheapest_car = autos.sort_values(by = \"price\").head(1)[\"price\"]\n",
    "most_expensive_car = autos.sort_values(by = \"price\", ascending = False).head(1)[\"price\"]\n",
    "\n",
    "# cheapest_car.iloc[0]    # Get the value in the series, otherwise number of index is also obtained and operation not possible\n",
    "# cheapest_car = autos.sort_values(by = \"price\").head(1)[\"price\"].iloc[0]    # This is also possible\n",
    "\n",
    "\n",
    "print(f\"The difference between the most expensive and the cheapest car is {most_expensive_car.iloc[0]- cheapest_car.iloc[0]} USD\")\n",
    "\n"
   ]
  },
  {
   "cell_type": "markdown",
   "metadata": {},
   "source": [
    "**T2:** Ask the user to input a brand, then print the price range for that brand.\n",
    "\n",
    "<details>\n",
    "<summary>Solution</summary>\n",
    "<br>\n",
    "&nbsp;&nbsp;&nbsp;<b>Example 1:</b><br>\n",
    "&nbsp;&nbsp;&nbsp;Input the name of a brand: volvo<br>\n",
    "&nbsp;&nbsp;&nbsp;The prices for cars of brand 'volvo' ranges from 12940.0 to 22625.0<br>\n",
    "<br>\n",
    "&nbsp;&nbsp;&nbsp;<b>Example 2:</b><br>\n",
    "&nbsp;&nbsp;&nbsp;Input the name of a brand: toyota<br>\n",
    "&nbsp;&nbsp;&nbsp;The prices for cars of brand 'toyota' ranges from 5348.0 to 17669.0<br>\n",
    "<br>\n",
    "&nbsp;&nbsp;&nbsp;<b>Example 3:</b><br>\n",
    "&nbsp;&nbsp;&nbsp;Input the name of a brand: tesla<br>\n",
    "&nbsp;&nbsp;&nbsp;The brand 'tesla' does not exists in the dataset.<br>\n",
    "</details>"
   ]
  },
  {
   "cell_type": "code",
   "execution_count": 14,
   "metadata": {},
   "outputs": [
    {
     "name": "stdout",
     "output_type": "stream",
     "text": [
      "You entered the brand volvo, it's price ranges between 12940.0 and 22625.0 USD\n"
     ]
    }
   ],
   "source": [
    "# Extra träning (svar 2)\n",
    "input_brand = input(\"Please input a brand: \").lower()\n",
    "\n",
    "price_lower = autos[autos[\"make\"] == input_brand].sort_values(by=\"price\")[\"price\"].iloc[0]                     # First query resulting in True/False Series, indexing the autos dataframe, getting all True rows in the autos dataframe. Then sort the values in the dataframe, and filtering on column Price - getting a Series with only price and indexing with iloc.\n",
    "price_upper = autos[autos[\"make\"] == input_brand].sort_values(by=\"price\", ascending=False)[\"price\"].iloc[0]\n",
    "\n",
    "print(f\"You entered the brand {input_brand}, it's price ranges between {price_lower} and {price_upper} USD\")\n"
   ]
  },
  {
   "cell_type": "code",
   "execution_count": 13,
   "metadata": {},
   "outputs": [
    {
     "name": "stdout",
     "output_type": "stream",
     "text": [
      "You entered the brand volvo, it's price ranges between 12940.0 and 22625.0 USD\n"
     ]
    }
   ],
   "source": [
    "input_brand = input(\"Please input a brand: \").lower()\n",
    "\n",
    "minimum_price = autos.query(f\"make == '{input_brand}'\").sort_values(by = \"price\").head(1)[\"price\"]  # F strings due to the requrement of quotes in the query?\n",
    "maximum_price = autos.query(f\"make == '{input_brand}'\").sort_values(by = \"price\", ascending = False).head(1)[\"price\"]\n",
    "\n",
    "print(f\"You entered the brand {input_brand}, it's price ranges between {minimum_price.iloc[0]} and {maximum_price.iloc[0]} USD\")\n"
   ]
  },
  {
   "cell_type": "markdown",
   "metadata": {},
   "source": [
    "**T3:** Ask the user to input a brand, then print the number of cars in the dataset for that brand, and all attributes for a random sample car of that brand.\n",
    "<details>\n",
    "<summary>Solution</summary>\n",
    "<br>\n",
    "&nbsp;&nbsp;&nbsp;<b>Example:</b><br>\n",
    "&nbsp;&nbsp;&nbsp;Input the name of a brand: mazda<br>\n",
    "&nbsp;&nbsp;&nbsp;There are 17 cars of brand 'mazda' in the dataset.<br><br>\n",
    "&nbsp;&nbsp;&nbsp;Here is the data for a random 'mazda' car:<br>\n",
    "&nbsp;&nbsp;&nbsp;aspiration = std<br>\n",
    "&nbsp;&nbsp;&nbsp;body-style = sedan<br>\n",
    "&nbsp;&nbsp;&nbsp;bore = 3.03<br>\n",
    "&nbsp;&nbsp;&nbsp;city-mpg = 31<br>\n",
    "&nbsp;&nbsp;&nbsp;compression-ratio = 9.0<br>\n",
    "&nbsp;&nbsp;&nbsp;curb-weight = 1945<br>\n",
    "&nbsp;&nbsp;&nbsp;drive-wheels = fwd<br>\n",
    "&nbsp;&nbsp;&nbsp;engine-location = front<br>\n",
    "&nbsp;&nbsp;&nbsp;engine-size = 91<br>\n",
    "&nbsp;&nbsp;&nbsp;engine-type = ohc<br>\n",
    "&nbsp;&nbsp;&nbsp;fuel-system = 2bbl<br>\n",
    "&nbsp;&nbsp;&nbsp;fuel-type = gas<br>\n",
    "&nbsp;&nbsp;&nbsp;height = 54.1<br>\n",
    "&nbsp;&nbsp;&nbsp;highway-mpg = 38<br>\n",
    "&nbsp;&nbsp;&nbsp;horsepower = 68.0<br>\n",
    "&nbsp;&nbsp;&nbsp;length = 166.8<br>\n",
    "&nbsp;&nbsp;&nbsp;make = mazda<br>\n",
    "&nbsp;&nbsp;&nbsp;normalized-losses = 113.0<br>\n",
    "&nbsp;&nbsp;&nbsp;num-of-cylinders = four<br>\n",
    "&nbsp;&nbsp;&nbsp;num-of-doors = four<br>\n",
    "&nbsp;&nbsp;&nbsp;peak-rpm = 5000.0<br>\n",
    "&nbsp;&nbsp;&nbsp;price = 6695.0<br>\n",
    "&nbsp;&nbsp;&nbsp;stroke = 3.15<br>\n",
    "&nbsp;&nbsp;&nbsp;symboling = 1<br>\n",
    "&nbsp;&nbsp;&nbsp;wheel-base = 93.1<br>\n",
    "&nbsp;&nbsp;&nbsp;width = 64.2<br>\n",
    "</details>"
   ]
  },
  {
   "cell_type": "code",
   "execution_count": 28,
   "metadata": {},
   "outputs": [
    {
     "data": {
      "text/plain": [
       "11"
      ]
     },
     "execution_count": 28,
     "metadata": {},
     "output_type": "execute_result"
    }
   ],
   "source": [
    "# Extra träning (svar 2)\n",
    "\n",
    "input_brand = input(\"Please input a brand: \").lower()\n",
    "\n",
    "number_of_cars = autos[autos[\"make\"] == input_brand]\n",
    "\n",
    "# Number of cars, several ways\n",
    "len(number_of_cars)   # checking the amount of rows in the dataframe usin len method\n",
    "\n",
    "number_of_cars.value_counts().sum()  #  or\n",
    "number_of_cars.value_counts(\"make\").iloc[0]  #  \n",
    "number_of_cars[\"make\"].value_counts().iloc[0]   \n",
    "\n",
    "\n"
   ]
  },
  {
   "cell_type": "code",
   "execution_count": null,
   "metadata": {},
   "outputs": [],
   "source": [
    "input_brand = input(\"Please input a brand: \").lower()\n",
    "\n",
    "# amount_cars_df = autos[autos[\"make\"] == 'volvo'].sum()                                   # Den här summerar allt i hela dataframe:t\n",
    "\n",
    "amount_cars_boolean = (autos['make'] == input_brand).sum()                            # Den här summerar enbart True i boolean indexen                                            \n",
    "random_sample = autos[autos[\"make\"] == f\"{input_brand}\"].iloc[np.random.randint(0, amount_cars_boolean-1)]    # Indexerar mellan 0 och max antal bilar i det märket minus 1 för att få rätt indexerings intervall\n",
    "\n",
    "print(f\"You entered the brand {input_brand}. Here are specifications for a random sample of this brand from the dataset:\\n{random_sample}\")\n"
   ]
  },
  {
   "cell_type": "markdown",
   "metadata": {},
   "source": [
    "**T4:** Ask the user to input a brand, then export all cars of that brand to a .csv file with the same name as the brand.\n",
    "\n",
    "<details>\n",
    "<summary>Solution</summary>\n",
    "<br>\n",
    "&nbsp;&nbsp;&nbsp;<b>Example 1:</b><br>\n",
    "&nbsp;&nbsp;&nbsp;Input the name of a brand: volkswagen<br>\n",
    "&nbsp;&nbsp;&nbsp;Exported 12 cars to 'volkswagen.csv'<br>\n",
    "<br>\n",
    "&nbsp;&nbsp;&nbsp;<b>Example 2:</b><br>\n",
    "&nbsp;&nbsp;&nbsp;Input the name of a brand: tesla<br>\n",
    "&nbsp;&nbsp;&nbsp;The brand 'tesla' does not exists in the dataset.<br>\n",
    "</details>"
   ]
  },
  {
   "cell_type": "code",
   "execution_count": 30,
   "metadata": {},
   "outputs": [],
   "source": [
    "# Extra träning (svar 2)\n",
    "\n",
    "input_brand = input(\"Please input a brand: \").lower()\n",
    "\n",
    "input_brand_list = autos[autos[\"make\"]== input_brand ]\n",
    "\n",
    "input_brand_list.to_csv(f\"..\\\\Data\\\\{input_brand}.csv\", index = None)   # Index default är True, skriver radnummer, "
   ]
  },
  {
   "cell_type": "code",
   "execution_count": null,
   "metadata": {},
   "outputs": [],
   "source": [
    "input_brand = input(\"Please input a brand: \").lower()    # Receiving the input value\n",
    "\n",
    "input_list = autos[autos[\"make\"] == f'{input_brand}']    # Filtering to have the rows with values equal to input_brand (query)\n",
    "\n",
    "input_list.to_csv(f\"..\\\\Data\\\\{input_brand}.csv\", index = None)    # reading data to csv, the file is created since it doesnt exist one with that name\n"
   ]
  }
 ],
 "metadata": {
  "kernelspec": {
   "display_name": "Databehandling-AI23-toKGAHu0",
   "language": "python",
   "name": "python3"
  },
  "language_info": {
   "codemirror_mode": {
    "name": "ipython",
    "version": 3
   },
   "file_extension": ".py",
   "mimetype": "text/x-python",
   "name": "python",
   "nbconvert_exporter": "python",
   "pygments_lexer": "ipython3",
   "version": "3.11.5"
  }
 },
 "nbformat": 4,
 "nbformat_minor": 2
}
