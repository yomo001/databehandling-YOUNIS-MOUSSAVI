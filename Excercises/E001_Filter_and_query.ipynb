{
 "cells": [
  {
   "cell_type": "markdown",
   "metadata": {},
   "source": [
    "## Exercises: Filter and query data"
   ]
  },
  {
   "cell_type": "code",
   "execution_count": 79,
   "metadata": {},
   "outputs": [],
   "source": [
    "import pandas as pd\n",
    "autos = pd.read_json(\"../Data/autos.json\")"
   ]
  },
  {
   "cell_type": "markdown",
   "metadata": {},
   "source": [
    "**Use the \"autos\" dataset to answer the following questions:**"
   ]
  },
  {
   "cell_type": "markdown",
   "metadata": {},
   "source": [
    "**Q1:** How many cars from Jaguar are in the dataset, and what is the price of the most expensive one?\n",
    "\n",
    "<details>\n",
    "<summary>Answer</summary>\n",
    "<br>\n",
    "&nbsp;&nbsp;&nbsp;count=3\n",
    "&nbsp;&nbsp;&nbsp;price=36000.0\n",
    "</details>"
   ]
  },
  {
   "cell_type": "code",
   "execution_count": 80,
   "metadata": {},
   "outputs": [
    {
     "data": {
      "text/html": [
       "<div>\n",
       "<style scoped>\n",
       "    .dataframe tbody tr th:only-of-type {\n",
       "        vertical-align: middle;\n",
       "    }\n",
       "\n",
       "    .dataframe tbody tr th {\n",
       "        vertical-align: top;\n",
       "    }\n",
       "\n",
       "    .dataframe thead th {\n",
       "        text-align: right;\n",
       "    }\n",
       "</style>\n",
       "<table border=\"1\" class=\"dataframe\">\n",
       "  <thead>\n",
       "    <tr style=\"text-align: right;\">\n",
       "      <th></th>\n",
       "      <th>aspiration</th>\n",
       "      <th>body-style</th>\n",
       "      <th>bore</th>\n",
       "      <th>city-mpg</th>\n",
       "      <th>compression-ratio</th>\n",
       "      <th>curb-weight</th>\n",
       "      <th>drive-wheels</th>\n",
       "      <th>engine-location</th>\n",
       "      <th>engine-size</th>\n",
       "      <th>engine-type</th>\n",
       "      <th>...</th>\n",
       "      <th>make</th>\n",
       "      <th>normalized-losses</th>\n",
       "      <th>num-of-cylinders</th>\n",
       "      <th>num-of-doors</th>\n",
       "      <th>peak-rpm</th>\n",
       "      <th>price</th>\n",
       "      <th>stroke</th>\n",
       "      <th>symboling</th>\n",
       "      <th>wheel-base</th>\n",
       "      <th>width</th>\n",
       "    </tr>\n",
       "  </thead>\n",
       "  <tbody>\n",
       "    <tr>\n",
       "      <th>49</th>\n",
       "      <td>std</td>\n",
       "      <td>sedan</td>\n",
       "      <td>3.54</td>\n",
       "      <td>13</td>\n",
       "      <td>11.5</td>\n",
       "      <td>3950</td>\n",
       "      <td>rwd</td>\n",
       "      <td>front</td>\n",
       "      <td>326</td>\n",
       "      <td>ohcv</td>\n",
       "      <td>...</td>\n",
       "      <td>jaguar</td>\n",
       "      <td>NaN</td>\n",
       "      <td>twelve</td>\n",
       "      <td>two</td>\n",
       "      <td>5000.0</td>\n",
       "      <td>36000.0</td>\n",
       "      <td>2.76</td>\n",
       "      <td>0</td>\n",
       "      <td>102.0</td>\n",
       "      <td>70.6</td>\n",
       "    </tr>\n",
       "    <tr>\n",
       "      <th>48</th>\n",
       "      <td>std</td>\n",
       "      <td>sedan</td>\n",
       "      <td>3.63</td>\n",
       "      <td>15</td>\n",
       "      <td>8.1</td>\n",
       "      <td>4066</td>\n",
       "      <td>rwd</td>\n",
       "      <td>front</td>\n",
       "      <td>258</td>\n",
       "      <td>dohc</td>\n",
       "      <td>...</td>\n",
       "      <td>jaguar</td>\n",
       "      <td>NaN</td>\n",
       "      <td>six</td>\n",
       "      <td>four</td>\n",
       "      <td>4750.0</td>\n",
       "      <td>35550.0</td>\n",
       "      <td>4.17</td>\n",
       "      <td>0</td>\n",
       "      <td>113.0</td>\n",
       "      <td>69.6</td>\n",
       "    </tr>\n",
       "    <tr>\n",
       "      <th>47</th>\n",
       "      <td>std</td>\n",
       "      <td>sedan</td>\n",
       "      <td>3.63</td>\n",
       "      <td>15</td>\n",
       "      <td>8.1</td>\n",
       "      <td>4066</td>\n",
       "      <td>rwd</td>\n",
       "      <td>front</td>\n",
       "      <td>258</td>\n",
       "      <td>dohc</td>\n",
       "      <td>...</td>\n",
       "      <td>jaguar</td>\n",
       "      <td>145.0</td>\n",
       "      <td>six</td>\n",
       "      <td>four</td>\n",
       "      <td>4750.0</td>\n",
       "      <td>32250.0</td>\n",
       "      <td>4.17</td>\n",
       "      <td>0</td>\n",
       "      <td>113.0</td>\n",
       "      <td>69.6</td>\n",
       "    </tr>\n",
       "  </tbody>\n",
       "</table>\n",
       "<p>3 rows × 26 columns</p>\n",
       "</div>"
      ],
      "text/plain": [
       "   aspiration body-style  bore  city-mpg  compression-ratio  curb-weight  \\\n",
       "49        std      sedan  3.54        13               11.5         3950   \n",
       "48        std      sedan  3.63        15                8.1         4066   \n",
       "47        std      sedan  3.63        15                8.1         4066   \n",
       "\n",
       "   drive-wheels engine-location  engine-size engine-type  ...    make  \\\n",
       "49          rwd           front          326        ohcv  ...  jaguar   \n",
       "48          rwd           front          258        dohc  ...  jaguar   \n",
       "47          rwd           front          258        dohc  ...  jaguar   \n",
       "\n",
       "   normalized-losses  num-of-cylinders  num-of-doors  peak-rpm    price  \\\n",
       "49               NaN            twelve           two    5000.0  36000.0   \n",
       "48               NaN               six          four    4750.0  35550.0   \n",
       "47             145.0               six          four    4750.0  32250.0   \n",
       "\n",
       "   stroke  symboling wheel-base width  \n",
       "49   2.76          0      102.0  70.6  \n",
       "48   4.17          0      113.0  69.6  \n",
       "47   4.17          0      113.0  69.6  \n",
       "\n",
       "[3 rows x 26 columns]"
      ]
     },
     "execution_count": 80,
     "metadata": {},
     "output_type": "execute_result"
    }
   ],
   "source": [
    "# autos[autos[\"make\"] == \"jaguar\"]               # Filtrerar fram för att få alla jaguar\n",
    "# autos.query(\"make == 'jaguar'\")                # Filtrerar fram men med query\n",
    "\n",
    "# autos[autos[\"make\"] == \"jaguar\"].sort_values(by = [\"price\"], ascending = False)       # Sorterar i nedåtgående ordning på pris\n",
    "\n",
    "jaguar_cars = (autos[\"make\"] == \"jaguar\").sum()    # Här räknas summan ut via \"boolean series\" då sum() ej funkar på listan ovan\n",
    "jaguar_cars\n",
    "\n",
    "autos.query(\"make == 'jaguar'\").sort_values(by = [\"price\"], ascending = False)        # Sorterar i nedåtgående ordning på pris via query"
   ]
  },
  {
   "cell_type": "markdown",
   "metadata": {},
   "source": [
    "**Q2:** How many cars from Toyota are in the dataset, and what is the price of the most expensive one?\n",
    "\n",
    "<details>\n",
    "<summary>Answer</summary>\n",
    "<br>\n",
    "&nbsp;&nbsp;&nbsp;count=32\n",
    "&nbsp;&nbsp;&nbsp;price=17669.0\n",
    "</details>"
   ]
  },
  {
   "cell_type": "code",
   "execution_count": 81,
   "metadata": {},
   "outputs": [
    {
     "data": {
      "text/html": [
       "<div>\n",
       "<style scoped>\n",
       "    .dataframe tbody tr th:only-of-type {\n",
       "        vertical-align: middle;\n",
       "    }\n",
       "\n",
       "    .dataframe tbody tr th {\n",
       "        vertical-align: top;\n",
       "    }\n",
       "\n",
       "    .dataframe thead th {\n",
       "        text-align: right;\n",
       "    }\n",
       "</style>\n",
       "<table border=\"1\" class=\"dataframe\">\n",
       "  <thead>\n",
       "    <tr style=\"text-align: right;\">\n",
       "      <th></th>\n",
       "      <th>aspiration</th>\n",
       "      <th>body-style</th>\n",
       "      <th>bore</th>\n",
       "      <th>city-mpg</th>\n",
       "      <th>compression-ratio</th>\n",
       "      <th>curb-weight</th>\n",
       "      <th>drive-wheels</th>\n",
       "      <th>engine-location</th>\n",
       "      <th>engine-size</th>\n",
       "      <th>engine-type</th>\n",
       "      <th>...</th>\n",
       "      <th>make</th>\n",
       "      <th>normalized-losses</th>\n",
       "      <th>num-of-cylinders</th>\n",
       "      <th>num-of-doors</th>\n",
       "      <th>peak-rpm</th>\n",
       "      <th>price</th>\n",
       "      <th>stroke</th>\n",
       "      <th>symboling</th>\n",
       "      <th>wheel-base</th>\n",
       "      <th>width</th>\n",
       "    </tr>\n",
       "  </thead>\n",
       "  <tbody>\n",
       "    <tr>\n",
       "      <th>172</th>\n",
       "      <td>std</td>\n",
       "      <td>convertible</td>\n",
       "      <td>3.62</td>\n",
       "      <td>24</td>\n",
       "      <td>9.3</td>\n",
       "      <td>2975</td>\n",
       "      <td>rwd</td>\n",
       "      <td>front</td>\n",
       "      <td>146</td>\n",
       "      <td>ohc</td>\n",
       "      <td>...</td>\n",
       "      <td>toyota</td>\n",
       "      <td>134.0</td>\n",
       "      <td>four</td>\n",
       "      <td>two</td>\n",
       "      <td>4800.0</td>\n",
       "      <td>17669.0</td>\n",
       "      <td>3.5</td>\n",
       "      <td>2</td>\n",
       "      <td>98.4</td>\n",
       "      <td>65.6</td>\n",
       "    </tr>\n",
       "  </tbody>\n",
       "</table>\n",
       "<p>1 rows × 26 columns</p>\n",
       "</div>"
      ],
      "text/plain": [
       "    aspiration   body-style  bore  city-mpg  compression-ratio  curb-weight  \\\n",
       "172        std  convertible  3.62        24                9.3         2975   \n",
       "\n",
       "    drive-wheels engine-location  engine-size engine-type  ...    make  \\\n",
       "172          rwd           front          146         ohc  ...  toyota   \n",
       "\n",
       "    normalized-losses  num-of-cylinders  num-of-doors  peak-rpm    price  \\\n",
       "172             134.0              four           two    4800.0  17669.0   \n",
       "\n",
       "    stroke  symboling wheel-base width  \n",
       "172    3.5          2       98.4  65.6  \n",
       "\n",
       "[1 rows x 26 columns]"
      ]
     },
     "execution_count": 81,
     "metadata": {},
     "output_type": "execute_result"
    }
   ],
   "source": [
    "toyota_cars = (autos[\"make\"] == \"toyota\").sum()\n",
    "toyota_cars\n",
    "\n",
    "autos.query(\"make == 'toyota'\").sort_values(by = [\"price\"], ascending = False).head(1)"
   ]
  },
  {
   "cell_type": "markdown",
   "metadata": {},
   "source": [
    "**Q3:** What is the length, width and height of the most expensive car in the entire dataset?\n",
    "\n",
    "<details>\n",
    "<summary>Answer</summary>\n",
    "<br>&nbsp;&nbsp;&nbsp;length=199.2\n",
    "&nbsp;&nbsp;&nbsp;width=72.0\n",
    "&nbsp;&nbsp;&nbsp;height=55.4\n",
    "</details>"
   ]
  },
  {
   "cell_type": "code",
   "execution_count": 82,
   "metadata": {},
   "outputs": [
    {
     "name": "stdout",
     "output_type": "stream",
     "text": [
      "Length: 199.2\n",
      "Width: 72.0\n",
      "Height: 55.4\n"
     ]
    },
    {
     "data": {
      "text/html": [
       "<div>\n",
       "<style scoped>\n",
       "    .dataframe tbody tr th:only-of-type {\n",
       "        vertical-align: middle;\n",
       "    }\n",
       "\n",
       "    .dataframe tbody tr th {\n",
       "        vertical-align: top;\n",
       "    }\n",
       "\n",
       "    .dataframe thead th {\n",
       "        text-align: right;\n",
       "    }\n",
       "</style>\n",
       "<table border=\"1\" class=\"dataframe\">\n",
       "  <thead>\n",
       "    <tr style=\"text-align: right;\">\n",
       "      <th></th>\n",
       "      <th>length</th>\n",
       "      <th>width</th>\n",
       "      <th>height</th>\n",
       "    </tr>\n",
       "  </thead>\n",
       "  <tbody>\n",
       "    <tr>\n",
       "      <th>74</th>\n",
       "      <td>199.2</td>\n",
       "      <td>72.0</td>\n",
       "      <td>55.4</td>\n",
       "    </tr>\n",
       "  </tbody>\n",
       "</table>\n",
       "</div>"
      ],
      "text/plain": [
       "    length  width  height\n",
       "74   199.2   72.0    55.4"
      ]
     },
     "execution_count": 82,
     "metadata": {},
     "output_type": "execute_result"
    }
   ],
   "source": [
    "# autos_sorted2 = autos.sort_values(by = [\"price\"], ascending = False).head(1)   # Med detta hade man kunnat direkt ta ut längt osv för denna variabel då vi enbart tar fram raden längst upp\n",
    "autos_sorted = autos.sort_values(by = [\"price\"], ascending = False)\n",
    "\n",
    "# Retrieve the first row (most expensive car)\n",
    "most_expensive_car = autos_sorted.iloc[0]\n",
    "\n",
    "# Extract the length, width, and height of the most expensive car\n",
    "length = most_expensive_car[\"length\"]\n",
    "width = most_expensive_car[\"width\"]\n",
    "height = most_expensive_car[\"height\"]\n",
    "\n",
    "\n",
    "print(\"Length:\", length)\n",
    "print(\"Width:\", width)\n",
    "print(\"Height:\", height)\n",
    "\n",
    "\n",
    "# Om man vill skapa en dataframe med de tre värdena direkt\n",
    "\n",
    "autos_sorted3 = autos.sort_values(by =\"price\", ascending = False)[[\"length\", \"width\", \"height\"]]      # Här kan kolumnerna skrivas direkt på slutet, inget komma då vi inte filtrerar raderna med iloc/loc osv\n",
    "\n",
    "autos_sorted3.head(1)\n",
    "\n",
    "\n",
    "## Anledning till varför man inte ska ange autos_sorted3 = autos[autos[osv]]\n",
    "\n",
    "# autos.sort_values(by=\"price\", ascending=False): This part of the code sorts the DataFrame autos based on the \"price\" column in descending order and returns a new sorted DataFrame. Let's call this sorted DataFrame \"autos_sorted.\"\n",
    "# autos[autos_sorted[[\"length\", \"width\", \"height\"]]]: In this part of the code, \n",
    "# you are trying to use \"autos_sorted\" as a boolean index to filter rows \n",
    "# from the original DataFrame \"autos.\" However, this usage doesn't align with \n",
    "# how boolean indexing is typically done in pandas."
   ]
  },
  {
   "cell_type": "markdown",
   "metadata": {},
   "source": [
    "**Q4:** What is the lowest price per horsepower in the dataset, and what brand (\"make\") is that car?\n",
    "\n",
    "<details>\n",
    "<summary>Answer</summary>\n",
    "<br>\n",
    "&nbsp;&nbsp;&nbsp;price per horsepower=72.84\n",
    "&nbsp;&nbsp;&nbsp;brand=Toyota\n",
    "</details>"
   ]
  },
  {
   "cell_type": "code",
   "execution_count": 83,
   "metadata": {},
   "outputs": [
    {
     "data": {
      "text/html": [
       "<div>\n",
       "<style scoped>\n",
       "    .dataframe tbody tr th:only-of-type {\n",
       "        vertical-align: middle;\n",
       "    }\n",
       "\n",
       "    .dataframe tbody tr th {\n",
       "        vertical-align: top;\n",
       "    }\n",
       "\n",
       "    .dataframe thead th {\n",
       "        text-align: right;\n",
       "    }\n",
       "</style>\n",
       "<table border=\"1\" class=\"dataframe\">\n",
       "  <thead>\n",
       "    <tr style=\"text-align: right;\">\n",
       "      <th></th>\n",
       "      <th>make</th>\n",
       "      <th>price_per_horsepower</th>\n",
       "    </tr>\n",
       "  </thead>\n",
       "  <tbody>\n",
       "    <tr>\n",
       "      <th>167</th>\n",
       "      <td>toyota</td>\n",
       "      <td>72.836207</td>\n",
       "    </tr>\n",
       "  </tbody>\n",
       "</table>\n",
       "</div>"
      ],
      "text/plain": [
       "       make  price_per_horsepower\n",
       "167  toyota             72.836207"
      ]
     },
     "execution_count": 83,
     "metadata": {},
     "output_type": "execute_result"
    }
   ],
   "source": [
    "autos.head()\n",
    "\n",
    "autos[[\"horsepower\", \"price\"]]     # Create a datafrmae with only horsepower and price. \n",
    "autos[\"horsepower\"]                # Create a Series by only extracting the horsepower column, since it is done as a list within list (2D)\n",
    "autos[[\"horsepower\"]]              # Create a Dataframe by only extracting the horsepower column, since it is done as a list within list (2D)\n",
    "\n",
    "autos[\"price_per_horsepower\"] = autos[\"price\"]/autos[\"horsepower\"]     # all rows perform the operation\n",
    "\n",
    "autos.sort_values(by = \"price_per_horsepower\").head(1)[[\"make\", \"price_per_horsepower\"]]   # First the rows are sorted, then row at the top is chosen, then last part chooses the columns.\n",
    "\n",
    "# autos.info()   # I see NaN values\n",
    "\n",
    "# autos.loc[autos['price_per_horsepower'].isna(), [\"price\", \"horsepower\"]]   # Too see what columns made the NaN values. filter on rows with values NaN\n",
    "# in price_per_horsepower column, and to see columns make and price because the row NaN values are based on values from these columns\n",
    "\n",
    "# As above but sorting for one feature in the rows:\n",
    "# autos[autos[\"make\"] == \"volvo\"].sort_values(by = \"price_per_horsepower\")[[\"make\", \"price_per_horsepower\"]]\n",
    "\n",
    "# For info and education about filtering rows and columns\n",
    "# autos.loc[autos['make'] == 'toyota', ['make', 'price_per_horsepower']]   # Left part of the comma is filtering the rows to include only those where make == toyota, \n",
    "                                                                         # and the right side of the comma selects the columns\n",
    "\n"
   ]
  },
  {
   "cell_type": "markdown",
   "metadata": {},
   "source": [
    "**Q5:** How many of the cars in the dataset has as many cylinders as they have doors?\n",
    "\n",
    "<details>\n",
    "<summary>Answer</summary>\n",
    "<br>\n",
    "&nbsp;&nbsp;&nbsp;cars=95\n",
    "</details>"
   ]
  },
  {
   "cell_type": "code",
   "execution_count": 84,
   "metadata": {},
   "outputs": [
    {
     "data": {
      "text/plain": [
       "95"
      ]
     },
     "execution_count": 84,
     "metadata": {},
     "output_type": "execute_result"
    }
   ],
   "source": [
    "autos[autos[\"num-of-cylinders\"] == autos[\"num-of-doors\"]]      # Creates a dataframe filtering all rows of cylinders and doors are equal\n",
    "                                                               # boolean indexing\n",
    "# Till skilland från:\n",
    "# autos[\"price\"]    # här används column indexing\n",
    "# Men i den första används ' boolean indexing' som returnerar false och true, \n",
    "# Sedan används dessa för att indexera original DataFrame, väljandes de rader med True/False\n",
    "\n",
    "# autos[autos[\"num-of-cylinders\"] == autos[\"num-of-doors\"]].sum()   # Obs här appliceras sum på hela dataframet och ger tillbara series med summor\n",
    "\n",
    "count_of_true_rows = (autos[\"num-of-cylinders\"] == autos[\"num-of-doors\"]).sum()    # måste assignas till en variabel om man vill få antal True\n",
    "\n",
    "count_of_true_rows\n",
    "\n"
   ]
  },
  {
   "cell_type": "markdown",
   "metadata": {},
   "source": [
    "**Use the \"autos\" dataset and write python code to solve the following tasks:**"
   ]
  },
  {
   "cell_type": "markdown",
   "metadata": {},
   "source": [
    "**T1:** Print a string to inform the user of the price difference between the cheapest and the most expensive car in the dataset.\n",
    "\n",
    "<details>\n",
    "<summary>Solution</summary>\n",
    "<br>\n",
    "&nbsp;&nbsp;&nbsp;<b>Example:</b><br>\n",
    "&nbsp;&nbsp;&nbsp;The price difference between the cheapest and the most expensive car is 40282.0\n",
    "</details>"
   ]
  },
  {
   "cell_type": "code",
   "execution_count": 92,
   "metadata": {},
   "outputs": [
    {
     "name": "stdout",
     "output_type": "stream",
     "text": [
      "The difference between the most expensive and the cheapest car is 40282.0 USD\n"
     ]
    }
   ],
   "source": [
    "cheapest_car = autos.sort_values(by = \"price\").head(1)[\"price\"]\n",
    "most_expensive_car = autos.sort_values(by = \"price\", ascending = False).head(1)[\"price\"]\n",
    "\n",
    "# cheapest_car.iloc[0]    # Get the value in the series, otherwise number of index is also obtained and operation not possible\n",
    "# cheapest_car = autos.sort_values(by = \"price\").head(1)[\"price\"].iloc[0]    # This is also possible\n",
    "\n",
    "\n",
    "print(f\"The difference between the most expensive and the cheapest car is {most_expensive_car.iloc[0]- cheapest_car.iloc[0]} USD\")\n",
    "\n",
    "\n"
   ]
  },
  {
   "cell_type": "markdown",
   "metadata": {},
   "source": [
    "**T2:** Ask the user to input a brand, then print the price range for that brand.\n",
    "\n",
    "<details>\n",
    "<summary>Solution</summary>\n",
    "<br>\n",
    "&nbsp;&nbsp;&nbsp;<b>Example 1:</b><br>\n",
    "&nbsp;&nbsp;&nbsp;Input the name of a brand: volvo<br>\n",
    "&nbsp;&nbsp;&nbsp;The prices for cars of brand 'volvo' ranges from 12940.0 to 22625.0<br>\n",
    "<br>\n",
    "&nbsp;&nbsp;&nbsp;<b>Example 2:</b><br>\n",
    "&nbsp;&nbsp;&nbsp;Input the name of a brand: toyota<br>\n",
    "&nbsp;&nbsp;&nbsp;The prices for cars of brand 'toyota' ranges from 5348.0 to 17669.0<br>\n",
    "<br>\n",
    "&nbsp;&nbsp;&nbsp;<b>Example 3:</b><br>\n",
    "&nbsp;&nbsp;&nbsp;Input the name of a brand: tesla<br>\n",
    "&nbsp;&nbsp;&nbsp;The brand 'tesla' does not exists in the dataset.<br>\n",
    "</details>"
   ]
  },
  {
   "cell_type": "code",
   "execution_count": null,
   "metadata": {},
   "outputs": [],
   "source": []
  },
  {
   "cell_type": "markdown",
   "metadata": {},
   "source": [
    "**T3:** Ask the user to input a brand, then print the number of cars in the dataset for that brand, and all attributes for a random sample car of that brand.\n",
    "<details>\n",
    "<summary>Solution</summary>\n",
    "<br>\n",
    "&nbsp;&nbsp;&nbsp;<b>Example:</b><br>\n",
    "&nbsp;&nbsp;&nbsp;Input the name of a brand: mazda<br>\n",
    "&nbsp;&nbsp;&nbsp;There are 17 cars of brand 'mazda' in the dataset.<br><br>\n",
    "&nbsp;&nbsp;&nbsp;Here is the data for a random 'mazda' car:<br>\n",
    "&nbsp;&nbsp;&nbsp;aspiration = std<br>\n",
    "&nbsp;&nbsp;&nbsp;body-style = sedan<br>\n",
    "&nbsp;&nbsp;&nbsp;bore = 3.03<br>\n",
    "&nbsp;&nbsp;&nbsp;city-mpg = 31<br>\n",
    "&nbsp;&nbsp;&nbsp;compression-ratio = 9.0<br>\n",
    "&nbsp;&nbsp;&nbsp;curb-weight = 1945<br>\n",
    "&nbsp;&nbsp;&nbsp;drive-wheels = fwd<br>\n",
    "&nbsp;&nbsp;&nbsp;engine-location = front<br>\n",
    "&nbsp;&nbsp;&nbsp;engine-size = 91<br>\n",
    "&nbsp;&nbsp;&nbsp;engine-type = ohc<br>\n",
    "&nbsp;&nbsp;&nbsp;fuel-system = 2bbl<br>\n",
    "&nbsp;&nbsp;&nbsp;fuel-type = gas<br>\n",
    "&nbsp;&nbsp;&nbsp;height = 54.1<br>\n",
    "&nbsp;&nbsp;&nbsp;highway-mpg = 38<br>\n",
    "&nbsp;&nbsp;&nbsp;horsepower = 68.0<br>\n",
    "&nbsp;&nbsp;&nbsp;length = 166.8<br>\n",
    "&nbsp;&nbsp;&nbsp;make = mazda<br>\n",
    "&nbsp;&nbsp;&nbsp;normalized-losses = 113.0<br>\n",
    "&nbsp;&nbsp;&nbsp;num-of-cylinders = four<br>\n",
    "&nbsp;&nbsp;&nbsp;num-of-doors = four<br>\n",
    "&nbsp;&nbsp;&nbsp;peak-rpm = 5000.0<br>\n",
    "&nbsp;&nbsp;&nbsp;price = 6695.0<br>\n",
    "&nbsp;&nbsp;&nbsp;stroke = 3.15<br>\n",
    "&nbsp;&nbsp;&nbsp;symboling = 1<br>\n",
    "&nbsp;&nbsp;&nbsp;wheel-base = 93.1<br>\n",
    "&nbsp;&nbsp;&nbsp;width = 64.2<br>\n",
    "</details>"
   ]
  },
  {
   "cell_type": "code",
   "execution_count": null,
   "metadata": {},
   "outputs": [],
   "source": []
  },
  {
   "cell_type": "markdown",
   "metadata": {},
   "source": [
    "**T4:** Ask the user to input a brand, then export all cars of that brand to a .csv file with the same name as the brand.\n",
    "\n",
    "<details>\n",
    "<summary>Solution</summary>\n",
    "<br>\n",
    "&nbsp;&nbsp;&nbsp;<b>Example 1:</b><br>\n",
    "&nbsp;&nbsp;&nbsp;Input the name of a brand: volkswagen<br>\n",
    "&nbsp;&nbsp;&nbsp;Exported 12 cars to 'volkswagen.csv'<br>\n",
    "<br>\n",
    "&nbsp;&nbsp;&nbsp;<b>Example 2:</b><br>\n",
    "&nbsp;&nbsp;&nbsp;Input the name of a brand: tesla<br>\n",
    "&nbsp;&nbsp;&nbsp;The brand 'tesla' does not exists in the dataset.<br>\n",
    "</details>"
   ]
  },
  {
   "cell_type": "code",
   "execution_count": null,
   "metadata": {},
   "outputs": [],
   "source": []
  }
 ],
 "metadata": {
  "kernelspec": {
   "display_name": "Databehandling-AI23-toKGAHu0",
   "language": "python",
   "name": "python3"
  },
  "language_info": {
   "codemirror_mode": {
    "name": "ipython",
    "version": 3
   },
   "file_extension": ".py",
   "mimetype": "text/x-python",
   "name": "python",
   "nbconvert_exporter": "python",
   "pygments_lexer": "ipython3",
   "version": "3.11.5"
  }
 },
 "nbformat": 4,
 "nbformat_minor": 2
}
