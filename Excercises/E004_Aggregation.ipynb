{
 "cells": [
  {
   "cell_type": "markdown",
   "metadata": {},
   "source": [
    "## Exercises: Group and aggregate"
   ]
  },
  {
   "cell_type": "code",
   "execution_count": null,
   "metadata": {},
   "outputs": [],
   "source": []
  },
  {
   "cell_type": "code",
   "execution_count": 1,
   "metadata": {},
   "outputs": [
    {
     "data": {
      "text/html": [
       "<div>\n",
       "<style scoped>\n",
       "    .dataframe tbody tr th:only-of-type {\n",
       "        vertical-align: middle;\n",
       "    }\n",
       "\n",
       "    .dataframe tbody tr th {\n",
       "        vertical-align: top;\n",
       "    }\n",
       "\n",
       "    .dataframe thead th {\n",
       "        text-align: right;\n",
       "    }\n",
       "</style>\n",
       "<table border=\"1\" class=\"dataframe\">\n",
       "  <thead>\n",
       "    <tr style=\"text-align: right;\">\n",
       "      <th></th>\n",
       "      <th>survived</th>\n",
       "      <th>pclass</th>\n",
       "      <th>sex</th>\n",
       "      <th>age</th>\n",
       "      <th>sibsp</th>\n",
       "      <th>parch</th>\n",
       "      <th>fare</th>\n",
       "      <th>embarked</th>\n",
       "      <th>class</th>\n",
       "      <th>who</th>\n",
       "      <th>adult_male</th>\n",
       "      <th>deck</th>\n",
       "      <th>embark_town</th>\n",
       "      <th>alive</th>\n",
       "      <th>alone</th>\n",
       "    </tr>\n",
       "  </thead>\n",
       "  <tbody>\n",
       "    <tr>\n",
       "      <th>0</th>\n",
       "      <td>0</td>\n",
       "      <td>3</td>\n",
       "      <td>male</td>\n",
       "      <td>22.0</td>\n",
       "      <td>1</td>\n",
       "      <td>0</td>\n",
       "      <td>7.2500</td>\n",
       "      <td>S</td>\n",
       "      <td>Third</td>\n",
       "      <td>man</td>\n",
       "      <td>True</td>\n",
       "      <td>NaN</td>\n",
       "      <td>Southampton</td>\n",
       "      <td>no</td>\n",
       "      <td>False</td>\n",
       "    </tr>\n",
       "    <tr>\n",
       "      <th>1</th>\n",
       "      <td>1</td>\n",
       "      <td>1</td>\n",
       "      <td>female</td>\n",
       "      <td>38.0</td>\n",
       "      <td>1</td>\n",
       "      <td>0</td>\n",
       "      <td>71.2833</td>\n",
       "      <td>C</td>\n",
       "      <td>First</td>\n",
       "      <td>woman</td>\n",
       "      <td>False</td>\n",
       "      <td>C</td>\n",
       "      <td>Cherbourg</td>\n",
       "      <td>yes</td>\n",
       "      <td>False</td>\n",
       "    </tr>\n",
       "    <tr>\n",
       "      <th>2</th>\n",
       "      <td>1</td>\n",
       "      <td>3</td>\n",
       "      <td>female</td>\n",
       "      <td>26.0</td>\n",
       "      <td>0</td>\n",
       "      <td>0</td>\n",
       "      <td>7.9250</td>\n",
       "      <td>S</td>\n",
       "      <td>Third</td>\n",
       "      <td>woman</td>\n",
       "      <td>False</td>\n",
       "      <td>NaN</td>\n",
       "      <td>Southampton</td>\n",
       "      <td>yes</td>\n",
       "      <td>True</td>\n",
       "    </tr>\n",
       "    <tr>\n",
       "      <th>3</th>\n",
       "      <td>1</td>\n",
       "      <td>1</td>\n",
       "      <td>female</td>\n",
       "      <td>35.0</td>\n",
       "      <td>1</td>\n",
       "      <td>0</td>\n",
       "      <td>53.1000</td>\n",
       "      <td>S</td>\n",
       "      <td>First</td>\n",
       "      <td>woman</td>\n",
       "      <td>False</td>\n",
       "      <td>C</td>\n",
       "      <td>Southampton</td>\n",
       "      <td>yes</td>\n",
       "      <td>False</td>\n",
       "    </tr>\n",
       "    <tr>\n",
       "      <th>4</th>\n",
       "      <td>0</td>\n",
       "      <td>3</td>\n",
       "      <td>male</td>\n",
       "      <td>35.0</td>\n",
       "      <td>0</td>\n",
       "      <td>0</td>\n",
       "      <td>8.0500</td>\n",
       "      <td>S</td>\n",
       "      <td>Third</td>\n",
       "      <td>man</td>\n",
       "      <td>True</td>\n",
       "      <td>NaN</td>\n",
       "      <td>Southampton</td>\n",
       "      <td>no</td>\n",
       "      <td>True</td>\n",
       "    </tr>\n",
       "  </tbody>\n",
       "</table>\n",
       "</div>"
      ],
      "text/plain": [
       "   survived  pclass     sex   age  sibsp  parch     fare embarked  class  \\\n",
       "0         0       3    male  22.0      1      0   7.2500        S  Third   \n",
       "1         1       1  female  38.0      1      0  71.2833        C  First   \n",
       "2         1       3  female  26.0      0      0   7.9250        S  Third   \n",
       "3         1       1  female  35.0      1      0  53.1000        S  First   \n",
       "4         0       3    male  35.0      0      0   8.0500        S  Third   \n",
       "\n",
       "     who  adult_male deck  embark_town alive  alone  \n",
       "0    man        True  NaN  Southampton    no  False  \n",
       "1  woman       False    C    Cherbourg   yes  False  \n",
       "2  woman       False  NaN  Southampton   yes   True  \n",
       "3  woman       False    C  Southampton   yes  False  \n",
       "4    man        True  NaN  Southampton    no   True  "
      ]
     },
     "execution_count": 1,
     "metadata": {},
     "output_type": "execute_result"
    }
   ],
   "source": [
    "import pandas as pd\n",
    "import seaborn as sns\n",
    "titanic = sns.load_dataset(\"titanic\")\n",
    "titanic.head()"
   ]
  },
  {
   "cell_type": "markdown",
   "metadata": {},
   "source": [
    "**Use group by and aggregation on the \"titanic\" dataset to answer the following questions:**"
   ]
  },
  {
   "cell_type": "markdown",
   "metadata": {},
   "source": [
    "**Q1:** How many males and how many females were onboard titanic?\n",
    "\n",
    "<details>\n",
    "<summary>Answer</summary>\n",
    "<br>\n",
    "&nbsp;&nbsp;&nbsp;<b>males:</b> 577<br>\n",
    "&nbsp;&nbsp;&nbsp;<b>females:</b> 314<br>\n",
    "</details>"
   ]
  },
  {
   "cell_type": "code",
   "execution_count": 2,
   "metadata": {},
   "outputs": [
    {
     "data": {
      "text/plain": [
       "sex\n",
       "female    314\n",
       "male      577\n",
       "Name: sex, dtype: int64"
      ]
     },
     "execution_count": 2,
     "metadata": {},
     "output_type": "execute_result"
    }
   ],
   "source": [
    "gender = titanic.groupby(\"sex\")\n",
    "\n",
    "# len(gender)\n",
    "\n",
    "# titanic.loc[gender.groups[\"female\"]]\n",
    "\n",
    "# gender.get_group(\"female\")\n",
    "\n",
    "# gender.count()\n",
    "\n",
    "gender[\"sex\"].count()\n"
   ]
  },
  {
   "cell_type": "markdown",
   "metadata": {},
   "source": [
    "**Q2:** How many males and how many females survived?\n",
    "\n",
    "<details>\n",
    "<summary>Answer</summary>\n",
    "<br>\n",
    "&nbsp;&nbsp;&nbsp;<b>males:</b> 109<br>\n",
    "&nbsp;&nbsp;&nbsp;<b>females:</b> 233<br>\n",
    "</details>"
   ]
  },
  {
   "cell_type": "code",
   "execution_count": 3,
   "metadata": {},
   "outputs": [
    {
     "data": {
      "text/plain": [
       "sex\n",
       "female    314\n",
       "male      577\n",
       "Name: survived, dtype: int64"
      ]
     },
     "execution_count": 3,
     "metadata": {},
     "output_type": "execute_result"
    }
   ],
   "source": [
    "gender[\"survived\"].count()"
   ]
  },
  {
   "cell_type": "markdown",
   "metadata": {},
   "source": [
    "**Q3:** How many people traveled in each class, and what was the total amount spent on tickets in each class?\n",
    "\n",
    "<details>\n",
    "<summary>Answer</summary>\n",
    "<br>\n",
    "&nbsp;&nbsp;&nbsp;<b>First:</b> 216 people (£18177)<br>\n",
    "&nbsp;&nbsp;&nbsp;<b>Second:</b> 184 people (£3802)<br>\n",
    "&nbsp;&nbsp;&nbsp;<b>Third:</b> 491 people (£6715)<br>\n",
    "</details>"
   ]
  },
  {
   "cell_type": "code",
   "execution_count": 4,
   "metadata": {},
   "outputs": [
    {
     "data": {
      "text/plain": [
       "class\n",
       "First     216\n",
       "Second    184\n",
       "Third     491\n",
       "Name: sex, dtype: int64"
      ]
     },
     "metadata": {},
     "output_type": "display_data"
    },
    {
     "data": {
      "text/plain": [
       "class\n",
       "First     18177.0\n",
       "Second     3802.0\n",
       "Third      6715.0\n",
       "Name: fare, dtype: float64"
      ]
     },
     "metadata": {},
     "output_type": "display_data"
    }
   ],
   "source": [
    "class_tickets = titanic.groupby(\"class\", observed=True)\n",
    "\n",
    "display(class_tickets[\"sex\"].count())\n",
    "\n",
    "display(round(class_tickets[\"fare\"].sum()))"
   ]
  },
  {
   "cell_type": "markdown",
   "metadata": {},
   "source": [
    "**Q4:** Where did most people embark, and what town had the highest ratio of survivors?\n",
    "\n",
    "<details>\n",
    "<summary>Answer</summary>\n",
    "<br>\n",
    "&nbsp;&nbsp;&nbsp;Most people (644) embarked in Southampton.<br>\n",
    "&nbsp;&nbsp;&nbsp;However,Cherbourg had the highest ratio of survivors (55.4%).\n",
    "</details>"
   ]
  },
  {
   "cell_type": "code",
   "execution_count": 5,
   "metadata": {},
   "outputs": [
    {
     "data": {
      "text/plain": [
       "embark_town\n",
       "Cherbourg      168\n",
       "Queenstown      77\n",
       "Southampton    644\n",
       "Name: sex, dtype: int64"
      ]
     },
     "metadata": {},
     "output_type": "display_data"
    },
    {
     "data": {
      "text/plain": [
       "embark_town\n",
       "Cherbourg      55.4\n",
       "Queenstown     39.0\n",
       "Southampton    33.7\n",
       "dtype: float64"
      ]
     },
     "metadata": {},
     "output_type": "display_data"
    }
   ],
   "source": [
    "embarked = titanic.groupby(\"embark_town\")[\"sex\"].count()\n",
    "\n",
    "survivors = titanic.groupby(\"embark_town\")[\"survived\"].sum()\n",
    "\n",
    "survivors_ratio = survivors/embarked * 100\n",
    "\n",
    "display(embarked)\n",
    "display(round(survivors_ratio, 1))"
   ]
  },
  {
   "cell_type": "markdown",
   "metadata": {},
   "source": [
    "**Q5:** How many family members did survivors travel with on average? And for non-survivors?\n",
    "\n",
    "<details>\n",
    "<summary>Answer</summary>\n",
    "<br>\n",
    "&nbsp;&nbsp;&nbsp;<b>Survivors:</b> 0.94 family members<br>\n",
    "&nbsp;&nbsp;&nbsp;<b>Non-Survivors:</b> 0.88 family members<br><br>\n",
    "&nbsp;&nbsp;&nbsp;<i>* Family members counted as: sibsp + parch</i>\n",
    "</details>"
   ]
  },
  {
   "cell_type": "code",
   "execution_count": 6,
   "metadata": {},
   "outputs": [
    {
     "data": {
      "text/html": [
       "<div>\n",
       "<style scoped>\n",
       "    .dataframe tbody tr th:only-of-type {\n",
       "        vertical-align: middle;\n",
       "    }\n",
       "\n",
       "    .dataframe tbody tr th {\n",
       "        vertical-align: top;\n",
       "    }\n",
       "\n",
       "    .dataframe thead th {\n",
       "        text-align: right;\n",
       "    }\n",
       "</style>\n",
       "<table border=\"1\" class=\"dataframe\">\n",
       "  <thead>\n",
       "    <tr style=\"text-align: right;\">\n",
       "      <th></th>\n",
       "      <th>survived</th>\n",
       "      <th>pclass</th>\n",
       "      <th>sex</th>\n",
       "      <th>age</th>\n",
       "      <th>sibsp</th>\n",
       "      <th>parch</th>\n",
       "      <th>fare</th>\n",
       "      <th>embarked</th>\n",
       "      <th>class</th>\n",
       "      <th>who</th>\n",
       "      <th>adult_male</th>\n",
       "      <th>deck</th>\n",
       "      <th>embark_town</th>\n",
       "      <th>alive</th>\n",
       "      <th>alone</th>\n",
       "    </tr>\n",
       "  </thead>\n",
       "  <tbody>\n",
       "    <tr>\n",
       "      <th>0</th>\n",
       "      <td>0</td>\n",
       "      <td>3</td>\n",
       "      <td>male</td>\n",
       "      <td>22.0</td>\n",
       "      <td>1</td>\n",
       "      <td>0</td>\n",
       "      <td>7.25</td>\n",
       "      <td>S</td>\n",
       "      <td>Third</td>\n",
       "      <td>man</td>\n",
       "      <td>True</td>\n",
       "      <td>NaN</td>\n",
       "      <td>Southampton</td>\n",
       "      <td>no</td>\n",
       "      <td>False</td>\n",
       "    </tr>\n",
       "  </tbody>\n",
       "</table>\n",
       "</div>"
      ],
      "text/plain": [
       "   survived  pclass   sex   age  sibsp  parch  fare embarked  class  who  \\\n",
       "0         0       3  male  22.0      1      0  7.25        S  Third  man   \n",
       "\n",
       "   adult_male deck  embark_town alive  alone  \n",
       "0        True  NaN  Southampton    no  False  "
      ]
     },
     "metadata": {},
     "output_type": "display_data"
    },
    {
     "data": {
      "text/plain": [
       "survived\n",
       "0    0.88\n",
       "1    0.94\n",
       "dtype: float64"
      ]
     },
     "execution_count": 6,
     "metadata": {},
     "output_type": "execute_result"
    }
   ],
   "source": [
    "display(titanic.head(1))\n",
    "\n",
    "survived_grouped = titanic.groupby(\"survived\")\n",
    "\n",
    "total_relatives = survived_grouped[\"sibsp\"].sum() + survived_grouped[\"parch\"].sum()         \n",
    "\n",
    "count_survived = survived_grouped[\"sex\"].count()      # Får tillbaka serie\n",
    "\n",
    "\n",
    "round(total_relatives/count_survived ,2)    # går att göra operationer med serier \n",
    "\n"
   ]
  },
  {
   "cell_type": "markdown",
   "metadata": {},
   "source": [
    "**Use group by and aggregation on the \"titanic\" dataset to solve the following tasks:**"
   ]
  },
  {
   "cell_type": "markdown",
   "metadata": {},
   "source": [
    "**T1:** Extract the following data from the dataset:\n",
    "<!DOCTYPE html>\n",
    "<html>\n",
    "<body>\n",
    "\n",
    "<table style=\"font-family: Arial, sans-serif; border-collapse: collapse; width: 50%; font-size: 12px;\">\n",
    "  <tr>\n",
    "    <th style=\"border: none; text-align: right; padding: 8px; background-color: #f2f2f2; color: black;\"></th>\n",
    "    <th style=\"border: none; text-align: right; padding: 8px; background-color: #f2f2f2; color: black;\">who</th>\n",
    "    <th style=\"border: none; text-align: right; padding: 8px; background-color: #f2f2f2; color: black;\">number_of_passengers</th>\n",
    "    <th style=\"border: none; text-align: right; padding: 8px; background-color: #f2f2f2; color: black;\">number_of_survivors</th>\n",
    "    <th style=\"border: none; text-align: right; padding: 8px; background-color: #f2f2f2; color: black;\">ratio_survivors</th>\n",
    "  </tr>\n",
    "  <tr>\n",
    "    <td style=\"border: none; text-align: right; padding: 8px; color: black;\">0</td>\n",
    "    <td style=\"border: none; text-align: right; padding: 8px; color: black;\">woman</td>\n",
    "    <td style=\"border: none; text-align: right; padding: 8px; color: black;\">271</td>\n",
    "    <td style=\"border: none; text-align: right; padding: 8px; color: black;\">205</td>\n",
    "    <td style=\"border: none; text-align: right; padding: 8px; color: black;\">0.756458</td>\n",
    "  </tr>\n",
    "  <tr>\n",
    "    <td style=\"border: none; text-align: right; padding: 8px; color: black;\">1</td>\n",
    "    <td style=\"border: none; text-align: right; padding: 8px; color: black;\">man</td>\n",
    "    <td style=\"border: none; text-align: right; padding: 8px; color: black;\">537</td>\n",
    "    <td style=\"border: none; text-align: right; padding: 8px; color: black;\">88</td>\n",
    "    <td style=\"border: none; text-align: right; padding: 8px; color: black;\">0.163873</td>\n",
    "  </tr>\n",
    "  <tr>\n",
    "    <td style=\"border: none; text-align: right; padding: 8px; color: black;\">2</td>\n",
    "    <td style=\"border: none; text-align: right; padding: 8px; color: black;\">child</td>\n",
    "    <td style=\"border: none; text-align: right; padding: 8px; color: black;\">83</td>\n",
    "    <td style=\"border: none; text-align: right; padding: 8px; color: black;\">49</td>\n",
    "    <td style=\"border: none; text-align: right; padding: 8px; color: black;\">0.590361</td>\n",
    "  </tr>\n",
    "</table>\n",
    "\n",
    "</body>\n",
    "</html>\n",
    "<br>\n",
    "<details>\n",
    "<summary>Solution</summary>\n",
    "<pre><code>\n",
    "titanic.groupby(\"who\").aggregate(\n",
    "    number_of_passengers=pd.NamedAgg(column=\"survived\", aggfunc=\"count\"),\n",
    "    number_of_survivors=pd.NamedAgg(column=\"survived\", aggfunc=\"sum\"),\n",
    "    ratio_survivors=pd.NamedAgg(column=\"survived\", aggfunc=\"mean\"),\n",
    ").sort_index(ascending=False).reset_index()\n",
    "</code></pre>\n",
    "</details>"
   ]
  },
  {
   "cell_type": "code",
   "execution_count": 7,
   "metadata": {},
   "outputs": [
    {
     "data": {
      "text/html": [
       "<div>\n",
       "<style scoped>\n",
       "    .dataframe tbody tr th:only-of-type {\n",
       "        vertical-align: middle;\n",
       "    }\n",
       "\n",
       "    .dataframe tbody tr th {\n",
       "        vertical-align: top;\n",
       "    }\n",
       "\n",
       "    .dataframe thead th {\n",
       "        text-align: right;\n",
       "    }\n",
       "</style>\n",
       "<table border=\"1\" class=\"dataframe\">\n",
       "  <thead>\n",
       "    <tr style=\"text-align: right;\">\n",
       "      <th></th>\n",
       "      <th>number_of_passengers</th>\n",
       "      <th>number_of_survivors</th>\n",
       "      <th>ratio_survivors</th>\n",
       "    </tr>\n",
       "    <tr>\n",
       "      <th>who</th>\n",
       "      <th></th>\n",
       "      <th></th>\n",
       "      <th></th>\n",
       "    </tr>\n",
       "  </thead>\n",
       "  <tbody>\n",
       "    <tr>\n",
       "      <th>child</th>\n",
       "      <td>83</td>\n",
       "      <td>49</td>\n",
       "      <td>0.590361</td>\n",
       "    </tr>\n",
       "    <tr>\n",
       "      <th>man</th>\n",
       "      <td>537</td>\n",
       "      <td>88</td>\n",
       "      <td>0.163873</td>\n",
       "    </tr>\n",
       "    <tr>\n",
       "      <th>woman</th>\n",
       "      <td>271</td>\n",
       "      <td>205</td>\n",
       "      <td>0.756458</td>\n",
       "    </tr>\n",
       "  </tbody>\n",
       "</table>\n",
       "</div>"
      ],
      "text/plain": [
       "       number_of_passengers  number_of_survivors  ratio_survivors\n",
       "who                                                              \n",
       "child                    83                   49         0.590361\n",
       "man                     537                   88         0.163873\n",
       "woman                   271                  205         0.756458"
      ]
     },
     "execution_count": 7,
     "metadata": {},
     "output_type": "execute_result"
    }
   ],
   "source": [
    "titanic.groupby(\"who\").agg(\n",
    "    number_of_passengers = pd.NamedAgg(column = \"survived\", aggfunc = \"count\"),      \n",
    "    number_of_survivors = pd.NamedAgg(column = \"survived\", aggfunc = \"sum\"),\n",
    "    ratio_survivors = pd.NamedAgg(column = \"survived\", aggfunc = \"mean\")         # istället för \"max\" eller \"min\", hade man kunnat skicka in en funktion se nästa ruta\n",
    ").head(3)"
   ]
  },
  {
   "cell_type": "markdown",
   "metadata": {},
   "source": [
    "**T2:** Create a custom function *percent()* that can be used to aggregate survivor and get a percentage string:\n",
    "\n",
    "<!DOCTYPE html>\n",
    "<html>\n",
    "<body>\n",
    "\n",
    "<table style=\"font-family: Arial, sans-serif; border-collapse: collapse; width: 50%; font-size: 12px;\">\n",
    "  <tr>\n",
    "    <th style=\"border: none; text-align: right; padding: 8px; background-color: #f2f2f2; color: black;\"></th>\n",
    "    <th style=\"border: none; text-align: right; padding: 8px; background-color: #f2f2f2; color: black;\">who</th>\n",
    "    <th style=\"border: none; text-align: right; padding: 8px; background-color: #f2f2f2; color: black;\">number_of_passengers</th>\n",
    "    <th style=\"border: none; text-align: right; padding: 8px; background-color: #f2f2f2; color: black;\">number_of_survivors</th>\n",
    "    <th style=\"border: none; text-align: right; padding: 8px; background-color: #f2f2f2; color: black;\">percentage_survivors</th>\n",
    "  </tr>\n",
    "  <tr>\n",
    "    <td style=\"border: none; text-align: right; padding: 8px; color: black;\">0</td>\n",
    "    <td style=\"border: none; text-align: right; padding: 8px; color: black;\">woman</td>\n",
    "    <td style=\"border: none; text-align: right; padding: 8px; color: black;\">271</td>\n",
    "    <td style=\"border: none; text-align: right; padding: 8px; color: black;\">205</td>\n",
    "    <td style=\"border: none; text-align: right; padding: 8px; color: black;\">75.6 %</td>\n",
    "  </tr>\n",
    "  <tr>\n",
    "    <td style=\"border: none; text-align: right; padding: 8px; color: black;\">1</td>\n",
    "    <td style=\"border: none; text-align: right; padding: 8px; color: black;\">man</td>\n",
    "    <td style=\"border: none; text-align: right; padding: 8px; color: black;\">537</td>\n",
    "    <td style=\"border: none; text-align: right; padding: 8px; color: black;\">88</td>\n",
    "    <td style=\"border: none; text-align: right; padding: 8px; color: black;\">16.4 %</td>\n",
    "  </tr>\n",
    "  <tr>\n",
    "    <td style=\"border: none; text-align: right; padding: 8px; color: black;\">2</td>\n",
    "    <td style=\"border: none; text-align: right; padding: 8px; color: black;\">child</td>\n",
    "    <td style=\"border: none; text-align: right; padding: 8px; color: black;\">83</td>\n",
    "    <td style=\"border: none; text-align: right; padding: 8px; color: black;\">49</td>\n",
    "    <td style=\"border: none; text-align: right; padding: 8px; color: black;\">59.0 %</td>\n",
    "  </tr>\n",
    "</table>\n",
    "</body>\n",
    "</html>\n",
    "\n",
    "<br>\n",
    "<details>\n",
    "<summary>Solution</summary>\n",
    "<pre><code>\n",
    "import numpy as np\n",
    "def percent(col):\n",
    "    return f\"{np.mean(col) * 100:.1f} %\"\n",
    "</code></pre>\n",
    "</details>\n"
   ]
  },
  {
   "cell_type": "code",
   "execution_count": 35,
   "metadata": {},
   "outputs": [
    {
     "data": {
      "text/html": [
       "<div>\n",
       "<style scoped>\n",
       "    .dataframe tbody tr th:only-of-type {\n",
       "        vertical-align: middle;\n",
       "    }\n",
       "\n",
       "    .dataframe tbody tr th {\n",
       "        vertical-align: top;\n",
       "    }\n",
       "\n",
       "    .dataframe thead th {\n",
       "        text-align: right;\n",
       "    }\n",
       "</style>\n",
       "<table border=\"1\" class=\"dataframe\">\n",
       "  <thead>\n",
       "    <tr style=\"text-align: right;\">\n",
       "      <th></th>\n",
       "      <th>number_of_passengers</th>\n",
       "      <th>number_of_survivors</th>\n",
       "      <th>ratio_survivors</th>\n",
       "    </tr>\n",
       "    <tr>\n",
       "      <th>who</th>\n",
       "      <th></th>\n",
       "      <th></th>\n",
       "      <th></th>\n",
       "    </tr>\n",
       "  </thead>\n",
       "  <tbody>\n",
       "    <tr>\n",
       "      <th>child</th>\n",
       "      <td>83</td>\n",
       "      <td>49</td>\n",
       "      <td>59.04%</td>\n",
       "    </tr>\n",
       "    <tr>\n",
       "      <th>man</th>\n",
       "      <td>537</td>\n",
       "      <td>88</td>\n",
       "      <td>16.39%</td>\n",
       "    </tr>\n",
       "    <tr>\n",
       "      <th>woman</th>\n",
       "      <td>271</td>\n",
       "      <td>205</td>\n",
       "      <td>75.65%</td>\n",
       "    </tr>\n",
       "  </tbody>\n",
       "</table>\n",
       "</div>"
      ],
      "text/plain": [
       "       number_of_passengers  number_of_survivors ratio_survivors\n",
       "who                                                             \n",
       "child                    83                   49          59.04%\n",
       "man                     537                   88          16.39%\n",
       "woman                   271                  205          75.65%"
      ]
     },
     "execution_count": 35,
     "metadata": {},
     "output_type": "execute_result"
    }
   ],
   "source": [
    "\n",
    "def percent(series):\n",
    "    \"\"\"\n",
    "    Custom function to aggregate survivors and return a percentage string.\n",
    "    \n",
    "    Parameters:\n",
    "        - series: A pandas Series containing binary values (0 for not survived, 1 for survived).\n",
    "        \n",
    "    Returns:\n",
    "        - A percentage string.\n",
    "    \"\"\"\n",
    "    total_count = len(series)\n",
    "    survived_count = series.sum()\n",
    "    survival_rate = (survived_count / total_count) * 100\n",
    "    \n",
    "    return f\"{survival_rate:.2f}%\"\n",
    "\n",
    "\n",
    "titanic.groupby(\"who\").agg(\n",
    "    number_of_passengers = pd.NamedAgg(column = \"survived\", aggfunc = \"count\"),      \n",
    "    number_of_survivors = pd.NamedAgg(column = \"survived\", aggfunc = \"sum\"),\n",
    "    ratio_survivors = pd.NamedAgg(column = \"survived\", aggfunc = percent)         # istället för \"max\" eller \"min\", hade man kunnat skicka in en funktion se nästa ruta\n",
    ").head(3)\n",
    "\n"
   ]
  }
 ],
 "metadata": {
  "kernelspec": {
   "display_name": "Learning_Python-3NYKqp0N",
   "language": "python",
   "name": "python3"
  },
  "language_info": {
   "codemirror_mode": {
    "name": "ipython",
    "version": 3
   },
   "file_extension": ".py",
   "mimetype": "text/x-python",
   "name": "python",
   "nbconvert_exporter": "python",
   "pygments_lexer": "ipython3",
   "version": "3.11.5"
  }
 },
 "nbformat": 4,
 "nbformat_minor": 2
}
