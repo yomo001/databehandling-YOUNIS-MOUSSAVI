{
 "cells": [
  {
   "cell_type": "code",
   "execution_count": 2,
   "metadata": {},
   "outputs": [],
   "source": [
    "import pandas as pd\n",
    "import seaborn as sns\n",
    "import matplotlib.pyplot as plt\n",
    "import numpy as np\n",
    "import plotly_express as px"
   ]
  },
  {
   "cell_type": "code",
   "execution_count": 3,
   "metadata": {},
   "outputs": [],
   "source": [
    "# Uppgift 2\n",
    "\n",
    "# Read data from vaccin.xlsx    \n",
    "vaccinerade_kommun_alder = pd.read_excel(\"data\\\\vaccin.xlsx\", sheet_name=\"Vaccinerade kommun och ålder\")  "
   ]
  },
  {
   "cell_type": "code",
   "execution_count": 4,
   "metadata": {},
   "outputs": [
    {
     "name": "stdout",
     "output_type": "stream",
     "text": [
      "<class 'pandas.core.frame.DataFrame'>\n",
      "RangeIndex: 2900 entries, 0 to 2899\n",
      "Data columns (total 14 columns):\n",
      " #   Column               Non-Null Count  Dtype  \n",
      "---  ------               --------------  -----  \n",
      " 0   Län                  2900 non-null   int64  \n",
      " 1   Län_namn             2900 non-null   object \n",
      " 2   Kommun               2900 non-null   int64  \n",
      " 3   Kommun_namn          2900 non-null   object \n",
      " 4   Ålder                2900 non-null   object \n",
      " 5   Befolkning           2900 non-null   int64  \n",
      " 6   Antal minst 1 dos    2900 non-null   int64  \n",
      " 7   Antal minst 2 doser  2900 non-null   int64  \n",
      " 8   Antal 3 doser        2320 non-null   float64\n",
      " 9   Antal 4 doser        870 non-null    float64\n",
      " 10  Andel minst 1 dos    2900 non-null   float64\n",
      " 11  Andel minst 2 doser  2900 non-null   float64\n",
      " 12  Andel 3 doser        2320 non-null   float64\n",
      " 13  Andel 4 doser        870 non-null    float64\n",
      "dtypes: float64(6), int64(5), object(3)\n",
      "memory usage: 317.3+ KB\n"
     ]
    }
   ],
   "source": [
    "# Exploring dataset\n",
    "\n",
    "vaccinerade_kommun_alder.info()"
   ]
  },
  {
   "cell_type": "code",
   "execution_count": 5,
   "metadata": {},
   "outputs": [
    {
     "name": "stdout",
     "output_type": "stream",
     "text": [
      "Det finns 21 län representerade i datasetet\n"
     ]
    }
   ],
   "source": [
    "#a) Hur många län finns representerade i datasetet? \n",
    "\n",
    "antal_lan = vaccinerade_kommun_alder[\"Län_namn\"].nunique()\n",
    "\n",
    "print(f\"Det finns {antal_lan} län representerade i datasetet\")"
   ]
  },
  {
   "cell_type": "code",
   "execution_count": 6,
   "metadata": {},
   "outputs": [
    {
     "name": "stdout",
     "output_type": "stream",
     "text": [
      "Det finns 290 kommuner representerade i datasetet\n"
     ]
    }
   ],
   "source": [
    "#b) Hur många kommuner finns representerade i datasetet?\n",
    "\n",
    "antal_kommuner = vaccinerade_kommun_alder[\"Kommun_namn\"].nunique()\n",
    "\n",
    "print(f\"Det finns {antal_kommuner} kommuner representerade i datasetet\")\n",
    "\n"
   ]
  },
  {
   "cell_type": "code",
   "execution_count": 7,
   "metadata": {},
   "outputs": [
    {
     "name": "stdout",
     "output_type": "stream",
     "text": [
      "Det finns 9,092,790 människor representerade i datasetet\n"
     ]
    }
   ],
   "source": [
    "#c) Hur stor är befolkningen som är representerad i datasetet?\n",
    "\n",
    "befolkning = vaccinerade_kommun_alder[\"Befolkning\"].sum()\n",
    "\n",
    "print(f\"Det finns {befolkning:,} människor representerade i datasetet\")\n"
   ]
  },
  {
   "cell_type": "code",
   "execution_count": 8,
   "metadata": {},
   "outputs": [
    {
     "data": {
      "text/html": [
       "<div>\n",
       "<style scoped>\n",
       "    .dataframe tbody tr th:only-of-type {\n",
       "        vertical-align: middle;\n",
       "    }\n",
       "\n",
       "    .dataframe tbody tr th {\n",
       "        vertical-align: top;\n",
       "    }\n",
       "\n",
       "    .dataframe thead th {\n",
       "        text-align: right;\n",
       "    }\n",
       "</style>\n",
       "<table border=\"1\" class=\"dataframe\">\n",
       "  <thead>\n",
       "    <tr style=\"text-align: right;\">\n",
       "      <th></th>\n",
       "      <th>Län</th>\n",
       "      <th>Län_namn</th>\n",
       "      <th>Kommun</th>\n",
       "      <th>Kommun_namn</th>\n",
       "      <th>Ålder</th>\n",
       "      <th>Befolkning</th>\n",
       "      <th>Antal minst 1 dos</th>\n",
       "      <th>Antal minst 2 doser</th>\n",
       "      <th>Antal 3 doser</th>\n",
       "      <th>Antal 4 doser</th>\n",
       "      <th>Andel minst 1 dos</th>\n",
       "      <th>Andel minst 2 doser</th>\n",
       "      <th>Andel 3 doser</th>\n",
       "      <th>Andel 4 doser</th>\n",
       "    </tr>\n",
       "  </thead>\n",
       "  <tbody>\n",
       "    <tr>\n",
       "      <th>0</th>\n",
       "      <td>1</td>\n",
       "      <td>Stockholms län</td>\n",
       "      <td>114</td>\n",
       "      <td>Upplands Väsby</td>\n",
       "      <td>12-15</td>\n",
       "      <td>2422</td>\n",
       "      <td>1206</td>\n",
       "      <td>1046</td>\n",
       "      <td>NaN</td>\n",
       "      <td>NaN</td>\n",
       "      <td>0.497936</td>\n",
       "      <td>0.431874</td>\n",
       "      <td>NaN</td>\n",
       "      <td>NaN</td>\n",
       "    </tr>\n",
       "    <tr>\n",
       "      <th>1</th>\n",
       "      <td>1</td>\n",
       "      <td>Stockholms län</td>\n",
       "      <td>114</td>\n",
       "      <td>Upplands Väsby</td>\n",
       "      <td>16-17</td>\n",
       "      <td>1203</td>\n",
       "      <td>839</td>\n",
       "      <td>755</td>\n",
       "      <td>NaN</td>\n",
       "      <td>NaN</td>\n",
       "      <td>0.697423</td>\n",
       "      <td>0.627598</td>\n",
       "      <td>NaN</td>\n",
       "      <td>NaN</td>\n",
       "    </tr>\n",
       "    <tr>\n",
       "      <th>2</th>\n",
       "      <td>1</td>\n",
       "      <td>Stockholms län</td>\n",
       "      <td>114</td>\n",
       "      <td>Upplands Väsby</td>\n",
       "      <td>18-29</td>\n",
       "      <td>6692</td>\n",
       "      <td>4887</td>\n",
       "      <td>4469</td>\n",
       "      <td>1959.0</td>\n",
       "      <td>NaN</td>\n",
       "      <td>0.730275</td>\n",
       "      <td>0.667812</td>\n",
       "      <td>0.292738</td>\n",
       "      <td>NaN</td>\n",
       "    </tr>\n",
       "    <tr>\n",
       "      <th>3</th>\n",
       "      <td>1</td>\n",
       "      <td>Stockholms län</td>\n",
       "      <td>114</td>\n",
       "      <td>Upplands Väsby</td>\n",
       "      <td>30-39</td>\n",
       "      <td>7332</td>\n",
       "      <td>5542</td>\n",
       "      <td>5240</td>\n",
       "      <td>2878.0</td>\n",
       "      <td>NaN</td>\n",
       "      <td>0.755865</td>\n",
       "      <td>0.714675</td>\n",
       "      <td>0.392526</td>\n",
       "      <td>NaN</td>\n",
       "    </tr>\n",
       "    <tr>\n",
       "      <th>4</th>\n",
       "      <td>1</td>\n",
       "      <td>Stockholms län</td>\n",
       "      <td>114</td>\n",
       "      <td>Upplands Väsby</td>\n",
       "      <td>40-49</td>\n",
       "      <td>6946</td>\n",
       "      <td>5592</td>\n",
       "      <td>5429</td>\n",
       "      <td>3719.0</td>\n",
       "      <td>NaN</td>\n",
       "      <td>0.805068</td>\n",
       "      <td>0.781601</td>\n",
       "      <td>0.535416</td>\n",
       "      <td>NaN</td>\n",
       "    </tr>\n",
       "  </tbody>\n",
       "</table>\n",
       "</div>"
      ],
      "text/plain": [
       "   Län        Län_namn  Kommun     Kommun_namn  Ålder  Befolkning  \\\n",
       "0    1  Stockholms län     114  Upplands Väsby  12-15        2422   \n",
       "1    1  Stockholms län     114  Upplands Väsby  16-17        1203   \n",
       "2    1  Stockholms län     114  Upplands Väsby  18-29        6692   \n",
       "3    1  Stockholms län     114  Upplands Väsby  30-39        7332   \n",
       "4    1  Stockholms län     114  Upplands Väsby  40-49        6946   \n",
       "\n",
       "   Antal minst 1 dos  Antal minst 2 doser  Antal 3 doser  Antal 4 doser  \\\n",
       "0               1206                 1046            NaN            NaN   \n",
       "1                839                  755            NaN            NaN   \n",
       "2               4887                 4469         1959.0            NaN   \n",
       "3               5542                 5240         2878.0            NaN   \n",
       "4               5592                 5429         3719.0            NaN   \n",
       "\n",
       "   Andel minst 1 dos  Andel minst 2 doser  Andel 3 doser  Andel 4 doser  \n",
       "0           0.497936             0.431874            NaN            NaN  \n",
       "1           0.697423             0.627598            NaN            NaN  \n",
       "2           0.730275             0.667812       0.292738            NaN  \n",
       "3           0.755865             0.714675       0.392526            NaN  \n",
       "4           0.805068             0.781601       0.535416            NaN  "
      ]
     },
     "execution_count": 8,
     "metadata": {},
     "output_type": "execute_result"
    }
   ],
   "source": [
    "# Showing the columns of the dataset to use in the next assignment\n",
    "vaccinerade_kommun_alder.head()"
   ]
  },
  {
   "cell_type": "code",
   "execution_count": 10,
   "metadata": {},
   "outputs": [
    {
     "name": "stdout",
     "output_type": "stream",
     "text": [
      "Utifrån detta dataset och Sveriges totala befolkning 2022 så är 2,174,136 individer under 18 år\n"
     ]
    }
   ],
   "source": [
    "#d) Beräkna hur många barn under 18 år det finns i Sverige baserat på det här datasetet. Du får leta upp\n",
    "# statistik på hur stor totala befolkningen är i Sverige.\n",
    "\n",
    "# Hela befolkningen från 0 och uppåt\n",
    "total_befolkning_2022  = 10_521_556     # https://www.scb.se/hitta-statistik/sverige-i-siffror/manniskorna-i-sverige/sveriges-befolkning/#:~:text=2022%20var%20folkm%C3%A4ngden%20i%20Sverige,fler%20har%20invandrat%20%C3%A4n%20utvandrat.  \n",
    "\n",
    "# Totala antal under 18 fås genom att subtrahera total befolkning med befolkning över 18 i datasetet\n",
    "befolkning_below_18 = total_befolkning_2022 - vaccinerade_kommun_alder[~vaccinerade_kommun_alder[\"Ålder\"].isin([\"12-15\", \"16-17\"])][\"Befolkning\"].sum()\n",
    "\n",
    "print(f\"Utifrån detta dataset och Sveriges totala befolkning 2022 så är {befolkning_below_18:,} individer under 18 år\")\n"
   ]
  },
  {
   "cell_type": "code",
   "execution_count": 15,
   "metadata": {},
   "outputs": [],
   "source": [
    "#e) Rita ett diagram som visar på åldersfördelningen av Sveriges befolkning.\n",
    "\n",
    "# Grouping the dataset for plotting \n",
    "ages_population = pd.DataFrame(vaccinerade_kommun_alder.groupby(\"Ålder\")[\"Befolkning\"].sum())"
   ]
  },
  {
   "cell_type": "code",
   "execution_count": 16,
   "metadata": {},
   "outputs": [
    {
     "data": {
      "application/vnd.plotly.v1+json": {
       "config": {
        "plotlyServerURL": "https://plot.ly"
       },
       "data": [
        {
         "alignmentgroup": "True",
         "hovertemplate": "Ålder=%{x}<br>Befolkning=%{y}<extra></extra>",
         "legendgroup": "",
         "marker": {
          "color": "#636efa",
          "pattern": {
           "shape": ""
          }
         },
         "name": "",
         "offsetgroup": "",
         "orientation": "v",
         "showlegend": false,
         "textposition": "auto",
         "type": "bar",
         "x": [
          "12-15",
          "16-17",
          "18-29",
          "30-39",
          "40-49",
          "50-59",
          "60-69",
          "70-79",
          "80-89",
          "90 eller äldre"
         ],
         "xaxis": "x",
         "y": [
          503831,
          241539,
          1475950,
          1467590,
          1298156,
          1339798,
          1121922,
          1033113,
          496750,
          114141
         ],
         "yaxis": "y"
        }
       ],
       "layout": {
        "barmode": "relative",
        "legend": {
         "tracegroupgap": 0
        },
        "margin": {
         "t": 60
        },
        "template": {
         "data": {
          "bar": [
           {
            "error_x": {
             "color": "#2a3f5f"
            },
            "error_y": {
             "color": "#2a3f5f"
            },
            "marker": {
             "line": {
              "color": "#E5ECF6",
              "width": 0.5
             },
             "pattern": {
              "fillmode": "overlay",
              "size": 10,
              "solidity": 0.2
             }
            },
            "type": "bar"
           }
          ],
          "barpolar": [
           {
            "marker": {
             "line": {
              "color": "#E5ECF6",
              "width": 0.5
             },
             "pattern": {
              "fillmode": "overlay",
              "size": 10,
              "solidity": 0.2
             }
            },
            "type": "barpolar"
           }
          ],
          "carpet": [
           {
            "aaxis": {
             "endlinecolor": "#2a3f5f",
             "gridcolor": "white",
             "linecolor": "white",
             "minorgridcolor": "white",
             "startlinecolor": "#2a3f5f"
            },
            "baxis": {
             "endlinecolor": "#2a3f5f",
             "gridcolor": "white",
             "linecolor": "white",
             "minorgridcolor": "white",
             "startlinecolor": "#2a3f5f"
            },
            "type": "carpet"
           }
          ],
          "choropleth": [
           {
            "colorbar": {
             "outlinewidth": 0,
             "ticks": ""
            },
            "type": "choropleth"
           }
          ],
          "contour": [
           {
            "colorbar": {
             "outlinewidth": 0,
             "ticks": ""
            },
            "colorscale": [
             [
              0,
              "#0d0887"
             ],
             [
              0.1111111111111111,
              "#46039f"
             ],
             [
              0.2222222222222222,
              "#7201a8"
             ],
             [
              0.3333333333333333,
              "#9c179e"
             ],
             [
              0.4444444444444444,
              "#bd3786"
             ],
             [
              0.5555555555555556,
              "#d8576b"
             ],
             [
              0.6666666666666666,
              "#ed7953"
             ],
             [
              0.7777777777777778,
              "#fb9f3a"
             ],
             [
              0.8888888888888888,
              "#fdca26"
             ],
             [
              1,
              "#f0f921"
             ]
            ],
            "type": "contour"
           }
          ],
          "contourcarpet": [
           {
            "colorbar": {
             "outlinewidth": 0,
             "ticks": ""
            },
            "type": "contourcarpet"
           }
          ],
          "heatmap": [
           {
            "colorbar": {
             "outlinewidth": 0,
             "ticks": ""
            },
            "colorscale": [
             [
              0,
              "#0d0887"
             ],
             [
              0.1111111111111111,
              "#46039f"
             ],
             [
              0.2222222222222222,
              "#7201a8"
             ],
             [
              0.3333333333333333,
              "#9c179e"
             ],
             [
              0.4444444444444444,
              "#bd3786"
             ],
             [
              0.5555555555555556,
              "#d8576b"
             ],
             [
              0.6666666666666666,
              "#ed7953"
             ],
             [
              0.7777777777777778,
              "#fb9f3a"
             ],
             [
              0.8888888888888888,
              "#fdca26"
             ],
             [
              1,
              "#f0f921"
             ]
            ],
            "type": "heatmap"
           }
          ],
          "heatmapgl": [
           {
            "colorbar": {
             "outlinewidth": 0,
             "ticks": ""
            },
            "colorscale": [
             [
              0,
              "#0d0887"
             ],
             [
              0.1111111111111111,
              "#46039f"
             ],
             [
              0.2222222222222222,
              "#7201a8"
             ],
             [
              0.3333333333333333,
              "#9c179e"
             ],
             [
              0.4444444444444444,
              "#bd3786"
             ],
             [
              0.5555555555555556,
              "#d8576b"
             ],
             [
              0.6666666666666666,
              "#ed7953"
             ],
             [
              0.7777777777777778,
              "#fb9f3a"
             ],
             [
              0.8888888888888888,
              "#fdca26"
             ],
             [
              1,
              "#f0f921"
             ]
            ],
            "type": "heatmapgl"
           }
          ],
          "histogram": [
           {
            "marker": {
             "pattern": {
              "fillmode": "overlay",
              "size": 10,
              "solidity": 0.2
             }
            },
            "type": "histogram"
           }
          ],
          "histogram2d": [
           {
            "colorbar": {
             "outlinewidth": 0,
             "ticks": ""
            },
            "colorscale": [
             [
              0,
              "#0d0887"
             ],
             [
              0.1111111111111111,
              "#46039f"
             ],
             [
              0.2222222222222222,
              "#7201a8"
             ],
             [
              0.3333333333333333,
              "#9c179e"
             ],
             [
              0.4444444444444444,
              "#bd3786"
             ],
             [
              0.5555555555555556,
              "#d8576b"
             ],
             [
              0.6666666666666666,
              "#ed7953"
             ],
             [
              0.7777777777777778,
              "#fb9f3a"
             ],
             [
              0.8888888888888888,
              "#fdca26"
             ],
             [
              1,
              "#f0f921"
             ]
            ],
            "type": "histogram2d"
           }
          ],
          "histogram2dcontour": [
           {
            "colorbar": {
             "outlinewidth": 0,
             "ticks": ""
            },
            "colorscale": [
             [
              0,
              "#0d0887"
             ],
             [
              0.1111111111111111,
              "#46039f"
             ],
             [
              0.2222222222222222,
              "#7201a8"
             ],
             [
              0.3333333333333333,
              "#9c179e"
             ],
             [
              0.4444444444444444,
              "#bd3786"
             ],
             [
              0.5555555555555556,
              "#d8576b"
             ],
             [
              0.6666666666666666,
              "#ed7953"
             ],
             [
              0.7777777777777778,
              "#fb9f3a"
             ],
             [
              0.8888888888888888,
              "#fdca26"
             ],
             [
              1,
              "#f0f921"
             ]
            ],
            "type": "histogram2dcontour"
           }
          ],
          "mesh3d": [
           {
            "colorbar": {
             "outlinewidth": 0,
             "ticks": ""
            },
            "type": "mesh3d"
           }
          ],
          "parcoords": [
           {
            "line": {
             "colorbar": {
              "outlinewidth": 0,
              "ticks": ""
             }
            },
            "type": "parcoords"
           }
          ],
          "pie": [
           {
            "automargin": true,
            "type": "pie"
           }
          ],
          "scatter": [
           {
            "fillpattern": {
             "fillmode": "overlay",
             "size": 10,
             "solidity": 0.2
            },
            "type": "scatter"
           }
          ],
          "scatter3d": [
           {
            "line": {
             "colorbar": {
              "outlinewidth": 0,
              "ticks": ""
             }
            },
            "marker": {
             "colorbar": {
              "outlinewidth": 0,
              "ticks": ""
             }
            },
            "type": "scatter3d"
           }
          ],
          "scattercarpet": [
           {
            "marker": {
             "colorbar": {
              "outlinewidth": 0,
              "ticks": ""
             }
            },
            "type": "scattercarpet"
           }
          ],
          "scattergeo": [
           {
            "marker": {
             "colorbar": {
              "outlinewidth": 0,
              "ticks": ""
             }
            },
            "type": "scattergeo"
           }
          ],
          "scattergl": [
           {
            "marker": {
             "colorbar": {
              "outlinewidth": 0,
              "ticks": ""
             }
            },
            "type": "scattergl"
           }
          ],
          "scattermapbox": [
           {
            "marker": {
             "colorbar": {
              "outlinewidth": 0,
              "ticks": ""
             }
            },
            "type": "scattermapbox"
           }
          ],
          "scatterpolar": [
           {
            "marker": {
             "colorbar": {
              "outlinewidth": 0,
              "ticks": ""
             }
            },
            "type": "scatterpolar"
           }
          ],
          "scatterpolargl": [
           {
            "marker": {
             "colorbar": {
              "outlinewidth": 0,
              "ticks": ""
             }
            },
            "type": "scatterpolargl"
           }
          ],
          "scatterternary": [
           {
            "marker": {
             "colorbar": {
              "outlinewidth": 0,
              "ticks": ""
             }
            },
            "type": "scatterternary"
           }
          ],
          "surface": [
           {
            "colorbar": {
             "outlinewidth": 0,
             "ticks": ""
            },
            "colorscale": [
             [
              0,
              "#0d0887"
             ],
             [
              0.1111111111111111,
              "#46039f"
             ],
             [
              0.2222222222222222,
              "#7201a8"
             ],
             [
              0.3333333333333333,
              "#9c179e"
             ],
             [
              0.4444444444444444,
              "#bd3786"
             ],
             [
              0.5555555555555556,
              "#d8576b"
             ],
             [
              0.6666666666666666,
              "#ed7953"
             ],
             [
              0.7777777777777778,
              "#fb9f3a"
             ],
             [
              0.8888888888888888,
              "#fdca26"
             ],
             [
              1,
              "#f0f921"
             ]
            ],
            "type": "surface"
           }
          ],
          "table": [
           {
            "cells": {
             "fill": {
              "color": "#EBF0F8"
             },
             "line": {
              "color": "white"
             }
            },
            "header": {
             "fill": {
              "color": "#C8D4E3"
             },
             "line": {
              "color": "white"
             }
            },
            "type": "table"
           }
          ]
         },
         "layout": {
          "annotationdefaults": {
           "arrowcolor": "#2a3f5f",
           "arrowhead": 0,
           "arrowwidth": 1
          },
          "autotypenumbers": "strict",
          "coloraxis": {
           "colorbar": {
            "outlinewidth": 0,
            "ticks": ""
           }
          },
          "colorscale": {
           "diverging": [
            [
             0,
             "#8e0152"
            ],
            [
             0.1,
             "#c51b7d"
            ],
            [
             0.2,
             "#de77ae"
            ],
            [
             0.3,
             "#f1b6da"
            ],
            [
             0.4,
             "#fde0ef"
            ],
            [
             0.5,
             "#f7f7f7"
            ],
            [
             0.6,
             "#e6f5d0"
            ],
            [
             0.7,
             "#b8e186"
            ],
            [
             0.8,
             "#7fbc41"
            ],
            [
             0.9,
             "#4d9221"
            ],
            [
             1,
             "#276419"
            ]
           ],
           "sequential": [
            [
             0,
             "#0d0887"
            ],
            [
             0.1111111111111111,
             "#46039f"
            ],
            [
             0.2222222222222222,
             "#7201a8"
            ],
            [
             0.3333333333333333,
             "#9c179e"
            ],
            [
             0.4444444444444444,
             "#bd3786"
            ],
            [
             0.5555555555555556,
             "#d8576b"
            ],
            [
             0.6666666666666666,
             "#ed7953"
            ],
            [
             0.7777777777777778,
             "#fb9f3a"
            ],
            [
             0.8888888888888888,
             "#fdca26"
            ],
            [
             1,
             "#f0f921"
            ]
           ],
           "sequentialminus": [
            [
             0,
             "#0d0887"
            ],
            [
             0.1111111111111111,
             "#46039f"
            ],
            [
             0.2222222222222222,
             "#7201a8"
            ],
            [
             0.3333333333333333,
             "#9c179e"
            ],
            [
             0.4444444444444444,
             "#bd3786"
            ],
            [
             0.5555555555555556,
             "#d8576b"
            ],
            [
             0.6666666666666666,
             "#ed7953"
            ],
            [
             0.7777777777777778,
             "#fb9f3a"
            ],
            [
             0.8888888888888888,
             "#fdca26"
            ],
            [
             1,
             "#f0f921"
            ]
           ]
          },
          "colorway": [
           "#636efa",
           "#EF553B",
           "#00cc96",
           "#ab63fa",
           "#FFA15A",
           "#19d3f3",
           "#FF6692",
           "#B6E880",
           "#FF97FF",
           "#FECB52"
          ],
          "font": {
           "color": "#2a3f5f"
          },
          "geo": {
           "bgcolor": "white",
           "lakecolor": "white",
           "landcolor": "#E5ECF6",
           "showlakes": true,
           "showland": true,
           "subunitcolor": "white"
          },
          "hoverlabel": {
           "align": "left"
          },
          "hovermode": "closest",
          "mapbox": {
           "style": "light"
          },
          "paper_bgcolor": "white",
          "plot_bgcolor": "#E5ECF6",
          "polar": {
           "angularaxis": {
            "gridcolor": "white",
            "linecolor": "white",
            "ticks": ""
           },
           "bgcolor": "#E5ECF6",
           "radialaxis": {
            "gridcolor": "white",
            "linecolor": "white",
            "ticks": ""
           }
          },
          "scene": {
           "xaxis": {
            "backgroundcolor": "#E5ECF6",
            "gridcolor": "white",
            "gridwidth": 2,
            "linecolor": "white",
            "showbackground": true,
            "ticks": "",
            "zerolinecolor": "white"
           },
           "yaxis": {
            "backgroundcolor": "#E5ECF6",
            "gridcolor": "white",
            "gridwidth": 2,
            "linecolor": "white",
            "showbackground": true,
            "ticks": "",
            "zerolinecolor": "white"
           },
           "zaxis": {
            "backgroundcolor": "#E5ECF6",
            "gridcolor": "white",
            "gridwidth": 2,
            "linecolor": "white",
            "showbackground": true,
            "ticks": "",
            "zerolinecolor": "white"
           }
          },
          "shapedefaults": {
           "line": {
            "color": "#2a3f5f"
           }
          },
          "ternary": {
           "aaxis": {
            "gridcolor": "white",
            "linecolor": "white",
            "ticks": ""
           },
           "baxis": {
            "gridcolor": "white",
            "linecolor": "white",
            "ticks": ""
           },
           "bgcolor": "#E5ECF6",
           "caxis": {
            "gridcolor": "white",
            "linecolor": "white",
            "ticks": ""
           }
          },
          "title": {
           "x": 0.05
          },
          "xaxis": {
           "automargin": true,
           "gridcolor": "white",
           "linecolor": "white",
           "ticks": "",
           "title": {
            "standoff": 15
           },
           "zerolinecolor": "white",
           "zerolinewidth": 2
          },
          "yaxis": {
           "automargin": true,
           "gridcolor": "white",
           "linecolor": "white",
           "ticks": "",
           "title": {
            "standoff": 15
           },
           "zerolinecolor": "white",
           "zerolinewidth": 2
          }
         }
        },
        "xaxis": {
         "anchor": "y",
         "domain": [
          0,
          1
         ],
         "title": {
          "text": "Ålder"
         }
        },
        "yaxis": {
         "anchor": "x",
         "domain": [
          0,
          1
         ],
         "title": {
          "text": "Befolkning"
         }
        }
       }
      }
     },
     "metadata": {},
     "output_type": "display_data"
    }
   ],
   "source": [
    "# Draw a diagram in plotly express showing the age distribution of Sweden's population.\n",
    "\n",
    "fig = px.bar(ages_population, x=ages_population.index, y='Befolkning')\n",
    "fig.show()"
   ]
  },
  {
   "cell_type": "code",
   "execution_count": 17,
   "metadata": {},
   "outputs": [
    {
     "name": "stderr",
     "output_type": "stream",
     "text": [
      "C:\\Users\\yonis\\AppData\\Local\\Temp\\ipykernel_13200\\4162368274.py:13: UserWarning:\n",
      "\n",
      "set_ticklabels() should only be used with a fixed number of ticks, i.e. after set_ticks() or using a FixedLocator.\n",
      "\n",
      "C:\\Users\\yonis\\AppData\\Local\\Temp\\ipykernel_13200\\4162368274.py:14: UserWarning:\n",
      "\n",
      "set_ticklabels() should only be used with a fixed number of ticks, i.e. after set_ticks() or using a FixedLocator.\n",
      "\n",
      "C:\\Users\\yonis\\AppData\\Local\\Temp\\ipykernel_13200\\4162368274.py:15: UserWarning:\n",
      "\n",
      "set_ticklabels() should only be used with a fixed number of ticks, i.e. after set_ticks() or using a FixedLocator.\n",
      "\n"
     ]
    },
    {
     "data": {
      "image/png": "[encoded data removed]",
      "text/plain": [
       "<Figure size 800x1200 with 4 Axes>"
      ]
     },
     "metadata": {},
     "output_type": "display_data"
    }
   ],
   "source": [
    "#f) Rita stapeldiagram för andel med minst 1 dos per län, andel två doser per län och andel tre doser per\n",
    "# län \n",
    "\n",
    "# Drawing barplots in seaborn for ratio och vaccinated people with different doses as subplots on the same figure\n",
    "fig, axes = plt.subplots(nrows=2, ncols=2, figsize=(8, 12))\n",
    "\n",
    "sns.barplot(x=\"Län_namn\", y=\"Andel minst 1 dos\", data=vaccinerade_kommun_alder, errorbar=None, ax=axes[0, 0])\n",
    "sns.barplot(x=\"Län_namn\", y=\"Andel minst 2 doser\", data=vaccinerade_kommun_alder, errorbar=None, ax=axes[0, 1])\n",
    "sns.barplot(x=\"Län_namn\", y=\"Andel 3 doser\", data=vaccinerade_kommun_alder, errorbar=None, ax=axes[1, 0])\n",
    "\n",
    "# Rotating the x-labels for all plots 90 degrees to make them more readable\n",
    "axes[0, 0].set_xticklabels(axes[0, 0].get_xticklabels(), rotation=90)\n",
    "axes[0, 1].set_xticklabels(axes[0, 1].get_xticklabels(), rotation=90)\n",
    "axes[1, 0].set_xticklabels(axes[1, 0].get_xticklabels(), rotation=90)\n",
    "\n",
    "# Hide the last empty subplot\n",
    "axes[1, 1].axis(\"off\")\n",
    "\n",
    "\n",
    "# increase the space between the subplots\n",
    "plt.subplots_adjust(hspace=0.6, wspace=0.3)\n",
    "\n",
    "plt.show()"
   ]
  },
  {
   "cell_type": "code",
   "execution_count": null,
   "metadata": {},
   "outputs": [],
   "source": [
    "#f) Tag Västra Götalands län och Stockholms län och rita diagram över andelen vaccinerade med minst 1 dos,\n",
    "# två doser, tre doser och fyra doser.\n",
    "\n",
    "fig, ((ax1, ax2), (ax3, ax4)) = plt.subplots(2,2, figsize=(8, 12))\n",
    "\n",
    "sns.barplot(x=\"Län_namn\", y=\"Andel minst 1 dos\", data=vaccinerade_kommun_alder, errorbar=None, ax=ax1)\n",
    "sns.barplot(x=\"Län_namn\", y=\"Andel minst 2 doser\", data=vaccinerade_kommun_alder, errorbar=None, ax=ax2)\n",
    "sns.barplot(x=\"Län_namn\", y=\"Andel 3 doser\", data=vaccinerade_kommun_alder, errorbar=None, ax=ax3)\n",
    "\n",
    "# Rotating the x-labels for all plots 90 degrees to make them more readable\n",
    "ax1.set_xticklabels(ax1.get_xticklabels(), rotation=90)\n",
    "ax2.set_xticklabels(ax2.get_xticklabels(), rotation=90)\n",
    "ax3.set_xticklabels(ax3.get_xticklabels(), rotation=90)\n",
    "\n",
    "# Hide the last empty subplot\n",
    "ax4.axis('off')\n",
    "\n",
    "plt.show()\n"
   ]
  },
  {
   "cell_type": "code",
   "execution_count": null,
   "metadata": {},
   "outputs": [],
   "source": [
    "fig, axes = plt.subplots(2, 2, figsize=(8, 12))\n",
    "\n",
    "sns.barplot(x=\"Län_namn\", y=\"Andel minst 1 dos\", data=vaccinerade_kommun_alder, errorbar=None, ax=axes[0, 0])\n",
    "sns.barplot(x=\"Län_namn\", y=\"Andel minst 2 doser\", data=vaccinerade_kommun_alder, errorbar=None, ax=axes[0, 1])\n",
    "sns.barplot(x=\"Län_namn\", y=\"Andel 3 doser\", data=vaccinerade_kommun_alder, errorbar=None, ax=axes[1, 0])\n",
    "\n",
    "# Hide the fourth\n",
    "axes[1, 1].axis('off')\n",
    "\n",
    "# Set x-axis labels rotation for each subplot # Ok enligt Fredrik, Function lr loop, gör finare\n",
    "axes[0, 0].set_xticks(axes[0, 0].get_xticks())\n",
    "axes[0, 0].set_xticklabels(axes[0, 0].get_xticklabels(), rotation=90)\n",
    "axes[0, 0].set_xlabel(\"Län\")\n",
    "axes[0, 0].tick_params(axis = 'x', labelsize = 8)\n",
    "\n",
    "axes[0, 1].set_xticks(axes[0, 1].get_xticks())\n",
    "axes[0, 1].set_xticklabels(axes[0, 1].get_xticklabels(), rotation=90)\n",
    "axes[0, 1].set_xlabel(\"Län\")\n",
    "axes[0, 1].tick_params(axis = 'x', labelsize = 8)\n",
    "\n",
    "axes[1, 0].set_xticks(axes[1, 0].get_xticks())\n",
    "axes[1, 0].set_xticklabels(axes[1, 0].get_xticklabels(), rotation=90)\n",
    "axes[1, 0].set_xlabel(\"Län\")\n",
    "axes[1, 0].tick_params(axis = 'x', labelsize = 8)\n",
    "\n",
    "# Adjust layout\n",
    "plt.subplots_adjust(wspace=0.5, hspace=0.6)\n",
    "\n",
    "plt.show()"
   ]
  },
  {
   "cell_type": "code",
   "execution_count": null,
   "metadata": {},
   "outputs": [],
   "source": [
    "# g) Tag Västra Götalands län och Stockholms län och rita diagram över andelen vaccinerade med minst 1 dos,\n",
    "# två doser, tre doser och fyra doser.\n",
    "\n",
    "\n",
    "\n",
    "# Se över skala så att det visas som 0 - 1 på y - axel\n",
    "\n",
    "\n",
    "fig, axes = plt.subplots(2, 2, figsize=(8, 12))\n",
    "\n",
    "vaccinerade_sthlm_vgt = vaccinerade_kommun_alder[vaccinerade_kommun_alder[\"Län_namn\"].isin([\"Stockholms län\",\"Västra Götalands län\"])]\n",
    "\n",
    "sns.barplot(x=\"Län_namn\", y=\"Andel minst 1 dos\", data=vaccinerade_sthlm_vgt, errorbar=None, ax=axes[0, 0])\n",
    "sns.barplot(x=\"Län_namn\", y=\"Andel minst 2 doser\", data=vaccinerade_sthlm_vgt, errorbar=None, ax=axes[0, 1])\n",
    "sns.barplot(x=\"Län_namn\", y=\"Andel 3 doser\", data=vaccinerade_sthlm_vgt, errorbar=None, ax=axes[1, 0])\n",
    "\n",
    "# Hide the fourth\n",
    "axes[1, 1].axis('off')\n",
    "\n",
    "# Set x-axis labels rotation for each subplot      # Funktion\n",
    "axes[0, 0].set_xticks(axes[0, 0].get_xticks())\n",
    "axes[0, 0].set_xticklabels(axes[0, 0].get_xticklabels(), rotation=90)\n",
    "axes[0, 0].set_xlabel(\"Län\")\n",
    "axes[0, 0].tick_params(axis = 'x', labelsize = 8)\n",
    "\n",
    "axes[0, 1].set_xticks(axes[0, 1].get_xticks())\n",
    "axes[0, 1].set_xticklabels(axes[0, 1].get_xticklabels(), rotation=90)\n",
    "axes[0, 1].set_xlabel(\"Län\")\n",
    "axes[0, 1].tick_params(axis = 'x', labelsize = 8)\n",
    "\n",
    "axes[1, 0].set_xticks(axes[1, 0].get_xticks())\n",
    "axes[1, 0].set_xticklabels(axes[1, 0].get_xticklabels(), rotation=90)\n",
    "axes[1, 0].set_xlabel(\"Län\")\n",
    "axes[1, 0].tick_params(axis = 'x', labelsize = 8)\n",
    "\n",
    "# Adjust layout\n",
    "plt.subplots_adjust(wspace=0.5, hspace=0.6)\n",
    "plt.show()\n",
    "\n"
   ]
  }
 ],
 "metadata": {
  "kernelspec": {
   "display_name": "databehandling-YOUNIS-MOUSSAVI-DPhvznnG",
   "language": "python",
   "name": "python3"
  },
  "language_info": {
   "codemirror_mode": {
    "name": "ipython",
    "version": 3
   },
   "file_extension": ".py",
   "mimetype": "text/x-python",
   "name": "python",
   "nbconvert_exporter": "python",
   "pygments_lexer": "ipython3",
   "version": "3.11.5"
  }
 },
 "nbformat": 4,
 "nbformat_minor": 2
}
