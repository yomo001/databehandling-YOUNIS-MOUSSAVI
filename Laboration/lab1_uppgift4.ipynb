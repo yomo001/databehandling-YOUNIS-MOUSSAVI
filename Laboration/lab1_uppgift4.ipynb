{
 "cells": [
  {
   "cell_type": "code",
   "execution_count": null,
   "metadata": {},
   "outputs": [],
   "source": [
    "# Vad ger bäst beskydd, vaccination eller genomgången sjukdom?\n",
    "# Vad hindrar spridning/bärande av virus mest, vaccination eller genomgången sjukdom?"
   ]
  },
  {
   "cell_type": "code",
   "execution_count": null,
   "metadata": {},
   "outputs": [],
   "source": [
    "# https://covid19.who.int/data"
   ]
  }
 ],
 "metadata": {
  "language_info": {
   "name": "python"
  }
 },
 "nbformat": 4,
 "nbformat_minor": 2
}
