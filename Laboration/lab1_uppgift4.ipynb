{
 "cells": [
  {
   "cell_type": "code",
   "execution_count": 2,
   "metadata": {},
   "outputs": [],
   "source": [
    "# Andel avlidna, andel fall och andel vaccin per land. Finns trender här istället där skillanderna är större?\n",
    "# https://covid19.who.int/data - källa till data"
   ]
  },
  {
   "cell_type": "code",
   "execution_count": 3,
   "metadata": {},
   "outputs": [],
   "source": [
    "import pandas as pd\n",
    "import seaborn as sns\n",
    "import matplotlib.pyplot as plt\n",
    "import numpy as np\n",
    "import plotly_express as px"
   ]
  },
  {
   "cell_type": "code",
   "execution_count": 4,
   "metadata": {},
   "outputs": [],
   "source": [
    "# Andel avlidna och andel fall.\n",
    "# Import data\n",
    "\n",
    "world_covid_data = pd.read_csv(\"visualiseringar\\\\WHO-covid-19.csv\")  \n"
   ]
  },
  {
   "cell_type": "code",
   "execution_count": 5,
   "metadata": {},
   "outputs": [],
   "source": [
    "# world_covid_data.tail()\n",
    "# # only keep dates between 2020-02-03 and 2022-10-23 in world_covid_data\n",
    "# world_covid_data = world_covid_data[(world_covid_data['Date_reported'] >= '2020-02-03') & (world_covid_data['Date_reported'] <= '2022-10-23')]\n",
    "\n",
    "# To many values dissapeared when I did this filtering so I am commenting it out for now."
   ]
  },
  {
   "cell_type": "code",
   "execution_count": 6,
   "metadata": {},
   "outputs": [
    {
     "data": {
      "text/html": [
       "<div>\n",
       "<style scoped>\n",
       "    .dataframe tbody tr th:only-of-type {\n",
       "        vertical-align: middle;\n",
       "    }\n",
       "\n",
       "    .dataframe tbody tr th {\n",
       "        vertical-align: top;\n",
       "    }\n",
       "\n",
       "    .dataframe thead th {\n",
       "        text-align: right;\n",
       "    }\n",
       "</style>\n",
       "<table border=\"1\" class=\"dataframe\">\n",
       "  <thead>\n",
       "    <tr style=\"text-align: right;\">\n",
       "      <th></th>\n",
       "      <th>Date_reported</th>\n",
       "      <th>Country_code</th>\n",
       "      <th>Country</th>\n",
       "      <th>WHO_region</th>\n",
       "      <th>New_cases</th>\n",
       "      <th>Cumulative_cases</th>\n",
       "      <th>New_deaths</th>\n",
       "      <th>Cumulative_deaths</th>\n",
       "    </tr>\n",
       "  </thead>\n",
       "  <tbody>\n",
       "    <tr>\n",
       "      <th>0</th>\n",
       "      <td>2020-01-03</td>\n",
       "      <td>AF</td>\n",
       "      <td>Afghanistan</td>\n",
       "      <td>EMRO</td>\n",
       "      <td>0</td>\n",
       "      <td>0</td>\n",
       "      <td>0</td>\n",
       "      <td>0</td>\n",
       "    </tr>\n",
       "    <tr>\n",
       "      <th>1</th>\n",
       "      <td>2020-01-04</td>\n",
       "      <td>AF</td>\n",
       "      <td>Afghanistan</td>\n",
       "      <td>EMRO</td>\n",
       "      <td>0</td>\n",
       "      <td>0</td>\n",
       "      <td>0</td>\n",
       "      <td>0</td>\n",
       "    </tr>\n",
       "    <tr>\n",
       "      <th>2</th>\n",
       "      <td>2020-01-05</td>\n",
       "      <td>AF</td>\n",
       "      <td>Afghanistan</td>\n",
       "      <td>EMRO</td>\n",
       "      <td>0</td>\n",
       "      <td>0</td>\n",
       "      <td>0</td>\n",
       "      <td>0</td>\n",
       "    </tr>\n",
       "    <tr>\n",
       "      <th>3</th>\n",
       "      <td>2020-01-06</td>\n",
       "      <td>AF</td>\n",
       "      <td>Afghanistan</td>\n",
       "      <td>EMRO</td>\n",
       "      <td>0</td>\n",
       "      <td>0</td>\n",
       "      <td>0</td>\n",
       "      <td>0</td>\n",
       "    </tr>\n",
       "    <tr>\n",
       "      <th>4</th>\n",
       "      <td>2020-01-07</td>\n",
       "      <td>AF</td>\n",
       "      <td>Afghanistan</td>\n",
       "      <td>EMRO</td>\n",
       "      <td>0</td>\n",
       "      <td>0</td>\n",
       "      <td>0</td>\n",
       "      <td>0</td>\n",
       "    </tr>\n",
       "  </tbody>\n",
       "</table>\n",
       "</div>"
      ],
      "text/plain": [
       "  Date_reported Country_code      Country WHO_region  New_cases  \\\n",
       "0    2020-01-03           AF  Afghanistan       EMRO          0   \n",
       "1    2020-01-04           AF  Afghanistan       EMRO          0   \n",
       "2    2020-01-05           AF  Afghanistan       EMRO          0   \n",
       "3    2020-01-06           AF  Afghanistan       EMRO          0   \n",
       "4    2020-01-07           AF  Afghanistan       EMRO          0   \n",
       "\n",
       "   Cumulative_cases  New_deaths  Cumulative_deaths  \n",
       "0                 0           0                  0  \n",
       "1                 0           0                  0  \n",
       "2                 0           0                  0  \n",
       "3                 0           0                  0  \n",
       "4                 0           0                  0  "
      ]
     },
     "execution_count": 6,
     "metadata": {},
     "output_type": "execute_result"
    }
   ],
   "source": [
    "world_covid_data.head()"
   ]
  },
  {
   "cell_type": "code",
   "execution_count": 7,
   "metadata": {},
   "outputs": [],
   "source": [
    "# Groupby all cases and all deaths per country\n",
    "all_cases = world_covid_data.groupby('Country', as_index=False).agg(\n",
    "    sum_cases = pd.NamedAgg('New_cases', aggfunc='sum'),\n",
    "    sum_deaths = pd.NamedAgg('New_deaths', aggfunc='sum'))"
   ]
  },
  {
   "cell_type": "code",
   "execution_count": 8,
   "metadata": {},
   "outputs": [
    {
     "data": {
      "text/html": [
       "<div>\n",
       "<style scoped>\n",
       "    .dataframe tbody tr th:only-of-type {\n",
       "        vertical-align: middle;\n",
       "    }\n",
       "\n",
       "    .dataframe tbody tr th {\n",
       "        vertical-align: top;\n",
       "    }\n",
       "\n",
       "    .dataframe thead th {\n",
       "        text-align: right;\n",
       "    }\n",
       "</style>\n",
       "<table border=\"1\" class=\"dataframe\">\n",
       "  <thead>\n",
       "    <tr style=\"text-align: right;\">\n",
       "      <th></th>\n",
       "      <th>Country</th>\n",
       "      <th>sum_cases</th>\n",
       "      <th>sum_deaths</th>\n",
       "    </tr>\n",
       "  </thead>\n",
       "  <tbody>\n",
       "    <tr>\n",
       "      <th>0</th>\n",
       "      <td>Afghanistan</td>\n",
       "      <td>227885</td>\n",
       "      <td>7956</td>\n",
       "    </tr>\n",
       "    <tr>\n",
       "      <th>1</th>\n",
       "      <td>Albania</td>\n",
       "      <td>334090</td>\n",
       "      <td>3604</td>\n",
       "    </tr>\n",
       "    <tr>\n",
       "      <th>2</th>\n",
       "      <td>Algeria</td>\n",
       "      <td>271958</td>\n",
       "      <td>6881</td>\n",
       "    </tr>\n",
       "    <tr>\n",
       "      <th>3</th>\n",
       "      <td>American Samoa</td>\n",
       "      <td>8359</td>\n",
       "      <td>34</td>\n",
       "    </tr>\n",
       "    <tr>\n",
       "      <th>4</th>\n",
       "      <td>Andorra</td>\n",
       "      <td>48015</td>\n",
       "      <td>159</td>\n",
       "    </tr>\n",
       "  </tbody>\n",
       "</table>\n",
       "</div>"
      ],
      "text/plain": [
       "          Country  sum_cases  sum_deaths\n",
       "0     Afghanistan     227885        7956\n",
       "1         Albania     334090        3604\n",
       "2         Algeria     271958        6881\n",
       "3  American Samoa       8359          34\n",
       "4         Andorra      48015         159"
      ]
     },
     "execution_count": 8,
     "metadata": {},
     "output_type": "execute_result"
    }
   ],
   "source": [
    "all_cases.head() "
   ]
  },
  {
   "cell_type": "code",
   "execution_count": 9,
   "metadata": {},
   "outputs": [],
   "source": [
    "# Addera kolumn med andel avlidna per fall\n",
    "all_cases['Andel avlidna/fall'] = all_cases['sum_deaths']/all_cases['sum_cases']"
   ]
  },
  {
   "cell_type": "code",
   "execution_count": 10,
   "metadata": {},
   "outputs": [],
   "source": [
    "# Läsa in filen WHO-vaccin.csv\n",
    "world_vaccin_data = pd.read_csv(\"visualiseringar\\\\WHO-vaccin.csv\")"
   ]
  },
  {
   "cell_type": "code",
   "execution_count": 11,
   "metadata": {},
   "outputs": [
    {
     "data": {
      "text/html": [
       "<div>\n",
       "<style scoped>\n",
       "    .dataframe tbody tr th:only-of-type {\n",
       "        vertical-align: middle;\n",
       "    }\n",
       "\n",
       "    .dataframe tbody tr th {\n",
       "        vertical-align: top;\n",
       "    }\n",
       "\n",
       "    .dataframe thead th {\n",
       "        text-align: right;\n",
       "    }\n",
       "</style>\n",
       "<table border=\"1\" class=\"dataframe\">\n",
       "  <thead>\n",
       "    <tr style=\"text-align: right;\">\n",
       "      <th></th>\n",
       "      <th>COUNTRY</th>\n",
       "      <th>ISO3</th>\n",
       "      <th>WHO_REGION</th>\n",
       "      <th>DATA_SOURCE</th>\n",
       "      <th>DATE_UPDATED</th>\n",
       "      <th>TOTAL_VACCINATIONS</th>\n",
       "      <th>PERSONS_VACCINATED_1PLUS_DOSE</th>\n",
       "      <th>TOTAL_VACCINATIONS_PER100</th>\n",
       "      <th>PERSONS_VACCINATED_1PLUS_DOSE_PER100</th>\n",
       "      <th>PERSONS_LAST_DOSE</th>\n",
       "      <th>PERSONS_LAST_DOSE_PER100</th>\n",
       "      <th>VACCINES_USED</th>\n",
       "      <th>FIRST_VACCINE_DATE</th>\n",
       "      <th>NUMBER_VACCINES_TYPES_USED</th>\n",
       "      <th>PERSONS_BOOSTER_ADD_DOSE</th>\n",
       "      <th>PERSONS_BOOSTER_ADD_DOSE_PER100</th>\n",
       "    </tr>\n",
       "  </thead>\n",
       "  <tbody>\n",
       "    <tr>\n",
       "      <th>0</th>\n",
       "      <td>Algeria</td>\n",
       "      <td>DZA</td>\n",
       "      <td>AFRO</td>\n",
       "      <td>REPORTING</td>\n",
       "      <td>2022-09-04</td>\n",
       "      <td>15267442.0</td>\n",
       "      <td>7840131</td>\n",
       "      <td>34.817</td>\n",
       "      <td>17.879</td>\n",
       "      <td>6481186</td>\n",
       "      <td>14.780</td>\n",
       "      <td>NaN</td>\n",
       "      <td>2021-01-30</td>\n",
       "      <td>4.0</td>\n",
       "      <td>575651.0</td>\n",
       "      <td>1.313</td>\n",
       "    </tr>\n",
       "    <tr>\n",
       "      <th>1</th>\n",
       "      <td>Angola</td>\n",
       "      <td>AGO</td>\n",
       "      <td>AFRO</td>\n",
       "      <td>REPORTING</td>\n",
       "      <td>2023-10-22</td>\n",
       "      <td>27639026.0</td>\n",
       "      <td>16490814</td>\n",
       "      <td>84.095</td>\n",
       "      <td>50.175</td>\n",
       "      <td>9574047</td>\n",
       "      <td>29.130</td>\n",
       "      <td>NaN</td>\n",
       "      <td>2021-03-10</td>\n",
       "      <td>1.0</td>\n",
       "      <td>2985931.0</td>\n",
       "      <td>9.085</td>\n",
       "    </tr>\n",
       "    <tr>\n",
       "      <th>2</th>\n",
       "      <td>Armenia</td>\n",
       "      <td>ARM</td>\n",
       "      <td>EURO</td>\n",
       "      <td>REPORTING</td>\n",
       "      <td>2023-10-01</td>\n",
       "      <td>2256919.0</td>\n",
       "      <td>1150915</td>\n",
       "      <td>76.200</td>\n",
       "      <td>41.237</td>\n",
       "      <td>1030758</td>\n",
       "      <td>36.932</td>\n",
       "      <td>NaN</td>\n",
       "      <td>2021-01-27</td>\n",
       "      <td>10.0</td>\n",
       "      <td>81354.0</td>\n",
       "      <td>2.915</td>\n",
       "    </tr>\n",
       "    <tr>\n",
       "      <th>3</th>\n",
       "      <td>Aruba</td>\n",
       "      <td>ABW</td>\n",
       "      <td>AMRO</td>\n",
       "      <td>REPORTING</td>\n",
       "      <td>2023-06-02</td>\n",
       "      <td>216974.0</td>\n",
       "      <td>90449</td>\n",
       "      <td>203.224</td>\n",
       "      <td>84.717</td>\n",
       "      <td>84297</td>\n",
       "      <td>78.955</td>\n",
       "      <td>NaN</td>\n",
       "      <td>2021-02-17</td>\n",
       "      <td>2.0</td>\n",
       "      <td>35659.0</td>\n",
       "      <td>33.399</td>\n",
       "    </tr>\n",
       "    <tr>\n",
       "      <th>4</th>\n",
       "      <td>Brazil</td>\n",
       "      <td>BRA</td>\n",
       "      <td>AMRO</td>\n",
       "      <td>REPORTING</td>\n",
       "      <td>2023-06-02</td>\n",
       "      <td>513329718.0</td>\n",
       "      <td>188746389</td>\n",
       "      <td>241.499</td>\n",
       "      <td>88.797</td>\n",
       "      <td>171459392</td>\n",
       "      <td>80.664</td>\n",
       "      <td>NaN</td>\n",
       "      <td>2021-01-17</td>\n",
       "      <td>5.0</td>\n",
       "      <td>110382337.0</td>\n",
       "      <td>51.930</td>\n",
       "    </tr>\n",
       "  </tbody>\n",
       "</table>\n",
       "</div>"
      ],
      "text/plain": [
       "   COUNTRY ISO3 WHO_REGION DATA_SOURCE DATE_UPDATED  TOTAL_VACCINATIONS  \\\n",
       "0  Algeria  DZA       AFRO   REPORTING   2022-09-04          15267442.0   \n",
       "1   Angola  AGO       AFRO   REPORTING   2023-10-22          27639026.0   \n",
       "2  Armenia  ARM       EURO   REPORTING   2023-10-01           2256919.0   \n",
       "3    Aruba  ABW       AMRO   REPORTING   2023-06-02            216974.0   \n",
       "4   Brazil  BRA       AMRO   REPORTING   2023-06-02         513329718.0   \n",
       "\n",
       "   PERSONS_VACCINATED_1PLUS_DOSE  TOTAL_VACCINATIONS_PER100  \\\n",
       "0                        7840131                     34.817   \n",
       "1                       16490814                     84.095   \n",
       "2                        1150915                     76.200   \n",
       "3                          90449                    203.224   \n",
       "4                      188746389                    241.499   \n",
       "\n",
       "   PERSONS_VACCINATED_1PLUS_DOSE_PER100  PERSONS_LAST_DOSE  \\\n",
       "0                                17.879            6481186   \n",
       "1                                50.175            9574047   \n",
       "2                                41.237            1030758   \n",
       "3                                84.717              84297   \n",
       "4                                88.797          171459392   \n",
       "\n",
       "   PERSONS_LAST_DOSE_PER100  VACCINES_USED FIRST_VACCINE_DATE  \\\n",
       "0                    14.780            NaN         2021-01-30   \n",
       "1                    29.130            NaN         2021-03-10   \n",
       "2                    36.932            NaN         2021-01-27   \n",
       "3                    78.955            NaN         2021-02-17   \n",
       "4                    80.664            NaN         2021-01-17   \n",
       "\n",
       "   NUMBER_VACCINES_TYPES_USED  PERSONS_BOOSTER_ADD_DOSE  \\\n",
       "0                         4.0                  575651.0   \n",
       "1                         1.0                 2985931.0   \n",
       "2                        10.0                   81354.0   \n",
       "3                         2.0                   35659.0   \n",
       "4                         5.0               110382337.0   \n",
       "\n",
       "   PERSONS_BOOSTER_ADD_DOSE_PER100  \n",
       "0                            1.313  \n",
       "1                            9.085  \n",
       "2                            2.915  \n",
       "3                           33.399  \n",
       "4                           51.930  "
      ]
     },
     "execution_count": 11,
     "metadata": {},
     "output_type": "execute_result"
    }
   ],
   "source": [
    "world_vaccin_data.head()"
   ]
  },
  {
   "cell_type": "code",
   "execution_count": 12,
   "metadata": {},
   "outputs": [],
   "source": [
    "# # Only include data before 2022-10-23 in world_vaccin_data\n",
    "# To many values dissapeared when I did this, so I commented it out.\n",
    "# world_vaccin_data = world_vaccin_data[(world_vaccin_data['DATE_UPDATED'] <= '2022-10-23')]"
   ]
  },
  {
   "cell_type": "code",
   "execution_count": 13,
   "metadata": {},
   "outputs": [
    {
     "data": {
      "text/html": [
       "<div>\n",
       "<style scoped>\n",
       "    .dataframe tbody tr th:only-of-type {\n",
       "        vertical-align: middle;\n",
       "    }\n",
       "\n",
       "    .dataframe tbody tr th {\n",
       "        vertical-align: top;\n",
       "    }\n",
       "\n",
       "    .dataframe thead th {\n",
       "        text-align: right;\n",
       "    }\n",
       "</style>\n",
       "<table border=\"1\" class=\"dataframe\">\n",
       "  <thead>\n",
       "    <tr style=\"text-align: right;\">\n",
       "      <th></th>\n",
       "      <th>COUNTRY</th>\n",
       "      <th>ISO3</th>\n",
       "      <th>WHO_REGION</th>\n",
       "      <th>DATA_SOURCE</th>\n",
       "      <th>DATE_UPDATED</th>\n",
       "      <th>TOTAL_VACCINATIONS</th>\n",
       "      <th>PERSONS_VACCINATED_1PLUS_DOSE</th>\n",
       "      <th>TOTAL_VACCINATIONS_PER100</th>\n",
       "      <th>PERSONS_VACCINATED_1PLUS_DOSE_PER100</th>\n",
       "      <th>PERSONS_LAST_DOSE</th>\n",
       "      <th>PERSONS_LAST_DOSE_PER100</th>\n",
       "      <th>VACCINES_USED</th>\n",
       "      <th>FIRST_VACCINE_DATE</th>\n",
       "      <th>NUMBER_VACCINES_TYPES_USED</th>\n",
       "      <th>PERSONS_BOOSTER_ADD_DOSE</th>\n",
       "      <th>PERSONS_BOOSTER_ADD_DOSE_PER100</th>\n",
       "    </tr>\n",
       "  </thead>\n",
       "  <tbody>\n",
       "    <tr>\n",
       "      <th>0</th>\n",
       "      <td>Algeria</td>\n",
       "      <td>DZA</td>\n",
       "      <td>AFRO</td>\n",
       "      <td>REPORTING</td>\n",
       "      <td>2022-09-04</td>\n",
       "      <td>15267442.0</td>\n",
       "      <td>7840131</td>\n",
       "      <td>34.817</td>\n",
       "      <td>17.879</td>\n",
       "      <td>6481186</td>\n",
       "      <td>14.780</td>\n",
       "      <td>NaN</td>\n",
       "      <td>2021-01-30</td>\n",
       "      <td>4.0</td>\n",
       "      <td>575651.0</td>\n",
       "      <td>1.313</td>\n",
       "    </tr>\n",
       "    <tr>\n",
       "      <th>1</th>\n",
       "      <td>Angola</td>\n",
       "      <td>AGO</td>\n",
       "      <td>AFRO</td>\n",
       "      <td>REPORTING</td>\n",
       "      <td>2023-10-22</td>\n",
       "      <td>27639026.0</td>\n",
       "      <td>16490814</td>\n",
       "      <td>84.095</td>\n",
       "      <td>50.175</td>\n",
       "      <td>9574047</td>\n",
       "      <td>29.130</td>\n",
       "      <td>NaN</td>\n",
       "      <td>2021-03-10</td>\n",
       "      <td>1.0</td>\n",
       "      <td>2985931.0</td>\n",
       "      <td>9.085</td>\n",
       "    </tr>\n",
       "    <tr>\n",
       "      <th>2</th>\n",
       "      <td>Armenia</td>\n",
       "      <td>ARM</td>\n",
       "      <td>EURO</td>\n",
       "      <td>REPORTING</td>\n",
       "      <td>2023-10-01</td>\n",
       "      <td>2256919.0</td>\n",
       "      <td>1150915</td>\n",
       "      <td>76.200</td>\n",
       "      <td>41.237</td>\n",
       "      <td>1030758</td>\n",
       "      <td>36.932</td>\n",
       "      <td>NaN</td>\n",
       "      <td>2021-01-27</td>\n",
       "      <td>10.0</td>\n",
       "      <td>81354.0</td>\n",
       "      <td>2.915</td>\n",
       "    </tr>\n",
       "    <tr>\n",
       "      <th>3</th>\n",
       "      <td>Aruba</td>\n",
       "      <td>ABW</td>\n",
       "      <td>AMRO</td>\n",
       "      <td>REPORTING</td>\n",
       "      <td>2023-06-02</td>\n",
       "      <td>216974.0</td>\n",
       "      <td>90449</td>\n",
       "      <td>203.224</td>\n",
       "      <td>84.717</td>\n",
       "      <td>84297</td>\n",
       "      <td>78.955</td>\n",
       "      <td>NaN</td>\n",
       "      <td>2021-02-17</td>\n",
       "      <td>2.0</td>\n",
       "      <td>35659.0</td>\n",
       "      <td>33.399</td>\n",
       "    </tr>\n",
       "    <tr>\n",
       "      <th>4</th>\n",
       "      <td>Brazil</td>\n",
       "      <td>BRA</td>\n",
       "      <td>AMRO</td>\n",
       "      <td>REPORTING</td>\n",
       "      <td>2023-06-02</td>\n",
       "      <td>513329718.0</td>\n",
       "      <td>188746389</td>\n",
       "      <td>241.499</td>\n",
       "      <td>88.797</td>\n",
       "      <td>171459392</td>\n",
       "      <td>80.664</td>\n",
       "      <td>NaN</td>\n",
       "      <td>2021-01-17</td>\n",
       "      <td>5.0</td>\n",
       "      <td>110382337.0</td>\n",
       "      <td>51.930</td>\n",
       "    </tr>\n",
       "  </tbody>\n",
       "</table>\n",
       "</div>"
      ],
      "text/plain": [
       "   COUNTRY ISO3 WHO_REGION DATA_SOURCE DATE_UPDATED  TOTAL_VACCINATIONS  \\\n",
       "0  Algeria  DZA       AFRO   REPORTING   2022-09-04          15267442.0   \n",
       "1   Angola  AGO       AFRO   REPORTING   2023-10-22          27639026.0   \n",
       "2  Armenia  ARM       EURO   REPORTING   2023-10-01           2256919.0   \n",
       "3    Aruba  ABW       AMRO   REPORTING   2023-06-02            216974.0   \n",
       "4   Brazil  BRA       AMRO   REPORTING   2023-06-02         513329718.0   \n",
       "\n",
       "   PERSONS_VACCINATED_1PLUS_DOSE  TOTAL_VACCINATIONS_PER100  \\\n",
       "0                        7840131                     34.817   \n",
       "1                       16490814                     84.095   \n",
       "2                        1150915                     76.200   \n",
       "3                          90449                    203.224   \n",
       "4                      188746389                    241.499   \n",
       "\n",
       "   PERSONS_VACCINATED_1PLUS_DOSE_PER100  PERSONS_LAST_DOSE  \\\n",
       "0                                17.879            6481186   \n",
       "1                                50.175            9574047   \n",
       "2                                41.237            1030758   \n",
       "3                                84.717              84297   \n",
       "4                                88.797          171459392   \n",
       "\n",
       "   PERSONS_LAST_DOSE_PER100  VACCINES_USED FIRST_VACCINE_DATE  \\\n",
       "0                    14.780            NaN         2021-01-30   \n",
       "1                    29.130            NaN         2021-03-10   \n",
       "2                    36.932            NaN         2021-01-27   \n",
       "3                    78.955            NaN         2021-02-17   \n",
       "4                    80.664            NaN         2021-01-17   \n",
       "\n",
       "   NUMBER_VACCINES_TYPES_USED  PERSONS_BOOSTER_ADD_DOSE  \\\n",
       "0                         4.0                  575651.0   \n",
       "1                         1.0                 2985931.0   \n",
       "2                        10.0                   81354.0   \n",
       "3                         2.0                   35659.0   \n",
       "4                         5.0               110382337.0   \n",
       "\n",
       "   PERSONS_BOOSTER_ADD_DOSE_PER100  \n",
       "0                            1.313  \n",
       "1                            9.085  \n",
       "2                            2.915  \n",
       "3                           33.399  \n",
       "4                           51.930  "
      ]
     },
     "execution_count": 13,
     "metadata": {},
     "output_type": "execute_result"
    }
   ],
   "source": [
    "world_vaccin_data.head()\n",
    "# PERSON_BOOSTER_ADD_DOSE_PER100 is the cumulative amount receiving one or more booster doses per 100 population\n"
   ]
  },
  {
   "cell_type": "code",
   "execution_count": 14,
   "metadata": {},
   "outputs": [],
   "source": [
    "# Adding new column for total population count based on PERSONS_BOOSTER_ADD_DOSE and PERSONS_BOOSTER_ADD_DOSE_PER100\n",
    "world_vaccin_data['Total population'] = world_vaccin_data['PERSONS_BOOSTER_ADD_DOSE']/world_vaccin_data['PERSONS_BOOSTER_ADD_DOSE_PER100']*100\n",
    "    "
   ]
  },
  {
   "cell_type": "code",
   "execution_count": 15,
   "metadata": {},
   "outputs": [
    {
     "data": {
      "text/html": [
       "<div>\n",
       "<style scoped>\n",
       "    .dataframe tbody tr th:only-of-type {\n",
       "        vertical-align: middle;\n",
       "    }\n",
       "\n",
       "    .dataframe tbody tr th {\n",
       "        vertical-align: top;\n",
       "    }\n",
       "\n",
       "    .dataframe thead th {\n",
       "        text-align: right;\n",
       "    }\n",
       "</style>\n",
       "<table border=\"1\" class=\"dataframe\">\n",
       "  <thead>\n",
       "    <tr style=\"text-align: right;\">\n",
       "      <th></th>\n",
       "      <th>COUNTRY</th>\n",
       "      <th>ISO3</th>\n",
       "      <th>WHO_REGION</th>\n",
       "      <th>DATA_SOURCE</th>\n",
       "      <th>DATE_UPDATED</th>\n",
       "      <th>TOTAL_VACCINATIONS</th>\n",
       "      <th>PERSONS_VACCINATED_1PLUS_DOSE</th>\n",
       "      <th>TOTAL_VACCINATIONS_PER100</th>\n",
       "      <th>PERSONS_VACCINATED_1PLUS_DOSE_PER100</th>\n",
       "      <th>PERSONS_LAST_DOSE</th>\n",
       "      <th>PERSONS_LAST_DOSE_PER100</th>\n",
       "      <th>VACCINES_USED</th>\n",
       "      <th>FIRST_VACCINE_DATE</th>\n",
       "      <th>NUMBER_VACCINES_TYPES_USED</th>\n",
       "      <th>PERSONS_BOOSTER_ADD_DOSE</th>\n",
       "      <th>PERSONS_BOOSTER_ADD_DOSE_PER100</th>\n",
       "      <th>Total population</th>\n",
       "    </tr>\n",
       "  </thead>\n",
       "  <tbody>\n",
       "    <tr>\n",
       "      <th>0</th>\n",
       "      <td>Algeria</td>\n",
       "      <td>DZA</td>\n",
       "      <td>AFRO</td>\n",
       "      <td>REPORTING</td>\n",
       "      <td>2022-09-04</td>\n",
       "      <td>15267442.0</td>\n",
       "      <td>7840131</td>\n",
       "      <td>34.817</td>\n",
       "      <td>17.879</td>\n",
       "      <td>6481186</td>\n",
       "      <td>14.780</td>\n",
       "      <td>NaN</td>\n",
       "      <td>2021-01-30</td>\n",
       "      <td>4.0</td>\n",
       "      <td>575651.0</td>\n",
       "      <td>1.313</td>\n",
       "      <td>4.384242e+07</td>\n",
       "    </tr>\n",
       "    <tr>\n",
       "      <th>1</th>\n",
       "      <td>Angola</td>\n",
       "      <td>AGO</td>\n",
       "      <td>AFRO</td>\n",
       "      <td>REPORTING</td>\n",
       "      <td>2023-10-22</td>\n",
       "      <td>27639026.0</td>\n",
       "      <td>16490814</td>\n",
       "      <td>84.095</td>\n",
       "      <td>50.175</td>\n",
       "      <td>9574047</td>\n",
       "      <td>29.130</td>\n",
       "      <td>NaN</td>\n",
       "      <td>2021-03-10</td>\n",
       "      <td>1.0</td>\n",
       "      <td>2985931.0</td>\n",
       "      <td>9.085</td>\n",
       "      <td>3.286660e+07</td>\n",
       "    </tr>\n",
       "    <tr>\n",
       "      <th>2</th>\n",
       "      <td>Armenia</td>\n",
       "      <td>ARM</td>\n",
       "      <td>EURO</td>\n",
       "      <td>REPORTING</td>\n",
       "      <td>2023-10-01</td>\n",
       "      <td>2256919.0</td>\n",
       "      <td>1150915</td>\n",
       "      <td>76.200</td>\n",
       "      <td>41.237</td>\n",
       "      <td>1030758</td>\n",
       "      <td>36.932</td>\n",
       "      <td>NaN</td>\n",
       "      <td>2021-01-27</td>\n",
       "      <td>10.0</td>\n",
       "      <td>81354.0</td>\n",
       "      <td>2.915</td>\n",
       "      <td>2.790875e+06</td>\n",
       "    </tr>\n",
       "    <tr>\n",
       "      <th>3</th>\n",
       "      <td>Aruba</td>\n",
       "      <td>ABW</td>\n",
       "      <td>AMRO</td>\n",
       "      <td>REPORTING</td>\n",
       "      <td>2023-06-02</td>\n",
       "      <td>216974.0</td>\n",
       "      <td>90449</td>\n",
       "      <td>203.224</td>\n",
       "      <td>84.717</td>\n",
       "      <td>84297</td>\n",
       "      <td>78.955</td>\n",
       "      <td>NaN</td>\n",
       "      <td>2021-02-17</td>\n",
       "      <td>2.0</td>\n",
       "      <td>35659.0</td>\n",
       "      <td>33.399</td>\n",
       "      <td>1.067667e+05</td>\n",
       "    </tr>\n",
       "    <tr>\n",
       "      <th>4</th>\n",
       "      <td>Brazil</td>\n",
       "      <td>BRA</td>\n",
       "      <td>AMRO</td>\n",
       "      <td>REPORTING</td>\n",
       "      <td>2023-06-02</td>\n",
       "      <td>513329718.0</td>\n",
       "      <td>188746389</td>\n",
       "      <td>241.499</td>\n",
       "      <td>88.797</td>\n",
       "      <td>171459392</td>\n",
       "      <td>80.664</td>\n",
       "      <td>NaN</td>\n",
       "      <td>2021-01-17</td>\n",
       "      <td>5.0</td>\n",
       "      <td>110382337.0</td>\n",
       "      <td>51.930</td>\n",
       "      <td>2.125599e+08</td>\n",
       "    </tr>\n",
       "  </tbody>\n",
       "</table>\n",
       "</div>"
      ],
      "text/plain": [
       "   COUNTRY ISO3 WHO_REGION DATA_SOURCE DATE_UPDATED  TOTAL_VACCINATIONS  \\\n",
       "0  Algeria  DZA       AFRO   REPORTING   2022-09-04          15267442.0   \n",
       "1   Angola  AGO       AFRO   REPORTING   2023-10-22          27639026.0   \n",
       "2  Armenia  ARM       EURO   REPORTING   2023-10-01           2256919.0   \n",
       "3    Aruba  ABW       AMRO   REPORTING   2023-06-02            216974.0   \n",
       "4   Brazil  BRA       AMRO   REPORTING   2023-06-02         513329718.0   \n",
       "\n",
       "   PERSONS_VACCINATED_1PLUS_DOSE  TOTAL_VACCINATIONS_PER100  \\\n",
       "0                        7840131                     34.817   \n",
       "1                       16490814                     84.095   \n",
       "2                        1150915                     76.200   \n",
       "3                          90449                    203.224   \n",
       "4                      188746389                    241.499   \n",
       "\n",
       "   PERSONS_VACCINATED_1PLUS_DOSE_PER100  PERSONS_LAST_DOSE  \\\n",
       "0                                17.879            6481186   \n",
       "1                                50.175            9574047   \n",
       "2                                41.237            1030758   \n",
       "3                                84.717              84297   \n",
       "4                                88.797          171459392   \n",
       "\n",
       "   PERSONS_LAST_DOSE_PER100  VACCINES_USED FIRST_VACCINE_DATE  \\\n",
       "0                    14.780            NaN         2021-01-30   \n",
       "1                    29.130            NaN         2021-03-10   \n",
       "2                    36.932            NaN         2021-01-27   \n",
       "3                    78.955            NaN         2021-02-17   \n",
       "4                    80.664            NaN         2021-01-17   \n",
       "\n",
       "   NUMBER_VACCINES_TYPES_USED  PERSONS_BOOSTER_ADD_DOSE  \\\n",
       "0                         4.0                  575651.0   \n",
       "1                         1.0                 2985931.0   \n",
       "2                        10.0                   81354.0   \n",
       "3                         2.0                   35659.0   \n",
       "4                         5.0               110382337.0   \n",
       "\n",
       "   PERSONS_BOOSTER_ADD_DOSE_PER100  Total population  \n",
       "0                            1.313      4.384242e+07  \n",
       "1                            9.085      3.286660e+07  \n",
       "2                            2.915      2.790875e+06  \n",
       "3                           33.399      1.067667e+05  \n",
       "4                           51.930      2.125599e+08  "
      ]
     },
     "execution_count": 15,
     "metadata": {},
     "output_type": "execute_result"
    }
   ],
   "source": [
    "world_vaccin_data.head()"
   ]
  },
  {
   "cell_type": "code",
   "execution_count": 16,
   "metadata": {},
   "outputs": [],
   "source": [
    "# Groupby PERSONS_BOOSTER_ADD_DOSE by country using max values\n",
    "world_vaccin_data_grouped = world_vaccin_data.groupby('COUNTRY', as_index=False).agg(\n",
    "    sum_vaccin = pd.NamedAgg('PERSONS_BOOSTER_ADD_DOSE', aggfunc='max'),\n",
    "    sum_pop = pd.NamedAgg('Total population', aggfunc='max'))"
   ]
  },
  {
   "cell_type": "code",
   "execution_count": 17,
   "metadata": {},
   "outputs": [
    {
     "data": {
      "text/html": [
       "<div>\n",
       "<style scoped>\n",
       "    .dataframe tbody tr th:only-of-type {\n",
       "        vertical-align: middle;\n",
       "    }\n",
       "\n",
       "    .dataframe tbody tr th {\n",
       "        vertical-align: top;\n",
       "    }\n",
       "\n",
       "    .dataframe thead th {\n",
       "        text-align: right;\n",
       "    }\n",
       "</style>\n",
       "<table border=\"1\" class=\"dataframe\">\n",
       "  <thead>\n",
       "    <tr style=\"text-align: right;\">\n",
       "      <th></th>\n",
       "      <th>COUNTRY</th>\n",
       "      <th>sum_vaccin</th>\n",
       "      <th>sum_pop</th>\n",
       "    </tr>\n",
       "  </thead>\n",
       "  <tbody>\n",
       "    <tr>\n",
       "      <th>0</th>\n",
       "      <td>Afghanistan</td>\n",
       "      <td>2481042.0</td>\n",
       "      <td>3.893052e+07</td>\n",
       "    </tr>\n",
       "    <tr>\n",
       "      <th>1</th>\n",
       "      <td>Albania</td>\n",
       "      <td>402371.0</td>\n",
       "      <td>2.854707e+06</td>\n",
       "    </tr>\n",
       "    <tr>\n",
       "      <th>2</th>\n",
       "      <td>Algeria</td>\n",
       "      <td>575651.0</td>\n",
       "      <td>4.384242e+07</td>\n",
       "    </tr>\n",
       "    <tr>\n",
       "      <th>3</th>\n",
       "      <td>American Samoa</td>\n",
       "      <td>24160.0</td>\n",
       "      <td>5.519762e+04</td>\n",
       "    </tr>\n",
       "    <tr>\n",
       "      <th>4</th>\n",
       "      <td>Andorra</td>\n",
       "      <td>43071.0</td>\n",
       "      <td>7.903371e+04</td>\n",
       "    </tr>\n",
       "  </tbody>\n",
       "</table>\n",
       "</div>"
      ],
      "text/plain": [
       "          COUNTRY  sum_vaccin       sum_pop\n",
       "0     Afghanistan   2481042.0  3.893052e+07\n",
       "1         Albania    402371.0  2.854707e+06\n",
       "2         Algeria    575651.0  4.384242e+07\n",
       "3  American Samoa     24160.0  5.519762e+04\n",
       "4         Andorra     43071.0  7.903371e+04"
      ]
     },
     "execution_count": 17,
     "metadata": {},
     "output_type": "execute_result"
    }
   ],
   "source": [
    "world_vaccin_data_grouped.head()"
   ]
  },
  {
   "cell_type": "code",
   "execution_count": 18,
   "metadata": {},
   "outputs": [],
   "source": [
    "# Adding a new column with the percentage of vaccinated people\n",
    "world_vaccin_data_grouped['Andel vaccinerade'] = world_vaccin_data_grouped['sum_vaccin']/world_vaccin_data_grouped['sum_pop']\n"
   ]
  },
  {
   "cell_type": "code",
   "execution_count": 19,
   "metadata": {},
   "outputs": [
    {
     "data": {
      "text/html": [
       "<div>\n",
       "<style scoped>\n",
       "    .dataframe tbody tr th:only-of-type {\n",
       "        vertical-align: middle;\n",
       "    }\n",
       "\n",
       "    .dataframe tbody tr th {\n",
       "        vertical-align: top;\n",
       "    }\n",
       "\n",
       "    .dataframe thead th {\n",
       "        text-align: right;\n",
       "    }\n",
       "</style>\n",
       "<table border=\"1\" class=\"dataframe\">\n",
       "  <thead>\n",
       "    <tr style=\"text-align: right;\">\n",
       "      <th></th>\n",
       "      <th>COUNTRY</th>\n",
       "      <th>sum_vaccin</th>\n",
       "      <th>sum_pop</th>\n",
       "      <th>Andel vaccinerade</th>\n",
       "    </tr>\n",
       "  </thead>\n",
       "  <tbody>\n",
       "    <tr>\n",
       "      <th>0</th>\n",
       "      <td>Afghanistan</td>\n",
       "      <td>2481042.0</td>\n",
       "      <td>3.893052e+07</td>\n",
       "      <td>0.06373</td>\n",
       "    </tr>\n",
       "    <tr>\n",
       "      <th>1</th>\n",
       "      <td>Albania</td>\n",
       "      <td>402371.0</td>\n",
       "      <td>2.854707e+06</td>\n",
       "      <td>0.14095</td>\n",
       "    </tr>\n",
       "    <tr>\n",
       "      <th>2</th>\n",
       "      <td>Algeria</td>\n",
       "      <td>575651.0</td>\n",
       "      <td>4.384242e+07</td>\n",
       "      <td>0.01313</td>\n",
       "    </tr>\n",
       "    <tr>\n",
       "      <th>3</th>\n",
       "      <td>American Samoa</td>\n",
       "      <td>24160.0</td>\n",
       "      <td>5.519762e+04</td>\n",
       "      <td>0.43770</td>\n",
       "    </tr>\n",
       "    <tr>\n",
       "      <th>4</th>\n",
       "      <td>Andorra</td>\n",
       "      <td>43071.0</td>\n",
       "      <td>7.903371e+04</td>\n",
       "      <td>0.54497</td>\n",
       "    </tr>\n",
       "  </tbody>\n",
       "</table>\n",
       "</div>"
      ],
      "text/plain": [
       "          COUNTRY  sum_vaccin       sum_pop  Andel vaccinerade\n",
       "0     Afghanistan   2481042.0  3.893052e+07            0.06373\n",
       "1         Albania    402371.0  2.854707e+06            0.14095\n",
       "2         Algeria    575651.0  4.384242e+07            0.01313\n",
       "3  American Samoa     24160.0  5.519762e+04            0.43770\n",
       "4         Andorra     43071.0  7.903371e+04            0.54497"
      ]
     },
     "execution_count": 19,
     "metadata": {},
     "output_type": "execute_result"
    }
   ],
   "source": [
    "world_vaccin_data_grouped.head()"
   ]
  },
  {
   "cell_type": "code",
   "execution_count": 20,
   "metadata": {},
   "outputs": [],
   "source": [
    "# Merge all_cases and world_vaccin_data_grouped\n",
    "merged_data = pd.merge(all_cases, world_vaccin_data_grouped, left_on='Country', right_on='COUNTRY')"
   ]
  },
  {
   "cell_type": "code",
   "execution_count": 21,
   "metadata": {},
   "outputs": [
    {
     "data": {
      "text/html": [
       "<div>\n",
       "<style scoped>\n",
       "    .dataframe tbody tr th:only-of-type {\n",
       "        vertical-align: middle;\n",
       "    }\n",
       "\n",
       "    .dataframe tbody tr th {\n",
       "        vertical-align: top;\n",
       "    }\n",
       "\n",
       "    .dataframe thead th {\n",
       "        text-align: right;\n",
       "    }\n",
       "</style>\n",
       "<table border=\"1\" class=\"dataframe\">\n",
       "  <thead>\n",
       "    <tr style=\"text-align: right;\">\n",
       "      <th></th>\n",
       "      <th>Country</th>\n",
       "      <th>sum_cases</th>\n",
       "      <th>sum_deaths</th>\n",
       "      <th>Andel avlidna/fall</th>\n",
       "      <th>COUNTRY</th>\n",
       "      <th>sum_vaccin</th>\n",
       "      <th>sum_pop</th>\n",
       "      <th>Andel vaccinerade</th>\n",
       "    </tr>\n",
       "  </thead>\n",
       "  <tbody>\n",
       "    <tr>\n",
       "      <th>0</th>\n",
       "      <td>Afghanistan</td>\n",
       "      <td>227885</td>\n",
       "      <td>7956</td>\n",
       "      <td>0.034912</td>\n",
       "      <td>Afghanistan</td>\n",
       "      <td>2481042.0</td>\n",
       "      <td>3.893052e+07</td>\n",
       "      <td>0.06373</td>\n",
       "    </tr>\n",
       "    <tr>\n",
       "      <th>1</th>\n",
       "      <td>Albania</td>\n",
       "      <td>334090</td>\n",
       "      <td>3604</td>\n",
       "      <td>0.010788</td>\n",
       "      <td>Albania</td>\n",
       "      <td>402371.0</td>\n",
       "      <td>2.854707e+06</td>\n",
       "      <td>0.14095</td>\n",
       "    </tr>\n",
       "    <tr>\n",
       "      <th>2</th>\n",
       "      <td>Algeria</td>\n",
       "      <td>271958</td>\n",
       "      <td>6881</td>\n",
       "      <td>0.025302</td>\n",
       "      <td>Algeria</td>\n",
       "      <td>575651.0</td>\n",
       "      <td>4.384242e+07</td>\n",
       "      <td>0.01313</td>\n",
       "    </tr>\n",
       "    <tr>\n",
       "      <th>3</th>\n",
       "      <td>American Samoa</td>\n",
       "      <td>8359</td>\n",
       "      <td>34</td>\n",
       "      <td>0.004067</td>\n",
       "      <td>American Samoa</td>\n",
       "      <td>24160.0</td>\n",
       "      <td>5.519762e+04</td>\n",
       "      <td>0.43770</td>\n",
       "    </tr>\n",
       "    <tr>\n",
       "      <th>4</th>\n",
       "      <td>Andorra</td>\n",
       "      <td>48015</td>\n",
       "      <td>159</td>\n",
       "      <td>0.003311</td>\n",
       "      <td>Andorra</td>\n",
       "      <td>43071.0</td>\n",
       "      <td>7.903371e+04</td>\n",
       "      <td>0.54497</td>\n",
       "    </tr>\n",
       "  </tbody>\n",
       "</table>\n",
       "</div>"
      ],
      "text/plain": [
       "          Country  sum_cases  sum_deaths  Andel avlidna/fall         COUNTRY  \\\n",
       "0     Afghanistan     227885        7956            0.034912     Afghanistan   \n",
       "1         Albania     334090        3604            0.010788         Albania   \n",
       "2         Algeria     271958        6881            0.025302         Algeria   \n",
       "3  American Samoa       8359          34            0.004067  American Samoa   \n",
       "4         Andorra      48015         159            0.003311         Andorra   \n",
       "\n",
       "   sum_vaccin       sum_pop  Andel vaccinerade  \n",
       "0   2481042.0  3.893052e+07            0.06373  \n",
       "1    402371.0  2.854707e+06            0.14095  \n",
       "2    575651.0  4.384242e+07            0.01313  \n",
       "3     24160.0  5.519762e+04            0.43770  \n",
       "4     43071.0  7.903371e+04            0.54497  "
      ]
     },
     "execution_count": 21,
     "metadata": {},
     "output_type": "execute_result"
    }
   ],
   "source": [
    "merged_data.head()"
   ]
  },
  {
   "cell_type": "code",
   "execution_count": 22,
   "metadata": {},
   "outputs": [],
   "source": [
    "# Drop one of the duplicate country columns\n",
    "merged_data = merged_data.drop(columns=['COUNTRY'])"
   ]
  },
  {
   "cell_type": "code",
   "execution_count": 23,
   "metadata": {},
   "outputs": [],
   "source": [
    "# Making the country column an index\n",
    "merged_data = merged_data.set_index('Country')"
   ]
  },
  {
   "cell_type": "code",
   "execution_count": 24,
   "metadata": {},
   "outputs": [],
   "source": [
    "# Correlation analysis of merged_data\n",
    "correlation_matrix = merged_data.corr().abs()"
   ]
  },
  {
   "cell_type": "code",
   "execution_count": 25,
   "metadata": {},
   "outputs": [
    {
     "data": {
      "text/html": [
       "<style type=\"text/css\">\n",
       "#T_4e3d3_row0_col0, #T_4e3d3_row1_col1, #T_4e3d3_row2_col2, #T_4e3d3_row3_col3, #T_4e3d3_row3_col4, #T_4e3d3_row4_col3, #T_4e3d3_row4_col4, #T_4e3d3_row5_col5 {\n",
       "  font-weight: bold;\n",
       "}\n",
       "</style>\n",
       "<table id=\"T_4e3d3\">\n",
       "  <thead>\n",
       "    <tr>\n",
       "      <th class=\"blank level0\" >&nbsp;</th>\n",
       "      <th id=\"T_4e3d3_level0_col0\" class=\"col_heading level0 col0\" >sum_cases</th>\n",
       "      <th id=\"T_4e3d3_level0_col1\" class=\"col_heading level0 col1\" >sum_deaths</th>\n",
       "      <th id=\"T_4e3d3_level0_col2\" class=\"col_heading level0 col2\" >Andel avlidna/fall</th>\n",
       "      <th id=\"T_4e3d3_level0_col3\" class=\"col_heading level0 col3\" >sum_vaccin</th>\n",
       "      <th id=\"T_4e3d3_level0_col4\" class=\"col_heading level0 col4\" >sum_pop</th>\n",
       "      <th id=\"T_4e3d3_level0_col5\" class=\"col_heading level0 col5\" >Andel vaccinerade</th>\n",
       "    </tr>\n",
       "  </thead>\n",
       "  <tbody>\n",
       "    <tr>\n",
       "      <th id=\"T_4e3d3_level0_row0\" class=\"row_heading level0 row0\" >sum_cases</th>\n",
       "      <td id=\"T_4e3d3_row0_col0\" class=\"data row0 col0\" >1.000000</td>\n",
       "      <td id=\"T_4e3d3_row0_col1\" class=\"data row0 col1\" >0.761987</td>\n",
       "      <td id=\"T_4e3d3_row0_col2\" class=\"data row0 col2\" >0.064707</td>\n",
       "      <td id=\"T_4e3d3_row0_col3\" class=\"data row0 col3\" >0.754808</td>\n",
       "      <td id=\"T_4e3d3_row0_col4\" class=\"data row0 col4\" >0.705811</td>\n",
       "      <td id=\"T_4e3d3_row0_col5\" class=\"data row0 col5\" >0.178781</td>\n",
       "    </tr>\n",
       "    <tr>\n",
       "      <th id=\"T_4e3d3_level0_row1\" class=\"row_heading level0 row1\" >sum_deaths</th>\n",
       "      <td id=\"T_4e3d3_row1_col0\" class=\"data row1 col0\" >0.761987</td>\n",
       "      <td id=\"T_4e3d3_row1_col1\" class=\"data row1 col1\" >1.000000</td>\n",
       "      <td id=\"T_4e3d3_row1_col2\" class=\"data row1 col2\" >0.066805</td>\n",
       "      <td id=\"T_4e3d3_row1_col3\" class=\"data row1 col3\" >0.338488</td>\n",
       "      <td id=\"T_4e3d3_row1_col4\" class=\"data row1 col4\" >0.459483</td>\n",
       "      <td id=\"T_4e3d3_row1_col5\" class=\"data row1 col5\" >0.085911</td>\n",
       "    </tr>\n",
       "    <tr>\n",
       "      <th id=\"T_4e3d3_level0_row2\" class=\"row_heading level0 row2\" >Andel avlidna/fall</th>\n",
       "      <td id=\"T_4e3d3_row2_col0\" class=\"data row2 col0\" >0.064707</td>\n",
       "      <td id=\"T_4e3d3_row2_col1\" class=\"data row2 col1\" >0.066805</td>\n",
       "      <td id=\"T_4e3d3_row2_col2\" class=\"data row2 col2\" >1.000000</td>\n",
       "      <td id=\"T_4e3d3_row2_col3\" class=\"data row2 col3\" >0.032993</td>\n",
       "      <td id=\"T_4e3d3_row2_col4\" class=\"data row2 col4\" >0.017535</td>\n",
       "      <td id=\"T_4e3d3_row2_col5\" class=\"data row2 col5\" >0.354427</td>\n",
       "    </tr>\n",
       "    <tr>\n",
       "      <th id=\"T_4e3d3_level0_row3\" class=\"row_heading level0 row3\" >sum_vaccin</th>\n",
       "      <td id=\"T_4e3d3_row3_col0\" class=\"data row3 col0\" >0.754808</td>\n",
       "      <td id=\"T_4e3d3_row3_col1\" class=\"data row3 col1\" >0.338488</td>\n",
       "      <td id=\"T_4e3d3_row3_col2\" class=\"data row3 col2\" >0.032993</td>\n",
       "      <td id=\"T_4e3d3_row3_col3\" class=\"data row3 col3\" >1.000000</td>\n",
       "      <td id=\"T_4e3d3_row3_col4\" class=\"data row3 col4\" >0.879026</td>\n",
       "      <td id=\"T_4e3d3_row3_col5\" class=\"data row3 col5\" >0.108847</td>\n",
       "    </tr>\n",
       "    <tr>\n",
       "      <th id=\"T_4e3d3_level0_row4\" class=\"row_heading level0 row4\" >sum_pop</th>\n",
       "      <td id=\"T_4e3d3_row4_col0\" class=\"data row4 col0\" >0.705811</td>\n",
       "      <td id=\"T_4e3d3_row4_col1\" class=\"data row4 col1\" >0.459483</td>\n",
       "      <td id=\"T_4e3d3_row4_col2\" class=\"data row4 col2\" >0.017535</td>\n",
       "      <td id=\"T_4e3d3_row4_col3\" class=\"data row4 col3\" >0.879026</td>\n",
       "      <td id=\"T_4e3d3_row4_col4\" class=\"data row4 col4\" >1.000000</td>\n",
       "      <td id=\"T_4e3d3_row4_col5\" class=\"data row4 col5\" >0.010438</td>\n",
       "    </tr>\n",
       "    <tr>\n",
       "      <th id=\"T_4e3d3_level0_row5\" class=\"row_heading level0 row5\" >Andel vaccinerade</th>\n",
       "      <td id=\"T_4e3d3_row5_col0\" class=\"data row5 col0\" >0.178781</td>\n",
       "      <td id=\"T_4e3d3_row5_col1\" class=\"data row5 col1\" >0.085911</td>\n",
       "      <td id=\"T_4e3d3_row5_col2\" class=\"data row5 col2\" >0.354427</td>\n",
       "      <td id=\"T_4e3d3_row5_col3\" class=\"data row5 col3\" >0.108847</td>\n",
       "      <td id=\"T_4e3d3_row5_col4\" class=\"data row5 col4\" >0.010438</td>\n",
       "      <td id=\"T_4e3d3_row5_col5\" class=\"data row5 col5\" >1.000000</td>\n",
       "    </tr>\n",
       "  </tbody>\n",
       "</table>\n"
      ],
      "text/plain": [
       "<pandas.io.formats.style.Styler at 0x134bdb771d0>"
      ]
     },
     "execution_count": 25,
     "metadata": {},
     "output_type": "execute_result"
    }
   ],
   "source": [
    "# Setting threshold at 0.85 and marking the values above that as bold\n",
    "threshold = 0.85\n",
    "correlation_matrix.style.map(lambda x: \"font-weight: bold\" if x > threshold else \"\")  # Han gör stylingen utan att gå in närmare på det"
   ]
  },
  {
   "cell_type": "code",
   "execution_count": 26,
   "metadata": {},
   "outputs": [
    {
     "data": {
      "text/html": [
       "<div>\n",
       "<style scoped>\n",
       "    .dataframe tbody tr th:only-of-type {\n",
       "        vertical-align: middle;\n",
       "    }\n",
       "\n",
       "    .dataframe tbody tr th {\n",
       "        vertical-align: top;\n",
       "    }\n",
       "\n",
       "    .dataframe thead th {\n",
       "        text-align: right;\n",
       "    }\n",
       "</style>\n",
       "<table border=\"1\" class=\"dataframe\">\n",
       "  <thead>\n",
       "    <tr style=\"text-align: right;\">\n",
       "      <th></th>\n",
       "      <th>country_code</th>\n",
       "      <th>latitude</th>\n",
       "      <th>longitude</th>\n",
       "      <th>country</th>\n",
       "      <th>usa_state_code</th>\n",
       "      <th>usa_state_latitude</th>\n",
       "      <th>usa_state_longitude</th>\n",
       "      <th>usa_state</th>\n",
       "    </tr>\n",
       "  </thead>\n",
       "  <tbody>\n",
       "    <tr>\n",
       "      <th>0</th>\n",
       "      <td>AD</td>\n",
       "      <td>42.546245</td>\n",
       "      <td>1.601554</td>\n",
       "      <td>Andorra</td>\n",
       "      <td>AK</td>\n",
       "      <td>63.588753</td>\n",
       "      <td>-154.493062</td>\n",
       "      <td>Alaska</td>\n",
       "    </tr>\n",
       "    <tr>\n",
       "      <th>1</th>\n",
       "      <td>AE</td>\n",
       "      <td>23.424076</td>\n",
       "      <td>53.847818</td>\n",
       "      <td>United Arab Emirates</td>\n",
       "      <td>AL</td>\n",
       "      <td>32.318231</td>\n",
       "      <td>-86.902298</td>\n",
       "      <td>Alabama</td>\n",
       "    </tr>\n",
       "    <tr>\n",
       "      <th>2</th>\n",
       "      <td>AF</td>\n",
       "      <td>33.939110</td>\n",
       "      <td>67.709953</td>\n",
       "      <td>Afghanistan</td>\n",
       "      <td>AR</td>\n",
       "      <td>35.201050</td>\n",
       "      <td>-91.831833</td>\n",
       "      <td>Arkansas</td>\n",
       "    </tr>\n",
       "    <tr>\n",
       "      <th>3</th>\n",
       "      <td>AG</td>\n",
       "      <td>17.060816</td>\n",
       "      <td>-61.796428</td>\n",
       "      <td>Antigua and Barbuda</td>\n",
       "      <td>AZ</td>\n",
       "      <td>34.048928</td>\n",
       "      <td>-111.093731</td>\n",
       "      <td>Arizona</td>\n",
       "    </tr>\n",
       "    <tr>\n",
       "      <th>4</th>\n",
       "      <td>AI</td>\n",
       "      <td>18.220554</td>\n",
       "      <td>-63.068615</td>\n",
       "      <td>Anguilla</td>\n",
       "      <td>CA</td>\n",
       "      <td>36.778261</td>\n",
       "      <td>-119.417932</td>\n",
       "      <td>California</td>\n",
       "    </tr>\n",
       "  </tbody>\n",
       "</table>\n",
       "</div>"
      ],
      "text/plain": [
       "  country_code   latitude  longitude               country usa_state_code  \\\n",
       "0           AD  42.546245   1.601554               Andorra             AK   \n",
       "1           AE  23.424076  53.847818  United Arab Emirates             AL   \n",
       "2           AF  33.939110  67.709953           Afghanistan             AR   \n",
       "3           AG  17.060816 -61.796428   Antigua and Barbuda             AZ   \n",
       "4           AI  18.220554 -63.068615              Anguilla             CA   \n",
       "\n",
       "   usa_state_latitude  usa_state_longitude   usa_state  \n",
       "0           63.588753          -154.493062      Alaska  \n",
       "1           32.318231           -86.902298     Alabama  \n",
       "2           35.201050           -91.831833    Arkansas  \n",
       "3           34.048928          -111.093731     Arizona  \n",
       "4           36.778261          -119.417932  California  "
      ]
     },
     "execution_count": 26,
     "metadata": {},
     "output_type": "execute_result"
    }
   ],
   "source": [
    "#Adding latitude and longitude to merged_data from country_coordinates.csv\n",
    "country_coordinates = pd.read_csv(\"visualiseringar\\\\country_coordinates.csv\")\n",
    "\n",
    "country_coordinates.head()"
   ]
  },
  {
   "cell_type": "code",
   "execution_count": 50,
   "metadata": {},
   "outputs": [],
   "source": [
    "# Adding latitude and longitude to merged_data\n",
    "merged_data_2 = pd.merge(merged_data, country_coordinates, left_on='Country', right_on='country')"
   ]
  },
  {
   "cell_type": "code",
   "execution_count": 51,
   "metadata": {},
   "outputs": [
    {
     "data": {
      "text/html": [
       "<div>\n",
       "<style scoped>\n",
       "    .dataframe tbody tr th:only-of-type {\n",
       "        vertical-align: middle;\n",
       "    }\n",
       "\n",
       "    .dataframe tbody tr th {\n",
       "        vertical-align: top;\n",
       "    }\n",
       "\n",
       "    .dataframe thead th {\n",
       "        text-align: right;\n",
       "    }\n",
       "</style>\n",
       "<table border=\"1\" class=\"dataframe\">\n",
       "  <thead>\n",
       "    <tr style=\"text-align: right;\">\n",
       "      <th></th>\n",
       "      <th>sum_cases</th>\n",
       "      <th>sum_deaths</th>\n",
       "      <th>Andel avlidna/fall</th>\n",
       "      <th>sum_vaccin</th>\n",
       "      <th>sum_pop</th>\n",
       "      <th>Andel vaccinerade</th>\n",
       "      <th>country_code</th>\n",
       "      <th>latitude</th>\n",
       "      <th>longitude</th>\n",
       "      <th>country</th>\n",
       "      <th>usa_state_code</th>\n",
       "      <th>usa_state_latitude</th>\n",
       "      <th>usa_state_longitude</th>\n",
       "      <th>usa_state</th>\n",
       "    </tr>\n",
       "  </thead>\n",
       "  <tbody>\n",
       "    <tr>\n",
       "      <th>0</th>\n",
       "      <td>227885</td>\n",
       "      <td>7956</td>\n",
       "      <td>0.034912</td>\n",
       "      <td>2481042.0</td>\n",
       "      <td>3.893052e+07</td>\n",
       "      <td>0.06373</td>\n",
       "      <td>AF</td>\n",
       "      <td>33.939110</td>\n",
       "      <td>67.709953</td>\n",
       "      <td>Afghanistan</td>\n",
       "      <td>AR</td>\n",
       "      <td>35.201050</td>\n",
       "      <td>-91.831833</td>\n",
       "      <td>Arkansas</td>\n",
       "    </tr>\n",
       "    <tr>\n",
       "      <th>1</th>\n",
       "      <td>334090</td>\n",
       "      <td>3604</td>\n",
       "      <td>0.010788</td>\n",
       "      <td>402371.0</td>\n",
       "      <td>2.854707e+06</td>\n",
       "      <td>0.14095</td>\n",
       "      <td>AL</td>\n",
       "      <td>41.153332</td>\n",
       "      <td>20.168331</td>\n",
       "      <td>Albania</td>\n",
       "      <td>CO</td>\n",
       "      <td>39.550051</td>\n",
       "      <td>-105.782067</td>\n",
       "      <td>Colorado</td>\n",
       "    </tr>\n",
       "    <tr>\n",
       "      <th>2</th>\n",
       "      <td>271958</td>\n",
       "      <td>6881</td>\n",
       "      <td>0.025302</td>\n",
       "      <td>575651.0</td>\n",
       "      <td>4.384242e+07</td>\n",
       "      <td>0.01313</td>\n",
       "      <td>DZ</td>\n",
       "      <td>28.033886</td>\n",
       "      <td>1.659626</td>\n",
       "      <td>Algeria</td>\n",
       "      <td>NaN</td>\n",
       "      <td>NaN</td>\n",
       "      <td>NaN</td>\n",
       "      <td>NaN</td>\n",
       "    </tr>\n",
       "    <tr>\n",
       "      <th>3</th>\n",
       "      <td>8359</td>\n",
       "      <td>34</td>\n",
       "      <td>0.004067</td>\n",
       "      <td>24160.0</td>\n",
       "      <td>5.519762e+04</td>\n",
       "      <td>0.43770</td>\n",
       "      <td>AS</td>\n",
       "      <td>-14.270972</td>\n",
       "      <td>-170.132217</td>\n",
       "      <td>American Samoa</td>\n",
       "      <td>HI</td>\n",
       "      <td>19.898682</td>\n",
       "      <td>-155.665857</td>\n",
       "      <td>Hawaii</td>\n",
       "    </tr>\n",
       "    <tr>\n",
       "      <th>4</th>\n",
       "      <td>48015</td>\n",
       "      <td>159</td>\n",
       "      <td>0.003311</td>\n",
       "      <td>43071.0</td>\n",
       "      <td>7.903371e+04</td>\n",
       "      <td>0.54497</td>\n",
       "      <td>AD</td>\n",
       "      <td>42.546245</td>\n",
       "      <td>1.601554</td>\n",
       "      <td>Andorra</td>\n",
       "      <td>AK</td>\n",
       "      <td>63.588753</td>\n",
       "      <td>-154.493062</td>\n",
       "      <td>Alaska</td>\n",
       "    </tr>\n",
       "  </tbody>\n",
       "</table>\n",
       "</div>"
      ],
      "text/plain": [
       "   sum_cases  sum_deaths  Andel avlidna/fall  sum_vaccin       sum_pop  \\\n",
       "0     227885        7956            0.034912   2481042.0  3.893052e+07   \n",
       "1     334090        3604            0.010788    402371.0  2.854707e+06   \n",
       "2     271958        6881            0.025302    575651.0  4.384242e+07   \n",
       "3       8359          34            0.004067     24160.0  5.519762e+04   \n",
       "4      48015         159            0.003311     43071.0  7.903371e+04   \n",
       "\n",
       "   Andel vaccinerade country_code   latitude   longitude         country  \\\n",
       "0            0.06373           AF  33.939110   67.709953     Afghanistan   \n",
       "1            0.14095           AL  41.153332   20.168331         Albania   \n",
       "2            0.01313           DZ  28.033886    1.659626         Algeria   \n",
       "3            0.43770           AS -14.270972 -170.132217  American Samoa   \n",
       "4            0.54497           AD  42.546245    1.601554         Andorra   \n",
       "\n",
       "  usa_state_code  usa_state_latitude  usa_state_longitude usa_state  \n",
       "0             AR           35.201050           -91.831833  Arkansas  \n",
       "1             CO           39.550051          -105.782067  Colorado  \n",
       "2            NaN                 NaN                  NaN       NaN  \n",
       "3             HI           19.898682          -155.665857    Hawaii  \n",
       "4             AK           63.588753          -154.493062    Alaska  "
      ]
     },
     "execution_count": 51,
     "metadata": {},
     "output_type": "execute_result"
    }
   ],
   "source": [
    "merged_data_2.head()"
   ]
  },
  {
   "cell_type": "code",
   "execution_count": 52,
   "metadata": {},
   "outputs": [],
   "source": [
    "# Making the country column an index\n",
    "merged_data_2 = merged_data_2.set_index('country')\n"
   ]
  },
  {
   "cell_type": "code",
   "execution_count": 53,
   "metadata": {},
   "outputs": [
    {
     "name": "stdout",
     "output_type": "stream",
     "text": [
      "<class 'pandas.core.frame.DataFrame'>\n",
      "Index: 193 entries, Afghanistan to Zimbabwe\n",
      "Data columns (total 13 columns):\n",
      " #   Column               Non-Null Count  Dtype  \n",
      "---  ------               --------------  -----  \n",
      " 0   sum_cases            193 non-null    int64  \n",
      " 1   sum_deaths           193 non-null    int64  \n",
      " 2   Andel avlidna/fall   192 non-null    float64\n",
      " 3   sum_vaccin           184 non-null    float64\n",
      " 4   sum_pop              182 non-null    float64\n",
      " 5   Andel vaccinerade    182 non-null    float64\n",
      " 6   country_code         192 non-null    object \n",
      " 7   latitude             193 non-null    float64\n",
      " 8   longitude            193 non-null    float64\n",
      " 9   usa_state_code       41 non-null     object \n",
      " 10  usa_state_latitude   41 non-null     float64\n",
      " 11  usa_state_longitude  41 non-null     float64\n",
      " 12  usa_state            41 non-null     object \n",
      "dtypes: float64(8), int64(2), object(3)\n",
      "memory usage: 21.1+ KB\n"
     ]
    }
   ],
   "source": [
    "# Clean data\n",
    "merged_data_2.info()"
   ]
  },
  {
   "cell_type": "code",
   "execution_count": 55,
   "metadata": {},
   "outputs": [],
   "source": [
    "# Drop columns 9-12 (usa_state_code etc)\n",
    "merged_data_2 = merged_data_2.drop(columns=['usa_state_code', 'usa_state_latitude', 'usa_state_longitude', 'usa_state'])\n"
   ]
  },
  {
   "cell_type": "code",
   "execution_count": 56,
   "metadata": {},
   "outputs": [
    {
     "name": "stdout",
     "output_type": "stream",
     "text": [
      "<class 'pandas.core.frame.DataFrame'>\n",
      "Index: 193 entries, Afghanistan to Zimbabwe\n",
      "Data columns (total 9 columns):\n",
      " #   Column              Non-Null Count  Dtype  \n",
      "---  ------              --------------  -----  \n",
      " 0   sum_cases           193 non-null    int64  \n",
      " 1   sum_deaths          193 non-null    int64  \n",
      " 2   Andel avlidna/fall  192 non-null    float64\n",
      " 3   sum_vaccin          184 non-null    float64\n",
      " 4   sum_pop             182 non-null    float64\n",
      " 5   Andel vaccinerade   182 non-null    float64\n",
      " 6   country_code        192 non-null    object \n",
      " 7   latitude            193 non-null    float64\n",
      " 8   longitude           193 non-null    float64\n",
      "dtypes: float64(6), int64(2), object(1)\n",
      "memory usage: 15.1+ KB\n"
     ]
    }
   ],
   "source": [
    "merged_data_2.info()"
   ]
  },
  {
   "cell_type": "code",
   "execution_count": 59,
   "metadata": {},
   "outputs": [],
   "source": [
    "# Delete NaN values only in rows with NaN values\n",
    "merged_data_2.dropna(inplace=True)"
   ]
  },
  {
   "cell_type": "code",
   "execution_count": 61,
   "metadata": {},
   "outputs": [
    {
     "name": "stdout",
     "output_type": "stream",
     "text": [
      "<class 'pandas.core.frame.DataFrame'>\n",
      "Index: 180 entries, Afghanistan to Zimbabwe\n",
      "Data columns (total 9 columns):\n",
      " #   Column              Non-Null Count  Dtype  \n",
      "---  ------              --------------  -----  \n",
      " 0   sum_cases           180 non-null    int64  \n",
      " 1   sum_deaths          180 non-null    int64  \n",
      " 2   Andel avlidna/fall  180 non-null    float64\n",
      " 3   sum_vaccin          180 non-null    float64\n",
      " 4   sum_pop             180 non-null    float64\n",
      " 5   Andel vaccinerade   180 non-null    float64\n",
      " 6   country_code        180 non-null    object \n",
      " 7   latitude            180 non-null    float64\n",
      " 8   longitude           180 non-null    float64\n",
      "dtypes: float64(6), int64(2), object(1)\n",
      "memory usage: 14.1+ KB\n"
     ]
    }
   ],
   "source": [
    "merged_data_2.info()   "
   ]
  },
  {
   "cell_type": "code",
   "execution_count": 71,
   "metadata": {},
   "outputs": [
    {
     "data": {
      "application/vnd.plotly.v1+json": {
       "config": {
        "plotlyServerURL": "https://plot.ly"
       },
       "data": [
        {
         "customdata": [
          [
           227885,
           7956,
           67.709953,
           33.93911
          ],
          [
           334090,
           3604,
           20.168331,
           41.153332
          ],
          [
           271958,
           6881,
           1.659626,
           28.033886
          ],
          [
           8359,
           34,
           -170.132217,
           -14.270972
          ],
          [
           48015,
           159,
           1.601554,
           42.546245
          ],
          [
           105978,
           1936,
           17.873887,
           -11.202692
          ],
          [
           3904,
           12,
           -63.068615,
           18.220554
          ],
          [
           9106,
           146,
           -61.796428,
           17.060816
          ],
          [
           10054576,
           130472,
           -63.616672,
           -38.416097
          ],
          [
           450873,
           8769,
           45.038189,
           40.069099
          ],
          [
           44224,
           292,
           -69.968338,
           12.52111
          ],
          [
           11629977,
           23342,
           133.775136,
           -25.274398
          ],
          [
           6081287,
           22534,
           14.550072,
           47.516231
          ],
          [
           834050,
           10356,
           47.576927,
           40.143105
          ],
          [
           38084,
           844,
           -77.39628,
           25.03428
          ],
          [
           696614,
           1536,
           50.637772,
           25.930414
          ],
          [
           2045958,
           29477,
           90.356331,
           23.684994
          ],
          [
           110091,
           620,
           -59.543198,
           13.193887
          ],
          [
           994037,
           7118,
           27.953389,
           53.709807
          ],
          [
           4827188,
           34339,
           4.469936,
           50.503887
          ],
          [
           71060,
           688,
           -88.49765,
           17.189877
          ],
          [
           18860,
           165,
           -64.75737,
           32.321384
          ],
          [
           62697,
           21,
           90.433601,
           27.514162
          ],
          [
           330360,
           2801,
           24.684866,
           -22.328474
          ],
          [
           37721749,
           704659,
           -51.92528,
           -14.235004
          ],
          [
           7305,
           64,
           -64.639968,
           18.420695
          ],
          [
           1307688,
           38456,
           25.48583,
           42.733883
          ],
          [
           22056,
           396,
           -1.561593,
           12.238333
          ],
          [
           54721,
           15,
           29.918886,
           -3.373056
          ],
          [
           138945,
           3056,
           104.990963,
           12.565679
          ],
          [
           125090,
           1974,
           12.354722,
           7.369722
          ],
          [
           4716205,
           53297,
           -106.346771,
           56.130366
          ],
          [
           31472,
           37,
           -80.566956,
           19.513469
          ],
          [
           15367,
           113,
           20.939444,
           6.611111
          ],
          [
           7698,
           194,
           18.732207,
           15.454166
          ],
          [
           5288930,
           61611,
           -71.542969,
           -35.675147
          ],
          [
           99318718,
           121790,
           104.195397,
           35.86166
          ],
          [
           6383440,
           142942,
           -74.297333,
           4.570868
          ],
          [
           7168,
           2,
           -159.777671,
           -21.236736
          ],
          [
           1238884,
           9428,
           -83.753428,
           9.748917
          ],
          [
           1276497,
           18438,
           15.2,
           45.1
          ],
          [
           1115103,
           8530,
           -77.781167,
           21.521757
          ],
          [
           660854,
           1364,
           33.429859,
           35.126413
          ],
          [
           3417017,
           8824,
           9.501785,
           56.26392
          ],
          [
           15798,
           74,
           -61.370976,
           15.414999
          ],
          [
           667074,
           4384,
           -70.162651,
           18.735693
          ],
          [
           1069139,
           36043,
           -78.183406,
           -1.831239
          ],
          [
           516023,
           24830,
           30.802498,
           26.820553
          ],
          [
           201809,
           4230,
           -88.89653,
           13.794185
          ],
          [
           17130,
           183,
           10.267895,
           1.650801
          ],
          [
           602478,
           2902,
           25.013607,
           58.595272
          ],
          [
           501060,
           7574,
           40.489673,
           9.145
          ],
          [
           34658,
           28,
           -6.911806,
           61.892635
          ],
          [
           69047,
           885,
           179.414413,
           -16.578193
          ],
          [
           1490937,
           10286,
           25.748151,
           61.92411
          ],
          [
           38997490,
           167985,
           2.213749,
           46.227638
          ],
          [
           98041,
           413,
           -53.125782,
           3.933889
          ],
          [
           78653,
           649,
           -149.406843,
           -17.679742
          ],
          [
           48992,
           307,
           11.609444,
           -0.803689
          ],
          [
           12626,
           372,
           -15.310139,
           13.443182
          ],
          [
           1855289,
           17132,
           43.356892,
           42.315407
          ],
          [
           38437756,
           174979,
           10.451526,
           51.165691
          ],
          [
           171653,
           1462,
           -1.023194,
           7.946527
          ],
          [
           20550,
           113,
           -5.345374,
           36.137741
          ],
          [
           5443008,
           37748,
           21.824312,
           39.074208
          ],
          [
           19693,
           238,
           -61.604171,
           12.262776
          ],
          [
           203235,
           1021,
           -62.067641,
           16.995971
          ],
          [
           52075,
           417,
           144.793731,
           13.444304
          ],
          [
           1271070,
           20235,
           -90.230759,
           15.783471
          ],
          [
           35326,
           67,
           -2.585278,
           49.465691
          ],
          [
           38563,
           468,
           -9.696645,
           9.945587
          ],
          [
           9614,
           177,
           -15.180413,
           11.803749
          ],
          [
           73388,
           1299,
           -58.93018,
           4.860416
          ],
          [
           474590,
           11127,
           -86.241905,
           15.199999
          ],
          [
           2211136,
           48828,
           19.503304,
           47.162494
          ],
          [
           209286,
           186,
           -19.020835,
           64.963051
          ],
          [
           45001384,
           533294,
           78.96288,
           20.593684
          ],
          [
           6813429,
           161918,
           113.921327,
           -0.789275
          ],
          [
           2465545,
           25375,
           43.679291,
           33.223191
          ],
          [
           1723999,
           9328,
           -8.24389,
           53.41291
          ],
          [
           38008,
           116,
           -4.548056,
           54.236107
          ],
          [
           4841756,
           12707,
           34.851612,
           31.046051
          ],
          [
           26257548,
           192554,
           12.56738,
           41.87194
          ],
          [
           156468,
           3610,
           -77.297508,
           18.109581
          ],
          [
           33803572,
           74694,
           138.252924,
           36.204824
          ],
          [
           66391,
           161,
           -2.13125,
           49.214439
          ],
          [
           1746997,
           14122,
           36.238414,
           30.585164
          ],
          [
           1502857,
           19072,
           66.923684,
           48.019573
          ],
          [
           344130,
           5689,
           37.906193,
           -0.023559
          ],
          [
           5085,
           24,
           -168.734039,
           -3.370417
          ],
          [
           666501,
           2570,
           47.481766,
           29.31166
          ],
          [
           88908,
           1024,
           74.766098,
           41.20438
          ],
          [
           976428,
           7388,
           24.603189,
           56.879635
          ],
          [
           1239904,
           10947,
           35.862285,
           33.854721
          ],
          [
           35836,
           709,
           28.233608,
           -29.609988
          ],
          [
           7930,
           294,
           -9.429499,
           6.428055
          ],
          [
           507269,
           6437,
           17.228331,
           26.3351
          ],
          [
           21515,
           87,
           9.555373,
           47.166
          ],
          [
           1340934,
           9739,
           23.881275,
           55.169438
          ],
          [
           385445,
           1000,
           6.129583,
           49.815273
          ],
          [
           68358,
           1425,
           46.869107,
           -18.766947
          ],
          [
           88986,
           2686,
           34.301525,
           -13.254308
          ],
          [
           5131899,
           37202,
           101.975766,
           4.210484
          ],
          [
           186694,
           316,
           73.22068,
           3.202778
          ],
          [
           120632,
           883,
           14.375416,
           35.937496
          ],
          [
           16138,
           17,
           171.184478,
           7.131474
          ],
          [
           230354,
           1104,
           -61.024174,
           14.641528
          ],
          [
           63774,
           997,
           -10.940835,
           21.00789
          ],
          [
           309983,
           1054,
           57.552152,
           -20.348404
          ],
          [
           7692885,
           334752,
           -102.552784,
           23.634501
          ],
          [
           17109,
           67,
           7.412841,
           43.750298
          ],
          [
           1011267,
           2284,
           103.846656,
           46.862496
          ],
          [
           1403,
           8,
           -62.187366,
           16.742498
          ],
          [
           1277342,
           16297,
           -7.09262,
           31.791702
          ],
          [
           233654,
           2249,
           35.529562,
           -18.665695
          ],
          [
           5393,
           1,
           166.931503,
           -0.522778
          ],
          [
           1003450,
           12031,
           84.124008,
           28.394857
          ],
          [
           8620051,
           22986,
           5.291266,
           52.132633
          ],
          [
           80064,
           314,
           165.618042,
           -20.904305
          ],
          [
           2400967,
           3445,
           174.885971,
           -40.900557
          ],
          [
           16061,
           245,
           -85.207229,
           12.865416
          ],
          [
           267146,
           3155,
           8.675277,
           9.081999
          ],
          [
           889,
           0,
           -169.867233,
           -19.054445
          ],
          [
           1489459,
           5732,
           8.468946,
           60.472024
          ],
          [
           399449,
           4628,
           55.923255,
           21.512583
          ],
          [
           1580631,
           30656,
           69.345116,
           30.375321
          ],
          [
           6246,
           9,
           134.58252,
           7.51498
          ],
          [
           1047727,
           8658,
           -80.782127,
           8.537981
          ],
          [
           46864,
           670,
           143.95555,
           -6.314993
          ],
          [
           735957,
           19989,
           -58.443832,
           -23.442503
          ],
          [
           4522474,
           221727,
           -75.015152,
           -9.189967
          ],
          [
           4119478,
           66736,
           121.774017,
           12.879721
          ],
          [
           4,
           0,
           -127.439308,
           -24.703615
          ],
          [
           6537193,
           119695,
           19.145136,
           51.919438
          ],
          [
           5629824,
           27630,
           -8.224454,
           39.399872
          ],
          [
           1252713,
           5938,
           -66.590149,
           18.220833
          ],
          [
           514524,
           690,
           51.183884,
           25.354826
          ],
          [
           3499607,
           68568,
           24.96676,
           45.943161
          ],
          [
           133194,
           1468,
           29.873888,
           -1.940278
          ],
          [
           6607,
           46,
           -62.782998,
           17.357822
          ],
          [
           30150,
           410,
           -60.978893,
           13.909444
          ],
          [
           9644,
           124,
           -61.287228,
           12.984305
          ],
          [
           16778,
           31,
           -172.104629,
           -13.759029
          ],
          [
           24804,
           126,
           12.457777,
           43.94236
          ],
          [
           841469,
           9646,
           45.079162,
           23.885942
          ],
          [
           89022,
           1971,
           -14.452362,
           14.497401
          ],
          [
           50937,
           172,
           55.491977,
           -4.679574
          ],
          [
           7766,
           125,
           -11.779889,
           8.460555
          ],
          [
           2657258,
           1872,
           103.819836,
           1.352083
          ],
          [
           1868301,
           21167,
           19.699024,
           48.669026
          ],
          [
           1346628,
           9467,
           14.995463,
           46.151241
          ],
          [
           25954,
           199,
           160.156194,
           -9.64571
          ],
          [
           27334,
           1361,
           46.199616,
           5.152149
          ],
          [
           4072533,
           102595,
           22.937506,
           -30.559482
          ],
          [
           13980340,
           121852,
           -3.74922,
           40.463667
          ],
          [
           672606,
           16883,
           80.771797,
           7.873054
          ],
          [
           63993,
           5046,
           30.217636,
           12.862807
          ],
          [
           82588,
           1408,
           -56.027783,
           3.919305
          ],
          [
           2722678,
           25078,
           18.643501,
           60.128161
          ],
          [
           4420546,
           14080,
           8.227512,
           46.818188
          ],
          [
           17786,
           125,
           71.276093,
           38.861034
          ],
          [
           4758429,
           34488,
           100.992541,
           15.870032
          ],
          [
           23460,
           138,
           125.727539,
           -8.874217
          ],
          [
           39531,
           290,
           0.824782,
           8.619543
          ],
          [
           80,
           0,
           -171.855881,
           -8.967363
          ],
          [
           16865,
           12,
           -175.198242,
           -21.178986
          ],
          [
           191496,
           4390,
           -61.222503,
           10.691803
          ],
          [
           1153361,
           29423,
           9.537499,
           33.886917
          ],
          [
           6662,
           40,
           -71.797928,
           21.694025
          ],
          [
           2943,
           1,
           177.64933,
           -7.109535
          ],
          [
           171983,
           3632,
           32.290275,
           1.373333
          ],
          [
           5520483,
           109918,
           31.16558,
           48.379433
          ],
          [
           1067030,
           2349,
           53.847818,
           23.424076
          ],
          [
           1040506,
           7635,
           -55.765835,
           -32.522779
          ],
          [
           174575,
           1016,
           64.585262,
           41.377491
          ],
          [
           12019,
           14,
           166.959158,
           -15.376706
          ],
          [
           3550,
           8,
           -177.156097,
           -13.768752
          ],
          [
           11945,
           2159,
           48.516388,
           15.552727
          ],
          [
           349287,
           4069,
           27.849332,
           -13.133897
          ],
          [
           265848,
           5723,
           29.154857,
           -19.015438
          ]
         ],
         "hovertemplate": "<b>%{hovertext}</b><br><br>Andel vaccinerade=%{marker.size}<br>latitude=%{customdata[3]}<br>longitude=%{customdata[2]}<br>sum_cases=%{customdata[0]}<br>sum_deaths=%{customdata[1]}<br>Andel avlidna/fall=%{marker.color}<extra></extra>",
         "hovertext": [
          "Afghanistan",
          "Albania",
          "Algeria",
          "American Samoa",
          "Andorra",
          "Angola",
          "Anguilla",
          "Antigua and Barbuda",
          "Argentina",
          "Armenia",
          "Aruba",
          "Australia",
          "Austria",
          "Azerbaijan",
          "Bahamas",
          "Bahrain",
          "Bangladesh",
          "Barbados",
          "Belarus",
          "Belgium",
          "Belize",
          "Bermuda",
          "Bhutan",
          "Botswana",
          "Brazil",
          "British Virgin Islands",
          "Bulgaria",
          "Burkina Faso",
          "Burundi",
          "Cambodia",
          "Cameroon",
          "Canada",
          "Cayman Islands",
          "Central African Republic",
          "Chad",
          "Chile",
          "China",
          "Colombia",
          "Cook Islands",
          "Costa Rica",
          "Croatia",
          "Cuba",
          "Cyprus",
          "Denmark",
          "Dominica",
          "Dominican Republic",
          "Ecuador",
          "Egypt",
          "El Salvador",
          "Equatorial Guinea",
          "Estonia",
          "Ethiopia",
          "Faroe Islands",
          "Fiji",
          "Finland",
          "France",
          "French Guiana",
          "French Polynesia",
          "Gabon",
          "Gambia",
          "Georgia",
          "Germany",
          "Ghana",
          "Gibraltar",
          "Greece",
          "Grenada",
          "Guadeloupe",
          "Guam",
          "Guatemala",
          "Guernsey",
          "Guinea",
          "Guinea-Bissau",
          "Guyana",
          "Honduras",
          "Hungary",
          "Iceland",
          "India",
          "Indonesia",
          "Iraq",
          "Ireland",
          "Isle of Man",
          "Israel",
          "Italy",
          "Jamaica",
          "Japan",
          "Jersey",
          "Jordan",
          "Kazakhstan",
          "Kenya",
          "Kiribati",
          "Kuwait",
          "Kyrgyzstan",
          "Latvia",
          "Lebanon",
          "Lesotho",
          "Liberia",
          "Libya",
          "Liechtenstein",
          "Lithuania",
          "Luxembourg",
          "Madagascar",
          "Malawi",
          "Malaysia",
          "Maldives",
          "Malta",
          "Marshall Islands",
          "Martinique",
          "Mauritania",
          "Mauritius",
          "Mexico",
          "Monaco",
          "Mongolia",
          "Montserrat",
          "Morocco",
          "Mozambique",
          "Nauru",
          "Nepal",
          "Netherlands",
          "New Caledonia",
          "New Zealand",
          "Nicaragua",
          "Nigeria",
          "Niue",
          "Norway",
          "Oman",
          "Pakistan",
          "Palau",
          "Panama",
          "Papua New Guinea",
          "Paraguay",
          "Peru",
          "Philippines",
          "Pitcairn Islands",
          "Poland",
          "Portugal",
          "Puerto Rico",
          "Qatar",
          "Romania",
          "Rwanda",
          "Saint Kitts and Nevis",
          "Saint Lucia",
          "Saint Vincent and the Grenadines",
          "Samoa",
          "San Marino",
          "Saudi Arabia",
          "Senegal",
          "Seychelles",
          "Sierra Leone",
          "Singapore",
          "Slovakia",
          "Slovenia",
          "Solomon Islands",
          "Somalia",
          "South Africa",
          "Spain",
          "Sri Lanka",
          "Sudan",
          "Suriname",
          "Sweden",
          "Switzerland",
          "Tajikistan",
          "Thailand",
          "Timor-Leste",
          "Togo",
          "Tokelau",
          "Tonga",
          "Trinidad and Tobago",
          "Tunisia",
          "Turks and Caicos Islands",
          "Tuvalu",
          "Uganda",
          "Ukraine",
          "United Arab Emirates",
          "Uruguay",
          "Uzbekistan",
          "Vanuatu",
          "Wallis and Futuna",
          "Yemen",
          "Zambia",
          "Zimbabwe"
         ],
         "lat": [
          33.93911,
          41.153332,
          28.033886,
          -14.270972,
          42.546245,
          -11.202692,
          18.220554,
          17.060816,
          -38.416097,
          40.069099,
          12.52111,
          -25.274398,
          47.516231,
          40.143105,
          25.03428,
          25.930414,
          23.684994,
          13.193887,
          53.709807,
          50.503887,
          17.189877,
          32.321384,
          27.514162,
          -22.328474,
          -14.235004,
          18.420695,
          42.733883,
          12.238333,
          -3.373056,
          12.565679,
          7.369722,
          56.130366,
          19.513469,
          6.611111,
          15.454166,
          -35.675147,
          35.86166,
          4.570868,
          -21.236736,
          9.748917,
          45.1,
          21.521757,
          35.126413,
          56.26392,
          15.414999,
          18.735693,
          -1.831239,
          26.820553,
          13.794185,
          1.650801,
          58.595272,
          9.145,
          61.892635,
          -16.578193,
          61.92411,
          46.227638,
          3.933889,
          -17.679742,
          -0.803689,
          13.443182,
          42.315407,
          51.165691,
          7.946527,
          36.137741,
          39.074208,
          12.262776,
          16.995971,
          13.444304,
          15.783471,
          49.465691,
          9.945587,
          11.803749,
          4.860416,
          15.199999,
          47.162494,
          64.963051,
          20.593684,
          -0.789275,
          33.223191,
          53.41291,
          54.236107,
          31.046051,
          41.87194,
          18.109581,
          36.204824,
          49.214439,
          30.585164,
          48.019573,
          -0.023559,
          -3.370417,
          29.31166,
          41.20438,
          56.879635,
          33.854721,
          -29.609988,
          6.428055,
          26.3351,
          47.166,
          55.169438,
          49.815273,
          -18.766947,
          -13.254308,
          4.210484,
          3.202778,
          35.937496,
          7.131474,
          14.641528,
          21.00789,
          -20.348404,
          23.634501,
          43.750298,
          46.862496,
          16.742498,
          31.791702,
          -18.665695,
          -0.522778,
          28.394857,
          52.132633,
          -20.904305,
          -40.900557,
          12.865416,
          9.081999,
          -19.054445,
          60.472024,
          21.512583,
          30.375321,
          7.51498,
          8.537981,
          -6.314993,
          -23.442503,
          -9.189967,
          12.879721,
          -24.703615,
          51.919438,
          39.399872,
          18.220833,
          25.354826,
          45.943161,
          -1.940278,
          17.357822,
          13.909444,
          12.984305,
          -13.759029,
          43.94236,
          23.885942,
          14.497401,
          -4.679574,
          8.460555,
          1.352083,
          48.669026,
          46.151241,
          -9.64571,
          5.152149,
          -30.559482,
          40.463667,
          7.873054,
          12.862807,
          3.919305,
          60.128161,
          46.818188,
          38.861034,
          15.870032,
          -8.874217,
          8.619543,
          -8.967363,
          -21.178986,
          10.691803,
          33.886917,
          21.694025,
          -7.109535,
          1.373333,
          48.379433,
          23.424076,
          -32.522779,
          41.377491,
          -15.376706,
          -13.768752,
          15.552727,
          -13.133897,
          -19.015438
         ],
         "legendgroup": "",
         "lon": [
          67.709953,
          20.168331,
          1.659626,
          -170.132217,
          1.601554,
          17.873887,
          -63.068615,
          -61.796428,
          -63.616672,
          45.038189,
          -69.968338,
          133.775136,
          14.550072,
          47.576927,
          -77.39628,
          50.637772,
          90.356331,
          -59.543198,
          27.953389,
          4.469936,
          -88.49765,
          -64.75737,
          90.433601,
          24.684866,
          -51.92528,
          -64.639968,
          25.48583,
          -1.561593,
          29.918886,
          104.990963,
          12.354722,
          -106.346771,
          -80.566956,
          20.939444,
          18.732207,
          -71.542969,
          104.195397,
          -74.297333,
          -159.777671,
          -83.753428,
          15.2,
          -77.781167,
          33.429859,
          9.501785,
          -61.370976,
          -70.162651,
          -78.183406,
          30.802498,
          -88.89653,
          10.267895,
          25.013607,
          40.489673,
          -6.911806,
          179.414413,
          25.748151,
          2.213749,
          -53.125782,
          -149.406843,
          11.609444,
          -15.310139,
          43.356892,
          10.451526,
          -1.023194,
          -5.345374,
          21.824312,
          -61.604171,
          -62.067641,
          144.793731,
          -90.230759,
          -2.585278,
          -9.696645,
          -15.180413,
          -58.93018,
          -86.241905,
          19.503304,
          -19.020835,
          78.96288,
          113.921327,
          43.679291,
          -8.24389,
          -4.548056,
          34.851612,
          12.56738,
          -77.297508,
          138.252924,
          -2.13125,
          36.238414,
          66.923684,
          37.906193,
          -168.734039,
          47.481766,
          74.766098,
          24.603189,
          35.862285,
          28.233608,
          -9.429499,
          17.228331,
          9.555373,
          23.881275,
          6.129583,
          46.869107,
          34.301525,
          101.975766,
          73.22068,
          14.375416,
          171.184478,
          -61.024174,
          -10.940835,
          57.552152,
          -102.552784,
          7.412841,
          103.846656,
          -62.187366,
          -7.09262,
          35.529562,
          166.931503,
          84.124008,
          5.291266,
          165.618042,
          174.885971,
          -85.207229,
          8.675277,
          -169.867233,
          8.468946,
          55.923255,
          69.345116,
          134.58252,
          -80.782127,
          143.95555,
          -58.443832,
          -75.015152,
          121.774017,
          -127.439308,
          19.145136,
          -8.224454,
          -66.590149,
          51.183884,
          24.96676,
          29.873888,
          -62.782998,
          -60.978893,
          -61.287228,
          -172.104629,
          12.457777,
          45.079162,
          -14.452362,
          55.491977,
          -11.779889,
          103.819836,
          19.699024,
          14.995463,
          160.156194,
          46.199616,
          22.937506,
          -3.74922,
          80.771797,
          30.217636,
          -56.027783,
          18.643501,
          8.227512,
          71.276093,
          100.992541,
          125.727539,
          0.824782,
          -171.855881,
          -175.198242,
          -61.222503,
          9.537499,
          -71.797928,
          177.64933,
          32.290275,
          31.16558,
          53.847818,
          -55.765835,
          64.585262,
          166.959158,
          -177.156097,
          48.516388,
          27.849332,
          29.154857
         ],
         "marker": {
          "color": [
           0.034912346139500186,
           0.010787512346972374,
           0.025301700997948214,
           0.004067472185668142,
           0.00331146516713527,
           0.018267942403140273,
           0.0030737704918032786,
           0.01603338458159455,
           0.012976380107923,
           0.01944893573134785,
           0.0066027496382054995,
           0.0020070547001081775,
           0.0037054656358103144,
           0.012416521791259516,
           0.022161537653607816,
           0.0022049513790994724,
           0.014407431628606257,
           0.005631704680673261,
           0.007160699249625517,
           0.007113665347195925,
           0.0096819589079651,
           0.008748674443266172,
           0.00033494425570601463,
           0.008478629374016224,
           0.01868044347572537,
           0.008761122518822724,
           0.029407626283945405,
           0.017954298150163223,
           0.00027411779755486925,
           0.021994314297024004,
           0.01578063794068271,
           0.011300823437488405,
           0.001175648195221149,
           0.007353419665517017,
           0.025201351000259806,
           0.011649048106138671,
           0.0012262542494759145,
           0.02239262842605241,
           0.00027901785714285713,
           0.0076100748738380675,
           0.014444217260205077,
           0.007649517578196812,
           0.0020639959809579727,
           0.0025823693590052376,
           0.004684137232561084,
           0.006571984517459832,
           0.03371217400169669,
           0.04811801024372945,
           0.02096041306383759,
           0.010683012259194396,
           0.0048167733925554125,
           0.015115954177144455,
           0.0008078942812626233,
           0.012817356293539183,
           0.006899017195226894,
           0.004307584924055368,
           0.004212523332075356,
           0.00825143351175416,
           0.006266329196603527,
           0.02946301283066688,
           0.00923414088047738,
           0.004552268868141002,
           0.008517182921358788,
           0.005498783454987835,
           0.006935135866050537,
           0.012085512618697,
           0.00502374098949492,
           0.00800768122899664,
           0.01591965824069485,
           0.0018966200532185926,
           0.012135985270855484,
           0.01841065113376326,
           0.017700441489071784,
           0.023445500326597694,
           0.02208276650554285,
           0.0008887359880737364,
           0.01185061330558189,
           0.02376453911826189,
           0.010291842168769988,
           0.005410675992271457,
           0.003051989054935803,
           0.0026244610426465107,
           0.007333281843376998,
           0.023071810210394457,
           0.002209648140143296,
           0.0024250274886656324,
           0.00808358571880776,
           0.012690495502898812,
           0.01653154331212042,
           0.00471976401179941,
           0.0038559582056140952,
           0.011517523732397535,
           0.007566354098817322,
           0.008828909334916252,
           0.019784574171224468,
           0.03707440100882724,
           0.012689519761704342,
           0.004043690448524285,
           0.00726284813421093,
           0.002594403870850575,
           0.02084613359080137,
           0.030184523408176567,
           0.007249168387764451,
           0.0016926092964958703,
           0.007319782478944227,
           0.0010534143016482835,
           0.004792623527266729,
           0.01563333019725907,
           0.00340018646183823,
           0.0435144942372075,
           0.003916067566777719,
           0.0022585528846486634,
           0.005702066999287242,
           0.012758525124829528,
           0.009625343456563979,
           0.00018542555164101615,
           0.011989635756639593,
           0.0026665735504349105,
           0.003921862509992006,
           0.0014348385463023856,
           0.01525434281800635,
           0.011810021486378235,
           0,
           0.0038483771624462306,
           0.011585959659430866,
           0.019394786006348096,
           0.001440922190201729,
           0.008263603018725297,
           0.014296688289518607,
           0.027160554217162142,
           0.04902781088404267,
           0.01620011079073611,
           0,
           0.01830984644326701,
           0.004907791078371189,
           0.004740112060783276,
           0.001341045315670406,
           0.01959305716327576,
           0.011021517485772632,
           0.006962312698652944,
           0.013598673300165837,
           0.012857735379510576,
           0.0018476576469185838,
           0.0050798258345428155,
           0.011463286229201551,
           0.022140594459796454,
           0.003376720262284783,
           0.016095802214782386,
           0.0007044856013228674,
           0.011329544864558762,
           0.007030152350909085,
           0.007667411574323804,
           0.04979146850076827,
           0.025191938285091857,
           0.008715953975368267,
           0.02510087629310473,
           0.07885237447845858,
           0.017048481619605753,
           0.009210784382141407,
           0.0031851269051379628,
           0.0070279995502080285,
           0.007247770219961252,
           0.0058823529411764705,
           0.0073360147732159575,
           0,
           0.0007115327601541654,
           0.02292476083051343,
           0.02551065971538833,
           0.006004202942059442,
           0.0003397893306150187,
           0.021118366350162517,
           0.019910938952261967,
           0.002201437635305474,
           0.0073377760435787975,
           0.005819848202778175,
           0.0011648223645894002,
           0.0022535211267605635,
           0.18074508162411052,
           0.011649445871160392,
           0.021527338930516685
          ],
          "coloraxis": "coloraxis",
          "size": [
           0.06373,
           0.14095000000000002,
           0.013129999999999998,
           0.4377000000000001,
           0.54497,
           0.09085,
           0.20304,
           0.10046,
           0.6817000000000001,
           0.02915,
           0.33399000000000006,
           0.5648,
           0.60207,
           0.33982,
           0.08574000000000001,
           0.59278,
           0.41613,
           0.21867,
           0.59727,
           0.6236499999999999,
           0.12634,
           0.51112,
           0.8224899999999999,
           0.21586999999999998,
           0.5193,
           0.12323,
           0.12182,
           0.00019,
           0.000029999999999999997,
           0.64339,
           0.030270000000000005,
           0.52399,
           0.36616000000000004,
           0.07583,
           0.24611000000000002,
           0.8248,
           0.56689,
           0.29072,
           0.58301,
           0.5806600000000001,
           0.2579,
           0.7718200000000001,
           0.5387500000000001,
           0.61582,
           0.055470000000000005,
           0.23546,
           0.43691,
           0.1487,
           0.29265,
           0.0032800000000000004,
           0.36595999999999995,
           0.052000000000000005,
           0.43557,
           0.19196,
           0.5567,
           0.6047,
           0.15511999999999998,
           0.36423999999999995,
           0.00116,
           0.022240000000000003,
           0.06684000000000001,
           0.62645,
           0.15467,
           1.4594399999999998,
           0.56429,
           0.06586,
           0.22245,
           0.49534999999999996,
           0.20762,
           1.07556,
           0.032389999999999995,
           0.038799999999999994,
           0.09901,
           0.47101,
           0.39929000000000003,
           0.6765600000000002,
           0.16581,
           0.25357,
           0.00684,
           0.60442,
           0.62715,
           0.5027100000000001,
           0.7609199999999999,
           0.015529999999999999,
           0.6846899999999999,
           0.6833499999999999,
           0.06686,
           0.35431,
           0.03721,
           0.31483,
           0.34130000000000005,
           0.046079999999999996,
           0.2937,
           0.09673,
           0.08299999999999999,
           0.00039,
           0.027179999999999996,
           0.47255,
           0.32149,
           0.57101,
           0.00611,
           0.06444,
           0.50511,
           0.30948,
           0.6768899999999999,
           0.31353000000000003,
           0.24761,
           0.08256,
           0.51464,
           0.44220000000000004,
           0.48535999999999996,
           0.32299,
           0.11262000000000001,
           0.18651,
           0.07434,
           0.71119,
           0.35200000000000004,
           0.53533,
           0.36191,
           0.5639099999999999,
           0.43664,
           0.08076,
           0.7571100000000001,
           0.55673,
           0.15272,
           0.2403,
           0.71219,
           0.41014999999999996,
           0.00415,
           0.23283000000000004,
           0.67158,
           0.21728999999999998,
           0.46,
           0.33288999999999996,
           0.6845999999999999,
           0.6322500000000001,
           0.66115,
           0.09289,
           0.32621,
           0.06514,
           0.042839999999999996,
           0.03857,
           0.41463000000000005,
           0.57335,
           0.46129,
           0.04328,
           0.45691000000000004,
           0.15064999999999998,
           0.8151900000000001,
           0.31031000000000003,
           0.30681,
           0.04061,
           0.0017699999999999997,
           0.07437,
           0.56024,
           0.38387,
           0.08874000000000001,
           0.08334,
           0.5303,
           0.5749000000000001,
           0.54155,
           0.39371,
           0.25643000000000005,
           0.05168000000000001,
           0.7170399999999999,
           0.36509,
           0.12492999999999999,
           0.10649,
           0.19224000000000002,
           0.48719000000000007,
           0.01672,
           0.01703,
           0.5195599999999999,
           0.59877,
           0.47683999999999993,
           0.053899999999999997,
           0.29788,
           0.0022299999999999998,
           0.07695,
           0.15426
          ],
          "sizemode": "area",
          "sizeref": 0.0036485999999999997
         },
         "mode": "markers",
         "name": "",
         "showlegend": false,
         "subplot": "mapbox",
         "type": "scattermapbox"
        }
       ],
       "layout": {
        "coloraxis": {
         "colorbar": {
          "title": {
           "text": "Andel avlidna/fall"
          }
         },
         "colorscale": [
          [
           0,
           "#0d0887"
          ],
          [
           0.1111111111111111,
           "#46039f"
          ],
          [
           0.2222222222222222,
           "#7201a8"
          ],
          [
           0.3333333333333333,
           "#9c179e"
          ],
          [
           0.4444444444444444,
           "#bd3786"
          ],
          [
           0.5555555555555556,
           "#d8576b"
          ],
          [
           0.6666666666666666,
           "#ed7953"
          ],
          [
           0.7777777777777778,
           "#fb9f3a"
          ],
          [
           0.8888888888888888,
           "#fdca26"
          ],
          [
           1,
           "#f0f921"
          ]
         ]
        },
        "height": 800,
        "legend": {
         "itemsizing": "constant",
         "tracegroupgap": 0
        },
        "mapbox": {
         "center": {
          "lat": 17.72600932222222,
          "lon": 6.176024572222221
         },
         "domain": {
          "x": [
           0,
           1
          ],
          "y": [
           0,
           1
          ]
         },
         "style": "open-street-map",
         "zoom": 8
        },
        "margin": {
         "t": 60
        },
        "template": {
         "data": {
          "bar": [
           {
            "error_x": {
             "color": "#2a3f5f"
            },
            "error_y": {
             "color": "#2a3f5f"
            },
            "marker": {
             "line": {
              "color": "#E5ECF6",
              "width": 0.5
             },
             "pattern": {
              "fillmode": "overlay",
              "size": 10,
              "solidity": 0.2
             }
            },
            "type": "bar"
           }
          ],
          "barpolar": [
           {
            "marker": {
             "line": {
              "color": "#E5ECF6",
              "width": 0.5
             },
             "pattern": {
              "fillmode": "overlay",
              "size": 10,
              "solidity": 0.2
             }
            },
            "type": "barpolar"
           }
          ],
          "carpet": [
           {
            "aaxis": {
             "endlinecolor": "#2a3f5f",
             "gridcolor": "white",
             "linecolor": "white",
             "minorgridcolor": "white",
             "startlinecolor": "#2a3f5f"
            },
            "baxis": {
             "endlinecolor": "#2a3f5f",
             "gridcolor": "white",
             "linecolor": "white",
             "minorgridcolor": "white",
             "startlinecolor": "#2a3f5f"
            },
            "type": "carpet"
           }
          ],
          "choropleth": [
           {
            "colorbar": {
             "outlinewidth": 0,
             "ticks": ""
            },
            "type": "choropleth"
           }
          ],
          "contour": [
           {
            "colorbar": {
             "outlinewidth": 0,
             "ticks": ""
            },
            "colorscale": [
             [
              0,
              "#0d0887"
             ],
             [
              0.1111111111111111,
              "#46039f"
             ],
             [
              0.2222222222222222,
              "#7201a8"
             ],
             [
              0.3333333333333333,
              "#9c179e"
             ],
             [
              0.4444444444444444,
              "#bd3786"
             ],
             [
              0.5555555555555556,
              "#d8576b"
             ],
             [
              0.6666666666666666,
              "#ed7953"
             ],
             [
              0.7777777777777778,
              "#fb9f3a"
             ],
             [
              0.8888888888888888,
              "#fdca26"
             ],
             [
              1,
              "#f0f921"
             ]
            ],
            "type": "contour"
           }
          ],
          "contourcarpet": [
           {
            "colorbar": {
             "outlinewidth": 0,
             "ticks": ""
            },
            "type": "contourcarpet"
           }
          ],
          "heatmap": [
           {
            "colorbar": {
             "outlinewidth": 0,
             "ticks": ""
            },
            "colorscale": [
             [
              0,
              "#0d0887"
             ],
             [
              0.1111111111111111,
              "#46039f"
             ],
             [
              0.2222222222222222,
              "#7201a8"
             ],
             [
              0.3333333333333333,
              "#9c179e"
             ],
             [
              0.4444444444444444,
              "#bd3786"
             ],
             [
              0.5555555555555556,
              "#d8576b"
             ],
             [
              0.6666666666666666,
              "#ed7953"
             ],
             [
              0.7777777777777778,
              "#fb9f3a"
             ],
             [
              0.8888888888888888,
              "#fdca26"
             ],
             [
              1,
              "#f0f921"
             ]
            ],
            "type": "heatmap"
           }
          ],
          "heatmapgl": [
           {
            "colorbar": {
             "outlinewidth": 0,
             "ticks": ""
            },
            "colorscale": [
             [
              0,
              "#0d0887"
             ],
             [
              0.1111111111111111,
              "#46039f"
             ],
             [
              0.2222222222222222,
              "#7201a8"
             ],
             [
              0.3333333333333333,
              "#9c179e"
             ],
             [
              0.4444444444444444,
              "#bd3786"
             ],
             [
              0.5555555555555556,
              "#d8576b"
             ],
             [
              0.6666666666666666,
              "#ed7953"
             ],
             [
              0.7777777777777778,
              "#fb9f3a"
             ],
             [
              0.8888888888888888,
              "#fdca26"
             ],
             [
              1,
              "#f0f921"
             ]
            ],
            "type": "heatmapgl"
           }
          ],
          "histogram": [
           {
            "marker": {
             "pattern": {
              "fillmode": "overlay",
              "size": 10,
              "solidity": 0.2
             }
            },
            "type": "histogram"
           }
          ],
          "histogram2d": [
           {
            "colorbar": {
             "outlinewidth": 0,
             "ticks": ""
            },
            "colorscale": [
             [
              0,
              "#0d0887"
             ],
             [
              0.1111111111111111,
              "#46039f"
             ],
             [
              0.2222222222222222,
              "#7201a8"
             ],
             [
              0.3333333333333333,
              "#9c179e"
             ],
             [
              0.4444444444444444,
              "#bd3786"
             ],
             [
              0.5555555555555556,
              "#d8576b"
             ],
             [
              0.6666666666666666,
              "#ed7953"
             ],
             [
              0.7777777777777778,
              "#fb9f3a"
             ],
             [
              0.8888888888888888,
              "#fdca26"
             ],
             [
              1,
              "#f0f921"
             ]
            ],
            "type": "histogram2d"
           }
          ],
          "histogram2dcontour": [
           {
            "colorbar": {
             "outlinewidth": 0,
             "ticks": ""
            },
            "colorscale": [
             [
              0,
              "#0d0887"
             ],
             [
              0.1111111111111111,
              "#46039f"
             ],
             [
              0.2222222222222222,
              "#7201a8"
             ],
             [
              0.3333333333333333,
              "#9c179e"
             ],
             [
              0.4444444444444444,
              "#bd3786"
             ],
             [
              0.5555555555555556,
              "#d8576b"
             ],
             [
              0.6666666666666666,
              "#ed7953"
             ],
             [
              0.7777777777777778,
              "#fb9f3a"
             ],
             [
              0.8888888888888888,
              "#fdca26"
             ],
             [
              1,
              "#f0f921"
             ]
            ],
            "type": "histogram2dcontour"
           }
          ],
          "mesh3d": [
           {
            "colorbar": {
             "outlinewidth": 0,
             "ticks": ""
            },
            "type": "mesh3d"
           }
          ],
          "parcoords": [
           {
            "line": {
             "colorbar": {
              "outlinewidth": 0,
              "ticks": ""
             }
            },
            "type": "parcoords"
           }
          ],
          "pie": [
           {
            "automargin": true,
            "type": "pie"
           }
          ],
          "scatter": [
           {
            "fillpattern": {
             "fillmode": "overlay",
             "size": 10,
             "solidity": 0.2
            },
            "type": "scatter"
           }
          ],
          "scatter3d": [
           {
            "line": {
             "colorbar": {
              "outlinewidth": 0,
              "ticks": ""
             }
            },
            "marker": {
             "colorbar": {
              "outlinewidth": 0,
              "ticks": ""
             }
            },
            "type": "scatter3d"
           }
          ],
          "scattercarpet": [
           {
            "marker": {
             "colorbar": {
              "outlinewidth": 0,
              "ticks": ""
             }
            },
            "type": "scattercarpet"
           }
          ],
          "scattergeo": [
           {
            "marker": {
             "colorbar": {
              "outlinewidth": 0,
              "ticks": ""
             }
            },
            "type": "scattergeo"
           }
          ],
          "scattergl": [
           {
            "marker": {
             "colorbar": {
              "outlinewidth": 0,
              "ticks": ""
             }
            },
            "type": "scattergl"
           }
          ],
          "scattermapbox": [
           {
            "marker": {
             "colorbar": {
              "outlinewidth": 0,
              "ticks": ""
             }
            },
            "type": "scattermapbox"
           }
          ],
          "scatterpolar": [
           {
            "marker": {
             "colorbar": {
              "outlinewidth": 0,
              "ticks": ""
             }
            },
            "type": "scatterpolar"
           }
          ],
          "scatterpolargl": [
           {
            "marker": {
             "colorbar": {
              "outlinewidth": 0,
              "ticks": ""
             }
            },
            "type": "scatterpolargl"
           }
          ],
          "scatterternary": [
           {
            "marker": {
             "colorbar": {
              "outlinewidth": 0,
              "ticks": ""
             }
            },
            "type": "scatterternary"
           }
          ],
          "surface": [
           {
            "colorbar": {
             "outlinewidth": 0,
             "ticks": ""
            },
            "colorscale": [
             [
              0,
              "#0d0887"
             ],
             [
              0.1111111111111111,
              "#46039f"
             ],
             [
              0.2222222222222222,
              "#7201a8"
             ],
             [
              0.3333333333333333,
              "#9c179e"
             ],
             [
              0.4444444444444444,
              "#bd3786"
             ],
             [
              0.5555555555555556,
              "#d8576b"
             ],
             [
              0.6666666666666666,
              "#ed7953"
             ],
             [
              0.7777777777777778,
              "#fb9f3a"
             ],
             [
              0.8888888888888888,
              "#fdca26"
             ],
             [
              1,
              "#f0f921"
             ]
            ],
            "type": "surface"
           }
          ],
          "table": [
           {
            "cells": {
             "fill": {
              "color": "#EBF0F8"
             },
             "line": {
              "color": "white"
             }
            },
            "header": {
             "fill": {
              "color": "#C8D4E3"
             },
             "line": {
              "color": "white"
             }
            },
            "type": "table"
           }
          ]
         },
         "layout": {
          "annotationdefaults": {
           "arrowcolor": "#2a3f5f",
           "arrowhead": 0,
           "arrowwidth": 1
          },
          "autotypenumbers": "strict",
          "coloraxis": {
           "colorbar": {
            "outlinewidth": 0,
            "ticks": ""
           }
          },
          "colorscale": {
           "diverging": [
            [
             0,
             "#8e0152"
            ],
            [
             0.1,
             "#c51b7d"
            ],
            [
             0.2,
             "#de77ae"
            ],
            [
             0.3,
             "#f1b6da"
            ],
            [
             0.4,
             "#fde0ef"
            ],
            [
             0.5,
             "#f7f7f7"
            ],
            [
             0.6,
             "#e6f5d0"
            ],
            [
             0.7,
             "#b8e186"
            ],
            [
             0.8,
             "#7fbc41"
            ],
            [
             0.9,
             "#4d9221"
            ],
            [
             1,
             "#276419"
            ]
           ],
           "sequential": [
            [
             0,
             "#0d0887"
            ],
            [
             0.1111111111111111,
             "#46039f"
            ],
            [
             0.2222222222222222,
             "#7201a8"
            ],
            [
             0.3333333333333333,
             "#9c179e"
            ],
            [
             0.4444444444444444,
             "#bd3786"
            ],
            [
             0.5555555555555556,
             "#d8576b"
            ],
            [
             0.6666666666666666,
             "#ed7953"
            ],
            [
             0.7777777777777778,
             "#fb9f3a"
            ],
            [
             0.8888888888888888,
             "#fdca26"
            ],
            [
             1,
             "#f0f921"
            ]
           ],
           "sequentialminus": [
            [
             0,
             "#0d0887"
            ],
            [
             0.1111111111111111,
             "#46039f"
            ],
            [
             0.2222222222222222,
             "#7201a8"
            ],
            [
             0.3333333333333333,
             "#9c179e"
            ],
            [
             0.4444444444444444,
             "#bd3786"
            ],
            [
             0.5555555555555556,
             "#d8576b"
            ],
            [
             0.6666666666666666,
             "#ed7953"
            ],
            [
             0.7777777777777778,
             "#fb9f3a"
            ],
            [
             0.8888888888888888,
             "#fdca26"
            ],
            [
             1,
             "#f0f921"
            ]
           ]
          },
          "colorway": [
           "#636efa",
           "#EF553B",
           "#00cc96",
           "#ab63fa",
           "#FFA15A",
           "#19d3f3",
           "#FF6692",
           "#B6E880",
           "#FF97FF",
           "#FECB52"
          ],
          "font": {
           "color": "#2a3f5f"
          },
          "geo": {
           "bgcolor": "white",
           "lakecolor": "white",
           "landcolor": "#E5ECF6",
           "showlakes": true,
           "showland": true,
           "subunitcolor": "white"
          },
          "hoverlabel": {
           "align": "left"
          },
          "hovermode": "closest",
          "mapbox": {
           "style": "light"
          },
          "paper_bgcolor": "white",
          "plot_bgcolor": "#E5ECF6",
          "polar": {
           "angularaxis": {
            "gridcolor": "white",
            "linecolor": "white",
            "ticks": ""
           },
           "bgcolor": "#E5ECF6",
           "radialaxis": {
            "gridcolor": "white",
            "linecolor": "white",
            "ticks": ""
           }
          },
          "scene": {
           "xaxis": {
            "backgroundcolor": "#E5ECF6",
            "gridcolor": "white",
            "gridwidth": 2,
            "linecolor": "white",
            "showbackground": true,
            "ticks": "",
            "zerolinecolor": "white"
           },
           "yaxis": {
            "backgroundcolor": "#E5ECF6",
            "gridcolor": "white",
            "gridwidth": 2,
            "linecolor": "white",
            "showbackground": true,
            "ticks": "",
            "zerolinecolor": "white"
           },
           "zaxis": {
            "backgroundcolor": "#E5ECF6",
            "gridcolor": "white",
            "gridwidth": 2,
            "linecolor": "white",
            "showbackground": true,
            "ticks": "",
            "zerolinecolor": "white"
           }
          },
          "shapedefaults": {
           "line": {
            "color": "#2a3f5f"
           }
          },
          "ternary": {
           "aaxis": {
            "gridcolor": "white",
            "linecolor": "white",
            "ticks": ""
           },
           "baxis": {
            "gridcolor": "white",
            "linecolor": "white",
            "ticks": ""
           },
           "bgcolor": "#E5ECF6",
           "caxis": {
            "gridcolor": "white",
            "linecolor": "white",
            "ticks": ""
           }
          },
          "title": {
           "x": 0.05
          },
          "xaxis": {
           "automargin": true,
           "gridcolor": "white",
           "linecolor": "white",
           "ticks": "",
           "title": {
            "standoff": 15
           },
           "zerolinecolor": "white",
           "zerolinewidth": 2
          },
          "yaxis": {
           "automargin": true,
           "gridcolor": "white",
           "linecolor": "white",
           "ticks": "",
           "title": {
            "standoff": 15
           },
           "zerolinecolor": "white",
           "zerolinewidth": 2
          }
         }
        },
        "width": 700
       }
      }
     },
     "metadata": {},
     "output_type": "display_data"
    }
   ],
   "source": [
    "# # Plotting with mapbox, size of circle is Andel vaccinerade, color is andel avlidna\n",
    "\n",
    "fig = px.scatter_mapbox(merged_data_2, lat=\"latitude\", lon=\"longitude\", size=\"Andel vaccinerade\", color=\"Andel avlidna/fall\", height = 800, width= 700 ,hover_name = merged_data_2.index, hover_data = [\"sum_cases\", \"sum_deaths\"])\n",
    "fig.update_layout(mapbox_style=\"open-street-map\")"
   ]
  },
  {
   "cell_type": "code",
   "execution_count": 73,
   "metadata": {},
   "outputs": [
    {
     "data": {
      "application/vnd.plotly.v1+json": {
       "config": {
        "plotlyServerURL": "https://plot.ly"
       },
       "data": [
        {
         "customdata": [
          [
           227885,
           7956,
           0.06373,
           0.034912346139500186
          ],
          [
           334090,
           3604,
           0.14095000000000002,
           0.010787512346972374
          ],
          [
           271958,
           6881,
           0.013129999999999998,
           0.025301700997948214
          ],
          [
           8359,
           34,
           0.4377000000000001,
           0.004067472185668142
          ],
          [
           48015,
           159,
           0.54497,
           0.00331146516713527
          ],
          [
           105978,
           1936,
           0.09085,
           0.018267942403140273
          ],
          [
           3904,
           12,
           0.20304,
           0.0030737704918032786
          ],
          [
           9106,
           146,
           0.10046,
           0.01603338458159455
          ],
          [
           10054576,
           130472,
           0.6817000000000001,
           0.012976380107923
          ],
          [
           450873,
           8769,
           0.02915,
           0.01944893573134785
          ],
          [
           44224,
           292,
           0.33399000000000006,
           0.0066027496382054995
          ],
          [
           11629977,
           23342,
           0.5648,
           0.0020070547001081775
          ],
          [
           6081287,
           22534,
           0.60207,
           0.0037054656358103144
          ],
          [
           834050,
           10356,
           0.33982,
           0.012416521791259516
          ],
          [
           38084,
           844,
           0.08574000000000001,
           0.022161537653607816
          ],
          [
           696614,
           1536,
           0.59278,
           0.0022049513790994724
          ],
          [
           2045958,
           29477,
           0.41613,
           0.014407431628606257
          ],
          [
           110091,
           620,
           0.21867,
           0.005631704680673261
          ],
          [
           994037,
           7118,
           0.59727,
           0.007160699249625517
          ],
          [
           4827188,
           34339,
           0.6236499999999999,
           0.007113665347195925
          ],
          [
           71060,
           688,
           0.12634,
           0.0096819589079651
          ],
          [
           18860,
           165,
           0.51112,
           0.008748674443266172
          ],
          [
           62697,
           21,
           0.8224899999999999,
           0.00033494425570601463
          ],
          [
           330360,
           2801,
           0.21586999999999998,
           0.008478629374016224
          ],
          [
           37721749,
           704659,
           0.5193,
           0.01868044347572537
          ],
          [
           7305,
           64,
           0.12323,
           0.008761122518822724
          ],
          [
           1307688,
           38456,
           0.12182,
           0.029407626283945405
          ],
          [
           22056,
           396,
           0.00019,
           0.017954298150163223
          ],
          [
           54721,
           15,
           0.000029999999999999997,
           0.00027411779755486925
          ],
          [
           138945,
           3056,
           0.64339,
           0.021994314297024004
          ],
          [
           125090,
           1974,
           0.030270000000000005,
           0.01578063794068271
          ],
          [
           4716205,
           53297,
           0.52399,
           0.011300823437488405
          ],
          [
           31472,
           37,
           0.36616000000000004,
           0.001175648195221149
          ],
          [
           15367,
           113,
           0.07583,
           0.007353419665517017
          ],
          [
           7698,
           194,
           0.24611000000000002,
           0.025201351000259806
          ],
          [
           5288930,
           61611,
           0.8248,
           0.011649048106138671
          ],
          [
           99318718,
           121790,
           0.56689,
           0.0012262542494759145
          ],
          [
           6383440,
           142942,
           0.29072,
           0.02239262842605241
          ],
          [
           7168,
           2,
           0.58301,
           0.00027901785714285713
          ],
          [
           1238884,
           9428,
           0.5806600000000001,
           0.0076100748738380675
          ],
          [
           1276497,
           18438,
           0.2579,
           0.014444217260205077
          ],
          [
           1115103,
           8530,
           0.7718200000000001,
           0.007649517578196812
          ],
          [
           660854,
           1364,
           0.5387500000000001,
           0.0020639959809579727
          ],
          [
           3417017,
           8824,
           0.61582,
           0.0025823693590052376
          ],
          [
           15798,
           74,
           0.055470000000000005,
           0.004684137232561084
          ],
          [
           667074,
           4384,
           0.23546,
           0.006571984517459832
          ],
          [
           1069139,
           36043,
           0.43691,
           0.03371217400169669
          ],
          [
           516023,
           24830,
           0.1487,
           0.04811801024372945
          ],
          [
           201809,
           4230,
           0.29265,
           0.02096041306383759
          ],
          [
           17130,
           183,
           0.0032800000000000004,
           0.010683012259194396
          ],
          [
           602478,
           2902,
           0.36595999999999995,
           0.0048167733925554125
          ],
          [
           501060,
           7574,
           0.052000000000000005,
           0.015115954177144455
          ],
          [
           34658,
           28,
           0.43557,
           0.0008078942812626233
          ],
          [
           69047,
           885,
           0.19196,
           0.012817356293539183
          ],
          [
           1490937,
           10286,
           0.5567,
           0.006899017195226894
          ],
          [
           38997490,
           167985,
           0.6047,
           0.004307584924055368
          ],
          [
           98041,
           413,
           0.15511999999999998,
           0.004212523332075356
          ],
          [
           78653,
           649,
           0.36423999999999995,
           0.00825143351175416
          ],
          [
           48992,
           307,
           0.00116,
           0.006266329196603527
          ],
          [
           12626,
           372,
           0.022240000000000003,
           0.02946301283066688
          ],
          [
           1855289,
           17132,
           0.06684000000000001,
           0.00923414088047738
          ],
          [
           38437756,
           174979,
           0.62645,
           0.004552268868141002
          ],
          [
           171653,
           1462,
           0.15467,
           0.008517182921358788
          ],
          [
           20550,
           113,
           1.4594399999999998,
           0.005498783454987835
          ],
          [
           5443008,
           37748,
           0.56429,
           0.006935135866050537
          ],
          [
           19693,
           238,
           0.06586,
           0.012085512618697
          ],
          [
           203235,
           1021,
           0.22245,
           0.00502374098949492
          ],
          [
           52075,
           417,
           0.49534999999999996,
           0.00800768122899664
          ],
          [
           1271070,
           20235,
           0.20762,
           0.01591965824069485
          ],
          [
           35326,
           67,
           1.07556,
           0.0018966200532185926
          ],
          [
           38563,
           468,
           0.032389999999999995,
           0.012135985270855484
          ],
          [
           9614,
           177,
           0.038799999999999994,
           0.01841065113376326
          ],
          [
           73388,
           1299,
           0.09901,
           0.017700441489071784
          ],
          [
           474590,
           11127,
           0.47101,
           0.023445500326597694
          ],
          [
           2211136,
           48828,
           0.39929000000000003,
           0.02208276650554285
          ],
          [
           209286,
           186,
           0.6765600000000002,
           0.0008887359880737364
          ],
          [
           45001384,
           533294,
           0.16581,
           0.01185061330558189
          ],
          [
           6813429,
           161918,
           0.25357,
           0.02376453911826189
          ],
          [
           2465545,
           25375,
           0.00684,
           0.010291842168769988
          ],
          [
           1723999,
           9328,
           0.60442,
           0.005410675992271457
          ],
          [
           38008,
           116,
           0.62715,
           0.003051989054935803
          ],
          [
           4841756,
           12707,
           0.5027100000000001,
           0.0026244610426465107
          ],
          [
           26257548,
           192554,
           0.7609199999999999,
           0.007333281843376998
          ],
          [
           156468,
           3610,
           0.015529999999999999,
           0.023071810210394457
          ],
          [
           33803572,
           74694,
           0.6846899999999999,
           0.002209648140143296
          ],
          [
           66391,
           161,
           0.6833499999999999,
           0.0024250274886656324
          ],
          [
           1746997,
           14122,
           0.06686,
           0.00808358571880776
          ],
          [
           1502857,
           19072,
           0.35431,
           0.012690495502898812
          ],
          [
           344130,
           5689,
           0.03721,
           0.01653154331212042
          ],
          [
           5085,
           24,
           0.31483,
           0.00471976401179941
          ],
          [
           666501,
           2570,
           0.34130000000000005,
           0.0038559582056140952
          ],
          [
           88908,
           1024,
           0.046079999999999996,
           0.011517523732397535
          ],
          [
           976428,
           7388,
           0.2937,
           0.007566354098817322
          ],
          [
           1239904,
           10947,
           0.09673,
           0.008828909334916252
          ],
          [
           35836,
           709,
           0.08299999999999999,
           0.019784574171224468
          ],
          [
           7930,
           294,
           0.00039,
           0.03707440100882724
          ],
          [
           507269,
           6437,
           0.027179999999999996,
           0.012689519761704342
          ],
          [
           21515,
           87,
           0.47255,
           0.004043690448524285
          ],
          [
           1340934,
           9739,
           0.32149,
           0.00726284813421093
          ],
          [
           385445,
           1000,
           0.57101,
           0.002594403870850575
          ],
          [
           68358,
           1425,
           0.00611,
           0.02084613359080137
          ],
          [
           88986,
           2686,
           0.06444,
           0.030184523408176567
          ],
          [
           5131899,
           37202,
           0.50511,
           0.007249168387764451
          ],
          [
           186694,
           316,
           0.30948,
           0.0016926092964958703
          ],
          [
           120632,
           883,
           0.6768899999999999,
           0.007319782478944227
          ],
          [
           16138,
           17,
           0.31353000000000003,
           0.0010534143016482835
          ],
          [
           230354,
           1104,
           0.24761,
           0.004792623527266729
          ],
          [
           63774,
           997,
           0.08256,
           0.01563333019725907
          ],
          [
           309983,
           1054,
           0.51464,
           0.00340018646183823
          ],
          [
           7692885,
           334752,
           0.44220000000000004,
           0.0435144942372075
          ],
          [
           17109,
           67,
           0.48535999999999996,
           0.003916067566777719
          ],
          [
           1011267,
           2284,
           0.32299,
           0.0022585528846486634
          ],
          [
           1403,
           8,
           0.11262000000000001,
           0.005702066999287242
          ],
          [
           1277342,
           16297,
           0.18651,
           0.012758525124829528
          ],
          [
           233654,
           2249,
           0.07434,
           0.009625343456563979
          ],
          [
           5393,
           1,
           0.71119,
           0.00018542555164101615
          ],
          [
           1003450,
           12031,
           0.35200000000000004,
           0.011989635756639593
          ],
          [
           8620051,
           22986,
           0.53533,
           0.0026665735504349105
          ],
          [
           80064,
           314,
           0.36191,
           0.003921862509992006
          ],
          [
           2400967,
           3445,
           0.5639099999999999,
           0.0014348385463023856
          ],
          [
           16061,
           245,
           0.43664,
           0.01525434281800635
          ],
          [
           267146,
           3155,
           0.08076,
           0.011810021486378235
          ],
          [
           889,
           0,
           0.7571100000000001,
           0
          ],
          [
           1489459,
           5732,
           0.55673,
           0.0038483771624462306
          ],
          [
           399449,
           4628,
           0.15272,
           0.011585959659430866
          ],
          [
           1580631,
           30656,
           0.2403,
           0.019394786006348096
          ],
          [
           6246,
           9,
           0.71219,
           0.001440922190201729
          ],
          [
           1047727,
           8658,
           0.41014999999999996,
           0.008263603018725297
          ],
          [
           46864,
           670,
           0.00415,
           0.014296688289518607
          ],
          [
           735957,
           19989,
           0.23283000000000004,
           0.027160554217162142
          ],
          [
           4522474,
           221727,
           0.67158,
           0.04902781088404267
          ],
          [
           4119478,
           66736,
           0.21728999999999998,
           0.01620011079073611
          ],
          [
           4,
           0,
           0.46,
           0
          ],
          [
           6537193,
           119695,
           0.33288999999999996,
           0.01830984644326701
          ],
          [
           5629824,
           27630,
           0.6845999999999999,
           0.004907791078371189
          ],
          [
           1252713,
           5938,
           0.6322500000000001,
           0.004740112060783276
          ],
          [
           514524,
           690,
           0.66115,
           0.001341045315670406
          ],
          [
           3499607,
           68568,
           0.09289,
           0.01959305716327576
          ],
          [
           133194,
           1468,
           0.32621,
           0.011021517485772632
          ],
          [
           6607,
           46,
           0.06514,
           0.006962312698652944
          ],
          [
           30150,
           410,
           0.042839999999999996,
           0.013598673300165837
          ],
          [
           9644,
           124,
           0.03857,
           0.012857735379510576
          ],
          [
           16778,
           31,
           0.41463000000000005,
           0.0018476576469185838
          ],
          [
           24804,
           126,
           0.57335,
           0.0050798258345428155
          ],
          [
           841469,
           9646,
           0.46129,
           0.011463286229201551
          ],
          [
           89022,
           1971,
           0.04328,
           0.022140594459796454
          ],
          [
           50937,
           172,
           0.45691000000000004,
           0.003376720262284783
          ],
          [
           7766,
           125,
           0.15064999999999998,
           0.016095802214782386
          ],
          [
           2657258,
           1872,
           0.8151900000000001,
           0.0007044856013228674
          ],
          [
           1868301,
           21167,
           0.31031000000000003,
           0.011329544864558762
          ],
          [
           1346628,
           9467,
           0.30681,
           0.007030152350909085
          ],
          [
           25954,
           199,
           0.04061,
           0.007667411574323804
          ],
          [
           27334,
           1361,
           0.0017699999999999997,
           0.04979146850076827
          ],
          [
           4072533,
           102595,
           0.07437,
           0.025191938285091857
          ],
          [
           13980340,
           121852,
           0.56024,
           0.008715953975368267
          ],
          [
           672606,
           16883,
           0.38387,
           0.02510087629310473
          ],
          [
           63993,
           5046,
           0.08874000000000001,
           0.07885237447845858
          ],
          [
           82588,
           1408,
           0.08334,
           0.017048481619605753
          ],
          [
           2722678,
           25078,
           0.5303,
           0.009210784382141407
          ],
          [
           4420546,
           14080,
           0.5749000000000001,
           0.0031851269051379628
          ],
          [
           17786,
           125,
           0.54155,
           0.0070279995502080285
          ],
          [
           4758429,
           34488,
           0.39371,
           0.007247770219961252
          ],
          [
           23460,
           138,
           0.25643000000000005,
           0.0058823529411764705
          ],
          [
           39531,
           290,
           0.05168000000000001,
           0.0073360147732159575
          ],
          [
           80,
           0,
           0.7170399999999999,
           0
          ],
          [
           16865,
           12,
           0.36509,
           0.0007115327601541654
          ],
          [
           191496,
           4390,
           0.12492999999999999,
           0.02292476083051343
          ],
          [
           1153361,
           29423,
           0.10649,
           0.02551065971538833
          ],
          [
           6662,
           40,
           0.19224000000000002,
           0.006004202942059442
          ],
          [
           2943,
           1,
           0.48719000000000007,
           0.0003397893306150187
          ],
          [
           171983,
           3632,
           0.01672,
           0.021118366350162517
          ],
          [
           5520483,
           109918,
           0.01703,
           0.019910938952261967
          ],
          [
           1067030,
           2349,
           0.5195599999999999,
           0.002201437635305474
          ],
          [
           1040506,
           7635,
           0.59877,
           0.0073377760435787975
          ],
          [
           174575,
           1016,
           0.47683999999999993,
           0.005819848202778175
          ],
          [
           12019,
           14,
           0.053899999999999997,
           0.0011648223645894002
          ],
          [
           3550,
           8,
           0.29788,
           0.0022535211267605635
          ],
          [
           11945,
           2159,
           0.0022299999999999998,
           0.18074508162411052
          ],
          [
           349287,
           4069,
           0.07695,
           0.011649445871160392
          ],
          [
           265848,
           5723,
           0.15426,
           0.021527338930516685
          ]
         ],
         "hovertemplate": "<b>%{hovertext}</b><br><br>Andel vaccinerade=%{customdata[2]}<br>latitude=%{lat}<br>longitude=%{lon}<br>sum_cases=%{customdata[0]}<br>sum_deaths=%{customdata[1]}<br>Andel avlidna/fall=%{marker.color}<extra></extra>",
         "hovertext": [
          "Afghanistan",
          "Albania",
          "Algeria",
          "American Samoa",
          "Andorra",
          "Angola",
          "Anguilla",
          "Antigua and Barbuda",
          "Argentina",
          "Armenia",
          "Aruba",
          "Australia",
          "Austria",
          "Azerbaijan",
          "Bahamas",
          "Bahrain",
          "Bangladesh",
          "Barbados",
          "Belarus",
          "Belgium",
          "Belize",
          "Bermuda",
          "Bhutan",
          "Botswana",
          "Brazil",
          "British Virgin Islands",
          "Bulgaria",
          "Burkina Faso",
          "Burundi",
          "Cambodia",
          "Cameroon",
          "Canada",
          "Cayman Islands",
          "Central African Republic",
          "Chad",
          "Chile",
          "China",
          "Colombia",
          "Cook Islands",
          "Costa Rica",
          "Croatia",
          "Cuba",
          "Cyprus",
          "Denmark",
          "Dominica",
          "Dominican Republic",
          "Ecuador",
          "Egypt",
          "El Salvador",
          "Equatorial Guinea",
          "Estonia",
          "Ethiopia",
          "Faroe Islands",
          "Fiji",
          "Finland",
          "France",
          "French Guiana",
          "French Polynesia",
          "Gabon",
          "Gambia",
          "Georgia",
          "Germany",
          "Ghana",
          "Gibraltar",
          "Greece",
          "Grenada",
          "Guadeloupe",
          "Guam",
          "Guatemala",
          "Guernsey",
          "Guinea",
          "Guinea-Bissau",
          "Guyana",
          "Honduras",
          "Hungary",
          "Iceland",
          "India",
          "Indonesia",
          "Iraq",
          "Ireland",
          "Isle of Man",
          "Israel",
          "Italy",
          "Jamaica",
          "Japan",
          "Jersey",
          "Jordan",
          "Kazakhstan",
          "Kenya",
          "Kiribati",
          "Kuwait",
          "Kyrgyzstan",
          "Latvia",
          "Lebanon",
          "Lesotho",
          "Liberia",
          "Libya",
          "Liechtenstein",
          "Lithuania",
          "Luxembourg",
          "Madagascar",
          "Malawi",
          "Malaysia",
          "Maldives",
          "Malta",
          "Marshall Islands",
          "Martinique",
          "Mauritania",
          "Mauritius",
          "Mexico",
          "Monaco",
          "Mongolia",
          "Montserrat",
          "Morocco",
          "Mozambique",
          "Nauru",
          "Nepal",
          "Netherlands",
          "New Caledonia",
          "New Zealand",
          "Nicaragua",
          "Nigeria",
          "Niue",
          "Norway",
          "Oman",
          "Pakistan",
          "Palau",
          "Panama",
          "Papua New Guinea",
          "Paraguay",
          "Peru",
          "Philippines",
          "Pitcairn Islands",
          "Poland",
          "Portugal",
          "Puerto Rico",
          "Qatar",
          "Romania",
          "Rwanda",
          "Saint Kitts and Nevis",
          "Saint Lucia",
          "Saint Vincent and the Grenadines",
          "Samoa",
          "San Marino",
          "Saudi Arabia",
          "Senegal",
          "Seychelles",
          "Sierra Leone",
          "Singapore",
          "Slovakia",
          "Slovenia",
          "Solomon Islands",
          "Somalia",
          "South Africa",
          "Spain",
          "Sri Lanka",
          "Sudan",
          "Suriname",
          "Sweden",
          "Switzerland",
          "Tajikistan",
          "Thailand",
          "Timor-Leste",
          "Togo",
          "Tokelau",
          "Tonga",
          "Trinidad and Tobago",
          "Tunisia",
          "Turks and Caicos Islands",
          "Tuvalu",
          "Uganda",
          "Ukraine",
          "United Arab Emirates",
          "Uruguay",
          "Uzbekistan",
          "Vanuatu",
          "Wallis and Futuna",
          "Yemen",
          "Zambia",
          "Zimbabwe"
         ],
         "lat": [
          33.93911,
          41.153332,
          28.033886,
          -14.270972,
          42.546245,
          -11.202692,
          18.220554,
          17.060816,
          -38.416097,
          40.069099,
          12.52111,
          -25.274398,
          47.516231,
          40.143105,
          25.03428,
          25.930414,
          23.684994,
          13.193887,
          53.709807,
          50.503887,
          17.189877,
          32.321384,
          27.514162,
          -22.328474,
          -14.235004,
          18.420695,
          42.733883,
          12.238333,
          -3.373056,
          12.565679,
          7.369722,
          56.130366,
          19.513469,
          6.611111,
          15.454166,
          -35.675147,
          35.86166,
          4.570868,
          -21.236736,
          9.748917,
          45.1,
          21.521757,
          35.126413,
          56.26392,
          15.414999,
          18.735693,
          -1.831239,
          26.820553,
          13.794185,
          1.650801,
          58.595272,
          9.145,
          61.892635,
          -16.578193,
          61.92411,
          46.227638,
          3.933889,
          -17.679742,
          -0.803689,
          13.443182,
          42.315407,
          51.165691,
          7.946527,
          36.137741,
          39.074208,
          12.262776,
          16.995971,
          13.444304,
          15.783471,
          49.465691,
          9.945587,
          11.803749,
          4.860416,
          15.199999,
          47.162494,
          64.963051,
          20.593684,
          -0.789275,
          33.223191,
          53.41291,
          54.236107,
          31.046051,
          41.87194,
          18.109581,
          36.204824,
          49.214439,
          30.585164,
          48.019573,
          -0.023559,
          -3.370417,
          29.31166,
          41.20438,
          56.879635,
          33.854721,
          -29.609988,
          6.428055,
          26.3351,
          47.166,
          55.169438,
          49.815273,
          -18.766947,
          -13.254308,
          4.210484,
          3.202778,
          35.937496,
          7.131474,
          14.641528,
          21.00789,
          -20.348404,
          23.634501,
          43.750298,
          46.862496,
          16.742498,
          31.791702,
          -18.665695,
          -0.522778,
          28.394857,
          52.132633,
          -20.904305,
          -40.900557,
          12.865416,
          9.081999,
          -19.054445,
          60.472024,
          21.512583,
          30.375321,
          7.51498,
          8.537981,
          -6.314993,
          -23.442503,
          -9.189967,
          12.879721,
          -24.703615,
          51.919438,
          39.399872,
          18.220833,
          25.354826,
          45.943161,
          -1.940278,
          17.357822,
          13.909444,
          12.984305,
          -13.759029,
          43.94236,
          23.885942,
          14.497401,
          -4.679574,
          8.460555,
          1.352083,
          48.669026,
          46.151241,
          -9.64571,
          5.152149,
          -30.559482,
          40.463667,
          7.873054,
          12.862807,
          3.919305,
          60.128161,
          46.818188,
          38.861034,
          15.870032,
          -8.874217,
          8.619543,
          -8.967363,
          -21.178986,
          10.691803,
          33.886917,
          21.694025,
          -7.109535,
          1.373333,
          48.379433,
          23.424076,
          -32.522779,
          41.377491,
          -15.376706,
          -13.768752,
          15.552727,
          -13.133897,
          -19.015438
         ],
         "legendgroup": "",
         "lon": [
          67.709953,
          20.168331,
          1.659626,
          -170.132217,
          1.601554,
          17.873887,
          -63.068615,
          -61.796428,
          -63.616672,
          45.038189,
          -69.968338,
          133.775136,
          14.550072,
          47.576927,
          -77.39628,
          50.637772,
          90.356331,
          -59.543198,
          27.953389,
          4.469936,
          -88.49765,
          -64.75737,
          90.433601,
          24.684866,
          -51.92528,
          -64.639968,
          25.48583,
          -1.561593,
          29.918886,
          104.990963,
          12.354722,
          -106.346771,
          -80.566956,
          20.939444,
          18.732207,
          -71.542969,
          104.195397,
          -74.297333,
          -159.777671,
          -83.753428,
          15.2,
          -77.781167,
          33.429859,
          9.501785,
          -61.370976,
          -70.162651,
          -78.183406,
          30.802498,
          -88.89653,
          10.267895,
          25.013607,
          40.489673,
          -6.911806,
          179.414413,
          25.748151,
          2.213749,
          -53.125782,
          -149.406843,
          11.609444,
          -15.310139,
          43.356892,
          10.451526,
          -1.023194,
          -5.345374,
          21.824312,
          -61.604171,
          -62.067641,
          144.793731,
          -90.230759,
          -2.585278,
          -9.696645,
          -15.180413,
          -58.93018,
          -86.241905,
          19.503304,
          -19.020835,
          78.96288,
          113.921327,
          43.679291,
          -8.24389,
          -4.548056,
          34.851612,
          12.56738,
          -77.297508,
          138.252924,
          -2.13125,
          36.238414,
          66.923684,
          37.906193,
          -168.734039,
          47.481766,
          74.766098,
          24.603189,
          35.862285,
          28.233608,
          -9.429499,
          17.228331,
          9.555373,
          23.881275,
          6.129583,
          46.869107,
          34.301525,
          101.975766,
          73.22068,
          14.375416,
          171.184478,
          -61.024174,
          -10.940835,
          57.552152,
          -102.552784,
          7.412841,
          103.846656,
          -62.187366,
          -7.09262,
          35.529562,
          166.931503,
          84.124008,
          5.291266,
          165.618042,
          174.885971,
          -85.207229,
          8.675277,
          -169.867233,
          8.468946,
          55.923255,
          69.345116,
          134.58252,
          -80.782127,
          143.95555,
          -58.443832,
          -75.015152,
          121.774017,
          -127.439308,
          19.145136,
          -8.224454,
          -66.590149,
          51.183884,
          24.96676,
          29.873888,
          -62.782998,
          -60.978893,
          -61.287228,
          -172.104629,
          12.457777,
          45.079162,
          -14.452362,
          55.491977,
          -11.779889,
          103.819836,
          19.699024,
          14.995463,
          160.156194,
          46.199616,
          22.937506,
          -3.74922,
          80.771797,
          30.217636,
          -56.027783,
          18.643501,
          8.227512,
          71.276093,
          100.992541,
          125.727539,
          0.824782,
          -171.855881,
          -175.198242,
          -61.222503,
          9.537499,
          -71.797928,
          177.64933,
          32.290275,
          31.16558,
          53.847818,
          -55.765835,
          64.585262,
          166.959158,
          -177.156097,
          48.516388,
          27.849332,
          29.154857
         ],
         "marker": {
          "color": [
           0.034912346139500186,
           0.010787512346972374,
           0.025301700997948214,
           0.004067472185668142,
           0.00331146516713527,
           0.018267942403140273,
           0.0030737704918032786,
           0.01603338458159455,
           0.012976380107923,
           0.01944893573134785,
           0.0066027496382054995,
           0.0020070547001081775,
           0.0037054656358103144,
           0.012416521791259516,
           0.022161537653607816,
           0.0022049513790994724,
           0.014407431628606257,
           0.005631704680673261,
           0.007160699249625517,
           0.007113665347195925,
           0.0096819589079651,
           0.008748674443266172,
           0.00033494425570601463,
           0.008478629374016224,
           0.01868044347572537,
           0.008761122518822724,
           0.029407626283945405,
           0.017954298150163223,
           0.00027411779755486925,
           0.021994314297024004,
           0.01578063794068271,
           0.011300823437488405,
           0.001175648195221149,
           0.007353419665517017,
           0.025201351000259806,
           0.011649048106138671,
           0.0012262542494759145,
           0.02239262842605241,
           0.00027901785714285713,
           0.0076100748738380675,
           0.014444217260205077,
           0.007649517578196812,
           0.0020639959809579727,
           0.0025823693590052376,
           0.004684137232561084,
           0.006571984517459832,
           0.03371217400169669,
           0.04811801024372945,
           0.02096041306383759,
           0.010683012259194396,
           0.0048167733925554125,
           0.015115954177144455,
           0.0008078942812626233,
           0.012817356293539183,
           0.006899017195226894,
           0.004307584924055368,
           0.004212523332075356,
           0.00825143351175416,
           0.006266329196603527,
           0.02946301283066688,
           0.00923414088047738,
           0.004552268868141002,
           0.008517182921358788,
           0.005498783454987835,
           0.006935135866050537,
           0.012085512618697,
           0.00502374098949492,
           0.00800768122899664,
           0.01591965824069485,
           0.0018966200532185926,
           0.012135985270855484,
           0.01841065113376326,
           0.017700441489071784,
           0.023445500326597694,
           0.02208276650554285,
           0.0008887359880737364,
           0.01185061330558189,
           0.02376453911826189,
           0.010291842168769988,
           0.005410675992271457,
           0.003051989054935803,
           0.0026244610426465107,
           0.007333281843376998,
           0.023071810210394457,
           0.002209648140143296,
           0.0024250274886656324,
           0.00808358571880776,
           0.012690495502898812,
           0.01653154331212042,
           0.00471976401179941,
           0.0038559582056140952,
           0.011517523732397535,
           0.007566354098817322,
           0.008828909334916252,
           0.019784574171224468,
           0.03707440100882724,
           0.012689519761704342,
           0.004043690448524285,
           0.00726284813421093,
           0.002594403870850575,
           0.02084613359080137,
           0.030184523408176567,
           0.007249168387764451,
           0.0016926092964958703,
           0.007319782478944227,
           0.0010534143016482835,
           0.004792623527266729,
           0.01563333019725907,
           0.00340018646183823,
           0.0435144942372075,
           0.003916067566777719,
           0.0022585528846486634,
           0.005702066999287242,
           0.012758525124829528,
           0.009625343456563979,
           0.00018542555164101615,
           0.011989635756639593,
           0.0026665735504349105,
           0.003921862509992006,
           0.0014348385463023856,
           0.01525434281800635,
           0.011810021486378235,
           0,
           0.0038483771624462306,
           0.011585959659430866,
           0.019394786006348096,
           0.001440922190201729,
           0.008263603018725297,
           0.014296688289518607,
           0.027160554217162142,
           0.04902781088404267,
           0.01620011079073611,
           0,
           0.01830984644326701,
           0.004907791078371189,
           0.004740112060783276,
           0.001341045315670406,
           0.01959305716327576,
           0.011021517485772632,
           0.006962312698652944,
           0.013598673300165837,
           0.012857735379510576,
           0.0018476576469185838,
           0.0050798258345428155,
           0.011463286229201551,
           0.022140594459796454,
           0.003376720262284783,
           0.016095802214782386,
           0.0007044856013228674,
           0.011329544864558762,
           0.007030152350909085,
           0.007667411574323804,
           0.04979146850076827,
           0.025191938285091857,
           0.008715953975368267,
           0.02510087629310473,
           0.07885237447845858,
           0.017048481619605753,
           0.009210784382141407,
           0.0031851269051379628,
           0.0070279995502080285,
           0.007247770219961252,
           0.0058823529411764705,
           0.0073360147732159575,
           0,
           0.0007115327601541654,
           0.02292476083051343,
           0.02551065971538833,
           0.006004202942059442,
           0.0003397893306150187,
           0.021118366350162517,
           0.019910938952261967,
           0.002201437635305474,
           0.0073377760435787975,
           0.005819848202778175,
           0.0011648223645894002,
           0.0022535211267605635,
           0.18074508162411052,
           0.011649445871160392,
           0.021527338930516685
          ],
          "coloraxis": "coloraxis",
          "size": [
           0.06373,
           0.14095000000000002,
           0.013129999999999998,
           0.4377000000000001,
           0.54497,
           0.09085,
           0.20304,
           0.10046,
           0.6817000000000001,
           0.02915,
           0.33399000000000006,
           0.5648,
           0.60207,
           0.33982,
           0.08574000000000001,
           0.59278,
           0.41613,
           0.21867,
           0.59727,
           0.6236499999999999,
           0.12634,
           0.51112,
           0.8224899999999999,
           0.21586999999999998,
           0.5193,
           0.12323,
           0.12182,
           0.00019,
           0.000029999999999999997,
           0.64339,
           0.030270000000000005,
           0.52399,
           0.36616000000000004,
           0.07583,
           0.24611000000000002,
           0.8248,
           0.56689,
           0.29072,
           0.58301,
           0.5806600000000001,
           0.2579,
           0.7718200000000001,
           0.5387500000000001,
           0.61582,
           0.055470000000000005,
           0.23546,
           0.43691,
           0.1487,
           0.29265,
           0.0032800000000000004,
           0.36595999999999995,
           0.052000000000000005,
           0.43557,
           0.19196,
           0.5567,
           0.6047,
           0.15511999999999998,
           0.36423999999999995,
           0.00116,
           0.022240000000000003,
           0.06684000000000001,
           0.62645,
           0.15467,
           1.4594399999999998,
           0.56429,
           0.06586,
           0.22245,
           0.49534999999999996,
           0.20762,
           1.07556,
           0.032389999999999995,
           0.038799999999999994,
           0.09901,
           0.47101,
           0.39929000000000003,
           0.6765600000000002,
           0.16581,
           0.25357,
           0.00684,
           0.60442,
           0.62715,
           0.5027100000000001,
           0.7609199999999999,
           0.015529999999999999,
           0.6846899999999999,
           0.6833499999999999,
           0.06686,
           0.35431,
           0.03721,
           0.31483,
           0.34130000000000005,
           0.046079999999999996,
           0.2937,
           0.09673,
           0.08299999999999999,
           0.00039,
           0.027179999999999996,
           0.47255,
           0.32149,
           0.57101,
           0.00611,
           0.06444,
           0.50511,
           0.30948,
           0.6768899999999999,
           0.31353000000000003,
           0.24761,
           0.08256,
           0.51464,
           0.44220000000000004,
           0.48535999999999996,
           0.32299,
           0.11262000000000001,
           0.18651,
           0.07434,
           0.71119,
           0.35200000000000004,
           0.53533,
           0.36191,
           0.5639099999999999,
           0.43664,
           0.08076,
           0.7571100000000001,
           0.55673,
           0.15272,
           0.2403,
           0.71219,
           0.41014999999999996,
           0.00415,
           0.23283000000000004,
           0.67158,
           0.21728999999999998,
           0.46,
           0.33288999999999996,
           0.6845999999999999,
           0.6322500000000001,
           0.66115,
           0.09289,
           0.32621,
           0.06514,
           0.042839999999999996,
           0.03857,
           0.41463000000000005,
           0.57335,
           0.46129,
           0.04328,
           0.45691000000000004,
           0.15064999999999998,
           0.8151900000000001,
           0.31031000000000003,
           0.30681,
           0.04061,
           0.0017699999999999997,
           0.07437,
           0.56024,
           0.38387,
           0.08874000000000001,
           0.08334,
           0.5303,
           0.5749000000000001,
           0.54155,
           0.39371,
           0.25643000000000005,
           0.05168000000000001,
           0.7170399999999999,
           0.36509,
           0.12492999999999999,
           0.10649,
           0.19224000000000002,
           0.48719000000000007,
           0.01672,
           0.01703,
           0.5195599999999999,
           0.59877,
           0.47683999999999993,
           0.053899999999999997,
           0.29788,
           0.0022299999999999998,
           0.07695,
           0.15426
          ],
          "sizemode": "area",
          "sizeref": 0.0036485999999999997
         },
         "mode": "markers",
         "name": "",
         "showlegend": false,
         "subplot": "mapbox",
         "type": "scattermapbox"
        }
       ],
       "layout": {
        "coloraxis": {
         "colorbar": {
          "title": {
           "text": "Andel avlidna/fall"
          }
         },
         "colorscale": [
          [
           0,
           "#0d0887"
          ],
          [
           0.1111111111111111,
           "#46039f"
          ],
          [
           0.2222222222222222,
           "#7201a8"
          ],
          [
           0.3333333333333333,
           "#9c179e"
          ],
          [
           0.4444444444444444,
           "#bd3786"
          ],
          [
           0.5555555555555556,
           "#d8576b"
          ],
          [
           0.6666666666666666,
           "#ed7953"
          ],
          [
           0.7777777777777778,
           "#fb9f3a"
          ],
          [
           0.8888888888888888,
           "#fdca26"
          ],
          [
           1,
           "#f0f921"
          ]
         ]
        },
        "height": 800,
        "legend": {
         "itemsizing": "constant",
         "tracegroupgap": 0
        },
        "mapbox": {
         "center": {
          "lat": 17.72600932222222,
          "lon": 6.176024572222221
         },
         "domain": {
          "x": [
           0,
           1
          ],
          "y": [
           0,
           1
          ]
         },
         "style": "open-street-map",
         "zoom": 8
        },
        "margin": {
         "t": 60
        },
        "template": {
         "data": {
          "bar": [
           {
            "error_x": {
             "color": "#2a3f5f"
            },
            "error_y": {
             "color": "#2a3f5f"
            },
            "marker": {
             "line": {
              "color": "#E5ECF6",
              "width": 0.5
             },
             "pattern": {
              "fillmode": "overlay",
              "size": 10,
              "solidity": 0.2
             }
            },
            "type": "bar"
           }
          ],
          "barpolar": [
           {
            "marker": {
             "line": {
              "color": "#E5ECF6",
              "width": 0.5
             },
             "pattern": {
              "fillmode": "overlay",
              "size": 10,
              "solidity": 0.2
             }
            },
            "type": "barpolar"
           }
          ],
          "carpet": [
           {
            "aaxis": {
             "endlinecolor": "#2a3f5f",
             "gridcolor": "white",
             "linecolor": "white",
             "minorgridcolor": "white",
             "startlinecolor": "#2a3f5f"
            },
            "baxis": {
             "endlinecolor": "#2a3f5f",
             "gridcolor": "white",
             "linecolor": "white",
             "minorgridcolor": "white",
             "startlinecolor": "#2a3f5f"
            },
            "type": "carpet"
           }
          ],
          "choropleth": [
           {
            "colorbar": {
             "outlinewidth": 0,
             "ticks": ""
            },
            "type": "choropleth"
           }
          ],
          "contour": [
           {
            "colorbar": {
             "outlinewidth": 0,
             "ticks": ""
            },
            "colorscale": [
             [
              0,
              "#0d0887"
             ],
             [
              0.1111111111111111,
              "#46039f"
             ],
             [
              0.2222222222222222,
              "#7201a8"
             ],
             [
              0.3333333333333333,
              "#9c179e"
             ],
             [
              0.4444444444444444,
              "#bd3786"
             ],
             [
              0.5555555555555556,
              "#d8576b"
             ],
             [
              0.6666666666666666,
              "#ed7953"
             ],
             [
              0.7777777777777778,
              "#fb9f3a"
             ],
             [
              0.8888888888888888,
              "#fdca26"
             ],
             [
              1,
              "#f0f921"
             ]
            ],
            "type": "contour"
           }
          ],
          "contourcarpet": [
           {
            "colorbar": {
             "outlinewidth": 0,
             "ticks": ""
            },
            "type": "contourcarpet"
           }
          ],
          "heatmap": [
           {
            "colorbar": {
             "outlinewidth": 0,
             "ticks": ""
            },
            "colorscale": [
             [
              0,
              "#0d0887"
             ],
             [
              0.1111111111111111,
              "#46039f"
             ],
             [
              0.2222222222222222,
              "#7201a8"
             ],
             [
              0.3333333333333333,
              "#9c179e"
             ],
             [
              0.4444444444444444,
              "#bd3786"
             ],
             [
              0.5555555555555556,
              "#d8576b"
             ],
             [
              0.6666666666666666,
              "#ed7953"
             ],
             [
              0.7777777777777778,
              "#fb9f3a"
             ],
             [
              0.8888888888888888,
              "#fdca26"
             ],
             [
              1,
              "#f0f921"
             ]
            ],
            "type": "heatmap"
           }
          ],
          "heatmapgl": [
           {
            "colorbar": {
             "outlinewidth": 0,
             "ticks": ""
            },
            "colorscale": [
             [
              0,
              "#0d0887"
             ],
             [
              0.1111111111111111,
              "#46039f"
             ],
             [
              0.2222222222222222,
              "#7201a8"
             ],
             [
              0.3333333333333333,
              "#9c179e"
             ],
             [
              0.4444444444444444,
              "#bd3786"
             ],
             [
              0.5555555555555556,
              "#d8576b"
             ],
             [
              0.6666666666666666,
              "#ed7953"
             ],
             [
              0.7777777777777778,
              "#fb9f3a"
             ],
             [
              0.8888888888888888,
              "#fdca26"
             ],
             [
              1,
              "#f0f921"
             ]
            ],
            "type": "heatmapgl"
           }
          ],
          "histogram": [
           {
            "marker": {
             "pattern": {
              "fillmode": "overlay",
              "size": 10,
              "solidity": 0.2
             }
            },
            "type": "histogram"
           }
          ],
          "histogram2d": [
           {
            "colorbar": {
             "outlinewidth": 0,
             "ticks": ""
            },
            "colorscale": [
             [
              0,
              "#0d0887"
             ],
             [
              0.1111111111111111,
              "#46039f"
             ],
             [
              0.2222222222222222,
              "#7201a8"
             ],
             [
              0.3333333333333333,
              "#9c179e"
             ],
             [
              0.4444444444444444,
              "#bd3786"
             ],
             [
              0.5555555555555556,
              "#d8576b"
             ],
             [
              0.6666666666666666,
              "#ed7953"
             ],
             [
              0.7777777777777778,
              "#fb9f3a"
             ],
             [
              0.8888888888888888,
              "#fdca26"
             ],
             [
              1,
              "#f0f921"
             ]
            ],
            "type": "histogram2d"
           }
          ],
          "histogram2dcontour": [
           {
            "colorbar": {
             "outlinewidth": 0,
             "ticks": ""
            },
            "colorscale": [
             [
              0,
              "#0d0887"
             ],
             [
              0.1111111111111111,
              "#46039f"
             ],
             [
              0.2222222222222222,
              "#7201a8"
             ],
             [
              0.3333333333333333,
              "#9c179e"
             ],
             [
              0.4444444444444444,
              "#bd3786"
             ],
             [
              0.5555555555555556,
              "#d8576b"
             ],
             [
              0.6666666666666666,
              "#ed7953"
             ],
             [
              0.7777777777777778,
              "#fb9f3a"
             ],
             [
              0.8888888888888888,
              "#fdca26"
             ],
             [
              1,
              "#f0f921"
             ]
            ],
            "type": "histogram2dcontour"
           }
          ],
          "mesh3d": [
           {
            "colorbar": {
             "outlinewidth": 0,
             "ticks": ""
            },
            "type": "mesh3d"
           }
          ],
          "parcoords": [
           {
            "line": {
             "colorbar": {
              "outlinewidth": 0,
              "ticks": ""
             }
            },
            "type": "parcoords"
           }
          ],
          "pie": [
           {
            "automargin": true,
            "type": "pie"
           }
          ],
          "scatter": [
           {
            "fillpattern": {
             "fillmode": "overlay",
             "size": 10,
             "solidity": 0.2
            },
            "type": "scatter"
           }
          ],
          "scatter3d": [
           {
            "line": {
             "colorbar": {
              "outlinewidth": 0,
              "ticks": ""
             }
            },
            "marker": {
             "colorbar": {
              "outlinewidth": 0,
              "ticks": ""
             }
            },
            "type": "scatter3d"
           }
          ],
          "scattercarpet": [
           {
            "marker": {
             "colorbar": {
              "outlinewidth": 0,
              "ticks": ""
             }
            },
            "type": "scattercarpet"
           }
          ],
          "scattergeo": [
           {
            "marker": {
             "colorbar": {
              "outlinewidth": 0,
              "ticks": ""
             }
            },
            "type": "scattergeo"
           }
          ],
          "scattergl": [
           {
            "marker": {
             "colorbar": {
              "outlinewidth": 0,
              "ticks": ""
             }
            },
            "type": "scattergl"
           }
          ],
          "scattermapbox": [
           {
            "marker": {
             "colorbar": {
              "outlinewidth": 0,
              "ticks": ""
             }
            },
            "type": "scattermapbox"
           }
          ],
          "scatterpolar": [
           {
            "marker": {
             "colorbar": {
              "outlinewidth": 0,
              "ticks": ""
             }
            },
            "type": "scatterpolar"
           }
          ],
          "scatterpolargl": [
           {
            "marker": {
             "colorbar": {
              "outlinewidth": 0,
              "ticks": ""
             }
            },
            "type": "scatterpolargl"
           }
          ],
          "scatterternary": [
           {
            "marker": {
             "colorbar": {
              "outlinewidth": 0,
              "ticks": ""
             }
            },
            "type": "scatterternary"
           }
          ],
          "surface": [
           {
            "colorbar": {
             "outlinewidth": 0,
             "ticks": ""
            },
            "colorscale": [
             [
              0,
              "#0d0887"
             ],
             [
              0.1111111111111111,
              "#46039f"
             ],
             [
              0.2222222222222222,
              "#7201a8"
             ],
             [
              0.3333333333333333,
              "#9c179e"
             ],
             [
              0.4444444444444444,
              "#bd3786"
             ],
             [
              0.5555555555555556,
              "#d8576b"
             ],
             [
              0.6666666666666666,
              "#ed7953"
             ],
             [
              0.7777777777777778,
              "#fb9f3a"
             ],
             [
              0.8888888888888888,
              "#fdca26"
             ],
             [
              1,
              "#f0f921"
             ]
            ],
            "type": "surface"
           }
          ],
          "table": [
           {
            "cells": {
             "fill": {
              "color": "#EBF0F8"
             },
             "line": {
              "color": "white"
             }
            },
            "header": {
             "fill": {
              "color": "#C8D4E3"
             },
             "line": {
              "color": "white"
             }
            },
            "type": "table"
           }
          ]
         },
         "layout": {
          "annotationdefaults": {
           "arrowcolor": "#2a3f5f",
           "arrowhead": 0,
           "arrowwidth": 1
          },
          "autotypenumbers": "strict",
          "coloraxis": {
           "colorbar": {
            "outlinewidth": 0,
            "ticks": ""
           }
          },
          "colorscale": {
           "diverging": [
            [
             0,
             "#8e0152"
            ],
            [
             0.1,
             "#c51b7d"
            ],
            [
             0.2,
             "#de77ae"
            ],
            [
             0.3,
             "#f1b6da"
            ],
            [
             0.4,
             "#fde0ef"
            ],
            [
             0.5,
             "#f7f7f7"
            ],
            [
             0.6,
             "#e6f5d0"
            ],
            [
             0.7,
             "#b8e186"
            ],
            [
             0.8,
             "#7fbc41"
            ],
            [
             0.9,
             "#4d9221"
            ],
            [
             1,
             "#276419"
            ]
           ],
           "sequential": [
            [
             0,
             "#0d0887"
            ],
            [
             0.1111111111111111,
             "#46039f"
            ],
            [
             0.2222222222222222,
             "#7201a8"
            ],
            [
             0.3333333333333333,
             "#9c179e"
            ],
            [
             0.4444444444444444,
             "#bd3786"
            ],
            [
             0.5555555555555556,
             "#d8576b"
            ],
            [
             0.6666666666666666,
             "#ed7953"
            ],
            [
             0.7777777777777778,
             "#fb9f3a"
            ],
            [
             0.8888888888888888,
             "#fdca26"
            ],
            [
             1,
             "#f0f921"
            ]
           ],
           "sequentialminus": [
            [
             0,
             "#0d0887"
            ],
            [
             0.1111111111111111,
             "#46039f"
            ],
            [
             0.2222222222222222,
             "#7201a8"
            ],
            [
             0.3333333333333333,
             "#9c179e"
            ],
            [
             0.4444444444444444,
             "#bd3786"
            ],
            [
             0.5555555555555556,
             "#d8576b"
            ],
            [
             0.6666666666666666,
             "#ed7953"
            ],
            [
             0.7777777777777778,
             "#fb9f3a"
            ],
            [
             0.8888888888888888,
             "#fdca26"
            ],
            [
             1,
             "#f0f921"
            ]
           ]
          },
          "colorway": [
           "#636efa",
           "#EF553B",
           "#00cc96",
           "#ab63fa",
           "#FFA15A",
           "#19d3f3",
           "#FF6692",
           "#B6E880",
           "#FF97FF",
           "#FECB52"
          ],
          "font": {
           "color": "#2a3f5f"
          },
          "geo": {
           "bgcolor": "white",
           "lakecolor": "white",
           "landcolor": "#E5ECF6",
           "showlakes": true,
           "showland": true,
           "subunitcolor": "white"
          },
          "hoverlabel": {
           "align": "left"
          },
          "hovermode": "closest",
          "mapbox": {
           "style": "light"
          },
          "paper_bgcolor": "white",
          "plot_bgcolor": "#E5ECF6",
          "polar": {
           "angularaxis": {
            "gridcolor": "white",
            "linecolor": "white",
            "ticks": ""
           },
           "bgcolor": "#E5ECF6",
           "radialaxis": {
            "gridcolor": "white",
            "linecolor": "white",
            "ticks": ""
           }
          },
          "scene": {
           "xaxis": {
            "backgroundcolor": "#E5ECF6",
            "gridcolor": "white",
            "gridwidth": 2,
            "linecolor": "white",
            "showbackground": true,
            "ticks": "",
            "zerolinecolor": "white"
           },
           "yaxis": {
            "backgroundcolor": "#E5ECF6",
            "gridcolor": "white",
            "gridwidth": 2,
            "linecolor": "white",
            "showbackground": true,
            "ticks": "",
            "zerolinecolor": "white"
           },
           "zaxis": {
            "backgroundcolor": "#E5ECF6",
            "gridcolor": "white",
            "gridwidth": 2,
            "linecolor": "white",
            "showbackground": true,
            "ticks": "",
            "zerolinecolor": "white"
           }
          },
          "shapedefaults": {
           "line": {
            "color": "#2a3f5f"
           }
          },
          "ternary": {
           "aaxis": {
            "gridcolor": "white",
            "linecolor": "white",
            "ticks": ""
           },
           "baxis": {
            "gridcolor": "white",
            "linecolor": "white",
            "ticks": ""
           },
           "bgcolor": "#E5ECF6",
           "caxis": {
            "gridcolor": "white",
            "linecolor": "white",
            "ticks": ""
           }
          },
          "title": {
           "x": 0.05
          },
          "xaxis": {
           "automargin": true,
           "gridcolor": "white",
           "linecolor": "white",
           "ticks": "",
           "title": {
            "standoff": 15
           },
           "zerolinecolor": "white",
           "zerolinewidth": 2
          },
          "yaxis": {
           "automargin": true,
           "gridcolor": "white",
           "linecolor": "white",
           "ticks": "",
           "title": {
            "standoff": 15
           },
           "zerolinecolor": "white",
           "zerolinewidth": 2
          }
         }
        },
        "width": 700
       }
      }
     },
     "metadata": {},
     "output_type": "display_data"
    }
   ],
   "source": [
    "# A new plot without latitude on the hover info\n",
    "fig = px.scatter_mapbox(merged_data_2, lat=\"latitude\", lon=\"longitude\", size=\"Andel vaccinerade\", color=\"Andel avlidna/fall\", height = 800, width= 700 ,hover_name = merged_data_2.index, hover_data = [\"sum_cases\", \"sum_deaths\", \"Andel vaccinerade\", \"Andel avlidna/fall\"])\n",
    "fig.update_layout(mapbox_style=\"open-street-map\")"
   ]
  }
 ],
 "metadata": {
  "kernelspec": {
   "display_name": "databehandling-YOUNIS-MOUSSAVI-7D8IQwvr",
   "language": "python",
   "name": "python3"
  },
  "language_info": {
   "codemirror_mode": {
    "name": "ipython",
    "version": 3
   },
   "file_extension": ".py",
   "mimetype": "text/x-python",
   "name": "python",
   "nbconvert_exporter": "python",
   "pygments_lexer": "ipython3",
   "version": "3.11.5"
  }
 },
 "nbformat": 4,
 "nbformat_minor": 2
}
