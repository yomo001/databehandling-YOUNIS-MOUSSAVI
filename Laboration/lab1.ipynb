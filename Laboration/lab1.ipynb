{
 "cells": [
  {
   "cell_type": "code",
   "execution_count": null,
   "metadata": {},
   "outputs": [],
   "source": [
    "# Lösning veckor: Matplotlib och x ticks samt rotering/läge så de får plats osv. \n",
    "# Behöver trixa lite i matplotlib för att få till det snyggt. \n",
    "\n",
    "\n"
   ]
  }
 ],
 "metadata": {
  "language_info": {
   "name": "python"
  }
 },
 "nbformat": 4,
 "nbformat_minor": 2
}
