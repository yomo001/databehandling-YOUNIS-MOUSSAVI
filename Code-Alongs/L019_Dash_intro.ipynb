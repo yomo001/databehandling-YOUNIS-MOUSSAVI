{
 "cells": [
  {
   "cell_type": "code",
   "execution_count": null,
   "metadata": {},
   "outputs": [],
   "source": [
    "\n",
    "from dash import Dash, html, dcc, callback, Output, Input\n",
    "\n",
    "\n",
    "app = Dash(\"__name__\") # skapar en instans av Dash\n",
    "# __name__ är namnet på filen som körs.\n",
    "\n",
    "\n",
    "\n",
    "\n",
    "my_H1 = app.layout = html.H1(children= \"My dash application.\")  # skapar en layout för webbapplikationen\n",
    "my_H2 = html.H2(children = \"More info ...\")  # Behöver ej skriva ut children, men bara för tydlighetsskull\n",
    "my_dropdown = dcc.Dropdown(options = [\"Äpple\", \"Päron\", \"Apelsin\"], value=\"Päron\")\n",
    "app.layout = html.Div(children = [my_H1, my_H2, my_dropdown]) # layout del: Hur komponenteran ligger i förhållande till varandra\n",
    "\n",
    "\n",
    "@callback( # En property, Kopplar ihop funktionaliteter, ändrar en plats så ändras annat.\n",
    "        Output(my_H2, component_property=\"children\"),     # Property children vill vi ändra på\n",
    "        Input(my_dropdown, component_property=\"value\")\n",
    ")\n",
    "def update_heading2(fruit):\n",
    "    return fruit.upper()\n",
    "\n",
    "\n",
    "app.run(host = \"0.0.0.0\", debug=True)    # external=True, port=8050 (8080 default, han skrev port 3000), debug=True kan skrivas om man ändå vill köra på webbläsaren\n",
    "\n",
    "# host=0.0.0.0, jupyter external så kan man gå in i en lokal server på en annan dator. \n",
    "# kommando ipconfig i powershell, terminal. IPv4 adress wirelsess tittar man på då : porten\n",
    "# Gör man det själv behöver man öppna porten.\n",
    "# Tillåter varning.\n",
    "# Man kan göra så och köra igång på dator, sedan ansluta med mobil eller liknande hemma.\n",
    "\n",
    "\n",
    "#IP adress is built on:\n",
    "# 1. The network adress\n",
    "# 2. The subnet mask\n",
    "# 3. The host adress\n",
    "# 4. The port number\n",
    "\n",
    "# I vårt fall där vi kör lokalt på datorn:\n",
    "# IP Nummer pekar på adress till datorn, och porten pekar på adress till tjänsten på datorn\n",
    "# Kör man redan något på 8050, så väljer man annan port.\n",
    "# Kör på port 8050, komplierad diskussion tyckte han om hur man ska veta portnummer\n",
    "\n"
   ]
  }
 ],
 "metadata": {
  "kernelspec": {
   "display_name": "databehandling-YOUNIS-MOUSSAVI-7D8IQwvr",
   "language": "python",
   "name": "python3"
  },
  "language_info": {
   "codemirror_mode": {
    "name": "ipython",
    "version": 3
   },
   "file_extension": ".py",
   "mimetype": "text/x-python",
   "name": "python",
   "nbconvert_exporter": "python",
   "pygments_lexer": "ipython3",
   "version": "3.11.5"
  }
 },
 "nbformat": 4,
 "nbformat_minor": 2
}
