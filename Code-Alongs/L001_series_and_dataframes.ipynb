{
 "cells": [
  {
   "cell_type": "markdown",
   "metadata": {},
   "source": [
    "# Pandas  \n",
    "\n",
    "Två datastrukturer i princip i pandas:  \n",
    "   - Series\n",
    "   - Dataframe\n",
    "   - Pandas bygger mkt på numpys, finns likheter, och därmed t.ex. inget behov av att loopa\n"
   ]
  },
  {
   "cell_type": "code",
   "execution_count": 18,
   "metadata": {},
   "outputs": [],
   "source": [
    "import pandas as pd   # pd är standard att importera det som\n"
   ]
  },
  {
   "cell_type": "markdown",
   "metadata": {},
   "source": [
    "## Series\n",
    "- Series is a one-dimensional labeled array capable of holding any data type (integers, strings, floating point numbers, Python objects, etc.). The axis labels are collectively referred to as the index."
   ]
  },
  {
   "cell_type": "code",
   "execution_count": 19,
   "metadata": {},
   "outputs": [
    {
     "name": "stdout",
     "output_type": "stream",
     "text": [
      "['apple', 'pear', 'orange', 'melon', 'kiwi']\n",
      "\n",
      "0     apple\n",
      "1      pear\n",
      "2    orange\n",
      "3     melon\n",
      "4      kiwi\n",
      "dtype: object\n"
     ]
    }
   ],
   "source": [
    "fruits = [\"apple\", \"pear\", \"orange\", \"melon\", \"kiwi\"]                # Lista i python\n",
    "fruits_pd = pd.Series([\"apple\", \"pear\", \"orange\", \"melon\", \"kiwi\"])  # Motsvarande \"Series\" i pandas\n",
    "\n",
    "print(fruits)\n",
    "print()\n",
    "print(fruits_pd)   # får utskrift med index och dtype på slutet\n"
   ]
  },
  {
   "cell_type": "code",
   "execution_count": 20,
   "metadata": {},
   "outputs": [
    {
     "data": {
      "text/plain": [
       "0     APPLE\n",
       "1      PEAR\n",
       "2    ORANGE\n",
       "3     MELON\n",
       "4      KIWI\n",
       "dtype: object"
      ]
     },
     "execution_count": 20,
     "metadata": {},
     "output_type": "execute_result"
    }
   ],
   "source": [
    "# Denna pandas serie har metoder som kan användas på dom. \n",
    "# T.ex. metoden \"apply\" \n",
    "\n",
    "fruits_pd.apply(str.upper)"
   ]
  },
  {
   "cell_type": "code",
   "execution_count": 21,
   "metadata": {},
   "outputs": [
    {
     "data": {
      "text/plain": [
       "str"
      ]
     },
     "execution_count": 21,
     "metadata": {},
     "output_type": "execute_result"
    }
   ],
   "source": [
    "# Påvisa hur indexering och slicing funkar\n",
    "fruits_pd = pd.Series([\"apple\", \"pear\", \"orange\", \"melon\", \"kiwi\"]) \n",
    "\n",
    "type(fruits_pd[:2])     # pandas series, för man får med serien fram till index 2 (exklusivt)\n",
    "type(fruits_pd[2])      # str (här plockar man ut själva objektet i Serien, som i sig är en sträng)"
   ]
  },
  {
   "cell_type": "code",
   "execution_count": 22,
   "metadata": {},
   "outputs": [
    {
     "data": {
      "text/plain": [
       "'orange'"
      ]
     },
     "execution_count": 22,
     "metadata": {},
     "output_type": "execute_result"
    }
   ],
   "source": [
    "# Sätta egna index går att göra\n",
    "\n",
    "fruits_pd = pd.Series([\"apple\", \"pear\", \"orange\", \"melon\", \"kiwi\"], index = [1, 2, 3, 4, \"fem\"])  # man brukar dock inte blanda dtyper såhär, bara för att visa\n",
    "\n",
    "# index här behöver dock inte vara unika till skillnad från dic.\n",
    "# Det vanliga är att inte skicka med index - man låter default index ligga.\n",
    "\n",
    "# liksom dictionary kan man ange index såsom nycklar anges för att hitta värde i dictionary\n",
    "fruits_pd[3]\n",
    "\n",
    "\n"
   ]
  },
  {
   "cell_type": "code",
   "execution_count": 23,
   "metadata": {},
   "outputs": [
    {
     "name": "stdout",
     "output_type": "stream",
     "text": [
      "0    11\n",
      "1    13\n",
      "2     7\n",
      "dtype: int64\n"
     ]
    }
   ],
   "source": [
    "# Beräkningar kan göras direkt som i numpy på hela serien. \n",
    "numbers = pd.Series([5, 6, 3])\n",
    "print(numbers *2+1)"
   ]
  },
  {
   "cell_type": "code",
   "execution_count": 24,
   "metadata": {},
   "outputs": [
    {
     "name": "stdout",
     "output_type": "stream",
     "text": [
      "0    10\n",
      "1    12\n",
      "2     6\n",
      "dtype: int64\n",
      "0          10\n",
      "1    6str6str\n",
      "2           6\n",
      "dtype: object\n"
     ]
    }
   ],
   "source": [
    "# Hela datatypen finns för hela objektet, en datatyp per serie. \n",
    "# När det finns en sträng bland int/floats så skrivs dtype object ut, men ändå multiplicering blir baserat på olika dtypes.\n",
    "# Man vill dock ha en datatyp per kolumn (se pandas dtypes för mer info.)\n",
    "\n",
    "numbers = pd.Series([5, 6, 3])\n",
    "print(numbers *2)\n",
    "\n",
    "numbers_wstring = pd.Series([5, \"6str\", 3])\n",
    "print(numbers_wstring *2)"
   ]
  },
  {
   "cell_type": "code",
   "execution_count": 25,
   "metadata": {},
   "outputs": [
    {
     "data": {
      "text/plain": [
       "0     True\n",
       "1     True\n",
       "2    False\n",
       "dtype: bool"
      ]
     },
     "execution_count": 25,
     "metadata": {},
     "output_type": "execute_result"
    }
   ],
   "source": [
    "# Man kan utifrån bool välja att få ut(True) och utelämna(False) objekt från Serien.\n",
    "fruits_pd[[True, True, False, False, False]]\n",
    "\n",
    "# Men man brukar dock inte göra så som ovan, men istället använder något sånt:\n",
    "numbers >= 5        # Ger en ny serie med bool värden baserat på om de uppfyller detta eller inte"
   ]
  },
  {
   "cell_type": "code",
   "execution_count": 26,
   "metadata": {},
   "outputs": [
    {
     "data": {
      "text/plain": [
       "pandas.core.series.Series"
      ]
     },
     "execution_count": 26,
     "metadata": {},
     "output_type": "execute_result"
    }
   ],
   "source": [
    "mask = numbers >= 5           # Här gör man samma sak men refererar ett variabelnamn då till denna serie: : skapar en s.k. \"Bool mask\"\n",
    "type(mask)                    # Man ser att variabel då pekar på ett pandas series objekt\n"
   ]
  },
  {
   "cell_type": "code",
   "execution_count": 39,
   "metadata": {},
   "outputs": [
    {
     "data": {
      "text/plain": [
       "0    5\n",
       "1    6\n",
       "dtype: int64"
      ]
     },
     "execution_count": 39,
     "metadata": {},
     "output_type": "execute_result"
    }
   ],
   "source": [
    "# Här filtrerar man fram de värden som uppfyller boolean kriteriet, utifrån denna bool mask \n",
    "numbers[mask]   # Eftersom mask i sig är en pd dataseries av bool mask, så kan den anges så här direkt i indexering\n",
    "                # Man får då tillbaka de värden som är på index True, och inte de som har index False\n",
    "# numbers[pd.Series([True, True, False])]   # Det är egentligen detta man skickar in och får de tillbaka förstå 2 värden\n",
    "                                            # Men index är ett Panda Series element som skapas med de värdena  \n",
    "# Hade funkar att skapa variable = [True, True, False] och skriva numbers[variable]\n",
    "# Men inte numbers[True,True,False], för då tolkar python detta som en tuple och inte en iterable \n",
    "# Däremot om det skrivs numbers[[True,True,False]] så går det eftersom det är en iterable (lista)\n",
    "\n",
    "numbers[numbers>=5]   # Går också att indexera direkt med uttrycket"
   ]
  },
  {
   "cell_type": "markdown",
   "metadata": {},
   "source": [
    "## Dataframe\n",
    "- (lagra data i tabellform)\n",
    "- DataFrame is a 2-dimensional labeled data structure with columns of potentially different types. You can think of it like a spreadsheet or SQL table, or a dict of Series objects. It is generally the most commonly used pandas object."
   ]
  },
  {
   "cell_type": "code",
   "execution_count": 28,
   "metadata": {},
   "outputs": [
    {
     "data": {
      "text/html": [
       "<div>\n",
       "<style scoped>\n",
       "    .dataframe tbody tr th:only-of-type {\n",
       "        vertical-align: middle;\n",
       "    }\n",
       "\n",
       "    .dataframe tbody tr th {\n",
       "        vertical-align: top;\n",
       "    }\n",
       "\n",
       "    .dataframe thead th {\n",
       "        text-align: right;\n",
       "    }\n",
       "</style>\n",
       "<table border=\"1\" class=\"dataframe\">\n",
       "  <thead>\n",
       "    <tr style=\"text-align: right;\">\n",
       "      <th></th>\n",
       "      <th>Name</th>\n",
       "      <th>Age</th>\n",
       "    </tr>\n",
       "  </thead>\n",
       "  <tbody>\n",
       "    <tr>\n",
       "      <th>0</th>\n",
       "      <td>Anders</td>\n",
       "      <td>42</td>\n",
       "    </tr>\n",
       "    <tr>\n",
       "      <th>1</th>\n",
       "      <td>Tomas</td>\n",
       "      <td>46</td>\n",
       "    </tr>\n",
       "    <tr>\n",
       "      <th>2</th>\n",
       "      <td>Mario</td>\n",
       "      <td>36</td>\n",
       "    </tr>\n",
       "  </tbody>\n",
       "</table>\n",
       "</div>"
      ],
      "text/plain": [
       "     Name  Age\n",
       "0  Anders   42\n",
       "1   Tomas   46\n",
       "2   Mario   36"
      ]
     },
     "execution_count": 28,
     "metadata": {},
     "output_type": "execute_result"
    }
   ],
   "source": [
    "data = {                                 # Två key value pairs där keys motsvarar kolumner som har värden.\n",
    "    \"Name\": [\"Anders\", \"Tomas\", \"Mario\"],\n",
    "    \"Age\": [42, 46, 36]\n",
    "}\n",
    "\n",
    "# Skickas en sådan här i pandas för att få ut som Dataframe så gör det såhär:\n",
    "\n",
    "df = pd.DataFrame(data)    # Skapar en instans av en sådan DataFrame klass, där dictionary skickas in som argument.\n",
    "\n",
    "df                         # Utskriften blir kolumner med värden, indexerade"
   ]
  },
  {
   "cell_type": "code",
   "execution_count": 29,
   "metadata": {},
   "outputs": [
    {
     "data": {
      "text/html": [
       "<div>\n",
       "<style scoped>\n",
       "    .dataframe tbody tr th:only-of-type {\n",
       "        vertical-align: middle;\n",
       "    }\n",
       "\n",
       "    .dataframe tbody tr th {\n",
       "        vertical-align: top;\n",
       "    }\n",
       "\n",
       "    .dataframe thead th {\n",
       "        text-align: right;\n",
       "    }\n",
       "</style>\n",
       "<table border=\"1\" class=\"dataframe\">\n",
       "  <thead>\n",
       "    <tr style=\"text-align: right;\">\n",
       "      <th></th>\n",
       "      <th>Name</th>\n",
       "      <th>Age</th>\n",
       "    </tr>\n",
       "  </thead>\n",
       "  <tbody>\n",
       "    <tr>\n",
       "      <th>0</th>\n",
       "      <td>Anders</td>\n",
       "      <td>42</td>\n",
       "    </tr>\n",
       "    <tr>\n",
       "      <th>1</th>\n",
       "      <td>Tomas</td>\n",
       "      <td>46</td>\n",
       "    </tr>\n",
       "    <tr>\n",
       "      <th>2</th>\n",
       "      <td>Mario</td>\n",
       "      <td>36</td>\n",
       "    </tr>\n",
       "  </tbody>\n",
       "</table>\n",
       "</div>"
      ],
      "text/plain": [
       "     Name  Age\n",
       "0  Anders   42\n",
       "1   Tomas   46\n",
       "2   Mario   36"
      ]
     },
     "execution_count": 29,
     "metadata": {},
     "output_type": "execute_result"
    }
   ],
   "source": [
    "# Oavsett om man gör instans via ovan dictionary eller på detta sätt nedan via \n",
    "# dictionary i lista så får man samma DataFrame:\n",
    "\n",
    "data = [\n",
    "    {\"Name\": \"Anders\", \"Age\":42},\n",
    "    {\"Name\": \"Tomas\", \"Age\":46},\n",
    "    {\"Name\": \"Mario\", \"Age\":36}\n",
    "]\n",
    "\n",
    "df = pd.DataFrame(data)    # Skapar en instans av en sådan DataFrame klass\n",
    "df\n",
    "\n",
    "# De representeras av många olika series objekt i sin tur: tänk varje horisontell kolumn som en series objekt"
   ]
  },
  {
   "cell_type": "code",
   "execution_count": 30,
   "metadata": {},
   "outputs": [
    {
     "name": "stdout",
     "output_type": "stream",
     "text": [
      "0    Anders\n",
      "1     Tomas\n",
      "2     Mario\n",
      "Name: Name, dtype: object\n",
      "0    42\n",
      "1    46\n",
      "2    36\n",
      "Name: Age, dtype: int64\n"
     ]
    }
   ],
   "source": [
    "# Här visas hur man får ut enskilda series utifrån ovan\n",
    "\n",
    "print(df[\"Name\"])       \n",
    "print(df[\"Age\"])    # Notera olika dtype när man skriver ut dessa två"
   ]
  },
  {
   "cell_type": "code",
   "execution_count": 31,
   "metadata": {},
   "outputs": [
    {
     "name": "stdout",
     "output_type": "stream",
     "text": [
      "0    43\n",
      "1    47\n",
      "2    37\n",
      "Name: Age, dtype: int64\n",
      "     Name  Age\n",
      "0  Anders   42\n",
      "1   Tomas   46\n",
      "2   Mario   36\n"
     ]
    }
   ],
   "source": [
    "# Eftersom den blir en series så kan samma operationer göras\n",
    "\n",
    "print(df[\"Age\"]  + 1)\n",
    "\n",
    "# DataFrame:t i sig uppdateras dock inte, då det bara görs en operation ovan i ovan uttryck.\n",
    "print(df) "
   ]
  },
  {
   "cell_type": "code",
   "execution_count": 36,
   "metadata": {},
   "outputs": [
    {
     "name": "stdout",
     "output_type": "stream",
     "text": [
      "     Name  Age\n",
      "0  Anders   47\n",
      "1   Tomas   51\n",
      "2   Mario   41\n"
     ]
    }
   ],
   "source": [
    "# Här uppdateras dock dataframe, eftersom vi sätter det gamla likamed operationen\n",
    "# Varje gång man kör programmet adderas 1 till varje objekt i \n",
    "# serien och ersätter samma serie i dataframe som också ändras\n",
    "\n",
    "df[\"Age\"] = df[\"Age\"]  + 1\n",
    "\n",
    "print(df) "
   ]
  },
  {
   "cell_type": "code",
   "execution_count": 50,
   "metadata": {},
   "outputs": [
    {
     "data": {
      "text/plain": [
       "0    False\n",
       "1    False\n",
       "2    False\n",
       "Name: Age, dtype: bool"
      ]
     },
     "execution_count": 50,
     "metadata": {},
     "output_type": "execute_result"
    }
   ],
   "source": [
    "# Här görs en operation för att få en bool-mask för de värden i serien som uppfyller villkoret\n",
    "df[\"Age\"] >= 50"
   ]
  },
  {
   "cell_type": "code",
   "execution_count": 40,
   "metadata": {},
   "outputs": [
    {
     "data": {
      "text/html": [
       "<div>\n",
       "<style scoped>\n",
       "    .dataframe tbody tr th:only-of-type {\n",
       "        vertical-align: middle;\n",
       "    }\n",
       "\n",
       "    .dataframe tbody tr th {\n",
       "        vertical-align: top;\n",
       "    }\n",
       "\n",
       "    .dataframe thead th {\n",
       "        text-align: right;\n",
       "    }\n",
       "</style>\n",
       "<table border=\"1\" class=\"dataframe\">\n",
       "  <thead>\n",
       "    <tr style=\"text-align: right;\">\n",
       "      <th></th>\n",
       "      <th>Name</th>\n",
       "      <th>Age</th>\n",
       "    </tr>\n",
       "  </thead>\n",
       "  <tbody>\n",
       "    <tr>\n",
       "      <th>1</th>\n",
       "      <td>Tomas</td>\n",
       "      <td>51</td>\n",
       "    </tr>\n",
       "  </tbody>\n",
       "</table>\n",
       "</div>"
      ],
      "text/plain": [
       "    Name  Age\n",
       "1  Tomas   51"
      ]
     },
     "execution_count": 40,
     "metadata": {},
     "output_type": "execute_result"
    }
   ],
   "source": [
    "# Indexerar med bool-mask för att filtrera fram och få de värden vi sätter i villkoret\n",
    "\n",
    "df[df[\"Age\"] >= 50]"
   ]
  },
  {
   "cell_type": "code",
   "execution_count": 41,
   "metadata": {},
   "outputs": [
    {
     "data": {
      "text/plain": [
       "'     Name  Age\\n0  Anders   47\\n1   Tomas   51\\n2   Mario   41'"
      ]
     },
     "execution_count": 41,
     "metadata": {},
     "output_type": "execute_result"
    }
   ],
   "source": [
    "# Utskrift av en df:\n",
    "# Skrivs ut som ren sträng MEN när print används så görs den om till sträng så blir det newline som läses in.\n",
    "str(df) "
   ]
  },
  {
   "cell_type": "code",
   "execution_count": 44,
   "metadata": {},
   "outputs": [
    {
     "name": "stdout",
     "output_type": "stream",
     "text": [
      "     Name  Age\n",
      "0  Anders   47\n",
      "1   Tomas   51\n",
      "2   Mario   41\n"
     ]
    }
   ],
   "source": [
    "# Här ser man att print läser in och exekverar newlines ,till skillnad från rena sträng utskriften ovan\n",
    "print(df)"
   ]
  },
  {
   "cell_type": "code",
   "execution_count": null,
   "metadata": {},
   "outputs": [],
   "source": [
    "# Övrigt:\n",
    "    # När jupyter får något så presenteras det utifrån dess datatyp, typ:\n",
    "    # att skriva enbart df ger viss bild med kolumn o rader, då den tolkas som pandas serietyp\n",
    "    # men str(df) ger enbart sträng då den tolkas som strängtyp\n",
    "    # osv.."
   ]
  }
 ],
 "metadata": {
  "kernelspec": {
   "display_name": "Python 3",
   "language": "python",
   "name": "python3"
  },
  "language_info": {
   "codemirror_mode": {
    "name": "ipython",
    "version": 3
   },
   "file_extension": ".py",
   "mimetype": "text/x-python",
   "name": "python",
   "nbconvert_exporter": "python",
   "pygments_lexer": "ipython3",
   "version": "3.11.5"
  }
 },
 "nbformat": 4,
 "nbformat_minor": 2
}
