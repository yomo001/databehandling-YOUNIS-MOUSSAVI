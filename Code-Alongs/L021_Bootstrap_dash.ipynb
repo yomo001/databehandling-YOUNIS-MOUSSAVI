{
 "cells": [
  {
   "cell_type": "code",
   "execution_count": 2,
   "metadata": {},
   "outputs": [],
   "source": [
    "from dash import Dash, html, dcc, callback, Input, Output\n",
    "import dash_bootstrap_components as dbc\n",
    "\n",
    "# Delarna i detta kommer att vara:\n",
    "#app = Dash(__name__)\n",
    "\n",
    "#app.layout = \n",
    "\n",
    "#app.run(debug=True)\n",
    "\n",
    "# https://dash-bootstrap-components.opensource.faculty.ai/  (html anpassad för dash men pythonkomponenter)\n",
    "# getbootstrap.com (Mer utförlig dokumentation, visar HTML bakom, för utvecklare)\n",
    "# Man får helt enkelt gå in i dokumentationen och se mer vad de olika komponenterna gör och deras namn\n",
    "\n",
    "# Observera skillnaden \n",
    "    # Bootstrap är nbyggt för att vara klasser i html taggar\n",
    "    # Dash bootstrap - byggt in det i pythonklasser \n",
    "\n"
   ]
  },
  {
   "cell_type": "code",
   "execution_count": 3,
   "metadata": {},
   "outputs": [
    {
     "name": "stdout",
     "output_type": "stream",
     "text": [
      "Dash app running on http://127.0.0.1:8050/\n"
     ]
    }
   ],
   "source": [
    "app = Dash(__name__, external_stylesheets=[dbc.themes.CYBORG])\n",
    "\n",
    "app.layout = html.Div(\"Hello World\")\n",
    "\n",
    "app.run(debug=True, jupyter_mode = \"external\")\n",
    "# När man skapar saker i webserver mot klienter så vill man ej köra i jupyter NB, men här för utbildning"
   ]
  },
  {
   "cell_type": "code",
   "execution_count": 4,
   "metadata": {},
   "outputs": [
    {
     "name": "stdout",
     "output_type": "stream",
     "text": [
      "Dash app running on http://127.0.0.1:8050/\n"
     ]
    }
   ],
   "source": [
    "app = Dash(__name__, external_stylesheets=[dbc.themes.CYBORG])\n",
    "\n",
    "app.layout = dbc.Container([\n",
    "    \"Hello World\",\n",
    "    dbc.Button(\"Click me\", color=\"primary\", className = \"ms-2 mt-2 text-uppercase\")    # className är utility class\n",
    "])                                                                                     # Utifrån anpassning dash med python komponenter.\n",
    "                                                                                       # I vanligt cheatsheet står hela html, man kan kopiera just klassnamnet därifrån med className\n",
    "# Läs under utilities i dokumentation för att se hur man placerar komponenter, modifierar dem, etc.\n",
    "\n",
    "app.run(debug=True, jupyter_mode = \"external\")\n",
    "\n",
    "# När man skapar saker i webserver mot klienter så vill man ej köra i jupyter NB, men här för utbildning\n",
    "\n",
    "\n"
   ]
  },
  {
   "cell_type": "code",
   "execution_count": 5,
   "metadata": {},
   "outputs": [],
   "source": [
    "# Lite mer om layout\n",
    "    # Man har container med innehåll\n",
    "    # I den kan bygga en grid (rutnät)\n",
    "    # Denna läggs i rader och kolumner\n",
    "    # Sedan anpassas innehållet i dessa rader och kolumner\n",
    "    # En bred device så hamnar objekt bredvid varandra\n",
    "    # En smal device så hamnar objekt ovanpå varandra\n"
   ]
  },
  {
   "cell_type": "code",
   "execution_count": 7,
   "metadata": {},
   "outputs": [
    {
     "name": "stdout",
     "output_type": "stream",
     "text": [
      "Dash app running on http://127.0.0.1:8050/\n"
     ]
    }
   ],
   "source": [
    "app = Dash(__name__, \n",
    "        external_stylesheets=[dbc.themes.CYBORG])\n",
    "\n",
    "# Standard kolumner är 12, eftersom det enkelt kan delas med andra, t.ex. size 3 kan man ha fyra jämte varandra\n",
    "\n",
    "app.layout = dbc.Container([\n",
    "    # \"Hello World\",\n",
    "    # dbc.Button(\"Click me\", color=\"primary\", className = \"ms-2 mt-2 text-uppercase\")    \n",
    "    dbc.Row([\n",
    "\n",
    "        dbc.Col(\n",
    "            children = dbc.Input(type=\"text\", placeholder=\"First name:\"),\n",
    "            className =\"mt-2\",\n",
    "            width = {\"size\":3, \"offset\":0}    # Offset - hoppa över x antal kolumnerna\n",
    "        ),\n",
    "        \n",
    "        \n",
    "        dbc.Col(\n",
    "                children = [\n",
    "                    dbc.Input(type=\"text\", placeholder=\"First name:\",  className =\"mt-2\"),\n",
    "                    dbc.Input(type=\"text\", placeholder=\"First name:\", className =\"mt-2\"),\n",
    "                    dbc.Input(type=\"text\", placeholder=\"First name:\", className =\"mt-2\"),\n",
    "                ],\n",
    "                width = {\"size\":3, \"offset\":0}    # Offset - hoppa över x antal kolumnerna\n",
    "        ),\n",
    "\n",
    "        dbc.Col(\n",
    "                children = dbc.Input(type=\"text\", placeholder=\"Email:\"),\n",
    "                className =\"mt-2\",\n",
    "                width = {\"size\":3, \"offset\":0}    # Offset - hoppa över x antal kolumnerna\n",
    "        ),\n",
    "    ], justify= \"around\"),                        # på själva rad-objektet justify - justerar placering av övrigt utrymme i raden\n",
    "\n",
    "    dbc.Row([\n",
    "\n",
    "            dbc.Col(\n",
    "                children = dbc.Input(type=\"text\", placeholder=\"First name:\"),\n",
    "                className =\"mt-2\",\n",
    "                width = {\"size\":5, \"offset\":0}    # Offset - hoppa över x antal kolumnerna\n",
    "            ),\n",
    "            \n",
    "            \n",
    "            dbc.Col(\n",
    "                    children = dbc.Input(type=\"text\", placeholder=\"First name:\"),\n",
    "                    className =\"mt-2\",\n",
    "                    width = {\"size\":5, \"offset\":0}    # Offset - hoppa över x antal kolumnerna\n",
    "            ),\n",
    "\n",
    "        ], justify= \"between\"),\n",
    "], fluid=True)   # På själva container objektet, tar bort marginaler vid sidornaq\n",
    "\n",
    "app.run(debug=True, jupyter_mode = \"external\")\n",
    "\n",
    "# När man skapar saker i webserver mot klienter så vill man ej köra i jupyter NB, men här för utbildning\n"
   ]
  },
  {
   "cell_type": "code",
   "execution_count": null,
   "metadata": {},
   "outputs": [],
   "source": [
    "# Mer om responsivitet - väldigt viktigt idag.\n",
    "# F12 på webbläsare (Developer tools) får man upp rutan för att se hur det ser ut på olika enheter och mer om hemsidans kod\n",
    "# https://dash-bootstrap-components.opensource.faculty.ai/docs/faq/ (Responsivitet)"
   ]
  },
  {
   "cell_type": "code",
   "execution_count": null,
   "metadata": {},
   "outputs": [],
   "source": [
    "app = Dash(\n",
    "        __name__, \n",
    "        external_stylesheets=[dbc.themes.CYBORG],\n",
    "        meta_tags=[{\"name\": \"viewport\", \"content\": \"width=device-width, initial-scale=1\"}]   #Responsivitet. Scalar om då vissa hemsidor inte är byggda för responsivitet\n",
    "        )\n",
    "\n",
    "# Standard kolumner är 12, eftersom det enkelt kan delas med andra, t.ex. size 3 kan man ha fyra jämte varandra\n",
    "\n",
    "app.layout = dbc.Container([\n",
    "    # \"Hello World\",\n",
    "    # dbc.Button(\"Click me\", color=\"primary\", className = \"ms-2 mt-2 text-uppercase\")    \n",
    "    dbc.Row([\n",
    "\n",
    "        dbc.Col(\n",
    "            children = dbc.Input(type=\"text\", placeholder=\"First name:\"),\n",
    "            className =\"mt-2\",\n",
    "            xs = 12, sm=6, md=6, lg=3,                # Breakpoints(antal kolumner) för olika storlekar på olika enheter\n",
    "            ),\n",
    "        \n",
    "        \n",
    "        dbc.Col(\n",
    "            children = dbc.Input(type=\"text\", placeholder=\"First name:\"),\n",
    "            className =\"mt-2\",\n",
    "            xs = 12, sm=6, md=6, lg=3\n",
    "        ),\n",
    "       \n",
    "        dbc.Col(\n",
    "            children = dbc.Input(type=\"text\", placeholder=\"First name:\"),\n",
    "            className =\"mt-2\",\n",
    "            xs = 12, sm=6, md=6, lg=3\n",
    "        ),\n",
    "\n",
    "        dbc.Col(\n",
    "            children = dbc.Input(type=\"text\", placeholder=\"First name:\"),\n",
    "            className =\"mt-2\",\n",
    "            xs = 12, sm=6, md=6, lg=3\n",
    "        ),\n",
    "\n",
    "        ], justify= \"between\"),\n",
    "], fluid=True)   # På själva container objektet, tar bort marginaler vid sidornaq\n",
    "\n",
    "app.run(debug=True, jupyter_mode = \"external\")\n",
    "\n",
    "# När man skapar saker i webserver mot klienter så vill man ej köra i jupyter NB, men här för utbildning\n"
   ]
  },
  {
   "cell_type": "code",
   "execution_count": null,
   "metadata": {},
   "outputs": [],
   "source": [
    "# Testa på andra enheter\n",
    "    # Hitta min ip\n",
    "        # ipconfig i powershell, \n",
    "        # app.run(host = \"min ip adress\", debug=True, jupyter_mode = \"external\")\n",
    "        # skriv ip adress : 8050 i webbläsaren för att komma in i sidan."
   ]
  }
 ],
 "metadata": {
  "kernelspec": {
   "display_name": "databehandling-YOUNIS-MOUSSAVI-7D8IQwvr",
   "language": "python",
   "name": "python3"
  },
  "language_info": {
   "codemirror_mode": {
    "name": "ipython",
    "version": 3
   },
   "file_extension": ".py",
   "mimetype": "text/x-python",
   "name": "python",
   "nbconvert_exporter": "python",
   "pygments_lexer": "ipython3",
   "version": "3.11.5"
  }
 },
 "nbformat": 4,
 "nbformat_minor": 2
}
