{
 "cells": [
  {
   "cell_type": "code",
   "execution_count": 5,
   "metadata": {},
   "outputs": [],
   "source": [
    "from dash import Dash, html, dcc, callback, Input, Output\n",
    "import dash_bootstrap_components as dbc\n",
    "\n",
    "# Delarna i detta kommer att vara:\n",
    "#app = Dash(__name__)\n",
    "\n",
    "#app.layout = \n",
    "\n",
    "#app.run(debug=True)\n",
    "\n",
    "# https://dash-bootstrap-components.opensource.faculty.ai/  (html anpassad för dash men pythonkomponenter)\n",
    "# getbootstrap.com (Mer utförlig dokumentation, visar HTML bakom, för utvecklare)\n",
    "# Man får helt enkelt gå in i dokumentationen och se mer vad de olika komponenterna gör och deras namn\n",
    "\n",
    "# Observera skillnaden \n",
    "    # Bootstrap är nbyggt för att vara klasser i html taggar\n",
    "    # Dash bootstrap - byggt in det i pythonklasser \n",
    "\n"
   ]
  },
  {
   "cell_type": "code",
   "execution_count": 7,
   "metadata": {},
   "outputs": [
    {
     "name": "stdout",
     "output_type": "stream",
     "text": [
      "Dash app running on http://127.0.0.1:8050/\n"
     ]
    }
   ],
   "source": [
    "app = Dash(__name__, external_stylesheets=[dbc.themes.CYBORG])\n",
    "\n",
    "app.layout = html.Div(\"Hello World\")\n",
    "\n",
    "app.run(debug=True, jupyter_mode = \"external\")\n",
    "# När man skapar saker i webserver mot klienter så vill man ej köra i jupyter NB, men här för utbildning"
   ]
  },
  {
   "cell_type": "code",
   "execution_count": 15,
   "metadata": {},
   "outputs": [
    {
     "name": "stdout",
     "output_type": "stream",
     "text": [
      "Dash app running on http://127.0.0.1:8050/\n"
     ]
    }
   ],
   "source": [
    "app = Dash(__name__, external_stylesheets=[dbc.themes.CYBORG])\n",
    "\n",
    "app.layout = dbc.Container([\n",
    "    \"Hello World\",\n",
    "    dbc.Button(\"Click me\", color=\"primary\", className = \"ms-2 mt-2 text-uppercase\")    # className är utility class\n",
    "])                                                                                     # Utifrån anpassning dash med python komponenter.\n",
    "                                                                                       # I vanligt cheatsheet står hela html, man kan kopiera just klassnamnet därifrån med className\n",
    "# Läs under utilities i dokumentation för att se hur man placerar komponenter, modifierar dem, etc.\n",
    "\n",
    "app.run(debug=True, jupyter_mode = \"external\")\n",
    "\n",
    "\n",
    "# När man skapar saker i webserver mot klienter så vill man ej köra i jupyter NB, men här för utbildning"
   ]
  }
 ],
 "metadata": {
  "kernelspec": {
   "display_name": "databehandling-YOUNIS-MOUSSAVI-7D8IQwvr",
   "language": "python",
   "name": "python3"
  },
  "language_info": {
   "codemirror_mode": {
    "name": "ipython",
    "version": 3
   },
   "file_extension": ".py",
   "mimetype": "text/x-python",
   "name": "python",
   "nbconvert_exporter": "python",
   "pygments_lexer": "ipython3",
   "version": "3.11.5"
  }
 },
 "nbformat": 4,
 "nbformat_minor": 2
}
