{
 "cells": [
  {
   "cell_type": "markdown",
   "metadata": {},
   "source": [
    "    "
   ]
  },
  {
   "cell_type": "code",
   "execution_count": 1,
   "metadata": {},
   "outputs": [],
   "source": [
    "import pandas as pd\n"
   ]
  },
  {
   "cell_type": "code",
   "execution_count": 8,
   "metadata": {},
   "outputs": [
    {
     "data": {
      "text/plain": [
       "[    Year                 Film            Budget Box office gross  \\\n",
       "     Year                 Film            Budget  U.S. and Canada   \n",
       " 0   1995            Toy Story       $30 million     $192,523,233   \n",
       " 1   1998         A Bug's Life      $120 million     $162,798,565   \n",
       " 2   1999          Toy Story 2       $90 million     $245,852,179   \n",
       " 3   2001       Monsters, Inc.      $115 million     $289,916,256   \n",
       " 4   2003         Finding Nemo       $94 million     $339,714,978   \n",
       " 5   2004      The Incredibles       $92 million     $261,441,092   \n",
       " 6   2006                 Cars      $120 million     $244,082,982   \n",
       " 7   2007          Ratatouille      $150 million     $206,445,654   \n",
       " 8   2008               WALL-E      $180 million     $223,808,164   \n",
       " 9   2009                   Up      $175 million     $293,004,164   \n",
       " 10  2010          Toy Story 3      $200 million     $415,004,880   \n",
       " 11  2011               Cars 2      $200 million     $191,452,396   \n",
       " 12  2012                Brave      $185 million     $237,283,207   \n",
       " 13  2013  Monsters University      $200 million     $268,492,764   \n",
       " 14  2015           Inside Out      $175 million     $356,461,711   \n",
       " 15  2015    The Good Dinosaur      $175 million     $123,087,120   \n",
       " 16  2016         Finding Dory      $200 million     $486,295,561   \n",
       " 17  2017               Cars 3      $175 million     $152,901,115   \n",
       " 18  2017                 Coco      $175 million     $209,726,015   \n",
       " 19  2018        Incredibles 2      $200 million     $608,581,744   \n",
       " 20  2019          Toy Story 4      $200 million     $434,038,008   \n",
       " 21  2020               Onward  $175–200 million      $61,555,145   \n",
       " 22  2020                 Soul      $150 million             —[b]   \n",
       " 23  2021                 Luca                 —             —[b]   \n",
       " 24  2022          Turning Red      $175 million             —[b]   \n",
       " 25  2022            Lightyear      $200 million     $118,307,188   \n",
       " 26  2023            Elemental      $200 million     $154,426,697   \n",
       " \n",
       "                                           Ref.  \n",
       "    Other territories       Worldwide      Ref.  \n",
       " 0       $172,747,718    $365,270,951  [53][54]  \n",
       " 1       $200,460,294    $363,258,859      [55]  \n",
       " 2       $265,506,097    $511,358,276  [56][57]  \n",
       " 3       $342,400,393    $632,316,649      [58]  \n",
       " 4       $531,300,000    $871,014,978      [59]  \n",
       " 5       $370,165,621    $631,606,713      [60]  \n",
       " 6       $217,900,167    $461,983,149      [61]  \n",
       " 7       $417,280,431    $623,726,085      [62]  \n",
       " 8       $297,503,696    $521,311,860      [63]  \n",
       " 9       $442,094,918    $735,099,082      [64]  \n",
       " 10      $651,964,823  $1,066,969,703      [65]  \n",
       " 11      $368,400,000    $559,852,396      [66]  \n",
       " 12      $301,700,000    $538,983,207      [67]  \n",
       " 13      $475,066,843    $743,559,607  [68][69]  \n",
       " 14      $501,149,463    $857,611,174      [70]  \n",
       " 15      $209,120,551    $332,207,671  [71][72]  \n",
       " 16      $542,275,328  $1,028,570,889  [73][74]  \n",
       " 17      $231,029,541    $383,930,656  [75][76]  \n",
       " 18      $597,356,181    $807,082,196  [77][78]  \n",
       " 19      $634,223,615  $1,242,805,359  [79][80]  \n",
       " 20      $639,356,585  $1,073,394,593  [81][82]  \n",
       " 21       $80,394,976    $141,950,121      [83]  \n",
       " 22      $120,957,731    $120,957,731      [84]  \n",
       " 23       $49,750,471     $49,750,471  [85][86]  \n",
       " 24       $20,122,621     $20,122,621  [87][88]  \n",
       " 25      $108,118,232    $226,425,420  [89][90]  \n",
       " 26      $340,309,878    $494,736,575  [91][92]  ]"
      ]
     },
     "execution_count": 8,
     "metadata": {},
     "output_type": "execute_result"
    }
   ],
   "source": [
    "tables = pd.read_html(\"https://en.wikipedia.org/wiki/List_of_Pixar_films\", match = \"Box office gross\")\n",
    "# Se vad match gör\n",
    "\n",
    "# type(tables)            # får ut en lista av dataframes\n",
    "# len(tables)             # kan se hur många ltables jag har fått\n",
    "\n",
    "# Det metoden gör är att den går igenom html kod. \n",
    "# En cell kan sträcka sig över flera rader/kolumner, men ej i pandas så det blir flera rutor och inte groupade rutor\n",
    "\n",
    "tables    # Ger två headers, och de med två groupade rader får ifyllt samma i varje rad osv\n"
   ]
  },
  {
   "cell_type": "code",
   "execution_count": 3,
   "metadata": {},
   "outputs": [
    {
     "data": {
      "text/plain": [
       "[    Year                 Film            Budget Box office gross  \\\n",
       "     Year                 Film            Budget  U.S. and Canada   \n",
       " 0   1995            Toy Story       $30 million     $192,523,233   \n",
       " 1   1998         A Bug's Life      $120 million     $162,798,565   \n",
       " 2   1999          Toy Story 2       $90 million     $245,852,179   \n",
       " 3   2001       Monsters, Inc.      $115 million     $289,916,256   \n",
       " 4   2003         Finding Nemo       $94 million     $339,714,978   \n",
       " 5   2004      The Incredibles       $92 million     $261,441,092   \n",
       " 6   2006                 Cars      $120 million     $244,082,982   \n",
       " 7   2007          Ratatouille      $150 million     $206,445,654   \n",
       " 8   2008               WALL-E      $180 million     $223,808,164   \n",
       " 9   2009                   Up      $175 million     $293,004,164   \n",
       " 10  2010          Toy Story 3      $200 million     $415,004,880   \n",
       " 11  2011               Cars 2      $200 million     $191,452,396   \n",
       " 12  2012                Brave      $185 million     $237,283,207   \n",
       " 13  2013  Monsters University      $200 million     $268,492,764   \n",
       " 14  2015           Inside Out      $175 million     $356,461,711   \n",
       " 15  2015    The Good Dinosaur      $175 million     $123,087,120   \n",
       " 16  2016         Finding Dory      $200 million     $486,295,561   \n",
       " 17  2017               Cars 3      $175 million     $152,901,115   \n",
       " 18  2017                 Coco      $175 million     $209,726,015   \n",
       " 19  2018        Incredibles 2      $200 million     $608,581,744   \n",
       " 20  2019          Toy Story 4      $200 million     $434,038,008   \n",
       " 21  2020               Onward  $175–200 million      $61,555,145   \n",
       " 22  2020                 Soul      $150 million             —[b]   \n",
       " 23  2021                 Luca                 —             —[b]   \n",
       " 24  2022          Turning Red      $175 million             —[b]   \n",
       " 25  2022            Lightyear      $200 million     $118,307,188   \n",
       " 26  2023            Elemental      $200 million     $154,426,697   \n",
       " \n",
       "                                           Ref.  \n",
       "    Other territories       Worldwide      Ref.  \n",
       " 0       $172,747,718    $365,270,951  [53][54]  \n",
       " 1       $200,460,294    $363,258,859      [55]  \n",
       " 2       $265,506,097    $511,358,276  [56][57]  \n",
       " 3       $342,400,393    $632,316,649      [58]  \n",
       " 4       $531,300,000    $871,014,978      [59]  \n",
       " 5       $370,165,621    $631,606,713      [60]  \n",
       " 6       $217,900,167    $461,983,149      [61]  \n",
       " 7       $417,280,431    $623,726,085      [62]  \n",
       " 8       $297,503,696    $521,311,860      [63]  \n",
       " 9       $442,094,918    $735,099,082      [64]  \n",
       " 10      $651,964,823  $1,066,969,703      [65]  \n",
       " 11      $368,400,000    $559,852,396      [66]  \n",
       " 12      $301,700,000    $538,983,207      [67]  \n",
       " 13      $475,066,843    $743,559,607  [68][69]  \n",
       " 14      $501,149,463    $857,611,174      [70]  \n",
       " 15      $209,120,551    $332,207,671  [71][72]  \n",
       " 16      $542,275,328  $1,028,570,889  [73][74]  \n",
       " 17      $231,029,541    $383,930,656  [75][76]  \n",
       " 18      $597,356,181    $807,082,196  [77][78]  \n",
       " 19      $634,223,615  $1,242,805,359  [79][80]  \n",
       " 20      $639,356,585  $1,073,394,593  [81][82]  \n",
       " 21       $80,394,976    $141,950,121      [83]  \n",
       " 22      $120,957,731    $120,957,731      [84]  \n",
       " 23       $49,750,471     $49,750,471  [85][86]  \n",
       " 24       $20,122,621     $20,122,621  [87][88]  \n",
       " 25      $108,118,232    $226,425,420  [89][90]  \n",
       " 26      $340,309,878    $494,736,575  [91][92]  ]"
      ]
     },
     "execution_count": 3,
     "metadata": {},
     "output_type": "execute_result"
    }
   ],
   "source": [
    "box_office = pd.read_html(\"https://en.wikipedia.org/wiki/List_of_Pixar_films\", match = \"Box office\")\n",
    "\n",
    "box_office   \n",
    "\n",
    "# Här frågar han vad man vill göra det datat\n",
    "# Poängen är att han visar hur mkt städning som behövs med data från webben\n",
    "# Som uppgift kan man försöka städa ovan tabell\n"
   ]
  },
  {
   "cell_type": "markdown",
   "metadata": {},
   "source": [
    "### Exercise\n",
    "Clean the data, convert numeric columns to float, calculate a new column called \"results\", group by year, and plot using seaborn.\n",
    "\n"
   ]
  }
 ],
 "metadata": {
  "kernelspec": {
   "display_name": "databehandling-YOUNIS-MOUSSAVI-DPhvznnG",
   "language": "python",
   "name": "python3"
  },
  "language_info": {
   "codemirror_mode": {
    "name": "ipython",
    "version": 3
   },
   "file_extension": ".py",
   "mimetype": "text/x-python",
   "name": "python",
   "nbconvert_exporter": "python",
   "pygments_lexer": "ipython3",
   "version": "3.11.5"
  }
 },
 "nbformat": 4,
 "nbformat_minor": 2
}
