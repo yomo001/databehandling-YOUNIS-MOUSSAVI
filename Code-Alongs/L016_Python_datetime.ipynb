{
 "cells": [
  {
   "cell_type": "code",
   "execution_count": 4,
   "metadata": {},
   "outputs": [],
   "source": [
    "from datetime import datetime, timedelta, date, time\n",
    "\n"
   ]
  },
  {
   "cell_type": "code",
   "execution_count": null,
   "metadata": {},
   "outputs": [],
   "source": [
    "now = datetime.now()                 # now skapar en instans av en datetime\n",
    "type(now)                            # datetime.datetime"
   ]
  },
  {
   "cell_type": "code",
   "execution_count": 12,
   "metadata": {},
   "outputs": [
    {
     "name": "stdout",
     "output_type": "stream",
     "text": [
      "Now is 2023-11-15 09:59:58.101501\n",
      "now = datetime.datetime(2023, 11, 15, 9, 59, 58, 101501)\n"
     ]
    }
   ],
   "source": [
    "print(f\"Now is {now}\")\n",
    "print(f\"{now = }\")             # now = datetime.datetime(2021, 9, 28, 14, 55, 5, 999999) , den använder repr() för att skriva ut objektet"
   ]
  },
  {
   "cell_type": "code",
   "execution_count": 29,
   "metadata": {},
   "outputs": [
    {
     "name": "stdout",
     "output_type": "stream",
     "text": [
      "now.year = 2023\n",
      "now.month = 11\n",
      "now.day = 15\n",
      "now.hour = 9\n",
      "now.minute = 59\n",
      "now.second = 58\n",
      "now.microsecond = 101501\n",
      "now.weekday() = 2\n",
      "now.isocalendar()= datetime.IsoCalendarDate(year=2023, week=46, weekday=3)\n"
     ]
    }
   ],
   "source": [
    "print(f\"{now.year = }\")        # Man kan få ut alla delar som integers\n",
    "print(f\"{now.month = }\")\n",
    "print(f\"{now.day = }\")\n",
    "print(f\"{now.hour = }\")\n",
    "print(f\"{now.minute = }\")\n",
    "print(f\"{now.second = }\")\n",
    "print(f\"{now.microsecond = }\")\n",
    "\n",
    "print(f\"{now.weekday() = }\")\n",
    "print(f\"{now.isocalendar()= }\")                 #.week funkar också osv\n",
    "\n"
   ]
  },
  {
   "cell_type": "code",
   "execution_count": 15,
   "metadata": {},
   "outputs": [
    {
     "name": "stdout",
     "output_type": "stream",
     "text": [
      "2023-11-15\n"
     ]
    }
   ],
   "source": [
    "print(f\"{now.year}-{now.month}-{now.day}\")   # 2021-9-28"
   ]
  },
  {
   "cell_type": "code",
   "execution_count": 17,
   "metadata": {},
   "outputs": [
    {
     "name": "stdout",
     "output_type": "stream",
     "text": [
      "now.strftime('%Y-%m-%d') = '2023-11-15'\n",
      "now.strftime('Today is a %A in %B') = 'Today is a Wednesday in November'\n"
     ]
    }
   ],
   "source": [
    "print(f\"{now.strftime('%Y-%m-%d') = }\")         # String format time, kan skriva olika formateringskoder\n",
    "print(f\"{now.strftime('Today is a %A in %B') = }\") "
   ]
  },
  {
   "cell_type": "code",
   "execution_count": 20,
   "metadata": {},
   "outputs": [
    {
     "name": "stdout",
     "output_type": "stream",
     "text": [
      "christmas = datetime.datetime(2023, 12, 24, 0, 0)\n"
     ]
    },
    {
     "data": {
      "text/plain": [
       "'2023-12-24 00:00:00'"
      ]
     },
     "execution_count": 20,
     "metadata": {},
     "output_type": "execute_result"
    }
   ],
   "source": [
    "# Annat sätt att skapa en datetime objekt med specifikt datum.\n",
    "christmas = datetime(2023,12,24)            # Minimum 3 argument, år, månad, dag\n",
    "print(f\"{christmas = }\")\n",
    "str(christmas)"
   ]
  },
  {
   "cell_type": "code",
   "execution_count": 21,
   "metadata": {},
   "outputs": [
    {
     "name": "stdout",
     "output_type": "stream",
     "text": [
      "christmas = datetime.datetime(2023, 12, 24, 12, 30)\n"
     ]
    },
    {
     "data": {
      "text/plain": [
       "'2023-12-24 12:30:00'"
      ]
     },
     "execution_count": 21,
     "metadata": {},
     "output_type": "execute_result"
    }
   ],
   "source": [
    "christmas = datetime(2023,12,24,12,30)            # Minimum 3 argument, år, månad, dag\n",
    "print(f\"{christmas = }\")\n",
    "str(christmas)"
   ]
  },
  {
   "cell_type": "code",
   "execution_count": 24,
   "metadata": {},
   "outputs": [
    {
     "data": {
      "text/plain": [
       "'2024-01-01 00:00:00'"
      ]
     },
     "execution_count": 24,
     "metadata": {},
     "output_type": "execute_result"
    }
   ],
   "source": [
    "# Annat sätt är genom en string\n",
    "\n",
    "new_year = \"2024-01-01\"\n",
    "next_year = datetime.strptime(new_year, \"%Y-%m-%d\")        # strptime = string parse time, tar en sträng och gör om till en datetime objekt\n",
    "\n",
    "str(next_year)"
   ]
  },
  {
   "cell_type": "code",
   "execution_count": 31,
   "metadata": {},
   "outputs": [
    {
     "name": "stdout",
     "output_type": "stream",
     "text": [
      "2023-11-15\n",
      "09:59:58.101501\n"
     ]
    }
   ],
   "source": [
    "now.date()              # datetime.date(2021, 9, 28) , returnerar objekt av typen date\n",
    "now.time()              # datetime.time(14, 55, 5, 999999) , returnerar objekt av typen time\n",
    "\n",
    "print(now.date())\n",
    "print(now.time())\n"
   ]
  },
  {
   "cell_type": "markdown",
   "metadata": {},
   "source": [
    "#### Timedelta , objekt som visar tiden mellan två tider"
   ]
  },
  {
   "cell_type": "code",
   "execution_count": 32,
   "metadata": {},
   "outputs": [
    {
     "data": {
      "text/plain": [
       "datetime.timedelta"
      ]
     },
     "execution_count": 32,
     "metadata": {},
     "output_type": "execute_result"
    }
   ],
   "source": [
    "# Calculating the diff between two datetime objects gives a timedelta object\n",
    "time_until_next_year = next_year - now \n",
    "type(time_until_next_year)    # datetime.timedelta , returnerar objekt av typen timedelta"
   ]
  },
  {
   "cell_type": "code",
   "execution_count": 33,
   "metadata": {},
   "outputs": [
    {
     "name": "stdout",
     "output_type": "stream",
     "text": [
      "str(time_until_next_year) = '46 days, 14:00:01.898499'\n",
      "repr(time_until_next_year) = 'datetime.timedelta(days=46, seconds=50401, microseconds=898499)'\n"
     ]
    }
   ],
   "source": [
    "print(f\"{str(time_until_next_year) = }\")        # 461 days, 9:04:54.000001\n",
    "print(f\"{repr(time_until_next_year) = }\")       # datetime.timedelta(days=461, seconds=32694, microseconds=1)"
   ]
  },
  {
   "cell_type": "code",
   "execution_count": 34,
   "metadata": {},
   "outputs": [
    {
     "name": "stdout",
     "output_type": "stream",
     "text": [
      "46 days, 13:34:39.948003\n"
     ]
    }
   ],
   "source": [
    "print(next_year - datetime.now())            # Skriver ut en uppderad status på tid kvar till nästa år"
   ]
  },
  {
   "cell_type": "code",
   "execution_count": 39,
   "metadata": {},
   "outputs": [
    {
     "name": "stdout",
     "output_type": "stream",
     "text": [
      "time_until_next_year = datetime.timedelta(days=46, seconds=50401, microseconds=898499)\n",
      "time_until_next_year.days = 46\n",
      "time_until_next_year.seconds = 50401\n",
      "time_until_next_year.microseconds = 898499\n",
      "time_until_next_year.total_seconds() = 4024801.898499\n"
     ]
    }
   ],
   "source": [
    "# Timedelta parts\n",
    "print(f\"{time_until_next_year = }\")  \n",
    "print(f\"{time_until_next_year.days = }\")   \n",
    "print(f\"{time_until_next_year.seconds = }\")  \n",
    "print(f\"{time_until_next_year.microseconds = }\")  \n",
    "print(f\"{time_until_next_year.total_seconds() = }\")           # allt i bara sekunder\n",
    "\n",
    "\n"
   ]
  },
  {
   "cell_type": "code",
   "execution_count": null,
   "metadata": {},
   "outputs": [],
   "source": [
    "# Arithmetics can be applied on timedelta\n",
    "# Python timedelta operators: +, -, *, /, //, % - directly on numerics not all work\n",
    "\n",
    "time_until_next_year \n",
    "\n"
   ]
  },
  {
   "cell_type": "code",
   "execution_count": 42,
   "metadata": {},
   "outputs": [
    {
     "data": {
      "text/plain": [
       "datetime.datetime(2024, 4, 3, 4, 0, 3, 796998)"
      ]
     },
     "execution_count": 42,
     "metadata": {},
     "output_type": "execute_result"
    }
   ],
   "source": [
    "# Adding (or subtracting) a timedelta to a datetime gives a new datetime object\n",
    "\n",
    "next_year + time_until_next_year * 2   "
   ]
  },
  {
   "cell_type": "markdown",
   "metadata": {},
   "source": [
    "Två vanligaste operationer man alltså gör med datetimes är för att ta diffen mellan två datum för att veta hur långt det har gått mellan dom,\n",
    "eller adderar/drar bort ett timedelta från en datatime för att justera något"
   ]
  },
  {
   "cell_type": "code",
   "execution_count": null,
   "metadata": {},
   "outputs": [],
   "source": [
    "timedelta(days=5, seconds=65388, microseconds=2)"
   ]
  },
  {
   "cell_type": "code",
   "execution_count": 43,
   "metadata": {},
   "outputs": [
    {
     "name": "stdout",
     "output_type": "stream",
     "text": [
      "2023-11-22 10:36:56.836066\n"
     ]
    }
   ],
   "source": [
    "print(datetime.now() + timedelta(7))     # Var är datumet 7 dagar framåt, osv, eller vill plussa på något, så brukar man göra. "
   ]
  },
  {
   "cell_type": "code",
   "execution_count": 45,
   "metadata": {},
   "outputs": [],
   "source": [
    "# Kunna lägga till månader, år, veckor. \n",
    "from dateutil.relativedelta import relativedelta\n"
   ]
  },
  {
   "cell_type": "code",
   "execution_count": 48,
   "metadata": {},
   "outputs": [
    {
     "name": "stdout",
     "output_type": "stream",
     "text": [
      "2023-11-29 10:39:55.615172\n"
     ]
    }
   ],
   "source": [
    "print(datetime.now() + relativedelta(weeks=2))     # 2020-09-28 15:00:00.000001"
   ]
  }
 ],
 "metadata": {
  "kernelspec": {
   "display_name": "databehandling-YOUNIS-MOUSSAVI-7D8IQwvr",
   "language": "python",
   "name": "python3"
  },
  "language_info": {
   "codemirror_mode": {
    "name": "ipython",
    "version": 3
   },
   "file_extension": ".py",
   "mimetype": "text/x-python",
   "name": "python",
   "nbconvert_exporter": "python",
   "pygments_lexer": "ipython3",
   "version": "3.11.5"
  }
 },
 "nbformat": 4,
 "nbformat_minor": 2
}
