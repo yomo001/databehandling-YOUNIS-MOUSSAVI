{
 "cells": [
  {
   "cell_type": "markdown",
   "metadata": {},
   "source": [
    "- **Pseudoanonymization**: Replacing identifying information in such a way that the process can be reversed with extra information. Kryptering, dekryptering.Replacing the original data with pseudonyms, which are made up of artificial identifiers. The original data is not deleted, but it is no longer possible to identify the person from the data. The data is still considered personal data.\n",
    "\n",
    "- **Anonymization**: Replacing identifying information with the *intent* to be fully non-reversable (men kan vara svårare än vad man tror). (\"Hash\")\n",
    "\n",
    "### Techniques for anonymization\n",
    "- **Hashing / Crypto** Fredrik Johansson   =>     bd9494dsd929329cdcd9393939d\n",
    "- **Data masking** fredrik@everyloop.com => f*****@********.com\n",
    "- **Generalization** Age: 34    => Age:30-40\n",
    "- **Aggregation** Group and aggregate\n",
    "- **Removing data** Remove column/columns from dataset."
   ]
  },
  {
   "cell_type": "markdown",
   "metadata": {},
   "source": [
    "# Anonymization with hash\n",
    "- There are many types of hashfunctions (algorithms). Example MD5, SHA-128, SHA256\n",
    "- Hashfunctions are used to map data of arbitrary size of fixed-size values\n",
    "- The same input always results in the same output (given it's using the same algorithm)\n",
    "- (even) a small change yield a totally different output string\n",
    "- It's not possible to reverse the process (i.e, given the output hash we can not get the original strick back)\n",
    "Inte bara för att hålla hemligt, även checksum t.ex., jämför hashvärden för att se m om ngt\n",
    "Sökning: jämför hash på söksträng med alla hashes och hittar då rätt match.\n",
    "Lösenord: I databaser sparas lösenord, om den är sparad som hash där och jämför det med vad man loggar in.\n",
    "- Obs - inget är helt säkert, går att knäcka men handlar om tid och svårighet.\n",
    "\n",
    "\n",
    "Mer: (samma anteckningar nedan med en kod)\n",
    "- Om man vet att namnet är hashat, och testar olika hashmetoder, \n",
    "- så kan man loopa igenom alla kända namn i värden och få reda på vem man hashat\n",
    "- Eller testa på 100 vanligaste lösenord om de bara är hashade rakt av. \n",
    "- Brutforce attack - man testar väldigt intensivt, på annat också, med superdatorer och alla möjliga kombinationer\n",
    "- Men vanligaste brutforce att man har ngn form av dictionary\n",
    "- Salt - random nummer + lösenord så att en hash inte kan återanvändas och knäcka fler lösenord\n",
    "- Så om man skriver in uppgifter på osäker server som läcker, och man har liknande lösen på annat- kan de komma på fler saker\n",
    "\n"
   ]
  },
  {
   "cell_type": "code",
   "execution_count": 7,
   "metadata": {},
   "outputs": [
    {
     "data": {
      "text/plain": [
       "'top secret information'"
      ]
     },
     "execution_count": 7,
     "metadata": {},
     "output_type": "execute_result"
    }
   ],
   "source": [
    "import hashlib as hl    # Bibliotek med massa hashfunktioner\n",
    "\n",
    "# Visar som sträng\n",
    "text = \"top secret information\"\n",
    "\n",
    "text\n"
   ]
  },
  {
   "cell_type": "code",
   "execution_count": 4,
   "metadata": {},
   "outputs": [
    {
     "data": {
      "text/plain": [
       "b'top secret information'"
      ]
     },
     "execution_count": 4,
     "metadata": {},
     "output_type": "execute_result"
    }
   ],
   "source": [
    "# En sträng är tecken,\n",
    "# En byte array är binära tal\n",
    "\n",
    "text = \"top secret information\".encode()   # Byte array, gör om till UTF-8 som är ett av de vanligaste att använda för att representera text\n",
    "\n",
    "text\n"
   ]
  },
  {
   "cell_type": "code",
   "execution_count": 5,
   "metadata": {},
   "outputs": [
    {
     "data": {
      "text/plain": [
       "b'top secret information'"
      ]
     },
     "execution_count": 5,
     "metadata": {},
     "output_type": "execute_result"
    }
   ],
   "source": [
    "text = \"top secret information\".encode('utf-8')   # Byte array, gör om till UTF-8 som är ett av de vanligaste att använda för att representera text\n",
    "\n",
    "text\n"
   ]
  },
  {
   "cell_type": "code",
   "execution_count": 8,
   "metadata": {},
   "outputs": [
    {
     "data": {
      "text/plain": [
       "'d22b947784e2fb59e57d66264dce9bb431373687cc19f6e5d8d53d787331f90a'"
      ]
     },
     "execution_count": 8,
     "metadata": {},
     "output_type": "execute_result"
    }
   ],
   "source": [
    "text = \"top secret information\".encode('utf-8')   # Byte array, gör om till UTF-8 som är ett av de vanligaste att använda för att representera text\n",
    "\n",
    "hl.sha256(text).hexdigest()   # Hexadecimal representation av hashvärdet"
   ]
  },
  {
   "cell_type": "code",
   "execution_count": 12,
   "metadata": {},
   "outputs": [
    {
     "name": "stdout",
     "output_type": "stream",
     "text": [
      "hl.sha256('Hello world'.encode()).hexdigest() = '64ec88ca00b268e5ba1a35678a1b5316d212f4f366b2477232534a8aeca37f3c'\n"
     ]
    }
   ],
   "source": [
    "# Visar hashvärdet för strängen \"Hello world\"\n",
    "\n",
    "print(f\"{hl.sha256('Hello world'.encode()).hexdigest() = }\")\n",
    "# Hashsträngen är begränsad till 64 tecken oavsett hur långt input är. Detta är en av anledningarna till att det är omöjligt att återskapa input från hashvärdet. \"Deterministisk\"\n",
    "# När man laddar ned data kan man jämföra mot hashvärdet, om det är minsta ändring blir hashvärdet annorlunda\n"
   ]
  },
  {
   "cell_type": "code",
   "execution_count": 13,
   "metadata": {},
   "outputs": [
    {
     "data": {
      "text/html": [
       "<div>\n",
       "<style scoped>\n",
       "    .dataframe tbody tr th:only-of-type {\n",
       "        vertical-align: middle;\n",
       "    }\n",
       "\n",
       "    .dataframe tbody tr th {\n",
       "        vertical-align: top;\n",
       "    }\n",
       "\n",
       "    .dataframe thead th {\n",
       "        text-align: right;\n",
       "    }\n",
       "</style>\n",
       "<table border=\"1\" class=\"dataframe\">\n",
       "  <thead>\n",
       "    <tr style=\"text-align: right;\">\n",
       "      <th></th>\n",
       "      <th>first_name</th>\n",
       "      <th>last_name</th>\n",
       "      <th>job_title</th>\n",
       "      <th>salary</th>\n",
       "      <th>department</th>\n",
       "    </tr>\n",
       "  </thead>\n",
       "  <tbody>\n",
       "    <tr>\n",
       "      <th>0</th>\n",
       "      <td>John</td>\n",
       "      <td>Doe</td>\n",
       "      <td>Sales Director</td>\n",
       "      <td>120000</td>\n",
       "      <td>Sales</td>\n",
       "    </tr>\n",
       "    <tr>\n",
       "      <th>1</th>\n",
       "      <td>Jane</td>\n",
       "      <td>Smith</td>\n",
       "      <td>HR Coordinator</td>\n",
       "      <td>60000</td>\n",
       "      <td>Human Resources</td>\n",
       "    </tr>\n",
       "    <tr>\n",
       "      <th>2</th>\n",
       "      <td>Michael</td>\n",
       "      <td>Johnson</td>\n",
       "      <td>Software Engineer</td>\n",
       "      <td>110000</td>\n",
       "      <td>IT</td>\n",
       "    </tr>\n",
       "    <tr>\n",
       "      <th>3</th>\n",
       "      <td>Sarah</td>\n",
       "      <td>Williams</td>\n",
       "      <td>Marketing Specialist</td>\n",
       "      <td>75000</td>\n",
       "      <td>Sales</td>\n",
       "    </tr>\n",
       "    <tr>\n",
       "      <th>4</th>\n",
       "      <td>David</td>\n",
       "      <td>Brown</td>\n",
       "      <td>HR Manager</td>\n",
       "      <td>90000</td>\n",
       "      <td>Human Resources</td>\n",
       "    </tr>\n",
       "  </tbody>\n",
       "</table>\n",
       "</div>"
      ],
      "text/plain": [
       "  first_name last_name             job_title  salary       department\n",
       "0       John       Doe        Sales Director  120000            Sales\n",
       "1       Jane     Smith        HR Coordinator   60000  Human Resources\n",
       "2    Michael   Johnson     Software Engineer  110000               IT\n",
       "3      Sarah  Williams  Marketing Specialist   75000            Sales\n",
       "4      David     Brown            HR Manager   90000  Human Resources"
      ]
     },
     "execution_count": 13,
     "metadata": {},
     "output_type": "execute_result"
    }
   ],
   "source": [
    "import pandas as pd\n",
    "\n",
    "employees = pd.read_json(\"../Data/employees.json\")\n",
    "employees.head()"
   ]
  },
  {
   "cell_type": "code",
   "execution_count": 14,
   "metadata": {},
   "outputs": [
    {
     "data": {
      "text/plain": [
       "0    a8cfcd74832004951b4408cdb0a5dbcd8c7e52d43f7fe2...\n",
       "1    4f23798d92708359b734a18172c9c864f1d48044a75411...\n",
       "2    f089eaef57aba315bc0e1455985c0c8e40c247f073ce1f...\n",
       "3    7e8c729e4e4ecc320cb411c4d1419bf5fbad733212d4e9...\n",
       "4    a6b54c20a7b96eeac1a911e6da3124a560fe6dc042ebf2...\n",
       "5    048a2730d09826f3ea1008af47bd8f1209c0eeb3a3a2ef...\n",
       "6    8141d2b17b7344d1c058e0cfaa031768e23bab8eb32613...\n",
       "7    a78a4203908a94d91b1a8f6aa65f4d1176d68ba67ced10...\n",
       "8    13ae3ed6fe76d459c9c66fe38ff187593561a1f24d34cb...\n",
       "9    f1908a7c45aa1249ba4e6e6ac0b380630e90ff67fa2723...\n",
       "Name: first_name, dtype: object"
      ]
     },
     "execution_count": 14,
     "metadata": {},
     "output_type": "execute_result"
    }
   ],
   "source": [
    "employees['first_name'].apply(lambda name: hl.sha256(name.encode()).hexdigest())"
   ]
  },
  {
   "cell_type": "code",
   "execution_count": 18,
   "metadata": {},
   "outputs": [],
   "source": [
    "employees['first_name'] = employees['first_name'].apply(lambda name: hl.sha256(name.encode()).hexdigest())"
   ]
  },
  {
   "cell_type": "code",
   "execution_count": 27,
   "metadata": {},
   "outputs": [
    {
     "name": "stdout",
     "output_type": "stream",
     "text": [
      "a8cfcd74832004951b4408cdb0a5dbcd8c7e52d43f7fe244bf720582e05241da\n"
     ]
    },
    {
     "data": {
      "text/html": [
       "<div>\n",
       "<style scoped>\n",
       "    .dataframe tbody tr th:only-of-type {\n",
       "        vertical-align: middle;\n",
       "    }\n",
       "\n",
       "    .dataframe tbody tr th {\n",
       "        vertical-align: top;\n",
       "    }\n",
       "\n",
       "    .dataframe thead th {\n",
       "        text-align: right;\n",
       "    }\n",
       "</style>\n",
       "<table border=\"1\" class=\"dataframe\">\n",
       "  <thead>\n",
       "    <tr style=\"text-align: right;\">\n",
       "      <th></th>\n",
       "      <th>first_name</th>\n",
       "      <th>last_name</th>\n",
       "      <th>job_title</th>\n",
       "      <th>salary</th>\n",
       "      <th>department</th>\n",
       "    </tr>\n",
       "  </thead>\n",
       "  <tbody>\n",
       "  </tbody>\n",
       "</table>\n",
       "</div>"
      ],
      "text/plain": [
       "Empty DataFrame\n",
       "Columns: [first_name, last_name, job_title, salary, department]\n",
       "Index: []"
      ]
     },
     "execution_count": 27,
     "metadata": {},
     "output_type": "execute_result"
    }
   ],
   "source": [
    "name = input(\"Enter name: \")\n",
    "name_hash = hl.sha256(name.encode()).hexdigest()\n",
    "print(name_hash)\n",
    "employees.query(\"first_name == @name_hash\")\n",
    "\n",
    "# Om man vet att namnet är hashat, och testar olika hashmetoder, \n",
    "# så kan man loopa igenom alla kända namn i värden och få reda på vem man hashat\n",
    "# Eller testa på 100 vanligaste lösenord om de bara är hashade rakt av. \n",
    "# Brutforce attack - man testar väldigt intensivt, på annat också, med superdatorer och alla möjliga kombinationer\n",
    "# Men vanligaste brutforce att man har ngn form av dictionary\n",
    "# Salt - random nummer + lösenord så att en hash inte kan återanvändas och knäcka fler lösenord\n",
    "# Så om man skriver in uppgifter på osäker server som läcker, och man har liknande lösen på annat- kan de komma på fler saker\n",
    "\n",
    "\n",
    "\n",
    "\n"
   ]
  }
 ],
 "metadata": {
  "kernelspec": {
   "display_name": "databehandling-YOUNIS-MOUSSAVI-7D8IQwvr",
   "language": "python",
   "name": "python3"
  },
  "language_info": {
   "codemirror_mode": {
    "name": "ipython",
    "version": 3
   },
   "file_extension": ".py",
   "mimetype": "text/x-python",
   "name": "python",
   "nbconvert_exporter": "python",
   "pygments_lexer": "ipython3",
   "version": "3.11.5"
  }
 },
 "nbformat": 4,
 "nbformat_minor": 2
}
