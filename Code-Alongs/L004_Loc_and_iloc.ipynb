{
 "cells": [
  {
   "cell_type": "markdown",
   "metadata": {},
   "source": [
    "## Loc, iloc and []\n",
    "Panda supports three types of multi-axis indexing for object selection. \n",
    "\n",
    "Indexing och slicing mot pandas dataframes.\n",
    "\n",
    "Tre möjligheter här:\n",
    "- **loc** is a method for label based indexing. \n",
    "- **iloc** is a method for integer position based indexing. \n",
    "- **[colnamn]** returns the column as a pandas Series object. \n",
    "\n",
    "When slicing, the upper bound is including for loc, exluding for iloc"
   ]
  },
  {
   "cell_type": "code",
   "execution_count": 56,
   "metadata": {},
   "outputs": [
    {
     "name": "stdout",
     "output_type": "stream",
     "text": [
      "['Column1', 'Column2', 'Column3', 'Column4']\n",
      "['A', 'B', 'C', 'D', 'E', 'F', 'G']\n"
     ]
    },
    {
     "data": {
      "text/html": [
       "<div>\n",
       "<style scoped>\n",
       "    .dataframe tbody tr th:only-of-type {\n",
       "        vertical-align: middle;\n",
       "    }\n",
       "\n",
       "    .dataframe tbody tr th {\n",
       "        vertical-align: top;\n",
       "    }\n",
       "\n",
       "    .dataframe thead th {\n",
       "        text-align: right;\n",
       "    }\n",
       "</style>\n",
       "<table border=\"1\" class=\"dataframe\">\n",
       "  <thead>\n",
       "    <tr style=\"text-align: right;\">\n",
       "      <th></th>\n",
       "      <th>Column1</th>\n",
       "      <th>Column2</th>\n",
       "      <th>Column3</th>\n",
       "      <th>Column4</th>\n",
       "    </tr>\n",
       "  </thead>\n",
       "  <tbody>\n",
       "    <tr>\n",
       "      <th>A</th>\n",
       "      <td>A1</td>\n",
       "      <td>A2</td>\n",
       "      <td>A3</td>\n",
       "      <td>A4</td>\n",
       "    </tr>\n",
       "    <tr>\n",
       "      <th>B</th>\n",
       "      <td>B1</td>\n",
       "      <td>B2</td>\n",
       "      <td>B3</td>\n",
       "      <td>B4</td>\n",
       "    </tr>\n",
       "    <tr>\n",
       "      <th>C</th>\n",
       "      <td>C1</td>\n",
       "      <td>C2</td>\n",
       "      <td>C3</td>\n",
       "      <td>C4</td>\n",
       "    </tr>\n",
       "    <tr>\n",
       "      <th>D</th>\n",
       "      <td>D1</td>\n",
       "      <td>D2</td>\n",
       "      <td>D3</td>\n",
       "      <td>D4</td>\n",
       "    </tr>\n",
       "    <tr>\n",
       "      <th>E</th>\n",
       "      <td>E1</td>\n",
       "      <td>E2</td>\n",
       "      <td>E3</td>\n",
       "      <td>E4</td>\n",
       "    </tr>\n",
       "    <tr>\n",
       "      <th>F</th>\n",
       "      <td>F1</td>\n",
       "      <td>F2</td>\n",
       "      <td>F3</td>\n",
       "      <td>F4</td>\n",
       "    </tr>\n",
       "    <tr>\n",
       "      <th>G</th>\n",
       "      <td>G1</td>\n",
       "      <td>G2</td>\n",
       "      <td>G3</td>\n",
       "      <td>G4</td>\n",
       "    </tr>\n",
       "  </tbody>\n",
       "</table>\n",
       "</div>"
      ],
      "text/plain": [
       "  Column1 Column2 Column3 Column4\n",
       "A      A1      A2      A3      A4\n",
       "B      B1      B2      B3      B4\n",
       "C      C1      C2      C3      C4\n",
       "D      D1      D2      D3      D4\n",
       "E      E1      E2      E3      E4\n",
       "F      F1      F2      F3      F4\n",
       "G      G1      G2      G3      G4"
      ]
     },
     "execution_count": 56,
     "metadata": {},
     "output_type": "execute_result"
    }
   ],
   "source": [
    "import pandas as pd\n",
    "\n",
    "# Creating a two dimensional list with values for the examples\n",
    "\n",
    "column_values = [f\"Column{i}\" for i in range(1,5)]      # Creating for columns, column 1 - 4\n",
    "index_values = [chr(i) for i in range(65, 72)]          # Creating the rows A - G\n",
    "                                                        # chr - omvandlar till unicode, och range 65-72 är index för A - G\n",
    "print(column_values)\n",
    "print(index_values)\n",
    "\n",
    "# Creating a dataframe with pandas, with A1-A4, B1-B4 etc for each row). Alltså skapadne av 2D grid\n",
    "\n",
    "df = pd.DataFrame([[f\"{ind}{col}\" for col in range(1,5)] for ind in index_values], index = index_values, columns = column_values)\n",
    "\n",
    "df"
   ]
  },
  {
   "cell_type": "code",
   "execution_count": 13,
   "metadata": {},
   "outputs": [
    {
     "data": {
      "text/plain": [
       "A    A2\n",
       "B    B2\n",
       "C    C2\n",
       "Name: Column2, dtype: object"
      ]
     },
     "execution_count": 13,
     "metadata": {},
     "output_type": "execute_result"
    }
   ],
   "source": [
    "# Using no slices, returns the value of a single cell   (i står för index)\n",
    "df.iloc      [1,0]                   # Skickar in radnummer och kolumnummer, börjar med index 0, här är det rad 2(B) och kolumn 1\n",
    "# df.iloc    [1,-1]          \n",
    "# df.iloc    [-1,-1] \n",
    "\n",
    "# using slice on one axis return a pandas Series objekt\n",
    "df.iloc[1,:]     # Full row 1 (B) ta alla kolumner men rad 1\n",
    "df.iloc[:, 0]    # Full column 0 (Column1) ta alla rader men kolumn 0\n",
    "\n",
    "df.iloc[:3, 1]      # Enbart 3 första raderna (cells) a för kolumn 1\n",
    "# Pandas Series objekt alltid, men skilland skriva df.iloc[1] då sträng???\n",
    "\n"
   ]
  },
  {
   "cell_type": "code",
   "execution_count": 31,
   "metadata": {},
   "outputs": [
    {
     "data": {
      "text/html": [
       "<div>\n",
       "<style scoped>\n",
       "    .dataframe tbody tr th:only-of-type {\n",
       "        vertical-align: middle;\n",
       "    }\n",
       "\n",
       "    .dataframe tbody tr th {\n",
       "        vertical-align: top;\n",
       "    }\n",
       "\n",
       "    .dataframe thead th {\n",
       "        text-align: right;\n",
       "    }\n",
       "</style>\n",
       "<table border=\"1\" class=\"dataframe\">\n",
       "  <thead>\n",
       "    <tr style=\"text-align: right;\">\n",
       "      <th></th>\n",
       "      <th>Column1</th>\n",
       "      <th>Column2</th>\n",
       "      <th>Column3</th>\n",
       "      <th>Column4</th>\n",
       "    </tr>\n",
       "  </thead>\n",
       "  <tbody>\n",
       "    <tr>\n",
       "      <th>A</th>\n",
       "      <td>A1</td>\n",
       "      <td>A2</td>\n",
       "      <td>A3</td>\n",
       "      <td>A4</td>\n",
       "    </tr>\n",
       "    <tr>\n",
       "      <th>B</th>\n",
       "      <td>B1</td>\n",
       "      <td>B2</td>\n",
       "      <td>B3</td>\n",
       "      <td>B4</td>\n",
       "    </tr>\n",
       "    <tr>\n",
       "      <th>C</th>\n",
       "      <td>C1</td>\n",
       "      <td>C2</td>\n",
       "      <td>C3</td>\n",
       "      <td>C4</td>\n",
       "    </tr>\n",
       "    <tr>\n",
       "      <th>D</th>\n",
       "      <td>D1</td>\n",
       "      <td>D2</td>\n",
       "      <td>D3</td>\n",
       "      <td>D4</td>\n",
       "    </tr>\n",
       "    <tr>\n",
       "      <th>E</th>\n",
       "      <td>E1</td>\n",
       "      <td>E2</td>\n",
       "      <td>E3</td>\n",
       "      <td>E4</td>\n",
       "    </tr>\n",
       "    <tr>\n",
       "      <th>F</th>\n",
       "      <td>F1</td>\n",
       "      <td>F2</td>\n",
       "      <td>F3</td>\n",
       "      <td>F4</td>\n",
       "    </tr>\n",
       "    <tr>\n",
       "      <th>G</th>\n",
       "      <td>G1</td>\n",
       "      <td>G2</td>\n",
       "      <td>G3</td>\n",
       "      <td>G4</td>\n",
       "    </tr>\n",
       "  </tbody>\n",
       "</table>\n",
       "</div>"
      ],
      "text/plain": [
       "  Column1 Column2 Column3 Column4\n",
       "A      A1      A2      A3      A4\n",
       "B      B1      B2      B3      B4\n",
       "C      C1      C2      C3      C4\n",
       "D      D1      D2      D3      D4\n",
       "E      E1      E2      E3      E4\n",
       "F      F1      F2      F3      F4\n",
       "G      G1      G2      G3      G4"
      ]
     },
     "execution_count": 31,
     "metadata": {},
     "output_type": "execute_result"
    }
   ],
   "source": [
    "# Using slice on both axis return a panda Dataframe objekt\n",
    "\n",
    "df.iloc[:2, :2]      # returns the four cells in the upper left corner\n",
    "\n",
    "df.iloc[2:6, 1:3]    # Se alltid delen till vänster som raderna och den till höger som kolumnerna. Returns col 2-3 and rows C-F\n",
    "\n",
    "df.iloc[:,:]         # Alla rader och alla kolumner, Returns a copy of dataframe\n",
    "df.iloc[::2,:]         # Alla rader och alla kolumner, varannan\n",
    "\n",
    "# Eftersom det är ett dataframe, kan metoderna vi gått igenom användas på dem:\n",
    "# df.iloc[2:6, 1:3].head(2)\n",
    "# df.iloc[2:6, 1:3].info()"
   ]
  },
  {
   "cell_type": "code",
   "execution_count": 19,
   "metadata": {},
   "outputs": [
    {
     "data": {
      "text/plain": [
       "A    A2\n",
       "B    B2\n",
       "C    C2\n",
       "Name: Column2, dtype: object"
      ]
     },
     "execution_count": 19,
     "metadata": {},
     "output_type": "execute_result"
    }
   ],
   "source": [
    "df.loc[\"B\", \"Column1\"]                # Vill jag ha ut samma så är label B på raden och column1 på kolumnen\n",
    "\n",
    "# using slice on one axis return a pandas Series objekt\n",
    "df.loc[\"B\",:]     # Full row 1 (B) ta alla kolumner men rad 1\n",
    "df.loc[:, \"Column1\"]    # Full Column1 ta alla rader men kolumn1\n",
    "\n",
    "df.loc[:\"C\", \"Column2\"]      # Enbart 3 första raderna (till C) för kolumn 2. Här är stopp inklusiv, t.o.m. C,\n",
    "                             # Till skillnad från iloc som kör på index och där är det från 0"
   ]
  },
  {
   "cell_type": "code",
   "execution_count": 41,
   "metadata": {},
   "outputs": [
    {
     "data": {
      "text/html": [
       "<div>\n",
       "<style scoped>\n",
       "    .dataframe tbody tr th:only-of-type {\n",
       "        vertical-align: middle;\n",
       "    }\n",
       "\n",
       "    .dataframe tbody tr th {\n",
       "        vertical-align: top;\n",
       "    }\n",
       "\n",
       "    .dataframe thead th {\n",
       "        text-align: right;\n",
       "    }\n",
       "</style>\n",
       "<table border=\"1\" class=\"dataframe\">\n",
       "  <thead>\n",
       "    <tr style=\"text-align: right;\">\n",
       "      <th></th>\n",
       "      <th>Column2</th>\n",
       "      <th>Column4</th>\n",
       "    </tr>\n",
       "  </thead>\n",
       "  <tbody>\n",
       "    <tr>\n",
       "      <th>A</th>\n",
       "      <td>A2</td>\n",
       "      <td>A4</td>\n",
       "    </tr>\n",
       "    <tr>\n",
       "      <th>D</th>\n",
       "      <td>D2</td>\n",
       "      <td>D4</td>\n",
       "    </tr>\n",
       "    <tr>\n",
       "      <th>F</th>\n",
       "      <td>F2</td>\n",
       "      <td>F4</td>\n",
       "    </tr>\n",
       "  </tbody>\n",
       "</table>\n",
       "</div>"
      ],
      "text/plain": [
       "  Column2 Column4\n",
       "A      A2      A4\n",
       "D      D2      D4\n",
       "F      F2      F4"
      ]
     },
     "execution_count": 41,
     "metadata": {},
     "output_type": "execute_result"
    }
   ],
   "source": [
    "# Lists can be used instead of slices for either axis\n",
    "\n",
    "df.iloc[[0,3,5], [1,3]]"
   ]
  },
  {
   "cell_type": "code",
   "execution_count": 40,
   "metadata": {},
   "outputs": [
    {
     "data": {
      "text/html": [
       "<div>\n",
       "<style scoped>\n",
       "    .dataframe tbody tr th:only-of-type {\n",
       "        vertical-align: middle;\n",
       "    }\n",
       "\n",
       "    .dataframe tbody tr th {\n",
       "        vertical-align: top;\n",
       "    }\n",
       "\n",
       "    .dataframe thead th {\n",
       "        text-align: right;\n",
       "    }\n",
       "</style>\n",
       "<table border=\"1\" class=\"dataframe\">\n",
       "  <thead>\n",
       "    <tr style=\"text-align: right;\">\n",
       "      <th></th>\n",
       "      <th>Column2</th>\n",
       "      <th>Column3</th>\n",
       "    </tr>\n",
       "  </thead>\n",
       "  <tbody>\n",
       "    <tr>\n",
       "      <th>C</th>\n",
       "      <td>C2</td>\n",
       "      <td>C3</td>\n",
       "    </tr>\n",
       "    <tr>\n",
       "      <th>D</th>\n",
       "      <td>D2</td>\n",
       "      <td>D3</td>\n",
       "    </tr>\n",
       "    <tr>\n",
       "      <th>E</th>\n",
       "      <td>E2</td>\n",
       "      <td>E3</td>\n",
       "    </tr>\n",
       "    <tr>\n",
       "      <th>F</th>\n",
       "      <td>F2</td>\n",
       "      <td>F3</td>\n",
       "    </tr>\n",
       "  </tbody>\n",
       "</table>\n",
       "</div>"
      ],
      "text/plain": [
       "  Column2 Column3\n",
       "C      C2      C3\n",
       "D      D2      D3\n",
       "E      E2      E3\n",
       "F      F2      F3"
      ]
     },
     "execution_count": 40,
     "metadata": {},
     "output_type": "execute_result"
    }
   ],
   "source": [
    "# Using slice on both axis return a panda Dataframe objekt\n",
    "# Using loc instead - difference is using labels and inclusive in the stopp (end)\n",
    "df.loc[:\"B\", :\"Column2\"]      # returns the four cells in the upper left corner\n",
    "\n",
    "df.loc[\"C\":\"F\", \"Column2\":\"Column3\"]    # Se alltid delen till vänster som raderna och den till höger som kolumnerna. Returns col 2-3 and rows C-F\n",
    "\n",
    "# df.loc[:,:]         # Alla rader och alla kolumner, Returns a copy of dataframe\n",
    "# df.loc[::2,:]         "
   ]
  },
  {
   "cell_type": "code",
   "execution_count": 44,
   "metadata": {},
   "outputs": [
    {
     "data": {
      "text/html": [
       "<div>\n",
       "<style scoped>\n",
       "    .dataframe tbody tr th:only-of-type {\n",
       "        vertical-align: middle;\n",
       "    }\n",
       "\n",
       "    .dataframe tbody tr th {\n",
       "        vertical-align: top;\n",
       "    }\n",
       "\n",
       "    .dataframe thead th {\n",
       "        text-align: right;\n",
       "    }\n",
       "</style>\n",
       "<table border=\"1\" class=\"dataframe\">\n",
       "  <thead>\n",
       "    <tr style=\"text-align: right;\">\n",
       "      <th></th>\n",
       "      <th>Column2</th>\n",
       "      <th>Column4</th>\n",
       "    </tr>\n",
       "  </thead>\n",
       "  <tbody>\n",
       "    <tr>\n",
       "      <th>A</th>\n",
       "      <td>A2</td>\n",
       "      <td>A4</td>\n",
       "    </tr>\n",
       "    <tr>\n",
       "      <th>D</th>\n",
       "      <td>D2</td>\n",
       "      <td>D4</td>\n",
       "    </tr>\n",
       "    <tr>\n",
       "      <th>F</th>\n",
       "      <td>F2</td>\n",
       "      <td>F4</td>\n",
       "    </tr>\n",
       "  </tbody>\n",
       "</table>\n",
       "</div>"
      ],
      "text/plain": [
       "  Column2 Column4\n",
       "A      A2      A4\n",
       "D      D2      D4\n",
       "F      F2      F4"
      ]
     },
     "execution_count": 44,
     "metadata": {},
     "output_type": "execute_result"
    }
   ],
   "source": [
    "# Lists can be used instead of slices for either axis\n",
    "\n",
    "df.loc[[\"A\",\"D\",\"F\"], [\"Column2\",\"Column4\"]]"
   ]
  },
  {
   "cell_type": "code",
   "execution_count": 53,
   "metadata": {},
   "outputs": [
    {
     "data": {
      "text/plain": [
       "A    A3\n",
       "B    B3\n",
       "C    C3\n",
       "D    D3\n",
       "E    E3\n",
       "F    F3\n",
       "G    G3\n",
       "Name: Column3, dtype: object"
      ]
     },
     "execution_count": 53,
     "metadata": {},
     "output_type": "execute_result"
    }
   ],
   "source": [
    "# Tredje sätt att skriva indexering direkt på Dataframe\n",
    "# df[colname] returns a column as a pandas Series object\n",
    "# Only possible to slice columns using this. \n",
    "df[\"Column2\"]      # En kolumn och får ut Series object\n",
    "\n",
    "# df[[list of colnames]] returns a new dataframe with the given columns\n",
    "# Returns a Dataframe object\n",
    "df[[\"Column1\", \"Column4\", \"Column3\", \"Column1\"]] \n",
    "\n",
    "#series[index] returns a scalar value\n",
    "df[\"Column2\"][\"D\"]   \n",
    "\n",
    "#dataframe[index] returns a column'\n",
    "# Indexing a dataframe with a list (of columns) returns a dataframe\n",
    "# so indexing again would be on the new dataframe (but dont do this)\n",
    "df[[\"Column1\", \"Column4\", \"Column3\", \"Column1\"]][\"Column3\"]\n",
    "\n"
   ]
  }
 ],
 "metadata": {
  "kernelspec": {
   "display_name": "databehandling-YOUNIS-MOUSSAVI-DPhvznnG",
   "language": "python",
   "name": "python3"
  },
  "language_info": {
   "codemirror_mode": {
    "name": "ipython",
    "version": 3
   },
   "file_extension": ".py",
   "mimetype": "text/x-python",
   "name": "python",
   "nbconvert_exporter": "python",
   "pygments_lexer": "ipython3",
   "version": "3.11.5"
  }
 },
 "nbformat": 4,
 "nbformat_minor": 2
}
